{
 "cells": [
  {
   "cell_type": "markdown",
   "id": "c0dcf3f6-53ec-42c2-882a-51aedab3048a",
   "metadata": {},
   "source": [
    "### Setup"
   ]
  },
  {
   "cell_type": "code",
   "execution_count": null,
   "id": "0cfd24b4-a56a-41c6-aa5f-4bc7e1f3ad34",
   "metadata": {},
   "outputs": [],
   "source": [
    "%pip install jax equinox optax optimistix treescope\n",
    "%load_ext autoreload\n",
    "%autoreload 2\n",
    "\n",
    "from functools import partial\n",
    "import jax\n",
    "import jax.numpy as jnp\n",
    "import equinox as eqx\n",
    "import treescope"
   ]
  },
  {
   "cell_type": "markdown",
   "id": "2cb85080-6332-41be-b2e6-811b2dddc742",
   "metadata": {},
   "source": [
    "### Train model on MNIST"
   ]
  },
  {
   "cell_type": "code",
   "execution_count": null,
   "id": "e8fafb29-59e0-457a-8da5-3931b15fe490",
   "metadata": {},
   "outputs": [],
   "source": [
    "from mnist import mnist_data\n",
    "\n",
    "_, _, mnist_test_images, mnist_test_labels = mnist_data()\n",
    "\n",
    "batch_size = 1024\n",
    "mnist_test_image_batch = mnist_test_images[:batch_size]\n",
    "mnist_test_label_batch = mnist_test_labels[:batch_size]\n",
    "\n",
    "# Sort by label\n",
    "idx = jnp.argsort(mnist_test_label_batch.argmax(-1))\n",
    "mnist_test_image_batch = mnist_test_image_batch[idx]\n",
    "mnist_test_label_batch = mnist_test_label_batch[idx]\n",
    "\n",
    "treescope.render_array(\n",
    "    mnist_test_image_batch.reshape(-1, 28, 28)[:20],\n",
    "    pixels_per_cell=1,\n",
    "    columns=[2, 0],\n",
    "    axis_labels={0: \"input example\", 1: \"input dimension\", 2: \"input dimension\"},\n",
    "    vmax=1,\n",
    "    vmin=-1,\n",
    ")"
   ]
  },
  {
   "cell_type": "code",
   "execution_count": null,
   "id": "0101d28b-8b92-4a05-be48-d65638cba440",
   "metadata": {},
   "outputs": [],
   "source": [
    "%%time\n",
    "from mnist import train_mnist\n",
    "\n",
    "mnist_model = train_mnist(num_seeds=10, num_epochs=0)\n",
    "mnist_model"
   ]
  },
  {
   "cell_type": "markdown",
   "id": "016bdc3e-97c1-4f49-b8c3-78cd6467505d",
   "metadata": {},
   "source": [
    "### Manipulate model"
   ]
  },
  {
   "cell_type": "code",
   "execution_count": null,
   "id": "2465d961-2972-4d2e-a8bf-2ce8c3585b6d",
   "metadata": {},
   "outputs": [],
   "source": [
    "from expand import scale_neurons\n",
    "from expand import duplicate_neurons\n",
    "from expand import add_random_zero_neurons\n",
    "\n",
    "\n",
    "@partial(eqx.filter_vmap, in_axes=(eqx.if_array(0), None))\n",
    "def scale_manipulation(model, scale_factor):\n",
    "    W2 = model.layers[1].weight\n",
    "    W3 = model.layers[2].weight\n",
    "    new_W2, new_W3 = scale_neurons(w_in=W2, w_out=W3, scale_factor=scale_factor)\n",
    "    new_model = eqx.tree_at(lambda x: x.layers[1].weight, model, new_W2)\n",
    "    new_model = eqx.tree_at(lambda x: x.layers[2].weight, new_model, new_W3)\n",
    "    return new_model\n",
    "\n",
    "\n",
    "@partial(eqx.filter_vmap, in_axes=(eqx.if_array(0), None))\n",
    "def duplicate_type_manipulation(model, duplicate_multiplier):\n",
    "    W2 = model.layers[1].weight\n",
    "    W3 = model.layers[2].weight\n",
    "    new_W2, new_W3 = duplicate_neurons(\n",
    "        w_in=W2, w_out=W3, duplicate_multiplier=duplicate_multiplier\n",
    "    )\n",
    "    new_model = eqx.tree_at(lambda x: x.layers[1].weight, model, new_W2)\n",
    "    new_model = eqx.tree_at(lambda x: x.layers[2].weight, new_model, new_W3)\n",
    "    return new_model\n",
    "\n",
    "\n",
    "@partial(eqx.filter_vmap, in_axes=(eqx.if_array(0), None, 0))\n",
    "def zero_type_manipulation(model, num_units, key):\n",
    "    W2 = model.layers[1].weight\n",
    "    W3 = model.layers[2].weight\n",
    "    new_W2, new_W3 = add_random_zero_neurons(\n",
    "        w_in=W2, w_out=W3, num_zero_groups=num_units, neurons_per_group=1, key=key\n",
    "    )\n",
    "    new_model = eqx.tree_at(lambda x: x.layers[1].weight, model, new_W2)\n",
    "    new_model = eqx.tree_at(lambda x: x.layers[2].weight, new_model, new_W3)\n",
    "    return new_model\n",
    "\n",
    "\n",
    "@partial(eqx.filter_vmap, in_axes=(None, 0, None))\n",
    "@partial(eqx.filter_vmap, in_axes=(eqx.if_array(0), None, 0))\n",
    "def parameter_noise_manipulation(model, noise_scale, key):\n",
    "    W1 = model.layers[0].weight\n",
    "    W2 = model.layers[1].weight\n",
    "    W3 = model.layers[2].weight\n",
    "\n",
    "    key = jax.random.split(key, 3)\n",
    "    new_W1 = W1 + noise_scale * jax.random.normal(key[0], W1.shape)\n",
    "    new_W2 = W2 + noise_scale * jax.random.normal(key[1], W2.shape)\n",
    "    new_W3 = W3 + noise_scale * jax.random.normal(key[2], W3.shape)\n",
    "\n",
    "    new_model = eqx.tree_at(lambda x: x.layers[0].weight, model, new_W1)\n",
    "    new_model = eqx.tree_at(lambda x: x.layers[1].weight, new_model, new_W2)\n",
    "    new_model = eqx.tree_at(lambda x: x.layers[2].weight, new_model, new_W3)\n",
    "    print\n",
    "    return new_model\n",
    "\n",
    "\n",
    "@partial(eqx.filter_vmap, in_axes=(eqx.if_array(0), None, 0))\n",
    "def transfer_manipulation(model, transfer_sample_budget, key):\n",
    "    pass\n",
    "\n",
    "\n",
    "def accuracy(pred_y, y):\n",
    "    target_class = jnp.argmax(y, axis=1)\n",
    "    predicted_class = jnp.argmax(pred_y, axis=1)\n",
    "    return jnp.mean(predicted_class == target_class)\n",
    "\n",
    "\n",
    "@partial(eqx.filter_vmap, in_axes=(eqx.if_array(0),))\n",
    "def gen_error(model):\n",
    "    pred_y = eqx.filter_vmap(model)(mnist_test_images)\n",
    "    test_error = 1 - accuracy(pred_y, mnist_test_labels)\n",
    "    return test_error"
   ]
  },
  {
   "cell_type": "code",
   "execution_count": null,
   "id": "d72687f9-a9a0-4792-a178-70b01084d584",
   "metadata": {},
   "outputs": [],
   "source": [
    "gen_error(mnist_model)"
   ]
  },
  {
   "cell_type": "code",
   "execution_count": null,
   "id": "75d9de7a-a362-4f7e-954e-5c2377461e5b",
   "metadata": {},
   "outputs": [],
   "source": [
    "gen_error(scale_manipulation(mnist_model, 10))"
   ]
  },
  {
   "cell_type": "code",
   "execution_count": null,
   "id": "0b9468d6-82ec-4062-8772-a85805b26c90",
   "metadata": {},
   "outputs": [],
   "source": [
    "gen_error(duplicate_type_manipulation(mnist_model, 1.1))"
   ]
  },
  {
   "cell_type": "code",
   "execution_count": null,
   "id": "82b9e49f-03c4-4337-b1c0-870ddd2f77cf",
   "metadata": {},
   "outputs": [],
   "source": [
    "gen_error(duplicate_type_manipulation(mnist_model, 2))"
   ]
  },
  {
   "cell_type": "code",
   "execution_count": null,
   "id": "22392d51-73da-40ae-9110-ede30424ed3c",
   "metadata": {},
   "outputs": [],
   "source": [
    "key = jax.random.PRNGKey(37)\n",
    "zero_type_manipulation(mnist_model, 10, jax.random.split(key, 10))"
   ]
  },
  {
   "cell_type": "code",
   "execution_count": null,
   "id": "7abf18e4-86ef-4b04-9fa6-9ed31a855459",
   "metadata": {},
   "outputs": [],
   "source": [
    "gen_error(zero_type_manipulation(mnist_model, 10, jax.random.split(key, 10)))"
   ]
  },
  {
   "cell_type": "code",
   "execution_count": null,
   "id": "b8294260-a0d9-4c45-b424-119c1e65c8d1",
   "metadata": {},
   "outputs": [],
   "source": [
    "key = jax.random.PRNGKey(37)\n",
    "noise_scales = jnp.array(tuple(10**-i for i in range(9, -1, -1)))\n",
    "data = eqx.filter_vmap(gen_error, in_axes=(eqx.if_array(0),))(\n",
    "    parameter_noise_manipulation(mnist_model, noise_scales, jax.random.split(key, 10))\n",
    ")\n",
    "data"
   ]
  },
  {
   "cell_type": "code",
   "execution_count": null,
   "id": "89dec0a1-3818-46ee-a8bd-c786830530ba",
   "metadata": {},
   "outputs": [],
   "source": [
    "import numpy as np\n",
    "import matplotlib.pyplot as plt\n",
    "\n",
    "means = np.mean(data, axis=1)\n",
    "stds = np.std(data, axis=1)\n",
    "\n",
    "means = np.mean(data, axis=1)\n",
    "stds = np.std(data, axis=1)\n",
    "\n",
    "plt.figure(figsize=(10, 6))\n",
    "plt.errorbar(\n",
    "    noise_scales,\n",
    "    means,\n",
    "    yerr=stds,\n",
    "    fmt=\"o-\",\n",
    "    capsize=5,\n",
    "    capthick=1.5,\n",
    "    linewidth=2,\n",
    "    markersize=8,\n",
    "    label=\"Mean ± Std Dev\",\n",
    ")\n",
    "\n",
    "plt.xscale(\"log\")\n",
    "plt.yscale(\"log\")\n",
    "\n",
    "plt.xlabel(\"noise scale (log)\", fontsize=12)\n",
    "plt.ylabel(\"gen. error (log)\", fontsize=12)\n",
    "plt.grid(True, linestyle=\"--\", alpha=0.7)\n",
    "plt.legend()\n",
    "\n",
    "plt.tight_layout()\n",
    "plt.show()"
   ]
  },
  {
   "cell_type": "code",
   "execution_count": null,
   "id": "9f05fec2-2668-4998-8258-36bced204680",
   "metadata": {},
   "outputs": [],
   "source": [
    "mnist_model"
   ]
  },
  {
   "cell_type": "code",
   "execution_count": null,
   "id": "6dd331ba-8a7a-400a-9049-e171861cc266",
   "metadata": {},
   "outputs": [],
   "source": [
    "def get_first_layer_preacts(model, inputs):\n",
    "    return model.layers[0](inputs)\n",
    "\n",
    "\n",
    "def get_first_layer_postacts(model, inputs):\n",
    "    return model.activation(get_first_layer_preacts(model, inputs))\n",
    "\n",
    "\n",
    "def get_second_layer_preacts(model, inputs):\n",
    "    return model.layers[1](get_first_layer_postacts(model, inputs))\n",
    "\n",
    "\n",
    "@partial(jax.vmap, in_axes=(None, 0))\n",
    "def get_second_layer_postacts(model, inputs):\n",
    "    return model.activation(get_second_layer_preacts(model, inputs))"
   ]
  },
  {
   "cell_type": "code",
   "execution_count": null,
   "id": "b3230189-fcc1-4099-bdf2-a72a382b9f67",
   "metadata": {},
   "outputs": [],
   "source": [
    "def create_rotated_dataset(images, key):\n",
    "    n = len(images)\n",
    "    assert n % 4 == 0\n",
    "    split_size = n // 4\n",
    "    partitions = jnp.split(images[: split_size * 4], 4)\n",
    "\n",
    "    rot_0 = partitions[0]  # no rotation\n",
    "    rot_90 = jnp.rot90(partitions[1], k=1, axes=(1, 2))\n",
    "    rot_180 = jnp.rot90(partitions[2], k=2, axes=(1, 2))\n",
    "    rot_270 = jnp.rot90(partitions[3], k=3, axes=(1, 2))\n",
    "\n",
    "    labels_0 = jnp.zeros(split_size, dtype=jnp.int32)\n",
    "    labels_90 = jnp.ones(split_size, dtype=jnp.int32)\n",
    "    labels_180 = jnp.full(split_size, 2, dtype=jnp.int32)\n",
    "    labels_270 = jnp.full(split_size, 3, dtype=jnp.int32)\n",
    "\n",
    "    all_images = jnp.concatenate([rot_0, rot_90, rot_180, rot_270])\n",
    "    all_labels = jnp.concatenate([labels_0, labels_90, labels_180, labels_270])\n",
    "\n",
    "    perm = jax.random.permutation(key, len(all_images))\n",
    "    shuffled_images = all_images[perm]\n",
    "    shuffled_labels = all_labels[perm]\n",
    "\n",
    "    return shuffled_images, shuffled_labels\n",
    "\n",
    "\n",
    "key = jax.random.PRNGKey(432)\n",
    "rotated_images, rotation_labels = create_rotated_dataset(\n",
    "    mnist_test_images.reshape(-1, 28, 28), key\n",
    ")\n",
    "rotated_images = rotated_images.reshape(-1, 28 * 28)\n",
    "print(rotation_labels[:10])\n",
    "rotation_labels = jax.nn.one_hot(rotation_labels, 4)\n",
    "treescope.render_array(\n",
    "    rotated_images.reshape(-1, 28, 28)[:10],\n",
    "    pixels_per_cell=1,\n",
    "    columns=[2, 0],\n",
    "    axis_labels={0: \"input example\", 1: \"input dimension\", 2: \"input dimension\"},\n",
    "    vmax=1,\n",
    "    vmin=-1,\n",
    ")"
   ]
  },
  {
   "cell_type": "code",
   "execution_count": null,
   "id": "98533fd4-80cf-4098-aa61-18edfddcd2d1",
   "metadata": {},
   "outputs": [],
   "source": [
    "from logistic import crossval_softmax_predict\n",
    "\n",
    "\n",
    "def accuracy(pred_y, y):\n",
    "    target_class = jnp.argmax(y, axis=1)\n",
    "    predicted_class = jnp.argmax(pred_y, axis=1)\n",
    "    return jnp.mean(predicted_class == target_class)\n",
    "\n",
    "\n",
    "@partial(eqx.filter_vmap, in_axes=(eqx.if_array(0),))\n",
    "def transfer_err(model):\n",
    "    activations = get_second_layer_postacts(model, rotated_images)\n",
    "    preds = crossval_softmax_predict(\n",
    "        activations, rotation_labels, num_splits=10, key=None\n",
    "    )\n",
    "    return accuracy(preds, rotation_labels)\n",
    "\n",
    "\n",
    "transfer_err(mnist_model)"
   ]
  }
 ],
 "metadata": {
  "kernelspec": {
   "display_name": "asysid",
   "language": "python",
   "name": "asysid"
  },
  "language_info": {
   "codemirror_mode": {
    "name": "ipython",
    "version": 3
   },
   "file_extension": ".py",
   "mimetype": "text/x-python",
   "name": "python",
   "nbconvert_exporter": "python",
   "pygments_lexer": "ipython3",
   "version": "3.13.1"
  }
 },
 "nbformat": 4,
 "nbformat_minor": 5
}
