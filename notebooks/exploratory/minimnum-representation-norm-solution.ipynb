{
 "cells": [
  {
   "cell_type": "code",
   "execution_count": 15,
   "id": "b520c49f-5adc-4d2f-838f-04c84987ff6f",
   "metadata": {},
   "outputs": [
    {
     "name": "stdout",
     "output_type": "stream",
     "text": [
      "Optimization terminated successfully    (Exit mode 0)\n",
      "            Current function value: 7.176269478082915\n",
      "            Iterations: 83\n",
      "            Function evaluations: 4639\n",
      "            Gradient evaluations: 83\n",
      "[[-3.80643295e-11 -1.50003343e-11 -2.40014675e-11 -4.06382705e-11]\n",
      " [ 1.74070758e-11  1.04305453e-11  1.64361302e-11  3.13505888e-11]\n",
      " [-2.52618204e-11 -8.28118130e-12 -1.16335275e-11 -1.85733651e-11]\n",
      " [-8.44024850e-12 -5.15715248e-12 -7.60325136e-12 -1.48367985e-11]\n",
      " [-5.66853231e-11 -2.62978528e-11 -4.19094759e-11 -7.48301421e-11]]\n",
      "[[-0.15367274  0.58632824  0.56167433 -0.40421683]\n",
      " [-0.27955599  1.06662755  1.02177803 -0.73533693]\n",
      " [-0.10104874  0.38554486  0.36933348 -0.26579603]\n",
      " [-0.36957527  1.4100902   1.35079878 -0.97212134]\n",
      " [-0.37063321  1.41412669  1.35466554 -0.97490411]]\n",
      "1.894301667677509 1.8941728194431269\n"
     ]
    }
   ],
   "source": [
    "import numpy as np\n",
    "from scipy.optimize import minimize\n",
    "\n",
    "def compact_svd(a):\n",
    "    u, s, vt = np.linalg.svd(a, False)\n",
    "    mask = s > 1e-4\n",
    "    return u[:, mask], np.diag(s[mask]), vt.T[:, mask]\n",
    "\n",
    "np.random.seed(1)\n",
    "\n",
    "# Define the objective function\n",
    "def objective(params, X, d_in, d_hidden, d_out):\n",
    "    n = X.shape[1]\n",
    "\n",
    "    # Extract W1 and W2 from the flattened parameter array\n",
    "    W1 = params[:d_hidden * d_in].reshape((d_hidden, d_in))\n",
    "    W2 = params[d_hidden * d_in:].reshape((d_out, d_hidden))\n",
    "\n",
    "    # Calculate terms of the objective\n",
    "    term1 = np.linalg.norm(W2, 'fro')**2\n",
    "    term2 = np.trace(W1.T @ W1 @ X @ X.T)\n",
    "\n",
    "    return term1 + term2\n",
    "\n",
    "# Define the constraint function\n",
    "def constraint(params, X, Y, d_in, d_hidden, d_out):\n",
    "    n = X.shape[1]\n",
    "\n",
    "    # Extract W1 and W2 from the flattened parameter array\n",
    "    W1 = params[:d_hidden * d_in].reshape((d_hidden, d_in))\n",
    "    W2 = params[d_hidden * d_in:].reshape((d_out, d_hidden))\n",
    "\n",
    "    # Constraint: W2 W1 X X^T - Y X^T = 0\n",
    "    return (W2 @ W1 @ X @ X.T - Y @ X.T).flatten()\n",
    "\n",
    "# Define the optimization function\n",
    "def optimize_weights(X, Y, d_in, d_hidden, d_out):\n",
    "    n = X.shape[1]\n",
    "\n",
    "    # Initial guess for W1 and W2 (flattened)\n",
    "    W1_init = np.random.rand(d_hidden, d_in)\n",
    "    W2_init = np.random.rand(d_out, d_hidden)\n",
    "    initial_params = np.hstack((W1_init.flatten(), W2_init.flatten()))\n",
    "\n",
    "    # Constraints definition\n",
    "    cons = {'type': 'eq', 'fun': constraint, 'args': (X, Y, d_in, d_hidden, d_out)}\n",
    "\n",
    "    # Optimization\n",
    "    result = minimize(\n",
    "        fun=objective,\n",
    "        x0=initial_params,\n",
    "        args=(X, d_in, d_hidden, d_out),\n",
    "        constraints=cons,\n",
    "        method='SLSQP',\n",
    "        options={'disp': True, 'ftol': 1e-9}\n",
    "    )\n",
    "\n",
    "    # Extract optimized W1 and W2\n",
    "    optimized_params = result.x\n",
    "    W1_opt = optimized_params[:d_hidden * d_in].reshape((d_hidden, d_in))\n",
    "    W2_opt = optimized_params[d_hidden * d_in:].reshape((d_out, d_hidden))\n",
    "\n",
    "    return W1_opt, W2_opt\n",
    "\n",
    "# Example usage\n",
    "if __name__ == \"__main__\":\n",
    "    # Problem dimensions\n",
    "    d_in = 4       # Input dimensionality\n",
    "    d_hidden = 6   # Hidden dimensionality\n",
    "    d_out = 5      # Output dimensionality\n",
    "    n = 3          # Number of samples\n",
    "\n",
    "    # Example input values\n",
    "    X = np.random.rand(d_in, n)\n",
    "    Y = np.random.rand(d_out, n)\n",
    "\n",
    "    # Optimize W1 and W2\n",
    "    W1_opt, W2_opt = optimize_weights(X, Y, d_in, d_hidden, d_out)\n",
    "\n",
    "    # Check results\n",
    "    print(W2_opt @ W1_opt @ X @ X.T - Y @ X.T)\n",
    "    print(W2_opt @ W1_opt - Y @ X.T @ np.linalg.pinv(X @ X.T))\n",
    "    print(np.linalg.norm(W1_opt @ X), np.linalg.norm(W2_opt))"
   ]
  },
  {
   "cell_type": "code",
   "execution_count": 31,
   "id": "72cfc0ca-8f56-4833-ac8e-d992b75aa6b2",
   "metadata": {},
   "outputs": [
    {
     "name": "stdout",
     "output_type": "stream",
     "text": [
      "[[ 0.0002 -0.0001 -0.    ]\n",
      " [-0.0001  0.0001  0.    ]\n",
      " [-0.      0.      0.    ]]\n",
      "[[ 0.0002 -0.0001  0.    ]\n",
      " [-0.0001  0.0001  0.    ]\n",
      " [ 0.      0.      0.    ]]\n"
     ]
    }
   ],
   "source": [
    "a, b, c = compact_svd(Y)\n",
    "j, k, l = compact_svd(X)\n",
    "u, s, v = compact_svd(Y @ X.T @ np.linalg.pinv(X.T))\n",
    "r1, s1, v1 = compact_svd(W1_opt @ X)\n",
    "u2, s2, r2 = compact_svd(W2_opt)\n",
    "print(np.round(X.T @ W1_opt.T @ W1_opt @ X - f @ f.T @ v @ s @ v.T @ f @ f.T, 4))\n",
    "print(np.round(np.round(X.T @ W1_opt.T @ W1_opt @ X, 4) - np.round(v @ s @ v.T, 4), 6))"
   ]
  },
  {
   "cell_type": "code",
   "execution_count": 32,
   "id": "5d1453cb-62b3-4df7-92dd-d3d9ade0db19",
   "metadata": {},
   "outputs": [
    {
     "data": {
      "text/plain": [
       "array([[0.  , 0.01, 0.  , 0.  , 0.  , 0.  ],\n",
       "       [0.01, 0.  , 0.  , 0.  , 0.  , 0.  ],\n",
       "       [0.  , 0.  , 0.  , 0.  , 0.  , 0.  ],\n",
       "       [0.  , 0.  , 0.  , 0.  , 0.  , 0.  ],\n",
       "       [0.  , 0.  , 0.  , 0.  , 0.  , 0.  ],\n",
       "       [0.  , 0.  , 0.  , 0.  , 0.  , 0.  ]])"
      ]
     },
     "execution_count": 32,
     "metadata": {},
     "output_type": "execute_result"
    }
   ],
   "source": [
    "np.round(W2_opt.T @ W2_opt, 2) - np.round(W1_opt @ X @ X.T @ W1_opt.T, 2)"
   ]
  },
  {
   "cell_type": "code",
   "execution_count": 33,
   "id": "04b81e1c-f73d-43ad-810b-b1cd9595eaa7",
   "metadata": {},
   "outputs": [
    {
     "data": {
      "text/plain": [
       "array([[-0.46,  0.54,  0.42],\n",
       "       [-0.66, -0.2 , -0.01],\n",
       "       [-0.39, -0.5 ,  0.5 ],\n",
       "       [-0.8 , -0.38, -0.29],\n",
       "       [-0.8 ,  0.48, -0.18]])"
      ]
     },
     "execution_count": 33,
     "metadata": {},
     "output_type": "execute_result"
    }
   ],
   "source": [
    "np.round(u @ np.sqrt(s), 2)"
   ]
  },
  {
   "cell_type": "code",
   "execution_count": 34,
   "id": "0b7e11d9-887b-4aa2-8e22-df1630dae4a7",
   "metadata": {},
   "outputs": [
    {
     "data": {
      "text/plain": [
       "array([[ 0.46,  0.54,  0.42],\n",
       "       [ 0.66, -0.2 , -0.01],\n",
       "       [ 0.39, -0.5 ,  0.5 ],\n",
       "       [ 0.8 , -0.38, -0.29],\n",
       "       [ 0.8 ,  0.48, -0.18]])"
      ]
     },
     "execution_count": 34,
     "metadata": {},
     "output_type": "execute_result"
    }
   ],
   "source": [
    "np.round(W2_opt @ r2, 2)"
   ]
  },
  {
   "cell_type": "code",
   "execution_count": null,
   "id": "518b5f9f-62cf-4861-82cd-d4864b68c8a0",
   "metadata": {},
   "outputs": [],
   "source": []
  },
  {
   "cell_type": "code",
   "execution_count": 35,
   "id": "fb948361-ff2b-4255-a6a4-a5d5cf834767",
   "metadata": {},
   "outputs": [],
   "source": [
    "rr = W1_opt @ X @ v @ np.linalg.pinv(np.sqrt(s))"
   ]
  },
  {
   "cell_type": "code",
   "execution_count": 38,
   "id": "f42b476d-d749-46e6-ac1d-00274c308a4b",
   "metadata": {},
   "outputs": [
    {
     "data": {
      "text/plain": [
       "array([[ 1., -0.,  0.],\n",
       "       [-0.,  1.,  0.],\n",
       "       [ 0.,  0.,  1.]])"
      ]
     },
     "execution_count": 38,
     "metadata": {},
     "output_type": "execute_result"
    }
   ],
   "source": [
    "np.round(rr.T @ rr, 3)"
   ]
  },
  {
   "cell_type": "code",
   "execution_count": 36,
   "id": "f405abd3-6415-453b-abc3-b21795e657c8",
   "metadata": {},
   "outputs": [
    {
     "data": {
      "text/plain": [
       "array([[ 0.13971038,  0.46848951,  0.63170077],\n",
       "       [ 0.73827765,  0.20530097, -0.00691776],\n",
       "       [-0.22252373, -0.30175125,  0.06059193],\n",
       "       [ 0.5386771 ,  0.78542224, -0.11271289],\n",
       "       [ 0.57618493, -0.33253449,  0.61939923],\n",
       "       [ 0.20738986,  0.37823452,  0.53551695]])"
      ]
     },
     "execution_count": 36,
     "metadata": {},
     "output_type": "execute_result"
    }
   ],
   "source": [
    "W1_opt @ X"
   ]
  },
  {
   "cell_type": "code",
   "execution_count": 37,
   "id": "6b6e6d93-ce85-4039-8e84-925a7ae4d391",
   "metadata": {},
   "outputs": [
    {
     "data": {
      "text/plain": [
       "array([[ 0.13971038,  0.46848951,  0.63170077],\n",
       "       [ 0.73827765,  0.20530097, -0.00691776],\n",
       "       [-0.22252373, -0.30175125,  0.06059193],\n",
       "       [ 0.5386771 ,  0.78542224, -0.11271289],\n",
       "       [ 0.57618493, -0.33253449,  0.61939923],\n",
       "       [ 0.20738986,  0.37823452,  0.53551695]])"
      ]
     },
     "execution_count": 37,
     "metadata": {},
     "output_type": "execute_result"
    }
   ],
   "source": [
    "rr @ np.sqrt(s) @ v.T"
   ]
  },
  {
   "cell_type": "code",
   "execution_count": 39,
   "id": "4bd3bd93-e36b-409f-9d2f-7f25dc3a862a",
   "metadata": {},
   "outputs": [
    {
     "data": {
      "text/plain": [
       "array([[-0.53359364, -0.44310465, -1.46377617],\n",
       "       [-0.41802958,  0.32529437,  2.48249346],\n",
       "       [ 0.22197935, -0.44300642, -0.23849308],\n",
       "       [-0.5774906 ,  1.0793727 ,  0.39502984],\n",
       "       [-0.32233888, -1.22250118,  2.28664277],\n",
       "       [-0.48148625, -0.38429476, -0.83543987]])"
      ]
     },
     "execution_count": 39,
     "metadata": {},
     "output_type": "execute_result"
    }
   ],
   "source": [
    "W1_opt @ j"
   ]
  },
  {
   "cell_type": "code",
   "execution_count": 40,
   "id": "c96e4d60-f673-4cda-b6c1-b83cd8da3fe6",
   "metadata": {},
   "outputs": [
    {
     "data": {
      "text/plain": [
       "array([[-0.53359364, -0.44310465, -1.46377617],\n",
       "       [-0.41802958,  0.32529437,  2.48249346],\n",
       "       [ 0.22197935, -0.44300642, -0.23849308],\n",
       "       [-0.5774906 ,  1.0793727 ,  0.39502984],\n",
       "       [-0.32233888, -1.22250118,  2.28664277],\n",
       "       [-0.48148625, -0.38429476, -0.83543987]])"
      ]
     },
     "execution_count": 40,
     "metadata": {},
     "output_type": "execute_result"
    }
   ],
   "source": [
    "rr @ np.sqrt(s) @ v.T @ l @ np.linalg.pinv(k)"
   ]
  },
  {
   "cell_type": "code",
   "execution_count": 53,
   "id": "a5dbfe47-3c3f-4b09-89d7-fb6db00d2982",
   "metadata": {},
   "outputs": [],
   "source": [
    "z = W1_opt @ (np.identity(4) - j @ j.T)"
   ]
  },
  {
   "cell_type": "code",
   "execution_count": 55,
   "id": "6aa45b07-32a3-479d-af52-deb642256903",
   "metadata": {},
   "outputs": [
    {
     "data": {
      "text/plain": [
       "array([[-0.28,  0.3 ,  2.47, -0.55],\n",
       "       [-0.29,  4.05,  0.52, -0.85],\n",
       "       [-0.74,  0.8 ,  1.17, -0.7 ],\n",
       "       [ 1.  ,  1.09,  0.33, -0.5 ],\n",
       "       [-1.05,  1.69, -1.08,  1.3 ],\n",
       "       [-0.  , -0.43,  0.9 ,  0.32]])"
      ]
     },
     "execution_count": 55,
     "metadata": {},
     "output_type": "execute_result"
    }
   ],
   "source": [
    "np.round(W1_opt, 2)"
   ]
  },
  {
   "cell_type": "code",
   "execution_count": 59,
   "id": "e3e1c917-f55c-474e-a4a1-0a5bc9596a6b",
   "metadata": {},
   "outputs": [
    {
     "data": {
      "text/plain": [
       "array([[-0.28,  0.3 ,  2.47, -0.55],\n",
       "       [-0.29,  4.05,  0.52, -0.85],\n",
       "       [-0.74,  0.8 ,  1.17, -0.7 ],\n",
       "       [ 1.  ,  1.09,  0.33, -0.5 ],\n",
       "       [-1.05,  1.69, -1.08,  1.3 ],\n",
       "       [-0.  , -0.43,  0.9 ,  0.32]])"
      ]
     },
     "execution_count": 59,
     "metadata": {},
     "output_type": "execute_result"
    }
   ],
   "source": [
    "np.round(rr @ np.sqrt(s) @ v.T @ np.linalg.pinv(X) + z, 2)"
   ]
  },
  {
   "cell_type": "code",
   "execution_count": null,
   "id": "df41b3a5-d8f8-4dfb-877c-81e8dc76cd8e",
   "metadata": {},
   "outputs": [],
   "source": []
  },
  {
   "cell_type": "code",
   "execution_count": 62,
   "id": "ae3a2f4e-7284-4516-b6b3-b31987fad9e9",
   "metadata": {},
   "outputs": [
    {
     "data": {
      "text/plain": [
       "array([[ 0.98377573, -0.12633703],\n",
       "       [-0.12633703,  0.01622427]])"
      ]
     },
     "execution_count": 62,
     "metadata": {},
     "output_type": "execute_result"
    }
   ],
   "source": [
    "z = np.random.normal(0., 1., (1, 2))\n",
    "np.linalg.pinv(z) @ z"
   ]
  },
  {
   "cell_type": "code",
   "execution_count": 63,
   "id": "42f75335-1135-4ffa-a1a9-18721ec09b2c",
   "metadata": {},
   "outputs": [
    {
     "data": {
      "text/plain": [
       "array([[ 2.46162831, -0.31612369]])"
      ]
     },
     "execution_count": 63,
     "metadata": {},
     "output_type": "execute_result"
    }
   ],
   "source": [
    "z"
   ]
  },
  {
   "cell_type": "code",
   "execution_count": 41,
   "id": "3aac7883-703e-4643-9ddb-b8602bbbaaae",
   "metadata": {},
   "outputs": [
    {
     "data": {
      "text/plain": [
       "array([[ 0.97209468,  0.10647093,  0.10199404, -0.07340145],\n",
       "       [ 0.10647093,  0.59376716, -0.38915158,  0.28005841],\n",
       "       [ 0.10199404, -0.38915158,  0.62721145,  0.26828252],\n",
       "       [-0.07340145,  0.28005841,  0.26828252,  0.80692671]])"
      ]
     },
     "execution_count": 41,
     "metadata": {},
     "output_type": "execute_result"
    }
   ],
   "source": [
    "j @ j.T"
   ]
  },
  {
   "cell_type": "code",
   "execution_count": null,
   "id": "dafc1345-9429-4671-b031-a0ef42bb29b6",
   "metadata": {},
   "outputs": [],
   "source": []
  },
  {
   "cell_type": "code",
   "execution_count": 13,
   "id": "fcbda97a-c7ae-462b-9d2e-55932800be80",
   "metadata": {},
   "outputs": [
    {
     "data": {
      "text/plain": [
       "array([[2.07725466, 0.        , 0.        ],\n",
       "       [0.        , 0.96027052, 0.        ],\n",
       "       [0.        , 0.        , 0.55060952]])"
      ]
     },
     "execution_count": 13,
     "metadata": {},
     "output_type": "execute_result"
    }
   ],
   "source": [
    "s"
   ]
  },
  {
   "cell_type": "code",
   "execution_count": 14,
   "id": "1c500f6f-5bca-4746-8504-c1be59541d54",
   "metadata": {},
   "outputs": [
    {
     "data": {
      "text/plain": [
       "array([[1.44131897e+00, 0.00000000e+00, 0.00000000e+00, 0.00000000e+00],\n",
       "       [0.00000000e+00, 9.79996592e-01, 0.00000000e+00, 0.00000000e+00],\n",
       "       [0.00000000e+00, 0.00000000e+00, 7.42779630e-01, 0.00000000e+00],\n",
       "       [0.00000000e+00, 0.00000000e+00, 0.00000000e+00, 2.85177997e-04]])"
      ]
     },
     "execution_count": 14,
     "metadata": {},
     "output_type": "execute_result"
    }
   ],
   "source": [
    "s2"
   ]
  },
  {
   "cell_type": "code",
   "execution_count": null,
   "id": "4faa2c6d-186a-4d71-bf42-c660abd25232",
   "metadata": {},
   "outputs": [],
   "source": []
  },
  {
   "cell_type": "code",
   "execution_count": null,
   "id": "7411adbe-a270-4d6a-9986-91ba89cef774",
   "metadata": {},
   "outputs": [],
   "source": []
  },
  {
   "cell_type": "code",
   "execution_count": null,
   "id": "0a02603c-7dee-4910-8609-fbe464650e7d",
   "metadata": {},
   "outputs": [],
   "source": []
  },
  {
   "cell_type": "code",
   "execution_count": 8,
   "id": "30fff5be-6475-46ee-8c9a-d5e9ab1b4b02",
   "metadata": {},
   "outputs": [
    {
     "data": {
      "text/plain": [
       "array([[ 6.51731447e-11,  4.42740289e-11, -8.17739973e-12],\n",
       "       [-6.75479672e-11, -2.60175770e-11, -1.61000990e-10],\n",
       "       [ 5.35330114e-12, -2.28478347e-11, -2.13453144e-10],\n",
       "       [ 7.56038565e-11,  6.53992971e-11, -3.99769107e-12],\n",
       "       [-6.02629058e-13, -6.32716102e-13, -1.27827332e-11]])"
      ]
     },
     "execution_count": 8,
     "metadata": {},
     "output_type": "execute_result"
    }
   ],
   "source": [
    "W2_opt @ W1_opt @ X - Y @X.T @ np.linalg.pinv(X).T"
   ]
  },
  {
   "cell_type": "code",
   "execution_count": null,
   "id": "3e4af975-8631-424e-aa05-3d8a90d36318",
   "metadata": {},
   "outputs": [],
   "source": []
  },
  {
   "cell_type": "code",
   "execution_count": 15,
   "id": "f8700c18-3e51-4e82-b986-24e877ade134",
   "metadata": {},
   "outputs": [
    {
     "data": {
      "text/plain": [
       "array([[ 0.46, -3.11,  2.04, -0.78],\n",
       "       [-1.11,  0.96,  1.36, -0.93],\n",
       "       [ 1.22,  0.41, -0.12, -1.21],\n",
       "       [ 0.49,  0.3 ,  0.56,  0.55]])"
      ]
     },
     "execution_count": 15,
     "metadata": {},
     "output_type": "execute_result"
    }
   ],
   "source": [
    "np.round(r1.T @ W1_opt, 2)"
   ]
  },
  {
   "cell_type": "code",
   "execution_count": 16,
   "id": "706b7159-868b-4ce7-beaa-adccbe47ced5",
   "metadata": {},
   "outputs": [
    {
     "data": {
      "text/plain": [
       "array([[-0.521, -1.063,  0.287, -0.946],\n",
       "       [ 1.55 , -0.399,  0.063, -1.08 ],\n",
       "       [ 0.215, -2.6  ,  2.393, -0.528]])"
      ]
     },
     "execution_count": 16,
     "metadata": {},
     "output_type": "execute_result"
    }
   ],
   "source": [
    "np.round(np.sqrt(k) @ l.T @ np.linalg.pinv(X), 3)"
   ]
  },
  {
   "cell_type": "code",
   "execution_count": 17,
   "id": "5d77df6d-2e9d-4b8b-b2df-76a44c86c9c5",
   "metadata": {},
   "outputs": [
    {
     "data": {
      "text/plain": [
       "array([[ 0.57293181,  0.37545166,  0.79371894],\n",
       "       [ 0.22266442,  0.18051595, -0.64613926],\n",
       "       [-0.55614403, -0.05229213, -0.15207933],\n",
       "       [-0.45419688, -0.13847306, -0.03773329],\n",
       "       [-0.07991647, -0.97525195,  0.04178312],\n",
       "       [ 0.6152204 ,  0.27566518,  0.11001453]])"
      ]
     },
     "execution_count": 17,
     "metadata": {},
     "output_type": "execute_result"
    }
   ],
   "source": [
    "W1_opt @ X"
   ]
  },
  {
   "cell_type": "code",
   "execution_count": 18,
   "id": "3ed19540-53b6-4847-ac08-0b0dbc8eb456",
   "metadata": {},
   "outputs": [
    {
     "ename": "NameError",
     "evalue": "name 's' is not defined",
     "output_type": "error",
     "traceback": [
      "\u001b[0;31m---------------------------------------------------------------------------\u001b[0m",
      "\u001b[0;31mNameError\u001b[0m                                 Traceback (most recent call last)",
      "Cell \u001b[0;32mIn[18], line 1\u001b[0m\n\u001b[0;32m----> 1\u001b[0m r1 \u001b[38;5;241m@\u001b[39m np\u001b[38;5;241m.\u001b[39msqrt(\u001b[43ms\u001b[49m) \u001b[38;5;241m@\u001b[39m v\u001b[38;5;241m.\u001b[39mT\n",
      "\u001b[0;31mNameError\u001b[0m: name 's' is not defined"
     ]
    }
   ],
   "source": [
    "r1 @ np.sqrt(s) @ v.T"
   ]
  },
  {
   "cell_type": "code",
   "execution_count": null,
   "id": "9cc0a887-9b38-4f49-8714-570e3a36808b",
   "metadata": {},
   "outputs": [],
   "source": []
  },
  {
   "cell_type": "code",
   "execution_count": null,
   "id": "90a03d40-2a3e-4beb-ab02-4493daba56f3",
   "metadata": {},
   "outputs": [],
   "source": []
  },
  {
   "cell_type": "code",
   "execution_count": null,
   "id": "bb7ec1ee-6bdb-435a-91aa-1a8f243d16c5",
   "metadata": {},
   "outputs": [],
   "source": [
    "r, s1, v = ds.compact_svd(W1_opt @ X)\n",
    "u, s2, rt = ds.compact_svd(W2_opt)"
   ]
  },
  {
   "cell_type": "code",
   "execution_count": null,
   "id": "c129ad96-46d3-4a05-abaa-53f34fdb9020",
   "metadata": {},
   "outputs": [],
   "source": []
  },
  {
   "cell_type": "code",
   "execution_count": null,
   "id": "fddf7a3b-c129-4ae5-8dbe-063969794810",
   "metadata": {},
   "outputs": [],
   "source": []
  },
  {
   "cell_type": "code",
   "execution_count": 106,
   "id": "cb5a5bb0-252c-431d-a8ea-a02677795595",
   "metadata": {},
   "outputs": [],
   "source": [
    "a, b, c = ds.compact_svd(Y @ X.T @ np.linalg.pinv(X @ X.T) @ X)"
   ]
  },
  {
   "cell_type": "code",
   "execution_count": 107,
   "id": "a3053bf5-cc4a-460b-a012-7a43139464da",
   "metadata": {},
   "outputs": [
    {
     "data": {
      "text/plain": [
       "Array([[2.044777  , 0.        ],\n",
       "       [0.        , 0.52290225]], dtype=float32)"
      ]
     },
     "execution_count": 107,
     "metadata": {},
     "output_type": "execute_result"
    }
   ],
   "source": [
    "b"
   ]
  },
  {
   "cell_type": "code",
   "execution_count": 108,
   "id": "451eb4e2-40e2-4659-a1d1-fb71a04d12d6",
   "metadata": {},
   "outputs": [
    {
     "data": {
      "text/plain": [
       "Array([[2.0447738, 0.       ],\n",
       "       [0.       , 0.5229017]], dtype=float32)"
      ]
     },
     "execution_count": 108,
     "metadata": {},
     "output_type": "execute_result"
    }
   ],
   "source": [
    "s1**2"
   ]
  },
  {
   "cell_type": "code",
   "execution_count": 109,
   "id": "ee8885e4-6405-4f89-90fb-76795f6dc5d6",
   "metadata": {},
   "outputs": [
    {
     "data": {
      "text/plain": [
       "Array([[-0.5818219 ,  0.65266615],\n",
       "       [-0.4358315 ,  0.06622903],\n",
       "       [-0.514549  , -0.1384137 ],\n",
       "       [-0.4547234 , -0.74194473]], dtype=float32)"
      ]
     },
     "execution_count": 109,
     "metadata": {},
     "output_type": "execute_result"
    }
   ],
   "source": [
    "a"
   ]
  },
  {
   "cell_type": "code",
   "execution_count": 110,
   "id": "a2c4e9a4-f17e-43e3-9ba3-95f4e22c6b6f",
   "metadata": {},
   "outputs": [
    {
     "data": {
      "text/plain": [
       "Array([[-0.5818221 ,  0.65266633],\n",
       "       [-0.43583158,  0.06622884],\n",
       "       [-0.5145491 , -0.13841377],\n",
       "       [-0.45472336, -0.74194485]], dtype=float32)"
      ]
     },
     "execution_count": 110,
     "metadata": {},
     "output_type": "execute_result"
    }
   ],
   "source": [
    "u"
   ]
  },
  {
   "cell_type": "code",
   "execution_count": null,
   "id": "3b96ddf9-70c5-41a5-8e02-08e446c1a5e1",
   "metadata": {},
   "outputs": [],
   "source": []
  },
  {
   "cell_type": "code",
   "execution_count": 207,
   "id": "2ebcf3bf-6246-472b-b11c-3737242ffa77",
   "metadata": {},
   "outputs": [],
   "source": [
    "a, b, c = ds.compact_svd(Y)\n",
    "d, e, f = ds.compact_svd(X)\n",
    "u, s, v = ds.compact_svd(Y @ f @ f.T)\n",
    "r1_, s1_, v_ = ds.compact_svd(W1_opt)\n",
    "u_, s2_, r2_ = ds.compact_svd(W2_opt)"
   ]
  },
  {
   "cell_type": "code",
   "execution_count": 208,
   "id": "ee09d023-3f20-471f-9c29-7f1f02ecd2bd",
   "metadata": {},
   "outputs": [
    {
     "data": {
      "text/plain": [
       "Array([[ 0.703     ,  0.075     ],\n",
       "       [ 0.88900006, -0.46500003],\n",
       "       [ 0.78200006,  0.46100003]], dtype=float32)"
      ]
     },
     "execution_count": 208,
     "metadata": {},
     "output_type": "execute_result"
    }
   ],
   "source": [
    "np.round(u_ @ s2_, 3)"
   ]
  },
  {
   "cell_type": "code",
   "execution_count": 209,
   "id": "8aebea7b-9fe6-4b64-a336-4569aef32bd7",
   "metadata": {},
   "outputs": [
    {
     "data": {
      "text/plain": [
       "Array([[ 0.703     ,  0.075     ],\n",
       "       [ 0.88900006, -0.46500003],\n",
       "       [ 0.78200006,  0.46100003]], dtype=float32)"
      ]
     },
     "execution_count": 209,
     "metadata": {},
     "output_type": "execute_result"
    }
   ],
   "source": [
    "np.round(u @ np.sqrt(s), 3)"
   ]
  },
  {
   "cell_type": "code",
   "execution_count": 210,
   "id": "b0c47594-547e-4a69-85fd-c419201132ca",
   "metadata": {},
   "outputs": [
    {
     "data": {
      "text/plain": [
       "Array([[-0.19500001,  4.7770004 ],\n",
       "       [ 0.679     ,  0.028     ]], dtype=float32)"
      ]
     },
     "execution_count": 210,
     "metadata": {},
     "output_type": "execute_result"
    }
   ],
   "source": [
    "np.round(r1_.T @ W1_opt @ d, 3)"
   ]
  },
  {
   "cell_type": "code",
   "execution_count": 211,
   "id": "052405c1-24fa-47a2-80ac-cfcce61f5f07",
   "metadata": {},
   "outputs": [
    {
     "ename": "TypeError",
     "evalue": "dot_general requires contracting dimensions to have the same shape, got (2,) and (4,).",
     "output_type": "error",
     "traceback": [
      "\u001b[0;31m---------------------------------------------------------------------------\u001b[0m",
      "\u001b[0;31mTypeError\u001b[0m                                 Traceback (most recent call last)",
      "Cell \u001b[0;32mIn[211], line 1\u001b[0m\n\u001b[0;32m----> 1\u001b[0m \u001b[43mnp\u001b[49m\u001b[38;5;241;43m.\u001b[39;49m\u001b[43msqrt\u001b[49m\u001b[43m(\u001b[49m\u001b[43ms1_\u001b[49m\u001b[43m)\u001b[49m\u001b[43m \u001b[49m\u001b[38;5;241;43m@\u001b[39;49m\u001b[43m \u001b[49m\u001b[43mv_\u001b[49m\u001b[38;5;241;43m.\u001b[39;49m\u001b[43mT\u001b[49m\u001b[43m \u001b[49m\u001b[38;5;241;43m@\u001b[39;49m\u001b[43m \u001b[49m\u001b[43mf\u001b[49m \u001b[38;5;241m@\u001b[39m np\u001b[38;5;241m.\u001b[39mlinalg\u001b[38;5;241m.\u001b[39mpinv(e)\n",
      "File \u001b[0;32m~/Documents/projects/dissociation/.venv/lib/python3.12/site-packages/jax/_src/numpy/array_methods.py:573\u001b[0m, in \u001b[0;36m_defer_to_unrecognized_arg.<locals>.deferring_binary_op\u001b[0;34m(self, other)\u001b[0m\n\u001b[1;32m    571\u001b[0m args \u001b[38;5;241m=\u001b[39m (other, \u001b[38;5;28mself\u001b[39m) \u001b[38;5;28;01mif\u001b[39;00m swap \u001b[38;5;28;01melse\u001b[39;00m (\u001b[38;5;28mself\u001b[39m, other)\n\u001b[1;32m    572\u001b[0m \u001b[38;5;28;01mif\u001b[39;00m \u001b[38;5;28misinstance\u001b[39m(other, _accepted_binop_types):\n\u001b[0;32m--> 573\u001b[0m   \u001b[38;5;28;01mreturn\u001b[39;00m \u001b[43mbinary_op\u001b[49m\u001b[43m(\u001b[49m\u001b[38;5;241;43m*\u001b[39;49m\u001b[43margs\u001b[49m\u001b[43m)\u001b[49m\n\u001b[1;32m    574\u001b[0m \u001b[38;5;66;03m# Note: don't use isinstance here, because we don't want to raise for\u001b[39;00m\n\u001b[1;32m    575\u001b[0m \u001b[38;5;66;03m# subclasses, e.g. NamedTuple objects that may override operators.\u001b[39;00m\n\u001b[1;32m    576\u001b[0m \u001b[38;5;28;01mif\u001b[39;00m \u001b[38;5;28mtype\u001b[39m(other) \u001b[38;5;129;01min\u001b[39;00m _rejected_binop_types:\n",
      "    \u001b[0;31m[... skipping hidden 14 frame]\u001b[0m\n",
      "File \u001b[0;32m~/Documents/projects/dissociation/.venv/lib/python3.12/site-packages/jax/_src/numpy/lax_numpy.py:9161\u001b[0m, in \u001b[0;36mmatmul\u001b[0;34m(a, b, precision, preferred_element_type)\u001b[0m\n\u001b[1;32m   9159\u001b[0m a \u001b[38;5;241m=\u001b[39m lax\u001b[38;5;241m.\u001b[39msqueeze(a, \u001b[38;5;28mtuple\u001b[39m(a_squeeze))\n\u001b[1;32m   9160\u001b[0m b \u001b[38;5;241m=\u001b[39m lax\u001b[38;5;241m.\u001b[39msqueeze(b, \u001b[38;5;28mtuple\u001b[39m(b_squeeze))\n\u001b[0;32m-> 9161\u001b[0m out \u001b[38;5;241m=\u001b[39m \u001b[43mlax\u001b[49m\u001b[38;5;241;43m.\u001b[39;49m\u001b[43mdot_general\u001b[49m\u001b[43m(\u001b[49m\n\u001b[1;32m   9162\u001b[0m \u001b[43m  \u001b[49m\u001b[43ma\u001b[49m\u001b[43m,\u001b[49m\u001b[43m \u001b[49m\u001b[43mb\u001b[49m\u001b[43m,\u001b[49m\u001b[43m \u001b[49m\u001b[43m(\u001b[49m\u001b[43m(\u001b[49m\u001b[43m(\u001b[49m\u001b[43mndim\u001b[49m\u001b[43m(\u001b[49m\u001b[43ma\u001b[49m\u001b[43m)\u001b[49m\u001b[43m \u001b[49m\u001b[38;5;241;43m-\u001b[39;49m\u001b[43m \u001b[49m\u001b[38;5;241;43m1\u001b[39;49m\u001b[43m,\u001b[49m\u001b[43m)\u001b[49m\u001b[43m,\u001b[49m\u001b[43m \u001b[49m\u001b[43m(\u001b[49m\u001b[43mndim\u001b[49m\u001b[43m(\u001b[49m\u001b[43mb\u001b[49m\u001b[43m)\u001b[49m\u001b[43m \u001b[49m\u001b[38;5;241;43m-\u001b[39;49m\u001b[43m \u001b[49m\u001b[38;5;241;43m1\u001b[39;49m\u001b[43m \u001b[49m\u001b[38;5;241;43m-\u001b[39;49m\u001b[43m \u001b[49m\u001b[43mb_is_mat\u001b[49m\u001b[43m,\u001b[49m\u001b[43m)\u001b[49m\u001b[43m)\u001b[49m\u001b[43m,\u001b[49m\u001b[43m \u001b[49m\u001b[43m(\u001b[49m\u001b[43ma_batch\u001b[49m\u001b[43m,\u001b[49m\u001b[43m \u001b[49m\u001b[43mb_batch\u001b[49m\u001b[43m)\u001b[49m\u001b[43m)\u001b[49m\u001b[43m,\u001b[49m\n\u001b[1;32m   9163\u001b[0m \u001b[43m  \u001b[49m\u001b[43mprecision\u001b[49m\u001b[38;5;241;43m=\u001b[39;49m\u001b[43mprecision\u001b[49m\u001b[43m,\u001b[49m\u001b[43m \u001b[49m\u001b[43mpreferred_element_type\u001b[49m\u001b[38;5;241;43m=\u001b[39;49m\u001b[43mpreferred_element_type\u001b[49m\u001b[43m)\u001b[49m\n\u001b[1;32m   9164\u001b[0m result \u001b[38;5;241m=\u001b[39m lax\u001b[38;5;241m.\u001b[39mtranspose(out, perm)\n\u001b[1;32m   9165\u001b[0m \u001b[38;5;28;01mreturn\u001b[39;00m lax_internal\u001b[38;5;241m.\u001b[39m_convert_element_type(result, preferred_element_type, output_weak_type)\n",
      "    \u001b[0;31m[... skipping hidden 7 frame]\u001b[0m\n",
      "File \u001b[0;32m~/Documents/projects/dissociation/.venv/lib/python3.12/site-packages/jax/_src/lax/lax.py:3342\u001b[0m, in \u001b[0;36m_dot_general_shape_rule\u001b[0;34m(lhs, rhs, dimension_numbers, precision, preferred_element_type, out_type)\u001b[0m\n\u001b[1;32m   3339\u001b[0m \u001b[38;5;28;01mif\u001b[39;00m \u001b[38;5;129;01mnot\u001b[39;00m core\u001b[38;5;241m.\u001b[39mdefinitely_equal_shape(lhs_contracting_shape, rhs_contracting_shape):\n\u001b[1;32m   3340\u001b[0m   msg \u001b[38;5;241m=\u001b[39m (\u001b[38;5;124m\"\u001b[39m\u001b[38;5;124mdot_general requires contracting dimensions to have the same \u001b[39m\u001b[38;5;124m\"\u001b[39m\n\u001b[1;32m   3341\u001b[0m          \u001b[38;5;124m\"\u001b[39m\u001b[38;5;124mshape, got \u001b[39m\u001b[38;5;132;01m{}\u001b[39;00m\u001b[38;5;124m and \u001b[39m\u001b[38;5;132;01m{}\u001b[39;00m\u001b[38;5;124m.\u001b[39m\u001b[38;5;124m\"\u001b[39m)\n\u001b[0;32m-> 3342\u001b[0m   \u001b[38;5;28;01mraise\u001b[39;00m \u001b[38;5;167;01mTypeError\u001b[39;00m(msg\u001b[38;5;241m.\u001b[39mformat(lhs_contracting_shape, rhs_contracting_shape))\n\u001b[1;32m   3344\u001b[0m \u001b[38;5;28;01mreturn\u001b[39;00m _dot_general_shape_computation(lhs\u001b[38;5;241m.\u001b[39mshape, rhs\u001b[38;5;241m.\u001b[39mshape, dimension_numbers)\n",
      "\u001b[0;31mTypeError\u001b[0m: dot_general requires contracting dimensions to have the same shape, got (2,) and (4,)."
     ]
    }
   ],
   "source": [
    "np.sqrt(s1_) @ v_.T @ f @ np.linalg.pinv(e)"
   ]
  },
  {
   "cell_type": "code",
   "execution_count": null,
   "id": "c4397911-9ff3-42bc-ab4e-90d4ecce1527",
   "metadata": {},
   "outputs": [],
   "source": []
  },
  {
   "cell_type": "code",
   "execution_count": 223,
   "id": "c5a8d3d6-8dda-481a-a5f1-c0dad475e0b7",
   "metadata": {},
   "outputs": [
    {
     "data": {
      "text/plain": [
       "Array([[0., 0., 0., 0.],\n",
       "       [0., 0., 0., 0.],\n",
       "       [0., 0., 0., 0.],\n",
       "       [0., 0., 0., 0.]], dtype=float32)"
      ]
     },
     "execution_count": 223,
     "metadata": {},
     "output_type": "execute_result"
    }
   ],
   "source": []
  },
  {
   "cell_type": "code",
   "execution_count": 216,
   "id": "d0406f96-862b-4417-ad47-9f07df1eb386",
   "metadata": {},
   "outputs": [
    {
     "data": {
      "text/plain": [
       "Array([[0.54829997, 0.5748    , 0.39699998, 0.2481    ],\n",
       "       [0.5748    , 0.6274    , 0.55219996, 0.27699998],\n",
       "       [0.39699998, 0.55219996, 1.0313    , 0.2721    ],\n",
       "       [0.2481    , 0.27699998, 0.2721    , 0.12379999]], dtype=float32)"
      ]
     },
     "execution_count": 216,
     "metadata": {},
     "output_type": "execute_result"
    }
   ],
   "source": []
  },
  {
   "cell_type": "code",
   "execution_count": 214,
   "id": "1525c4a6-f78c-401b-b54e-6f13953936ef",
   "metadata": {},
   "outputs": [
    {
     "data": {
      "text/plain": [
       "Array([[ 0.5189002 ,  0.45601827, -0.10516337,  0.17501694],\n",
       "       [ 0.45601827,  0.43264768,  0.08194849,  0.1754867 ],\n",
       "       [-0.10516337,  0.08194849,  0.974685  ,  0.08306118],\n",
       "       [ 0.17501694,  0.1754867 ,  0.08306118,  0.07376726]],      dtype=float32)"
      ]
     },
     "execution_count": 214,
     "metadata": {},
     "output_type": "execute_result"
    }
   ],
   "source": [
    "f @ f.T"
   ]
  },
  {
   "cell_type": "code",
   "execution_count": 112,
   "id": "2b26819d-8eb6-44d2-9a38-c9547dd2db36",
   "metadata": {},
   "outputs": [
    {
     "data": {
      "text/plain": [
       "Array([[2.0447738, 0.       ],\n",
       "       [0.       , 0.5229017]], dtype=float32)"
      ]
     },
     "execution_count": 112,
     "metadata": {},
     "output_type": "execute_result"
    }
   ],
   "source": [
    "s1**2"
   ]
  },
  {
   "cell_type": "code",
   "execution_count": 113,
   "id": "0d65b70d-37e3-423f-98b9-1e564ae43244",
   "metadata": {},
   "outputs": [
    {
     "data": {
      "text/plain": [
       "Array([[1.4299583, 0.       ],\n",
       "       [0.       , 0.7231199]], dtype=float32)"
      ]
     },
     "execution_count": 113,
     "metadata": {},
     "output_type": "execute_result"
    }
   ],
   "source": [
    "s2"
   ]
  },
  {
   "cell_type": "code",
   "execution_count": 114,
   "id": "3917e16a-28bc-4cb8-a7a8-e3e01a7371bc",
   "metadata": {},
   "outputs": [],
   "source": [
    "_, sx, _ = ds.compact_svd(X)\n",
    "_, sy, _ = ds.compact_svd(Y)"
   ]
  },
  {
   "cell_type": "code",
   "execution_count": 115,
   "id": "8488c0be-7f7a-4345-a834-fb57cb482711",
   "metadata": {},
   "outputs": [
    {
     "data": {
      "text/plain": [
       "Array([[1.7265359 , 0.        ],\n",
       "       [0.        , 0.41499856]], dtype=float32)"
      ]
     },
     "execution_count": 115,
     "metadata": {},
     "output_type": "execute_result"
    }
   ],
   "source": [
    "sx"
   ]
  },
  {
   "cell_type": "code",
   "execution_count": 116,
   "id": "cf9cfe26-77a0-426e-9051-5536a701c0ae",
   "metadata": {},
   "outputs": [
    {
     "data": {
      "text/plain": [
       "array([[1.4299569, 0.       ],\n",
       "       [0.       , 0.7231198]], dtype=float32)"
      ]
     },
     "execution_count": 116,
     "metadata": {},
     "output_type": "execute_result"
    }
   ],
   "source": [
    "np.sqrt(sy)"
   ]
  },
  {
   "cell_type": "code",
   "execution_count": 117,
   "id": "1e074cd2-e110-4810-b76e-1fe485b3bc4b",
   "metadata": {},
   "outputs": [],
   "source": [
    "_, syx, _ = ds.compact_svd(Y@X.T)"
   ]
  },
  {
   "cell_type": "code",
   "execution_count": 118,
   "id": "45ffbc70-391d-4466-944e-4dc874864b2a",
   "metadata": {},
   "outputs": [
    {
     "data": {
      "text/plain": [
       "Array([[3.4849203 , 0.        ],\n",
       "       [0.        , 0.21983448]], dtype=float32)"
      ]
     },
     "execution_count": 118,
     "metadata": {},
     "output_type": "execute_result"
    }
   ],
   "source": [
    "syx"
   ]
  },
  {
   "cell_type": "code",
   "execution_count": 119,
   "id": "837345d1-77c8-4322-8020-ea65be59d1ca",
   "metadata": {},
   "outputs": [
    {
     "data": {
      "text/plain": [
       "array([[1.8667941, 0.       ],\n",
       "       [0.       , 0.4688651]], dtype=float32)"
      ]
     },
     "execution_count": 119,
     "metadata": {},
     "output_type": "execute_result"
    }
   ],
   "source": [
    "np.sqrt(syx)"
   ]
  },
  {
   "cell_type": "code",
   "execution_count": 120,
   "id": "60c2232f-c3d0-444b-86a8-9f3699537557",
   "metadata": {},
   "outputs": [
    {
     "data": {
      "text/plain": [
       "Array([[-2.045,  0.   ],\n",
       "       [-0.   , -0.523]], dtype=float32)"
      ]
     },
     "execution_count": 120,
     "metadata": {},
     "output_type": "execute_result"
    }
   ],
   "source": [
    "np.round(u.T @ Y @ v,3)"
   ]
  },
  {
   "cell_type": "code",
   "execution_count": 121,
   "id": "c241cdf5-dba1-4501-94d4-3987b10aaf81",
   "metadata": {},
   "outputs": [
    {
     "data": {
      "text/plain": [
       "Array([[-1.19      ,  0.34100002],\n",
       "       [-0.89100003,  0.035     ],\n",
       "       [-1.052     , -0.072     ],\n",
       "       [-0.93000007, -0.388     ]], dtype=float32)"
      ]
     },
     "execution_count": 121,
     "metadata": {},
     "output_type": "execute_result"
    }
   ],
   "source": [
    "np.round(u @ s1**2, 3)"
   ]
  },
  {
   "cell_type": "code",
   "execution_count": 122,
   "id": "7167e183-39d6-47ae-9835-868541952900",
   "metadata": {},
   "outputs": [
    {
     "data": {
      "text/plain": [
       "Array([[ 1.19      , -0.34100002],\n",
       "       [ 0.89100003, -0.035     ],\n",
       "       [ 1.052     ,  0.072     ],\n",
       "       [ 0.93000007,  0.388     ]], dtype=float32)"
      ]
     },
     "execution_count": 122,
     "metadata": {},
     "output_type": "execute_result"
    }
   ],
   "source": [
    "np.round(Y @ v, 3)"
   ]
  },
  {
   "cell_type": "code",
   "execution_count": 123,
   "id": "7ae6c6c2-494e-41e7-9860-c43cba6a052d",
   "metadata": {},
   "outputs": [
    {
     "data": {
      "text/plain": [
       "Array([[ 9.9999976e-01, -3.0149678e-09],\n",
       "       [-3.0149678e-09,  9.9999970e-01]], dtype=float32)"
      ]
     },
     "execution_count": 123,
     "metadata": {},
     "output_type": "execute_result"
    }
   ],
   "source": [
    "v @ v.T"
   ]
  },
  {
   "cell_type": "code",
   "execution_count": null,
   "id": "54753fe4-21a4-4172-bcfd-1e82876bffe4",
   "metadata": {},
   "outputs": [],
   "source": []
  },
  {
   "cell_type": "code",
   "execution_count": null,
   "id": "f1104145-277a-4b72-8a9d-5b0ab8e50c8e",
   "metadata": {},
   "outputs": [],
   "source": []
  },
  {
   "cell_type": "code",
   "execution_count": null,
   "id": "9c8a9249-9e15-4838-83d5-b5526cc86da2",
   "metadata": {},
   "outputs": [],
   "source": []
  },
  {
   "cell_type": "code",
   "execution_count": 16,
   "id": "506a6b21-dc4c-43bb-be78-2de16d7cc9c9",
   "metadata": {},
   "outputs": [],
   "source": [
    "r, s1, v = ds.compact_svd(W1_opt @ X)\n",
    "u, s2, rt = ds.compact_svd(W2_opt)"
   ]
  },
  {
   "cell_type": "code",
   "execution_count": 17,
   "id": "73e48f98-1c4d-4fe1-8488-1fa0998c9185",
   "metadata": {},
   "outputs": [
    {
     "data": {
      "text/plain": [
       "Array([[1.4586565 , 0.        , 0.        ],\n",
       "       [0.        , 0.7295021 , 0.        ],\n",
       "       [0.        , 0.        , 0.18948947]], dtype=float32)"
      ]
     },
     "execution_count": 17,
     "metadata": {},
     "output_type": "execute_result"
    }
   ],
   "source": [
    "s1"
   ]
  },
  {
   "cell_type": "code",
   "execution_count": 18,
   "id": "e3b22b6f-c24a-4c84-9ae6-29372e242cfa",
   "metadata": {},
   "outputs": [
    {
     "data": {
      "text/plain": [
       "Array([[1.4590001 , 0.        , 0.        ],\n",
       "       [0.        , 0.73      , 0.        ],\n",
       "       [0.        , 0.        , 0.18900001]], dtype=float32)"
      ]
     },
     "execution_count": 18,
     "metadata": {},
     "output_type": "execute_result"
    }
   ],
   "source": [
    "np.round(s2, 3)"
   ]
  },
  {
   "cell_type": "code",
   "execution_count": 19,
   "id": "dd7af80c-a2d4-44d0-b39f-daa80b0142b0",
   "metadata": {},
   "outputs": [],
   "source": [
    "a, b, c = ds.compact_svd(Y)"
   ]
  },
  {
   "cell_type": "code",
   "execution_count": 20,
   "id": "4deaa6e0-4253-43d5-95ff-01cfef2162b9",
   "metadata": {},
   "outputs": [
    {
     "data": {
      "text/plain": [
       "Array([[1.4586565 , 0.        , 0.        ],\n",
       "       [0.        , 0.7295021 , 0.        ],\n",
       "       [0.        , 0.        , 0.18948947]], dtype=float32)"
      ]
     },
     "execution_count": 20,
     "metadata": {},
     "output_type": "execute_result"
    }
   ],
   "source": [
    "s1"
   ]
  },
  {
   "cell_type": "code",
   "execution_count": 21,
   "id": "2734f330-a34e-4ee3-b84b-87c976c7b451",
   "metadata": {},
   "outputs": [
    {
     "data": {
      "text/plain": [
       "array([[1.4597324 , 0.        , 0.        , 0.        ],\n",
       "       [0.        , 0.8440479 , 0.        , 0.        ],\n",
       "       [0.        , 0.        , 0.7148675 , 0.        ],\n",
       "       [0.        , 0.        , 0.        , 0.27308133]], dtype=float32)"
      ]
     },
     "execution_count": 21,
     "metadata": {},
     "output_type": "execute_result"
    }
   ],
   "source": [
    "np.sqrt(b)"
   ]
  },
  {
   "cell_type": "code",
   "execution_count": 22,
   "id": "385715fa-d176-4aeb-88d3-9fd22994e8fb",
   "metadata": {},
   "outputs": [
    {
     "data": {
      "text/plain": [
       "Array([[ 4.5299997, -0.       , -0.       ],\n",
       "       [-0.       ,  0.28     , -0.       ],\n",
       "       [-0.       , -0.       ,  0.       ]], dtype=float32)"
      ]
     },
     "execution_count": 22,
     "metadata": {},
     "output_type": "execute_result"
    }
   ],
   "source": [
    "np.round(v.T @ c @ (b**2) @c.T @ v, 2)"
   ]
  },
  {
   "cell_type": "code",
   "execution_count": 23,
   "id": "a45cd094-6d6d-4504-a1fa-b5c3cc8fdd70",
   "metadata": {},
   "outputs": [
    {
     "data": {
      "text/plain": [
       "Array([[4.5299997, 0.       , 0.       ],\n",
       "       [0.       , 0.28     , 0.       ],\n",
       "       [0.       , 0.       , 0.       ]], dtype=float32)"
      ]
     },
     "execution_count": 23,
     "metadata": {},
     "output_type": "execute_result"
    }
   ],
   "source": [
    "np.round(s1**4, 2)"
   ]
  },
  {
   "cell_type": "code",
   "execution_count": 24,
   "id": "9121f61e-2fec-4abc-b4f5-55115fce0578",
   "metadata": {},
   "outputs": [],
   "source": [
    "u, s, r = ds.compact_svd(W2_opt)"
   ]
  },
  {
   "cell_type": "code",
   "execution_count": 25,
   "id": "b26fcc61-9602-4941-bf33-99db374b9054",
   "metadata": {},
   "outputs": [
    {
     "data": {
      "text/plain": [
       "Array([[4.5270004e+00, 0.0000000e+00, 0.0000000e+00],\n",
       "       [0.0000000e+00, 2.8300002e-01, 0.0000000e+00],\n",
       "       [0.0000000e+00, 0.0000000e+00, 1.0000000e-03]], dtype=float32)"
      ]
     },
     "execution_count": 25,
     "metadata": {},
     "output_type": "execute_result"
    }
   ],
   "source": [
    "np.round(s**4, 3)"
   ]
  },
  {
   "cell_type": "code",
   "execution_count": 26,
   "id": "456e3f1b-acaf-43e0-b1e8-1b5e292a303a",
   "metadata": {},
   "outputs": [
    {
     "data": {
      "text/plain": [
       "Array([[-0.617913  ,  0.4676591 ,  0.03436581],\n",
       "       [-0.3797567 , -0.5425662 ,  0.74919635],\n",
       "       [-0.45824203, -0.5931233 , -0.66143566],\n",
       "       [-0.5137923 ,  0.3675891 , -0.00515734]], dtype=float32)"
      ]
     },
     "execution_count": 26,
     "metadata": {},
     "output_type": "execute_result"
    }
   ],
   "source": [
    "u"
   ]
  },
  {
   "cell_type": "code",
   "execution_count": 27,
   "id": "cf801b64-657c-438b-bddf-9c783c9433fb",
   "metadata": {},
   "outputs": [
    {
     "data": {
      "text/plain": [
       "Array([[ 0.62031245,  0.00292856, -0.7138128 , -0.32507724],\n",
       "       [ 0.38828802,  0.6221379 ,  0.0306915 ,  0.67914265],\n",
       "       [ 0.4611511 ,  0.27131367,  0.6484641 , -0.5415007 ],\n",
       "       [ 0.5017814 , -0.7343873 ,  0.26272386,  0.37398782]],      dtype=float32)"
      ]
     },
     "execution_count": 27,
     "metadata": {},
     "output_type": "execute_result"
    }
   ],
   "source": [
    "a"
   ]
  },
  {
   "cell_type": "code",
   "execution_count": null,
   "id": "b453c240-b519-4511-8cad-38a02f1715c1",
   "metadata": {},
   "outputs": [],
   "source": []
  },
  {
   "cell_type": "code",
   "execution_count": 40,
   "id": "716decf1-7859-4504-a8e8-ca2fd1aa34cb",
   "metadata": {},
   "outputs": [
    {
     "data": {
      "text/plain": [
       "(Array([[16.,  0.,  0.,  0.,  0.,  0.,  0.,  0.],\n",
       "        [ 0.,  8.,  0.,  0.,  0.,  0.,  0.,  0.],\n",
       "        [ 0.,  0.,  7.,  0.,  0.,  0.,  0.,  0.],\n",
       "        [ 0.,  0.,  0.,  7.,  0.,  0.,  0.,  0.],\n",
       "        [ 0.,  0.,  0.,  0.,  5.,  0.,  0.,  0.],\n",
       "        [ 0.,  0.,  0.,  0.,  0.,  5.,  0.,  0.],\n",
       "        [ 0.,  0.,  0.,  0.,  0.,  0.,  2.,  0.],\n",
       "        [ 0.,  0.,  0.,  0.,  0.,  0.,  0.,  2.]], dtype=float32),\n",
       " Array([[1., 0., 0., 0., 0., 0.],\n",
       "        [0., 1., 0., 0., 0., 0.],\n",
       "        [0., 0., 0., 0., 0., 0.],\n",
       "        [0., 0., 0., 0., 0., 0.],\n",
       "        [0., 0., 0., 0., 0., 0.],\n",
       "        [0., 0., 0., 0., 0., 0.]], dtype=float32))"
      ]
     },
     "execution_count": 40,
     "metadata": {},
     "output_type": "execute_result"
    }
   ],
   "source": [
    "np.round(ds.compact_svd(W1_opt)[1]), np.round(ds.compact_svd(W2_opt)[1])"
   ]
  },
  {
   "cell_type": "code",
   "execution_count": 2,
   "id": "2945ebdb-4fab-4230-8fb1-8f2f79970a94",
   "metadata": {},
   "outputs": [],
   "source": []
  },
  {
   "cell_type": "code",
   "execution_count": 3,
   "id": "81d91565-40fa-4e7b-8db7-5ab360b88789",
   "metadata": {},
   "outputs": [
    {
     "data": {
      "text/plain": [
       "(Array([[-0.2680594 ,  0.19981888, -0.9424526 ],\n",
       "        [-0.95860606,  0.04217372,  0.28159553],\n",
       "        [ 0.09601491,  0.9789248 ,  0.18024239]], dtype=float32),\n",
       " Array([[1.7046676 , 0.        , 0.        ],\n",
       "        [0.        , 1.0196791 , 0.        ],\n",
       "        [0.        , 0.        , 0.48126757]], dtype=float32),\n",
       " Array([[-0.09149551,  0.22928984, -0.9690483 ],\n",
       "        [-0.10561562,  0.96540713,  0.23840024],\n",
       "        [-0.99018896, -0.12415928,  0.06411381]], dtype=float32))"
      ]
     },
     "execution_count": 3,
     "metadata": {},
     "output_type": "execute_result"
    }
   ],
   "source": [
    "ds.compact_svd(W1_opt)"
   ]
  },
  {
   "cell_type": "code",
   "execution_count": 4,
   "id": "59b4fac6-1ace-4f51-896e-b39dfc80e1c7",
   "metadata": {},
   "outputs": [
    {
     "data": {
      "text/plain": [
       "(Array([[-0.41096884,  0.62844884],\n",
       "        [-0.46259853, -0.7679883 ],\n",
       "        [-0.78556144,  0.12347507]], dtype=float32),\n",
       " Array([[1.1972243 , 0.        ],\n",
       "        [0.        , 0.78704476]], dtype=float32),\n",
       " Array([[-0.32948473,  0.05677458],\n",
       "        [-0.6906929 ,  0.6660692 ],\n",
       "        [-0.64372593, -0.743726  ]], dtype=float32))"
      ]
     },
     "execution_count": 4,
     "metadata": {},
     "output_type": "execute_result"
    }
   ],
   "source": [
    "ds.compact_svd(W2_opt)"
   ]
  },
  {
   "cell_type": "code",
   "execution_count": 5,
   "id": "0752c7bc-6914-46a8-8a84-20eac35ad0a2",
   "metadata": {},
   "outputs": [
    {
     "ename": "NameError",
     "evalue": "name 'e' is not defined",
     "output_type": "error",
     "traceback": [
      "\u001b[0;31m---------------------------------------------------------------------------\u001b[0m",
      "\u001b[0;31mNameError\u001b[0m                                 Traceback (most recent call last)",
      "Cell \u001b[0;32mIn[5], line 1\u001b[0m\n\u001b[0;32m----> 1\u001b[0m \u001b[43me\u001b[49m\n",
      "\u001b[0;31mNameError\u001b[0m: name 'e' is not defined"
     ]
    }
   ],
   "source": [
    "e"
   ]
  },
  {
   "cell_type": "code",
   "execution_count": 6,
   "id": "136fd8c2-1b90-45c5-bfe0-9c81a325f5f3",
   "metadata": {},
   "outputs": [],
   "source": [
    "a, b, c = ds.compact_svd(Y)\n",
    "d, e, g = ds.compact_svd(X)\n",
    "u_, s_, r = ds.compact_svd(W2_opt)\n",
    "u, s, v = ds.compact_svd(a @ b @ c.T @ g @ g.T)"
   ]
  },
  {
   "cell_type": "code",
   "execution_count": 7,
   "id": "a90ed785-17de-466f-be05-faabef09e4bc",
   "metadata": {},
   "outputs": [
    {
     "data": {
      "text/plain": [
       "Array([[ 0.19019471,  0.6692852 , -0.0511358 ],\n",
       "       [ 0.14816354, -0.02006958,  0.80605763],\n",
       "       [ 0.31539506,  0.71432084,  0.53314185]], dtype=float32)"
      ]
     },
     "execution_count": 7,
     "metadata": {},
     "output_type": "execute_result"
    }
   ],
   "source": [
    "a @ b @ c.T @ g @ g.T @ v @ np.linalg.pinv(s) @ np.sqrt(s) @ r.T"
   ]
  },
  {
   "cell_type": "code",
   "execution_count": 8,
   "id": "778bd3d8-5bdd-4586-b4f6-d0734ac84c4c",
   "metadata": {},
   "outputs": [
    {
     "data": {
      "text/plain": [
       "array([[ 0.19019546,  0.66928571, -0.0511324 ],\n",
       "       [ 0.14816303, -0.02007028,  0.80605609],\n",
       "       [ 0.31539553,  0.71432095,  0.53314438]])"
      ]
     },
     "execution_count": 8,
     "metadata": {},
     "output_type": "execute_result"
    }
   ],
   "source": [
    "W2_opt"
   ]
  },
  {
   "cell_type": "code",
   "execution_count": 9,
   "id": "9c9cfb9f-9648-4c8b-914b-e662633f302c",
   "metadata": {},
   "outputs": [
    {
     "data": {
      "text/plain": [
       "array([[0.6616531 , 0.24647277],\n",
       "       [0.00643255, 0.81604344],\n",
       "       [0.72536831, 0.86459035]])"
      ]
     },
     "execution_count": 9,
     "metadata": {},
     "output_type": "execute_result"
    }
   ],
   "source": [
    "W2_opt @ W1_opt @ X"
   ]
  },
  {
   "cell_type": "code",
   "execution_count": 10,
   "id": "f78495d1-fead-4829-8ce6-9e8d1f5df773",
   "metadata": {},
   "outputs": [
    {
     "data": {
      "text/plain": [
       "Array([[0.6616524 , 0.24646902],\n",
       "       [0.00643331, 0.8160453 ],\n",
       "       [0.7253681 , 0.86458766]], dtype=float32)"
      ]
     },
     "execution_count": 10,
     "metadata": {},
     "output_type": "execute_result"
    }
   ],
   "source": [
    "a @ b @ c.T @ g @ g.T @ v @ np.linalg.pinv(s) @ np.sqrt(s) @ r.T @ W1_opt @ d @ e @ g.T"
   ]
  },
  {
   "cell_type": "code",
   "execution_count": 11,
   "id": "71ba1781-b071-463c-b75b-58e5b6be1f8d",
   "metadata": {},
   "outputs": [
    {
     "data": {
      "text/plain": [
       "Array([[0.6616531 , 0.24647269],\n",
       "       [0.00643256, 0.81604344],\n",
       "       [0.7253682 , 0.8645902 ]], dtype=float32)"
      ]
     },
     "execution_count": 11,
     "metadata": {},
     "output_type": "execute_result"
    }
   ],
   "source": [
    "a @ b @ c.T @ g @ g.T"
   ]
  },
  {
   "cell_type": "code",
   "execution_count": 12,
   "id": "d746245b-33f3-41a1-ab21-6dd291940700",
   "metadata": {},
   "outputs": [
    {
     "data": {
      "text/plain": [
       "Array([[ 0.9210022 , -0.38955334],\n",
       "       [ 0.38955957,  0.9210038 ]], dtype=float32)"
      ]
     },
     "execution_count": 12,
     "metadata": {},
     "output_type": "execute_result"
    }
   ],
   "source": [
    "c.T @ g @ g.T @ v @ np.linalg.pinv(s) @ np.sqrt(s) @ r.T @ W1_opt @ d @ e"
   ]
  },
  {
   "cell_type": "code",
   "execution_count": 13,
   "id": "8806761f-62f3-4107-9ccb-315061627e61",
   "metadata": {},
   "outputs": [
    {
     "data": {
      "text/plain": [
       "Array([[ 0.92100406, -0.38955295],\n",
       "       [ 0.38955295,  0.921004  ]], dtype=float32)"
      ]
     },
     "execution_count": 13,
     "metadata": {},
     "output_type": "execute_result"
    }
   ],
   "source": [
    "c.T @ g"
   ]
  },
  {
   "cell_type": "code",
   "execution_count": null,
   "id": "e7278e98-1ec4-408d-856c-378fb8940b10",
   "metadata": {},
   "outputs": [],
   "source": []
  },
  {
   "cell_type": "code",
   "execution_count": 14,
   "id": "725e6491-d6c5-45c7-8c96-7f7bf8990265",
   "metadata": {},
   "outputs": [
    {
     "data": {
      "text/plain": [
       "array([[ 0.52806018,  0.13683229,  0.39809107],\n",
       "       [ 0.02804538,  0.24641165,  1.62142173],\n",
       "       [ 0.12983926,  0.96705208, -0.28044057]])"
      ]
     },
     "execution_count": 14,
     "metadata": {},
     "output_type": "execute_result"
    }
   ],
   "source": [
    "W1_opt"
   ]
  },
  {
   "cell_type": "code",
   "execution_count": 15,
   "id": "e091e375-9dff-42a9-8e01-e04995f11225",
   "metadata": {},
   "outputs": [
    {
     "data": {
      "text/plain": [
       "Array([[ 0.08852778,  0.24496752,  0.42716724],\n",
       "       [ 0.15937366,  0.21410704,  1.6127336 ],\n",
       "       [ 0.21390012,  0.9463688 , -0.28600252]], dtype=float32)"
      ]
     },
     "execution_count": 15,
     "metadata": {},
     "output_type": "execute_result"
    }
   ],
   "source": [
    "r @ np.sqrt(s) @ v.T @ g @ np.linalg.pinv(e) @ d.T"
   ]
  },
  {
   "cell_type": "code",
   "execution_count": null,
   "id": "c48ac3fe-6b4f-4e89-9d88-cdff83016f1e",
   "metadata": {},
   "outputs": [],
   "source": []
  },
  {
   "cell_type": "code",
   "execution_count": null,
   "id": "4e07e0b0-5e55-4bc3-be17-04bf86bb8a07",
   "metadata": {},
   "outputs": [],
   "source": []
  },
  {
   "cell_type": "code",
   "execution_count": null,
   "id": "a38e37d9-d556-4ec6-b642-1601562772bc",
   "metadata": {},
   "outputs": [],
   "source": []
  },
  {
   "cell_type": "code",
   "execution_count": null,
   "id": "6cdc11d2-d605-4f1b-87b7-33237c018f9f",
   "metadata": {},
   "outputs": [],
   "source": []
  },
  {
   "cell_type": "code",
   "execution_count": null,
   "id": "54339371-4c90-4cde-85fc-f5f8633809de",
   "metadata": {},
   "outputs": [],
   "source": []
  },
  {
   "cell_type": "code",
   "execution_count": 31,
   "id": "2516b475-9573-459d-9914-fcf1ff45ce9a",
   "metadata": {},
   "outputs": [
    {
     "data": {
      "text/plain": [
       "Array([[ 1.0000001e+00, -2.2463317e-07, -1.3485933e-07],\n",
       "       [-2.2463317e-07,  1.0000005e+00,  2.9649993e-07],\n",
       "       [-1.3485933e-07,  2.9649993e-07,  1.0000004e+00]], dtype=float32)"
      ]
     },
     "execution_count": 31,
     "metadata": {},
     "output_type": "execute_result"
    }
   ],
   "source": [
    "(g.T @ v) @ (g.T @ v).T"
   ]
  },
  {
   "cell_type": "code",
   "execution_count": null,
   "id": "25ddc4e1-c0da-41e3-8714-25558d5a40d2",
   "metadata": {},
   "outputs": [],
   "source": []
  },
  {
   "cell_type": "code",
   "execution_count": null,
   "id": "44cb19f2-1002-431f-bbc3-c308c5b45a15",
   "metadata": {},
   "outputs": [],
   "source": []
  },
  {
   "cell_type": "code",
   "execution_count": 3,
   "id": "88f19084-e20a-4d11-b4e0-25ec6f9a137d",
   "metadata": {},
   "outputs": [],
   "source": [
    "import dissociation as ds"
   ]
  },
  {
   "cell_type": "code",
   "execution_count": 42,
   "id": "f222d010-f8a0-47f1-9ce6-bec4af350569",
   "metadata": {},
   "outputs": [],
   "source": [
    "r1, s1, _ = ds.compact_svd(W2_opt.T @ W2_opt)\n",
    "_, s2, r2 = ds.compact_svd(W1_opt @ X @ X.T @ W1_opt.T)"
   ]
  },
  {
   "cell_type": "code",
   "execution_count": 43,
   "id": "b13d0d8f-faa7-4be4-aaf6-8eaa0735ae39",
   "metadata": {},
   "outputs": [
    {
     "data": {
      "text/plain": [
       "Array([[ 1.0000001e+00, -4.8044972e-06,  1.3856572e-06],\n",
       "       [ 4.7998519e-06,  9.9999982e-01,  1.1747094e-05],\n",
       "       [-1.5065840e-06, -1.1764883e-05,  1.0000000e+00]], dtype=float32)"
      ]
     },
     "execution_count": 43,
     "metadata": {},
     "output_type": "execute_result"
    }
   ],
   "source": [
    "r1.T @ r2"
   ]
  },
  {
   "cell_type": "code",
   "execution_count": 44,
   "id": "40394748-0408-4085-871f-d3b79ddece79",
   "metadata": {},
   "outputs": [
    {
     "data": {
      "text/plain": [
       "Array([[0.18298641,        nan,        nan],\n",
       "       [       nan, 0.18298359,        nan],\n",
       "       [       nan,        nan, 0.1829914 ]], dtype=float32)"
      ]
     },
     "execution_count": 44,
     "metadata": {},
     "output_type": "execute_result"
    }
   ],
   "source": [
    "s1 / s2"
   ]
  },
  {
   "cell_type": "code",
   "execution_count": 45,
   "id": "25916331-1ea1-4de1-8325-192b6b584370",
   "metadata": {},
   "outputs": [],
   "source": [
    "u, s1, r1 = ds.compact_svd(W2_opt)\n",
    "r2, s2, v = ds.compact_svd(W1_opt)"
   ]
  },
  {
   "cell_type": "code",
   "execution_count": 46,
   "id": "125a2122-5a6e-4a04-ab80-769299b1f28d",
   "metadata": {},
   "outputs": [
    {
     "data": {
      "text/plain": [
       "Array([[ 0.20600282,  0.583739  ,  0.7853737 ],\n",
       "       [-0.924196  , -0.14770581,  0.35220006],\n",
       "       [-0.32159716,  0.7983935 , -0.5090614 ]], dtype=float32)"
      ]
     },
     "execution_count": 46,
     "metadata": {},
     "output_type": "execute_result"
    }
   ],
   "source": [
    "r1.T @ r2"
   ]
  },
  {
   "cell_type": "code",
   "execution_count": 47,
   "id": "86e9df23-12e5-4cc8-8ab0-bfa59ac040a0",
   "metadata": {},
   "outputs": [
    {
     "data": {
      "text/plain": [
       "Array([[0.9249255 , 0.        , 0.        ],\n",
       "       [0.        , 0.34936684, 0.        ],\n",
       "       [0.        , 0.        , 0.20752959]], dtype=float32)"
      ]
     },
     "execution_count": 47,
     "metadata": {},
     "output_type": "execute_result"
    }
   ],
   "source": [
    "s1"
   ]
  },
  {
   "cell_type": "code",
   "execution_count": 48,
   "id": "0f0ebe47-7177-46ab-ac70-54f6124d5eae",
   "metadata": {},
   "outputs": [
    {
     "data": {
      "text/plain": [
       "Array([[0.30952877,        nan,        nan],\n",
       "       [       nan, 0.3410007 ,        nan],\n",
       "       [       nan,        nan, 0.22947985]], dtype=float32)"
      ]
     },
     "execution_count": 48,
     "metadata": {},
     "output_type": "execute_result"
    }
   ],
   "source": [
    "s1 / s2"
   ]
  },
  {
   "cell_type": "code",
   "execution_count": 49,
   "id": "95dce3b4-22b6-4e5f-afd8-985cce3fbdb2",
   "metadata": {},
   "outputs": [],
   "source": [
    "import matplotlib.pyplot as plt"
   ]
  },
  {
   "cell_type": "code",
   "execution_count": 50,
   "id": "44efbf70-d786-4c41-a6e0-9c0c0f72f016",
   "metadata": {},
   "outputs": [
    {
     "data": {
      "text/plain": [
       "<matplotlib.image.AxesImage at 0x7dc5de98afc0>"
      ]
     },
     "execution_count": 50,
     "metadata": {},
     "output_type": "execute_result"
    },
    {
     "data": {
      "image/png": "[encoded data removed]",
      "text/plain": [
       "<Figure size 640x480 with 1 Axes>"
      ]
     },
     "metadata": {},
     "output_type": "display_data"
    }
   ],
   "source": [
    "fig, ax = plt.subplots()\n",
    "ax.matshow(X.T @ W1_opt.T @ W1_opt @ X)"
   ]
  },
  {
   "cell_type": "code",
   "execution_count": 52,
   "id": "fd90f6f7-7363-48ed-9d1f-c0399cd1aaf0",
   "metadata": {},
   "outputs": [
    {
     "data": {
      "text/plain": [
       "<matplotlib.image.AxesImage at 0x7dc5dad49f10>"
      ]
     },
     "execution_count": 52,
     "metadata": {},
     "output_type": "execute_result"
    },
    {
     "data": {
      "image/png": "[encoded data removed]",
      "text/plain": [
       "<Figure size 640x480 with 1 Axes>"
      ]
     },
     "metadata": {},
     "output_type": "display_data"
    }
   ],
   "source": [
    "fig, ax = plt.subplots()\n",
    "ax.matshow(X.T @ v @ s @ v.T @ X)"
   ]
  },
  {
   "cell_type": "code",
   "execution_count": 53,
   "id": "0d9bf93a-09eb-442a-b900-080fb17e52f6",
   "metadata": {},
   "outputs": [
    {
     "name": "stdout",
     "output_type": "stream",
     "text": [
      "1.0102538448518585 3.2858320195662656\n"
     ]
    }
   ],
   "source": [
    "print(np.linalg.norm(W2_opt), np.linalg.norm(W1_opt))"
   ]
  },
  {
   "cell_type": "code",
   "execution_count": 70,
   "id": "67ab5a90-b306-444f-af0e-b4eeac1fd205",
   "metadata": {},
   "outputs": [],
   "source": [
    "import jax\n",
    "sig_xx = 1. / n * X @ X.T\n",
    "sig_yx = 1. / n * Y @ X.T\n",
    "\n",
    "u, s, v = ds.compact_svd(sig_yx @ np.linalg.pinv(sig_xx))\n",
    "r = jax.random.orthogonal(jax.random.key(1), d)[:, :s.shape[0]]\n",
    "w1 = r @ np.sqrt(s) @ v.T\n",
    "w2 = u @ np.sqrt(s) @ r.T"
   ]
  },
  {
   "cell_type": "code",
   "execution_count": 72,
   "id": "180a4da9-fb25-4f27-9f4f-a3653d9339aa",
   "metadata": {},
   "outputs": [
    {
     "name": "stdout",
     "output_type": "stream",
     "text": [
      "1.4700991 1.4700993\n"
     ]
    }
   ],
   "source": [
    "print(np.linalg.norm(w2), np.linalg.norm(w1))"
   ]
  },
  {
   "cell_type": "code",
   "execution_count": null,
   "id": "90d77fe8-9c86-414a-b6d6-59bae7b7e0a4",
   "metadata": {},
   "outputs": [],
   "source": []
  },
  {
   "cell_type": "code",
   "execution_count": null,
   "id": "94881d38-6291-4d28-8798-e42933a9e074",
   "metadata": {},
   "outputs": [],
   "source": []
  },
  {
   "cell_type": "code",
   "execution_count": 65,
   "id": "634b1042-8733-40ee-a0ca-03df9d44da07",
   "metadata": {},
   "outputs": [],
   "source": [
    "u2, s2, v2 = ds.compact_svd(W2_opt)\n",
    "u1, s1, v1 = ds.compact_svd(W1_opt)"
   ]
  },
  {
   "cell_type": "code",
   "execution_count": 64,
   "id": "2bb477c3-2172-442b-8fdb-d40d7bb81c20",
   "metadata": {},
   "outputs": [],
   "source": [
    "ux, sx, vx = ds.compact_svd(X)\n",
    "ux, sx, vx = ds.compact_svd(Y)"
   ]
  },
  {
   "cell_type": "code",
   "execution_count": 63,
   "id": "15eaf9dd-463b-4472-9bfb-678a6000c70b",
   "metadata": {},
   "outputs": [
    {
     "data": {
      "text/plain": [
       "Array([[-0.41911715,  0.78354156, -0.45869765],\n",
       "       [ 0.5951196 ,  0.6186277 ,  0.5129645 ],\n",
       "       [ 0.68569195, -0.05798788, -0.7255783 ]], dtype=float32)"
      ]
     },
     "execution_count": 63,
     "metadata": {},
     "output_type": "execute_result"
    }
   ],
   "source": [
    "ut @ u"
   ]
  },
  {
   "cell_type": "code",
   "execution_count": null,
   "id": "545db147-fadf-42d3-b8c8-a78b3dc37af0",
   "metadata": {},
   "outputs": [],
   "source": []
  },
  {
   "cell_type": "code",
   "execution_count": 74,
   "id": "8a9f1dae-8660-4133-a959-50acbca1f527",
   "metadata": {},
   "outputs": [],
   "source": [
    "x = np.asarray([[1.5]])\n",
    "y = np.asarray([[2.]])\n",
    "\n",
    "u, s, v = ds.compact_svd(y @ x @ np.linalg.pinv(x @ x.T))"
   ]
  },
  {
   "cell_type": "code",
   "execution_count": 75,
   "id": "d7a47772-27d5-4f6f-84fc-19239a5b5055",
   "metadata": {},
   "outputs": [
    {
     "data": {
      "text/plain": [
       "Array([[1.]], dtype=float32)"
      ]
     },
     "execution_count": 75,
     "metadata": {},
     "output_type": "execute_result"
    }
   ],
   "source": [
    "u"
   ]
  },
  {
   "cell_type": "code",
   "execution_count": 76,
   "id": "ff3cb87b-0bea-480e-97b6-79564d5314e5",
   "metadata": {},
   "outputs": [
    {
     "data": {
      "text/plain": [
       "Array([[1.]], dtype=float32)"
      ]
     },
     "execution_count": 76,
     "metadata": {},
     "output_type": "execute_result"
    }
   ],
   "source": [
    "v"
   ]
  },
  {
   "cell_type": "code",
   "execution_count": 77,
   "id": "4b6d76de-b78e-4b4d-a3eb-face8c645ea0",
   "metadata": {},
   "outputs": [
    {
     "data": {
      "text/plain": [
       "Array([[1.3333334]], dtype=float32)"
      ]
     },
     "execution_count": 77,
     "metadata": {},
     "output_type": "execute_result"
    }
   ],
   "source": [
    "s"
   ]
  },
  {
   "cell_type": "code",
   "execution_count": 80,
   "id": "e52808ae-3b83-4b93-9948-c76b3f132aa5",
   "metadata": {},
   "outputs": [
    {
     "data": {
      "text/plain": [
       "1.3333333333333333"
      ]
     },
     "execution_count": 80,
     "metadata": {},
     "output_type": "execute_result"
    }
   ],
   "source": [
    "2. / 1.5"
   ]
  },
  {
   "cell_type": "code",
   "execution_count": null,
   "id": "a9fdf015-ef78-4e3d-acc2-ee22d861fc6f",
   "metadata": {},
   "outputs": [],
   "source": []
  },
  {
   "cell_type": "code",
   "execution_count": 85,
   "id": "a8d28cb9-fe46-437e-b101-550a85e6901e",
   "metadata": {},
   "outputs": [
    {
     "name": "stdout",
     "output_type": "stream",
     "text": [
      "[[-1.09971405  0.26479683 -1.01255996]\n",
      " [-1.45398448  0.42379349 -1.18921958]\n",
      " [-3.28484898  0.85871588 -2.88700981]\n",
      " [-2.76712042  0.84636033 -2.18242443]]\n",
      "[[-1.0997144   0.26479706 -1.0125602 ]\n",
      " [-1.4539849   0.4237937  -1.1892201 ]\n",
      " [-3.2848496   0.8587163  -2.8870108 ]\n",
      " [-2.767121    0.8463607  -2.182425  ]]\n",
      "[[-0.65931293  0.16900919]\n",
      " [-0.72547447  0.36352381]\n",
      " [-1.83489426  0.63363611]\n",
      " [-1.30164078  0.76753137]]\n",
      "[[-0.659313    0.16900934]\n",
      " [-0.7254746   0.3635239 ]\n",
      " [-1.8348945   0.63363624]\n",
      " [-1.301641    0.7675315 ]]\n"
     ]
    }
   ],
   "source": [
    "in_dim = 3\n",
    "out_dim = 4\n",
    "n = 2\n",
    "\n",
    "x = np.random.normal(0., 1., (in_dim, n))\n",
    "y = np.random.normal(0., 1., (out_dim, n))\n",
    "\n",
    "a, b, c = ds.compact_svd(y)\n",
    "d, e, f = ds.compact_svd(x)\n",
    "\n",
    "print(y @ x.T @ np.linalg.pinv(x @ x.T))\n",
    "print(a @ b @ c.T @ f @ np.linalg.pinv(e) @ d.T)\n",
    "\n",
    "print(y @ x.T @ np.linalg.pinv(x @ x.T) @ x)\n",
    "print(a @ b @ c.T @ f @ f.T)\n",
    "\n",
    "g, h, i = ds.compact_svd(y @ x.T @ np.linalg.pinv(x @ x.T) @ x)"
   ]
  },
  {
   "cell_type": "code",
   "execution_count": 86,
   "id": "52917a36-03a6-464d-a36e-29a539167af4",
   "metadata": {},
   "outputs": [
    {
     "name": "stdout",
     "output_type": "stream",
     "text": [
      "[[-0.25243255  0.38925907]\n",
      " [-0.3038846  -0.1887708 ]\n",
      " [-0.72655004  0.5158555 ]\n",
      " [-0.5621895  -0.739416  ]]\n"
     ]
    }
   ],
   "source": [
    "print(g)"
   ]
  },
  {
   "cell_type": "code",
   "execution_count": 87,
   "id": "edaf9ed2-ff08-4b79-a471-b839d38c36db",
   "metadata": {},
   "outputs": [
    {
     "name": "stdout",
     "output_type": "stream",
     "text": [
      "[[-0.25243255  0.38925907]\n",
      " [-0.3038846  -0.1887708 ]\n",
      " [-0.72655004  0.5158555 ]\n",
      " [-0.5621895  -0.739416  ]]\n"
     ]
    }
   ],
   "source": [
    "print(a)"
   ]
  },
  {
   "cell_type": "code",
   "execution_count": null,
   "id": "16847f4d-723c-45d9-8626-0cbedcbc2a50",
   "metadata": {},
   "outputs": [],
   "source": []
  },
  {
   "cell_type": "code",
   "execution_count": null,
   "id": "3e045a14-258a-40e2-b2d7-b560ec50f5e9",
   "metadata": {},
   "outputs": [],
   "source": []
  },
  {
   "cell_type": "code",
   "execution_count": null,
   "id": "a8364fb8-d1ef-4e2c-b724-aba1f2c7e0e5",
   "metadata": {},
   "outputs": [],
   "source": []
  },
  {
   "cell_type": "code",
   "execution_count": 88,
   "id": "f2f7d758-56db-4dcb-adaa-a4613406a683",
   "metadata": {},
   "outputs": [
    {
     "name": "stdout",
     "output_type": "stream",
     "text": [
      "[[2.665214   0.        ]\n",
      " [0.         0.26468888]]\n"
     ]
    }
   ],
   "source": [
    "print(h)"
   ]
  },
  {
   "cell_type": "code",
   "execution_count": 89,
   "id": "b61b39f9-4355-48a6-b782-2d6502a89de7",
   "metadata": {},
   "outputs": [
    {
     "name": "stdout",
     "output_type": "stream",
     "text": [
      "[[2.665214   0.        ]\n",
      " [0.         0.26468888]]\n"
     ]
    }
   ],
   "source": [
    "print(b)"
   ]
  },
  {
   "cell_type": "code",
   "execution_count": null,
   "id": "22f3524b-5afb-47dc-b29f-bde7c5ebcdbf",
   "metadata": {},
   "outputs": [],
   "source": []
  },
  {
   "cell_type": "code",
   "execution_count": null,
   "id": "76a3e0a6-79a4-4bad-a1c8-c1659c0e9294",
   "metadata": {},
   "outputs": [],
   "source": []
  },
  {
   "cell_type": "code",
   "execution_count": null,
   "id": "c3b23427-d1b9-41f3-85af-0479f99b4011",
   "metadata": {},
   "outputs": [],
   "source": []
  },
  {
   "cell_type": "code",
   "execution_count": null,
   "id": "b5c25ac2-3dd9-4deb-94a4-a65d2a5a9b52",
   "metadata": {},
   "outputs": [],
   "source": []
  },
  {
   "cell_type": "code",
   "execution_count": 99,
   "id": "92389e71-04a5-46df-9020-970afc88aef7",
   "metadata": {},
   "outputs": [
    {
     "name": "stdout",
     "output_type": "stream",
     "text": [
      "0.89641047\n",
      "0.89641047\n"
     ]
    }
   ],
   "source": [
    "n = 5\n",
    "print(np.linalg.trace(w1.T @ w1 @ (1. / n * X @ X.T)))\n",
    "print(1. / n * np.linalg.trace(X.T @ w1.T @ w1 @ X))"
   ]
  },
  {
   "cell_type": "code",
   "execution_count": 98,
   "id": "b4e2942a-497d-46f5-be32-990a0ba502f9",
   "metadata": {},
   "outputs": [
    {
     "data": {
      "text/plain": [
       "np.float32(0.8964104)"
      ]
     },
     "execution_count": 98,
     "metadata": {},
     "output_type": "execute_result"
    }
   ],
   "source": [
    "1. / n * np.linalg.norm(w1 @ X)**2"
   ]
  },
  {
   "cell_type": "code",
   "execution_count": null,
   "id": "c4a086ad-0b1b-43ac-87aa-e072c5c29634",
   "metadata": {},
   "outputs": [],
   "source": []
  },
  {
   "cell_type": "code",
   "execution_count": 4,
   "id": "4420b042-c77b-4bfd-83e9-f2e18b7aa705",
   "metadata": {},
   "outputs": [],
   "source": [
    "a, b, c = ds.compact_svd(W2_opt)\n",
    "d, e, f = ds.compact_svd(Y)"
   ]
  },
  {
   "cell_type": "code",
   "execution_count": 61,
   "id": "8b28d147-d998-46ec-9c06-c7fc4e4d97e8",
   "metadata": {},
   "outputs": [
    {
     "data": {
      "text/plain": [
       "Array([[ 1.3052964 ,  0.33361754, -1.9074214 ],\n",
       "       [ 0.33361754,  1.4284407 , -1.4763883 ],\n",
       "       [-1.9074214 , -1.4763883 ,  4.402954  ]], dtype=float32)"
      ]
     },
     "execution_count": 61,
     "metadata": {},
     "output_type": "execute_result"
    }
   ],
   "source": [
    "(g @ np.linalg.pinv(e) @ d.T).T @ (g @ np.linalg.pinv(e) @ d.T)"
   ]
  },
  {
   "cell_type": "code",
   "execution_count": 62,
   "id": "9ded77ef-d356-49e1-8a2c-4a12248c17fb",
   "metadata": {},
   "outputs": [
    {
     "data": {
      "text/plain": [
       "array([[ 0.8340392 ,  0.53435023, -1.45002551],\n",
       "       [ 1.58144566,  0.71812155, -1.52453665],\n",
       "       [ 0.30937973,  0.89819108, -0.21312691]])"
      ]
     },
     "execution_count": 62,
     "metadata": {},
     "output_type": "execute_result"
    }
   ],
   "source": [
    "W1_opt"
   ]
  },
  {
   "cell_type": "code",
   "execution_count": 63,
   "id": "02ffbac1-7eeb-4121-af45-d431b623d7bf",
   "metadata": {},
   "outputs": [
    {
     "data": {
      "text/plain": [
       "array([[0.00437652, 0.44311841, 0.15494625],\n",
       "       [0.33741507, 0.55434539, 0.12690421],\n",
       "       [0.07186918, 0.33527601, 0.47712845]])"
      ]
     },
     "execution_count": 63,
     "metadata": {},
     "output_type": "execute_result"
    }
   ],
   "source": [
    "W2_opt"
   ]
  },
  {
   "cell_type": "code",
   "execution_count": null,
   "id": "bd80174d-ed8b-4dbc-b6fc-107990ce7b2a",
   "metadata": {},
   "outputs": [],
   "source": [
    "a @ b @ c.T @ g @ g.T @ "
   ]
  },
  {
   "cell_type": "code",
   "execution_count": null,
   "id": "64f2b597-81ce-4bdd-84f3-85fa93925576",
   "metadata": {},
   "outputs": [],
   "source": []
  },
  {
   "cell_type": "code",
   "execution_count": 5,
   "id": "dd6db5e7-74a6-41d3-a32f-66ce3c89a3b0",
   "metadata": {},
   "outputs": [
    {
     "data": {
      "text/plain": [
       "Array([[-0.47985643, -0.0160414 , -0.87720025],\n",
       "       [-0.67113394, -0.6372607 ,  0.37878507],\n",
       "       [-0.56508136,  0.7704813 ,  0.29502794]], dtype=float32)"
      ]
     },
     "execution_count": 5,
     "metadata": {},
     "output_type": "execute_result"
    }
   ],
   "source": [
    "a"
   ]
  },
  {
   "cell_type": "code",
   "execution_count": 6,
   "id": "5f3e1bad-7e4c-4d14-87bd-bfe87cde51f2",
   "metadata": {},
   "outputs": [
    {
     "data": {
      "text/plain": [
       "Array([[-0.4942904 ,  0.5173428 , -0.698594  ],\n",
       "       [-0.6487649 , -0.75443465, -0.09966175],\n",
       "       [-0.5786028 ,  0.40396142,  0.70854366]], dtype=float32)"
      ]
     },
     "execution_count": 6,
     "metadata": {},
     "output_type": "execute_result"
    }
   ],
   "source": [
    "d"
   ]
  },
  {
   "cell_type": "code",
   "execution_count": 8,
   "id": "59eaeb6d-9db8-4e9f-ae09-fd5a0ab901ea",
   "metadata": {},
   "outputs": [
    {
     "data": {
      "text/plain": [
       "array([[ 0.75235511,  0.45972281, -0.71491954],\n",
       "       [ 1.1973461 ,  0.69236942, -1.36142703],\n",
       "       [ 0.73777638,  0.70772475, -0.71704162]])"
      ]
     },
     "execution_count": 8,
     "metadata": {},
     "output_type": "execute_result"
    }
   ],
   "source": [
    "Y @ X.T @ np.linalg.pinv(X @ X.T)"
   ]
  },
  {
   "cell_type": "code",
   "execution_count": 9,
   "id": "a77876f9-a576-45a2-83a0-9bb598cdfa79",
   "metadata": {},
   "outputs": [
    {
     "data": {
      "text/plain": [
       "array([[ 0.75235511,  0.45972281, -0.71491954],\n",
       "       [ 1.1973461 ,  0.69236942, -1.36142703],\n",
       "       [ 0.73777638,  0.70772475, -0.71704162]])"
      ]
     },
     "execution_count": 9,
     "metadata": {},
     "output_type": "execute_result"
    }
   ],
   "source": [
    "Y @ np.linalg.pinv(X)"
   ]
  },
  {
   "cell_type": "code",
   "execution_count": null,
   "id": "0c4b6486-6dc7-49fa-bafd-82ba31fe326b",
   "metadata": {},
   "outputs": [],
   "source": []
  },
  {
   "cell_type": "code",
   "execution_count": 10,
   "id": "51f36213-7ac6-49ab-a097-6d24e0c18ccb",
   "metadata": {},
   "outputs": [
    {
     "data": {
      "text/plain": [
       "array([[0.46071661, 0.19696137, 0.62450519, 0.18681454, 0.4378715 ],\n",
       "       [0.59431701, 0.14028135, 0.97777764, 0.18007759, 0.5982239 ],\n",
       "       [0.56250508, 0.20345631, 0.63988081, 0.42163185, 0.54319216]])"
      ]
     },
     "execution_count": 10,
     "metadata": {},
     "output_type": "execute_result"
    }
   ],
   "source": [
    "Y @ np.linalg.pinv(X) @ X"
   ]
  },
  {
   "cell_type": "code",
   "execution_count": 51,
   "id": "6025f2b0-8664-43ba-aa65-718daedc6ecb",
   "metadata": {},
   "outputs": [],
   "source": [
    "a, b, c = ds.compact_svd(Y)\n",
    "d, e, g = ds.compact_svd(X)"
   ]
  },
  {
   "cell_type": "code",
   "execution_count": 52,
   "id": "ef130043-589d-4f43-8f1d-27e2a5394d5a",
   "metadata": {},
   "outputs": [
    {
     "data": {
      "text/plain": [
       "Array([[0.4607166 , 0.19696136, 0.62450516, 0.18681468, 0.43787152],\n",
       "       [0.5943169 , 0.1402814 , 0.9777775 , 0.18007761, 0.59822375],\n",
       "       [0.5625049 , 0.20345621, 0.63988066, 0.42163193, 0.54319197]],      dtype=float32)"
      ]
     },
     "execution_count": 52,
     "metadata": {},
     "output_type": "execute_result"
    }
   ],
   "source": [
    "k = c.T @ g @ g.T\n",
    "a @ b @ k"
   ]
  },
  {
   "cell_type": "code",
   "execution_count": 55,
   "id": "6b3ca063-2c0e-4c19-b5b1-045ff1584866",
   "metadata": {},
   "outputs": [
    {
     "data": {
      "text/plain": [
       "Array([[-0.47985655,  0.01604646,  0.8771984 ],\n",
       "       [-0.67113465,  0.6372565 , -0.3787892 ],\n",
       "       [-0.5650801 , -0.7704849 , -0.295024  ]], dtype=float32)"
      ]
     },
     "execution_count": 55,
     "metadata": {},
     "output_type": "execute_result"
    }
   ],
   "source": [
    "u, s, v = ds.compact_svd(W2_opt @ W1_opt @ X)\n",
    "a @ b @ k @ v @ np.linalg.pinv(s)"
   ]
  },
  {
   "cell_type": "code",
   "execution_count": 77,
   "id": "f0b623f1-8cd9-4e2e-b564-ff67025b4dbe",
   "metadata": {},
   "outputs": [],
   "source": [
    "a, b, c = ds.compact_svd(W2_opt)"
   ]
  },
  {
   "cell_type": "code",
   "execution_count": 57,
   "id": "06d623ad-637d-4141-a22f-9734ff949a21",
   "metadata": {},
   "outputs": [
    {
     "data": {
      "text/plain": [
       "Array([[-0.47985643, -0.0160414 , -0.87720025],\n",
       "       [-0.67113394, -0.6372607 ,  0.37878507],\n",
       "       [-0.56508136,  0.7704813 ,  0.29502794]], dtype=float32)"
      ]
     },
     "execution_count": 57,
     "metadata": {},
     "output_type": "execute_result"
    }
   ],
   "source": [
    "a"
   ]
  },
  {
   "cell_type": "code",
   "execution_count": null,
   "id": "740ba91a-4643-4807-912f-1c7a356c1afb",
   "metadata": {},
   "outputs": [],
   "source": []
  },
  {
   "cell_type": "code",
   "execution_count": 39,
   "id": "5d997ee4-d3a8-4dd6-b804-e5f9c7be430e",
   "metadata": {},
   "outputs": [
    {
     "data": {
      "text/plain": [
       "array([[0.46071661, 0.19696137, 0.62450519, 0.18681454, 0.4378715 ],\n",
       "       [0.59431701, 0.14028135, 0.97777764, 0.18007759, 0.5982239 ],\n",
       "       [0.56250508, 0.20345631, 0.63988081, 0.42163185, 0.54319216]])"
      ]
     },
     "execution_count": 39,
     "metadata": {},
     "output_type": "execute_result"
    }
   ],
   "source": [
    "W2_opt @ W1_opt @ X"
   ]
  },
  {
   "cell_type": "code",
   "execution_count": null,
   "id": "09813201-7ebb-4701-b7a6-e5bb619fc04c",
   "metadata": {},
   "outputs": [],
   "source": []
  },
  {
   "cell_type": "code",
   "execution_count": null,
   "id": "d5c8f45c-60a6-41ff-b626-30d1017b6460",
   "metadata": {},
   "outputs": [],
   "source": []
  },
  {
   "cell_type": "code",
   "execution_count": 41,
   "id": "7d8fd10a-c2cf-44de-bc21-96f14bd3bc40",
   "metadata": {},
   "outputs": [],
   "source": [
    "\n",
    "d, e, f = ds.compact_svd(W1_opt @ X)"
   ]
  },
  {
   "cell_type": "code",
   "execution_count": 44,
   "id": "6b984c51-2c95-4298-a68b-52d4262ddae8",
   "metadata": {},
   "outputs": [
    {
     "data": {
      "text/plain": [
       "Array([[-0.47985643, -0.0160414 , -0.87720025],\n",
       "       [-0.67113394, -0.6372607 ,  0.37878507],\n",
       "       [-0.56508136,  0.7704813 ,  0.29502794]], dtype=float32)"
      ]
     },
     "execution_count": 44,
     "metadata": {},
     "output_type": "execute_result"
    }
   ],
   "source": [
    "a"
   ]
  },
  {
   "cell_type": "code",
   "execution_count": 46,
   "id": "0a7dfa79-64d5-418f-81a1-e7cf969e877e",
   "metadata": {},
   "outputs": [
    {
     "data": {
      "text/plain": [
       "Array([[-0.4942904 ,  0.5173428 , -0.698594  ],\n",
       "       [-0.6487649 , -0.75443465, -0.09966175],\n",
       "       [-0.5786028 ,  0.40396142,  0.70854366]], dtype=float32)"
      ]
     },
     "execution_count": 46,
     "metadata": {},
     "output_type": "execute_result"
    }
   ],
   "source": [
    "a"
   ]
  },
  {
   "cell_type": "code",
   "execution_count": 29,
   "id": "51e289fc-1245-4329-bb40-29098bbdbff7",
   "metadata": {},
   "outputs": [
    {
     "data": {
      "text/plain": [
       "Array([[-0.4841164 , -0.1789474 , -0.19090322],\n",
       "       [-0.15674071, -0.24301979, -0.87085676],\n",
       "       [-0.6801134 ,  0.5302999 ,  0.16559263],\n",
       "       [-0.23165733, -0.78394586,  0.41967297],\n",
       "       [-0.47417757, -0.11458776,  0.04022928]], dtype=float32)"
      ]
     },
     "execution_count": 29,
     "metadata": {},
     "output_type": "execute_result"
    }
   ],
   "source": [
    "f"
   ]
  },
  {
   "cell_type": "code",
   "execution_count": 31,
   "id": "7d49e8f6-d13f-4936-85e9-0b1945a42149",
   "metadata": {},
   "outputs": [
    {
     "data": {
      "text/plain": [
       "Array([[-0.4942904 ,  0.5173428 , -0.698594  ],\n",
       "       [-0.6487649 , -0.75443465, -0.09966175],\n",
       "       [-0.5786028 ,  0.40396142,  0.70854366]], dtype=float32)"
      ]
     },
     "execution_count": 31,
     "metadata": {},
     "output_type": "execute_result"
    }
   ],
   "source": [
    "a"
   ]
  },
  {
   "cell_type": "code",
   "execution_count": 32,
   "id": "44f6eb3e-9700-45f3-aca0-2175b3206acb",
   "metadata": {},
   "outputs": [
    {
     "data": {
      "text/plain": [
       "Array([[-0.54937035, -0.01964059, -0.02532949],\n",
       "       [-0.5616369 ,  0.34208193,  0.6399696 ],\n",
       "       [-0.3466461 ,  0.32545164, -0.7383161 ],\n",
       "       [-0.28253102, -0.8743741 ,  0.00277654],\n",
       "       [-0.42751464, -0.11020582, -0.21137379]], dtype=float32)"
      ]
     },
     "execution_count": 32,
     "metadata": {},
     "output_type": "execute_result"
    }
   ],
   "source": [
    "g"
   ]
  },
  {
   "cell_type": "code",
   "execution_count": null,
   "id": "1af0dc88-602b-4f32-9366-e90499d2cde1",
   "metadata": {},
   "outputs": [],
   "source": []
  },
  {
   "cell_type": "code",
   "execution_count": null,
   "id": "2ff48672-0923-4951-8ee9-45b96ed932bc",
   "metadata": {},
   "outputs": [],
   "source": []
  },
  {
   "cell_type": "code",
   "execution_count": null,
   "id": "306a3687-b161-48c2-8200-48d3b525e4d0",
   "metadata": {},
   "outputs": [],
   "source": []
  },
  {
   "cell_type": "code",
   "execution_count": 94,
   "id": "07c43922-c5f7-4bb8-b49c-1528f817fccf",
   "metadata": {},
   "outputs": [],
   "source": []
  },
  {
   "cell_type": "code",
   "execution_count": 95,
   "id": "71026862-d30a-406d-90a3-ac4bc3b676a1",
   "metadata": {},
   "outputs": [
    {
     "data": {
      "text/plain": [
       "Array([[ 0.5945222 , -0.6824779 ,  0.42516735],\n",
       "       [ 0.5886828 ,  0.00925694, -0.8083112 ],\n",
       "       [ 0.54771864,  0.73084754,  0.40726653]], dtype=float32)"
      ]
     },
     "execution_count": 95,
     "metadata": {},
     "output_type": "execute_result"
    }
   ],
   "source": [
    "u_"
   ]
  },
  {
   "cell_type": "code",
   "execution_count": 96,
   "id": "7b2af7fe-e3cb-4295-9e44-399668a58006",
   "metadata": {},
   "outputs": [
    {
     "data": {
      "text/plain": [
       "Array([[-0.5945266 ,  0.68247056,  0.42517257],\n",
       "       [-0.5886829 , -0.00925449, -0.80831105],\n",
       "       [-0.5477139 , -0.7308544 ,  0.40726084]], dtype=float32)"
      ]
     },
     "execution_count": 96,
     "metadata": {},
     "output_type": "execute_result"
    }
   ],
   "source": [
    "u"
   ]
  },
  {
   "cell_type": "code",
   "execution_count": 85,
   "id": "346e5381-364b-4a9b-91b6-779e9291acd5",
   "metadata": {},
   "outputs": [
    {
     "data": {
      "text/plain": [
       "array([[0.84838151, 0.78194975, 0.33606017, 0.13991972, 0.71509669],\n",
       "       [0.5553114 , 0.83930523, 0.63822787, 0.21013524, 0.5236236 ],\n",
       "       [0.30037231, 0.92958919, 0.81623333, 0.30426915, 0.15631   ]])"
      ]
     },
     "execution_count": 85,
     "metadata": {},
     "output_type": "execute_result"
    }
   ],
   "source": [
    "W2_opt @ W1_opt @ X"
   ]
  },
  {
   "cell_type": "code",
   "execution_count": 86,
   "id": "83d48a63-eb10-4e40-a28b-863affade8b2",
   "metadata": {},
   "outputs": [
    {
     "data": {
      "text/plain": [
       "Array([[0.8483817 , 0.78194994, 0.33606   , 0.1399198 , 0.7150967 ],\n",
       "       [0.55531156, 0.8393056 , 0.63822794, 0.21013537, 0.52362365],\n",
       "       [0.30037242, 0.9295897 , 0.8162334 , 0.30426934, 0.15630981]],      dtype=float32)"
      ]
     },
     "execution_count": 86,
     "metadata": {},
     "output_type": "execute_result"
    }
   ],
   "source": [
    "a @ b @ c.T @ g @ g.T"
   ]
  },
  {
   "cell_type": "code",
   "execution_count": 87,
   "id": "cfdb28be-276f-46c2-bce5-d229b617114d",
   "metadata": {},
   "outputs": [
    {
     "data": {
      "text/plain": [
       "Array([[-0.5945266 ,  0.68247056,  0.42517257],\n",
       "       [-0.5886829 , -0.00925449, -0.80831105],\n",
       "       [-0.5477139 , -0.7308544 ,  0.40726084]], dtype=float32)"
      ]
     },
     "execution_count": 87,
     "metadata": {},
     "output_type": "execute_result"
    }
   ],
   "source": [
    "u"
   ]
  },
  {
   "cell_type": "code",
   "execution_count": 91,
   "id": "bc9e99ed-168d-457c-9735-8f883b0ded8e",
   "metadata": {},
   "outputs": [
    {
     "data": {
      "text/plain": [
       "Array([[-0.59452677,  0.68247056,  0.42517203],\n",
       "       [-0.588683  , -0.00925449, -0.8083117 ],\n",
       "       [-0.54771394, -0.7308539 ,  0.4072613 ]], dtype=float32)"
      ]
     },
     "execution_count": 91,
     "metadata": {},
     "output_type": "execute_result"
    }
   ],
   "source": [
    "a @ b @ c.T @ g @ g.T @ v @ np.linalg.pinv(s)"
   ]
  },
  {
   "cell_type": "code",
   "execution_count": 92,
   "id": "22b8e714-10bc-40fb-82f9-21faa1412be4",
   "metadata": {},
   "outputs": [
    {
     "data": {
      "text/plain": [
       "Array([[-0.51757365, -0.65200216,  0.64977974],\n",
       "       [ 0.14789581, -0.59634537,  0.67300427],\n",
       "       [ 0.39818645, -0.012149  ,  0.93864435]], dtype=float32)"
      ]
     },
     "execution_count": 92,
     "metadata": {},
     "output_type": "execute_result"
    }
   ],
   "source": []
  },
  {
   "cell_type": "code",
   "execution_count": 93,
   "id": "66293d27-b5e0-475e-8ba2-3f2c6bdb90c8",
   "metadata": {},
   "outputs": [
    {
     "data": {
      "text/plain": [
       "array([[ 0.25549737,  0.57269934, -0.38486611],\n",
       "       [ 0.09681181,  0.1903763 , -0.59793615],\n",
       "       [-0.37813187,  0.12189907, -0.58899921]])"
      ]
     },
     "execution_count": 93,
     "metadata": {},
     "output_type": "execute_result"
    }
   ],
   "source": [
    "W2_opt"
   ]
  },
  {
   "cell_type": "code",
   "execution_count": null,
   "id": "b7f764ea-eec6-4344-b1a7-3a43e55dcdf9",
   "metadata": {},
   "outputs": [],
   "source": []
  },
  {
   "cell_type": "code",
   "execution_count": null,
   "id": "207735d6-6045-4d42-9d73-1b46a28a83f5",
   "metadata": {},
   "outputs": [],
   "source": []
  },
  {
   "cell_type": "code",
   "execution_count": null,
   "id": "5d6bb3b5-e207-4e23-9195-46ed9ae0a236",
   "metadata": {},
   "outputs": [],
   "source": []
  },
  {
   "cell_type": "code",
   "execution_count": 89,
   "id": "6f380e39-7908-4660-8af0-11fc0efcb990",
   "metadata": {},
   "outputs": [
    {
     "data": {
      "text/plain": [
       "Array([[-0.51757365, -0.65200216,  0.64977974],\n",
       "       [ 0.14789581, -0.59634537,  0.67300427],\n",
       "       [ 0.39818645, -0.012149  ,  0.93864435]], dtype=float32)"
      ]
     },
     "execution_count": 89,
     "metadata": {},
     "output_type": "execute_result"
    }
   ],
   "source": [
    "a @ b @ c.T @ g @ g.T @ v @ np.linalg.pinv(s)"
   ]
  },
  {
   "cell_type": "code",
   "execution_count": null,
   "id": "0c1e145c-a363-440b-ad52-7ec7df83fcab",
   "metadata": {},
   "outputs": [],
   "source": []
  },
  {
   "cell_type": "code",
   "execution_count": null,
   "id": "cca51c2d-62d5-4e3d-ad8b-c7099ffd48f3",
   "metadata": {},
   "outputs": [],
   "source": []
  },
  {
   "cell_type": "code",
   "execution_count": null,
   "id": "da3d86eb-2f82-46c1-bf95-69aacd101ef9",
   "metadata": {},
   "outputs": [],
   "source": []
  },
  {
   "cell_type": "code",
   "execution_count": 90,
   "id": "e81c4f48-6683-419f-9026-e24997a03fd4",
   "metadata": {},
   "outputs": [
    {
     "data": {
      "text/plain": [
       "array([[ 0.25549737,  0.57269934, -0.38486611],\n",
       "       [ 0.09681181,  0.1903763 , -0.59793615],\n",
       "       [-0.37813187,  0.12189907, -0.58899921]])"
      ]
     },
     "execution_count": 90,
     "metadata": {},
     "output_type": "execute_result"
    }
   ],
   "source": []
  },
  {
   "cell_type": "code",
   "execution_count": null,
   "id": "682deeb4-f897-4bb0-bd72-bd7ba1ca8214",
   "metadata": {},
   "outputs": [],
   "source": []
  },
  {
   "cell_type": "code",
   "execution_count": null,
   "id": "395a0431-6cac-4284-a332-17acda75c4af",
   "metadata": {},
   "outputs": [],
   "source": []
  },
  {
   "cell_type": "code",
   "execution_count": null,
   "id": "2afa0f0e-2ab5-4938-aacf-90156ea48f1a",
   "metadata": {},
   "outputs": [],
   "source": []
  },
  {
   "cell_type": "code",
   "execution_count": null,
   "id": "a833d0ba-2a3b-47dd-95f5-9f9f9b8f3112",
   "metadata": {},
   "outputs": [],
   "source": []
  },
  {
   "cell_type": "code",
   "execution_count": 16,
   "id": "c720dbee-f291-4374-8f51-ca331804ee60",
   "metadata": {},
   "outputs": [
    {
     "name": "stdout",
     "output_type": "stream",
     "text": [
      "301.2949890248265\n"
     ]
    }
   ],
   "source": [
    "sig = 5\n",
    "\n",
    "res = []\n",
    "for i in range(1000):\n",
    "    t = np.random.normal(0., sig, (12, 1))\n",
    "    res.append(t.T @ t)\n",
    "print(np.mean(res))"
   ]
  },
  {
   "cell_type": "code",
   "execution_count": 18,
   "id": "65e821e7-abc7-4d88-98d0-796dc102ec74",
   "metadata": {},
   "outputs": [
    {
     "data": {
      "text/plain": [
       "300"
      ]
     },
     "execution_count": 18,
     "metadata": {},
     "output_type": "execute_result"
    }
   ],
   "source": [
    "5**2 * 12"
   ]
  },
  {
   "cell_type": "code",
   "execution_count": null,
   "id": "9536da47-b71b-4777-a697-5ed02dd8d6b6",
   "metadata": {},
   "outputs": [],
   "source": []
  },
  {
   "cell_type": "code",
   "execution_count": null,
   "id": "68e4655e-ab11-4764-b3ed-d0f0e43b8c54",
   "metadata": {},
   "outputs": [],
   "source": []
  },
  {
   "cell_type": "code",
   "execution_count": 19,
   "id": "1777c398-374d-4b99-be52-343cb4411bfc",
   "metadata": {},
   "outputs": [
    {
     "data": {
      "text/plain": [
       "array([[ 44.52906613, -48.41643501,  -1.90011994, -18.31045032,\n",
       "          5.39312722],\n",
       "       [-48.41643501,  54.16155872,   1.9111882 ,  24.90373269,\n",
       "          1.00095311],\n",
       "       [ -1.90011994,   1.9111882 ,  63.46756908, -30.40987733,\n",
       "          2.61103605],\n",
       "       [-18.31045032,  24.90373269, -30.40987733,  38.8149705 ,\n",
       "         18.65014717],\n",
       "       [  5.39312722,   1.00095311,   2.61103605,  18.65014717,\n",
       "         31.8884436 ]])"
      ]
     },
     "execution_count": 19,
     "metadata": {},
     "output_type": "execute_result"
    }
   ],
   "source": [
    "m = 5\n",
    "n = 3\n",
    "\n",
    "A = np.random.normal(0., sig, (m, n))\n",
    "\n",
    "A @ A.T"
   ]
  },
  {
   "cell_type": "code",
   "execution_count": 20,
   "id": "61ed92bc-1025-4d0e-9ae2-fb0610d2919d",
   "metadata": {},
   "outputs": [
    {
     "data": {
      "text/plain": [
       "array([[ 77.62915758,   6.27854855,   8.03770888],\n",
       "       [  6.27854855,  45.12327042, -12.37326749],\n",
       "       [  8.03770888, -12.37326749, 110.10918003]])"
      ]
     },
     "execution_count": 20,
     "metadata": {},
     "output_type": "execute_result"
    }
   ],
   "source": [
    "A.T @ A"
   ]
  },
  {
   "cell_type": "code",
   "execution_count": null,
   "id": "6fdad39c-6ca0-47cf-999d-0811bad0c07d",
   "metadata": {},
   "outputs": [],
   "source": []
  },
  {
   "cell_type": "code",
   "execution_count": null,
   "id": "05cb2f9b-36f3-4b25-a870-5569d404fe6c",
   "metadata": {},
   "outputs": [],
   "source": []
  },
  {
   "cell_type": "code",
   "execution_count": null,
   "id": "59bd17b8-4bde-44a3-9253-7b3781bc3907",
   "metadata": {},
   "outputs": [],
   "source": []
  },
  {
   "cell_type": "code",
   "execution_count": 21,
   "id": "91414a95-a958-4aa0-bf9f-a5d76a37b77b",
   "metadata": {},
   "outputs": [],
   "source": [
    "import jax"
   ]
  },
  {
   "cell_type": "code",
   "execution_count": 33,
   "id": "80ed276a-697c-4b4f-8d37-1c54697f6342",
   "metadata": {},
   "outputs": [],
   "source": [
    "def t(W, a, b):\n",
    "    return jax.numpy.sum(((W @ a).T @ (W @ b))**2)"
   ]
  },
  {
   "cell_type": "code",
   "execution_count": 68,
   "id": "564e6344-aab9-4b97-bfc8-551cdff89dd8",
   "metadata": {},
   "outputs": [],
   "source": []
  },
  {
   "cell_type": "code",
   "execution_count": 107,
   "id": "95be18fb-a8f2-494e-9db0-bc4230d1f34c",
   "metadata": {},
   "outputs": [
    {
     "data": {
      "text/plain": [
       "array([[ 22.1243343 , -13.27048633],\n",
       "       [  1.38727979,  -0.4903022 ],\n",
       "       [ 25.11639076, -14.53423688]])"
      ]
     },
     "execution_count": 107,
     "metadata": {},
     "output_type": "execute_result"
    }
   ],
   "source": [
    "np.random.seed(1)\n",
    "W = np.random.normal(0., 1., (3, 2))\n",
    "a = np.random.normal(0., 1., (2))\n",
    "b = np.random.normal(0., 1., (2))\n",
    "\n",
    "t_0 = (W).dot(b)\n",
    "t_1 = (a).dot((W.T).dot(t_0))\n",
    "t_2 = (W).dot(a)\n",
    "\n",
    "(((2 * t_1) * np.outer(t_0, a)) + ((2 * (b).dot((W.T).dot(t_2))) * np.outer(t_2, b)))"
   ]
  },
  {
   "cell_type": "code",
   "execution_count": 108,
   "id": "fc27fe3d-861a-4dc3-846f-a43635723e48",
   "metadata": {},
   "outputs": [
    {
     "data": {
      "text/plain": [
       "array([[ 22.1243343 , -13.27048633],\n",
       "       [  1.38727979,  -0.4903022 ],\n",
       "       [ 25.11639076, -14.53423688]])"
      ]
     },
     "execution_count": 108,
     "metadata": {},
     "output_type": "execute_result"
    }
   ],
   "source": [
    "np.random.seed(1)\n",
    "W = np.random.normal(0., 1., (3, 2))\n",
    "a = np.random.normal(0., 1., (2, 1))\n",
    "b = np.random.normal(0., 1., (2, 1))\n",
    "\n",
    "(((2 *  a.T @ W.T @ W @ b) * W @ b @ a.T) + ((2 * b.T @ W.T @ W @ a) * W @ a @ b.T))"
   ]
  },
  {
   "cell_type": "code",
   "execution_count": 113,
   "id": "ff620031-4bac-4331-a3a9-42e8b081b98e",
   "metadata": {},
   "outputs": [
    {
     "data": {
      "text/plain": [
       "array([[ 22.1243343 , -13.27048633],\n",
       "       [  1.38727979,  -0.4903022 ],\n",
       "       [ 25.11639076, -14.53423688]])"
      ]
     },
     "execution_count": 113,
     "metadata": {},
     "output_type": "execute_result"
    }
   ],
   "source": [
    "2 * a.T @ W.T @ W @ b * (W @ (b @ a.T + a @ b.T))"
   ]
  },
  {
   "cell_type": "code",
   "execution_count": 111,
   "id": "493b1afe-4092-4cc7-9e54-2c34a6b8953d",
   "metadata": {},
   "outputs": [
    {
     "data": {
      "text/plain": [
       "array([[4.97584783]])"
      ]
     },
     "execution_count": 111,
     "metadata": {},
     "output_type": "execute_result"
    }
   ],
   "source": [
    "b.T @ W.T @ W @ a"
   ]
  },
  {
   "cell_type": "code",
   "execution_count": null,
   "id": "358af622-da48-4641-8d00-606282a1ab97",
   "metadata": {},
   "outputs": [],
   "source": []
  },
  {
   "cell_type": "code",
   "execution_count": 114,
   "id": "2c33d471-3a37-41d4-bab3-910ded6744c3",
   "metadata": {},
   "outputs": [
    {
     "data": {
      "text/plain": [
       "array([[9.95169567]])"
      ]
     },
     "execution_count": 114,
     "metadata": {},
     "output_type": "execute_result"
    }
   ],
   "source": [
    "2 * a.T @ W.T @ W @ b"
   ]
  },
  {
   "cell_type": "code",
   "execution_count": null,
   "id": "450eaec9-9052-4353-8239-6c342e2d5e27",
   "metadata": {},
   "outputs": [],
   "source": []
  },
  {
   "cell_type": "code",
   "execution_count": 137,
   "id": "6ed8210f-1734-4d66-a079-4ab3b6ca8c5a",
   "metadata": {},
   "outputs": [
    {
     "name": "stdout",
     "output_type": "stream",
     "text": [
      "[[ 8.99  0.   -0.02]\n",
      " [ 0.    9.03 -0.01]\n",
      " [-0.02 -0.01  8.98]]\n",
      "[[9. 0. 0.]\n",
      " [0. 9. 0.]\n",
      " [0. 0. 9.]]\n"
     ]
    }
   ],
   "source": [
    "m = 4\n",
    "n = 3\n",
    "sigma = 1.5\n",
    "\n",
    "samples = 100000\n",
    "res = []\n",
    "\n",
    "e1 = np.random.normal(0., sigma, (m, n, samples))\n",
    "for i in range(samples):\n",
    "    res.append(e1[:, :, i].T @ e1[:, :, i])\n",
    "print(np.round(np.mean(res, axis=0), 2))\n",
    "print(m * sigma**2 * np.identity(n))"
   ]
  },
  {
   "cell_type": "code",
   "execution_count": 139,
   "id": "290373aa-e619-4fae-98f0-560a1865b0ee",
   "metadata": {},
   "outputs": [
    {
     "name": "stdout",
     "output_type": "stream",
     "text": [
      "[[ 6.74  0.01 -0.02 -0.02]\n",
      " [ 0.01  6.73  0.    0.02]\n",
      " [-0.02  0.    6.78 -0.  ]\n",
      " [-0.02  0.02 -0.    6.74]]\n",
      "[[6.75 0.   0.   0.  ]\n",
      " [0.   6.75 0.   0.  ]\n",
      " [0.   0.   6.75 0.  ]\n",
      " [0.   0.   0.   6.75]]\n"
     ]
    }
   ],
   "source": [
    "m = 4\n",
    "n = 3\n",
    "sigma = 1.5\n",
    "\n",
    "samples = 100000\n",
    "res = []\n",
    "\n",
    "e1 = np.random.normal(0., sigma, (m, n, samples))\n",
    "for i in range(samples):\n",
    "    res.append(e1[:, :, i] @ e1[:, :, i].T)\n",
    "print(np.round(np.mean(res, axis=0), 2))\n",
    "print(n * sigma**2 * np.identity(m))"
   ]
  },
  {
   "cell_type": "code",
   "execution_count": 145,
   "id": "d580898f-522e-47d1-810a-e6f3d7fa8cb3",
   "metadata": {},
   "outputs": [
    {
     "name": "stdout",
     "output_type": "stream",
     "text": [
      "[[13.96  0.    0.  ]\n",
      " [-0.03 14.   -0.03]\n",
      " [-0.   -0.03 13.97]]\n",
      "[[13.96874871  0.          0.        ]\n",
      " [ 0.         13.96874871  0.        ]\n",
      " [ 0.          0.         13.96874871]]\n"
     ]
    }
   ],
   "source": [
    "m = 4\n",
    "n = 3\n",
    "sigma = 1.5\n",
    "\n",
    "samples = 2000000\n",
    "res = []\n",
    "\n",
    "b = np.random.normal(2., 2., (m, m))\n",
    "e1 = np.random.normal(0., sigma, (m, n, samples))\n",
    "for i in range(samples):\n",
    "    res.append(e1[:, :, i].T @ b @ e1[:, :, i])\n",
    "print(np.round(np.mean(res, axis=0), 2))\n",
    "print(sigma**2 * np.trace(b) * np.identity(n))"
   ]
  },
  {
   "cell_type": "code",
   "execution_count": null,
   "id": "9d79eb11-fd08-479e-8e51-170c58704b2d",
   "metadata": {},
   "outputs": [],
   "source": []
  },
  {
   "cell_type": "code",
   "execution_count": 152,
   "id": "cf24e158-5c26-475f-9675-5ec67cfc6954",
   "metadata": {},
   "outputs": [
    {
     "name": "stdout",
     "output_type": "stream",
     "text": [
      "[[2307.38]]\n"
     ]
    }
   ],
   "source": [
    "m = 4\n",
    "n = 3\n",
    "sigma1 = 1.5\n",
    "sigma2 = 2.\n",
    "\n",
    "samples = 200000\n",
    "res = []\n",
    "\n",
    "b = np.random.normal(0.5, 2., (m, m))\n",
    "e1 = np.random.normal(0., sigma1, (m, n, samples))\n",
    "xi = np.random.normal(0., sigma2, (n, 1, samples))\n",
    "for i in range(samples):\n",
    "    res.append(xi[:, :, i].T @ e1[:, :, i].T @ b.T @ b @ e1[:, :, i] @ xi[:, :, i])\n",
    "print(np.round(np.mean(res, axis=0), 2))"
   ]
  },
  {
   "cell_type": "code",
   "execution_count": null,
   "id": "4beac300-0680-4db5-8473-a4b3a8450a97",
   "metadata": {},
   "outputs": [],
   "source": []
  },
  {
   "cell_type": "code",
   "execution_count": null,
   "id": "105b9fbf-783f-42cc-8551-3f4c7da69e01",
   "metadata": {},
   "outputs": [],
   "source": []
  },
  {
   "cell_type": "code",
   "execution_count": 169,
   "id": "21a5a4c9-d2eb-48b4-8395-bdf46e42cc33",
   "metadata": {},
   "outputs": [
    {
     "name": "stdout",
     "output_type": "stream",
     "text": [
      "[[18.97]]\n",
      "18.984375\n"
     ]
    },
    {
     "data": {
      "text/plain": [
       "' Summand 6\\nres = []\\nfor i in range(samples):\\n    res.append(xis[i].T @ w1.T @ e2s[i].T @ e2s[i] @ w1 @ xis[i])\\nprint(np.round(np.mean(res, axis=0), 2))\\nprint(sx**2 * s2**2 * N_o * np.linalg.norm(w1, ord=\"fro\")**2)\\n'"
      ]
     },
     "execution_count": 169,
     "metadata": {},
     "output_type": "execute_result"
    }
   ],
   "source": [
    "np.random.seed(1)\n",
    "\n",
    "N_i = 3\n",
    "N_h = 4\n",
    "N_o = 5\n",
    "\n",
    "w1 = np.random.normal(0., 1., (N_h, N_i))\n",
    "w2 = np.random.normal(0., 1., (N_o, N_h))\n",
    "\n",
    "s1 = 0.5\n",
    "s2 = 1.5\n",
    "sx = 0.75\n",
    "\n",
    "samples = 200000\n",
    "xis = np.random.normal(0., sx, (samples, N_i, 1))\n",
    "e1s = np.random.normal(0., s1, (samples, N_h, N_i))\n",
    "e2s = np.random.normal(0., s2, (samples, N_o, N_h))\n",
    "\n",
    "\n",
    "res = []\n",
    "for i in range(samples):\n",
    "    res.append(xis[i].T @ e1s[i].T @ e2s[i].T @ e2s[i] @ e1s[i] @ xis[i])\n",
    "print(np.round(np.mean(res, axis=0), 2))\n",
    "print(s1**2 * s2**2 * sx**2 * N_i * N_h * N_o)\n",
    "\n",
    "\n",
    "\"\"\" Summand 6\n",
    "res = []\n",
    "for i in range(samples):\n",
    "    res.append(xis[i].T @ w1.T @ e2s[i].T @ e2s[i] @ w1 @ xis[i])\n",
    "print(np.round(np.mean(res, axis=0), 2))\n",
    "print(sx**2 * s2**2 * N_o * np.linalg.norm(w1, ord=\"fro\")**2)\n",
    "\"\"\"\n"
   ]
  },
  {
   "cell_type": "code",
   "execution_count": 168,
   "id": "7cc091b6-6c1d-4eda-8091-819889cf5845",
   "metadata": {},
   "outputs": [
    {
     "name": "stdout",
     "output_type": "stream",
     "text": [
      "130.73081380326542\n"
     ]
    }
   ],
   "source": [
    "print(sx**2 * s2**2 * N_o * np.linalg.norm(w1, ord=\"fro\")**2)"
   ]
  },
  {
   "cell_type": "code",
   "execution_count": null,
   "id": "0b30e46f-a41d-43ae-a667-1999ab4dfb5a",
   "metadata": {},
   "outputs": [],
   "source": []
  },
  {
   "cell_type": "code",
   "execution_count": 179,
   "id": "55c9145c-f3f4-493d-88cf-a2c1ce9de6b0",
   "metadata": {},
   "outputs": [
    {
     "name": "stdout",
     "output_type": "stream",
     "text": [
      "[[ 0.46352089  0.27051053  0.26893577 -0.32119601]\n",
      " [ 0.27051053  0.85979649 -0.0868737   0.19955825]\n",
      " [ 0.26893577 -0.0868737   0.24073307 -0.32079147]\n",
      " [-0.32119601  0.19955825 -0.32079147  0.43594955]]\n",
      "[[ 0.46352088  0.2705104   0.2689358  -0.3211961 ]\n",
      " [ 0.2705104   0.8597966  -0.08687381  0.1995584 ]\n",
      " [ 0.2689358  -0.08687381  0.24073313 -0.32079157]\n",
      " [-0.3211961   0.1995584  -0.32079157  0.43594977]]\n",
      "[[ 0.46352089  0.27051053  0.26893577 -0.32119601]\n",
      " [ 0.27051053  0.85979649 -0.0868737   0.19955825]\n",
      " [ 0.26893577 -0.0868737   0.24073307 -0.32079147]\n",
      " [-0.32119601  0.19955825 -0.32079147  0.43594955]]\n"
     ]
    }
   ],
   "source": [
    "np.random.seed(1)\n",
    "\n",
    "w1 = np.random.normal(0., 1., (4, 3))\n",
    "X = np.random.normal(0., 1., (3, 2))\n",
    "Y = np.random.normal(0., 1., (7, 2))\n",
    "sig_xx = X @ X.T\n",
    "sig_yx = Y @ X.T\n",
    "\n",
    "a, b, c = ds.compact_svd(w1 @ sig_xx)\n",
    "\n",
    "P = w1 @ sig_xx @ np.linalg.pinv((w1 @ sig_xx).T @ (w1 @ sig_xx)) @ (w1 @ sig_xx).T\n",
    "print(P)\n",
    "\n",
    "print(a @ a.T)\n",
    "\n",
    "print(w1 @ sig_xx @ np.linalg.pinv(w1 @ sig_xx))\n",
    "\n"
   ]
  },
  {
   "cell_type": "code",
   "execution_count": 207,
   "id": "bbefea29-fd1f-4590-af0c-8ec203942693",
   "metadata": {},
   "outputs": [
    {
     "name": "stdout",
     "output_type": "stream",
     "text": [
      "[[ 0.61546478  0.3046623  -0.01609229  0.23374617 -0.29824911]\n",
      " [ 0.3046623   0.74243473  0.05017241 -0.08203426  0.29859571]\n",
      " [-0.01609229  0.05017241  0.91279977 -0.22873872 -0.15652065]\n",
      " [ 0.23374617 -0.08203426 -0.22873872  0.20040473 -0.21576464]\n",
      " [-0.29824911  0.29859571 -0.15652065 -0.21576464  0.52889599]]\n"
     ]
    }
   ],
   "source": [
    "w2 = np.random.normal(0., 1., (3, 5))\n",
    "\n",
    "print(np.linalg.pinv(w2) @ w2)"
   ]
  },
  {
   "cell_type": "code",
   "execution_count": 209,
   "id": "3c5766df-683f-49af-be57-1c8486437c71",
   "metadata": {},
   "outputs": [
    {
     "name": "stdout",
     "output_type": "stream",
     "text": [
      "[[ 1.0000005e+00 -1.5276694e-07 -2.9652830e-08]\n",
      " [-1.5276694e-07  9.9999976e-01  9.8990945e-08]\n",
      " [-2.9652830e-08  9.8990945e-08  9.9999976e-01]]\n",
      "[[ 1.0000005e+00 -1.5276694e-07 -2.9652830e-08]\n",
      " [-1.5276694e-07  9.9999976e-01  9.8990945e-08]\n",
      " [-2.9652830e-08  9.8990945e-08  9.9999976e-01]]\n"
     ]
    }
   ],
   "source": [
    "np.random.seed(1)\n",
    "\n",
    "X = np.random.normal(0., 1., (3, 4))\n",
    "Y = np.random.normal(0., 1., (2, 2))\n",
    "\n",
    "\n",
    "a, b, c = ds.compact_svd(Y)\n",
    "d, e, f = ds.compact_svd(X)\n",
    "\n",
    "print((d.T @ d) @ (d.T @ d).T)\n",
    "print((d.T @ d).T @ (d.T @ d))"
   ]
  },
  {
   "cell_type": "code",
   "execution_count": 198,
   "id": "a9991926-1faf-4c53-a741-5b9d00829ae6",
   "metadata": {},
   "outputs": [
    {
     "data": {
      "text/plain": [
       "Array([[1.0000002e+00, 5.7769869e-09],\n",
       "       [5.7769869e-09, 1.0000002e+00]], dtype=float32)"
      ]
     },
     "execution_count": 198,
     "metadata": {},
     "output_type": "execute_result"
    }
   ],
   "source": [
    "(f.T @ f) @ (f.T @ f).T"
   ]
  },
  {
   "cell_type": "code",
   "execution_count": 186,
   "id": "6b8f62fc-7191-41ba-b096-ddaf9a096124",
   "metadata": {},
   "outputs": [
    {
     "data": {
      "text/plain": [
       "Array([[9.9999982e-01, 3.9980954e-08, 6.4134404e-08],\n",
       "       [3.9980954e-08, 1.0000001e+00, 1.4573563e-07],\n",
       "       [6.4134404e-08, 1.4573563e-07, 1.0000000e+00]], dtype=float32)"
      ]
     },
     "execution_count": 186,
     "metadata": {},
     "output_type": "execute_result"
    }
   ],
   "source": [
    "d @ d.T"
   ]
  },
  {
   "cell_type": "code",
   "execution_count": null,
   "id": "50f409a6-6a40-4614-8e0f-2d3558e3589c",
   "metadata": {},
   "outputs": [],
   "source": []
  },
  {
   "cell_type": "code",
   "execution_count": 180,
   "id": "b440a019-4d3a-4bf7-81b4-25cf84dd47e6",
   "metadata": {},
   "outputs": [
    {
     "ename": "TypeError",
     "evalue": "dot_general requires contracting dimensions to have the same shape, got (4,) and (7,).",
     "output_type": "error",
     "traceback": [
      "\u001b[0;31m---------------------------------------------------------------------------\u001b[0m",
      "\u001b[0;31mTypeError\u001b[0m                                 Traceback (most recent call last)",
      "Cell \u001b[0;32mIn[180], line 1\u001b[0m\n\u001b[0;32m----> 1\u001b[0m \u001b[38;5;28mprint\u001b[39m(\u001b[43ma\u001b[49m\u001b[43m \u001b[49m\u001b[38;5;241;43m@\u001b[39;49m\u001b[43m \u001b[49m\u001b[43ma\u001b[49m\u001b[38;5;241;43m.\u001b[39;49m\u001b[43mT\u001b[49m\u001b[43m \u001b[49m\u001b[38;5;241;43m@\u001b[39;49m\u001b[43m \u001b[49m\u001b[43msig_yx\u001b[49m \u001b[38;5;241m-\u001b[39m sig_yx)\n",
      "File \u001b[0;32m~/Documents/projects/dissociation/.venv/lib/python3.12/site-packages/jax/_src/numpy/array_methods.py:573\u001b[0m, in \u001b[0;36m_defer_to_unrecognized_arg.<locals>.deferring_binary_op\u001b[0;34m(self, other)\u001b[0m\n\u001b[1;32m    571\u001b[0m args \u001b[38;5;241m=\u001b[39m (other, \u001b[38;5;28mself\u001b[39m) \u001b[38;5;28;01mif\u001b[39;00m swap \u001b[38;5;28;01melse\u001b[39;00m (\u001b[38;5;28mself\u001b[39m, other)\n\u001b[1;32m    572\u001b[0m \u001b[38;5;28;01mif\u001b[39;00m \u001b[38;5;28misinstance\u001b[39m(other, _accepted_binop_types):\n\u001b[0;32m--> 573\u001b[0m   \u001b[38;5;28;01mreturn\u001b[39;00m \u001b[43mbinary_op\u001b[49m\u001b[43m(\u001b[49m\u001b[38;5;241;43m*\u001b[39;49m\u001b[43margs\u001b[49m\u001b[43m)\u001b[49m\n\u001b[1;32m    574\u001b[0m \u001b[38;5;66;03m# Note: don't use isinstance here, because we don't want to raise for\u001b[39;00m\n\u001b[1;32m    575\u001b[0m \u001b[38;5;66;03m# subclasses, e.g. NamedTuple objects that may override operators.\u001b[39;00m\n\u001b[1;32m    576\u001b[0m \u001b[38;5;28;01mif\u001b[39;00m \u001b[38;5;28mtype\u001b[39m(other) \u001b[38;5;129;01min\u001b[39;00m _rejected_binop_types:\n",
      "    \u001b[0;31m[... skipping hidden 14 frame]\u001b[0m\n",
      "File \u001b[0;32m~/Documents/projects/dissociation/.venv/lib/python3.12/site-packages/jax/_src/numpy/lax_numpy.py:9161\u001b[0m, in \u001b[0;36mmatmul\u001b[0;34m(a, b, precision, preferred_element_type)\u001b[0m\n\u001b[1;32m   9159\u001b[0m a \u001b[38;5;241m=\u001b[39m lax\u001b[38;5;241m.\u001b[39msqueeze(a, \u001b[38;5;28mtuple\u001b[39m(a_squeeze))\n\u001b[1;32m   9160\u001b[0m b \u001b[38;5;241m=\u001b[39m lax\u001b[38;5;241m.\u001b[39msqueeze(b, \u001b[38;5;28mtuple\u001b[39m(b_squeeze))\n\u001b[0;32m-> 9161\u001b[0m out \u001b[38;5;241m=\u001b[39m \u001b[43mlax\u001b[49m\u001b[38;5;241;43m.\u001b[39;49m\u001b[43mdot_general\u001b[49m\u001b[43m(\u001b[49m\n\u001b[1;32m   9162\u001b[0m \u001b[43m  \u001b[49m\u001b[43ma\u001b[49m\u001b[43m,\u001b[49m\u001b[43m \u001b[49m\u001b[43mb\u001b[49m\u001b[43m,\u001b[49m\u001b[43m \u001b[49m\u001b[43m(\u001b[49m\u001b[43m(\u001b[49m\u001b[43m(\u001b[49m\u001b[43mndim\u001b[49m\u001b[43m(\u001b[49m\u001b[43ma\u001b[49m\u001b[43m)\u001b[49m\u001b[43m \u001b[49m\u001b[38;5;241;43m-\u001b[39;49m\u001b[43m \u001b[49m\u001b[38;5;241;43m1\u001b[39;49m\u001b[43m,\u001b[49m\u001b[43m)\u001b[49m\u001b[43m,\u001b[49m\u001b[43m \u001b[49m\u001b[43m(\u001b[49m\u001b[43mndim\u001b[49m\u001b[43m(\u001b[49m\u001b[43mb\u001b[49m\u001b[43m)\u001b[49m\u001b[43m \u001b[49m\u001b[38;5;241;43m-\u001b[39;49m\u001b[43m \u001b[49m\u001b[38;5;241;43m1\u001b[39;49m\u001b[43m \u001b[49m\u001b[38;5;241;43m-\u001b[39;49m\u001b[43m \u001b[49m\u001b[43mb_is_mat\u001b[49m\u001b[43m,\u001b[49m\u001b[43m)\u001b[49m\u001b[43m)\u001b[49m\u001b[43m,\u001b[49m\u001b[43m \u001b[49m\u001b[43m(\u001b[49m\u001b[43ma_batch\u001b[49m\u001b[43m,\u001b[49m\u001b[43m \u001b[49m\u001b[43mb_batch\u001b[49m\u001b[43m)\u001b[49m\u001b[43m)\u001b[49m\u001b[43m,\u001b[49m\n\u001b[1;32m   9163\u001b[0m \u001b[43m  \u001b[49m\u001b[43mprecision\u001b[49m\u001b[38;5;241;43m=\u001b[39;49m\u001b[43mprecision\u001b[49m\u001b[43m,\u001b[49m\u001b[43m \u001b[49m\u001b[43mpreferred_element_type\u001b[49m\u001b[38;5;241;43m=\u001b[39;49m\u001b[43mpreferred_element_type\u001b[49m\u001b[43m)\u001b[49m\n\u001b[1;32m   9164\u001b[0m result \u001b[38;5;241m=\u001b[39m lax\u001b[38;5;241m.\u001b[39mtranspose(out, perm)\n\u001b[1;32m   9165\u001b[0m \u001b[38;5;28;01mreturn\u001b[39;00m lax_internal\u001b[38;5;241m.\u001b[39m_convert_element_type(result, preferred_element_type, output_weak_type)\n",
      "    \u001b[0;31m[... skipping hidden 7 frame]\u001b[0m\n",
      "File \u001b[0;32m~/Documents/projects/dissociation/.venv/lib/python3.12/site-packages/jax/_src/lax/lax.py:3342\u001b[0m, in \u001b[0;36m_dot_general_shape_rule\u001b[0;34m(lhs, rhs, dimension_numbers, precision, preferred_element_type, out_type)\u001b[0m\n\u001b[1;32m   3339\u001b[0m \u001b[38;5;28;01mif\u001b[39;00m \u001b[38;5;129;01mnot\u001b[39;00m core\u001b[38;5;241m.\u001b[39mdefinitely_equal_shape(lhs_contracting_shape, rhs_contracting_shape):\n\u001b[1;32m   3340\u001b[0m   msg \u001b[38;5;241m=\u001b[39m (\u001b[38;5;124m\"\u001b[39m\u001b[38;5;124mdot_general requires contracting dimensions to have the same \u001b[39m\u001b[38;5;124m\"\u001b[39m\n\u001b[1;32m   3341\u001b[0m          \u001b[38;5;124m\"\u001b[39m\u001b[38;5;124mshape, got \u001b[39m\u001b[38;5;132;01m{}\u001b[39;00m\u001b[38;5;124m and \u001b[39m\u001b[38;5;132;01m{}\u001b[39;00m\u001b[38;5;124m.\u001b[39m\u001b[38;5;124m\"\u001b[39m)\n\u001b[0;32m-> 3342\u001b[0m   \u001b[38;5;28;01mraise\u001b[39;00m \u001b[38;5;167;01mTypeError\u001b[39;00m(msg\u001b[38;5;241m.\u001b[39mformat(lhs_contracting_shape, rhs_contracting_shape))\n\u001b[1;32m   3344\u001b[0m \u001b[38;5;28;01mreturn\u001b[39;00m _dot_general_shape_computation(lhs\u001b[38;5;241m.\u001b[39mshape, rhs\u001b[38;5;241m.\u001b[39mshape, dimension_numbers)\n",
      "\u001b[0;31mTypeError\u001b[0m: dot_general requires contracting dimensions to have the same shape, got (4,) and (7,)."
     ]
    }
   ],
   "source": [
    "print(a @ a.T @ sig_yx - sig_yx)"
   ]
  },
  {
   "cell_type": "code",
   "execution_count": null,
   "id": "8802164a-1bad-4b08-974c-d379e7a18adc",
   "metadata": {},
   "outputs": [],
   "source": []
  },
  {
   "cell_type": "code",
   "execution_count": 214,
   "id": "65eae26c-f991-49d3-b2ca-49592ddf7305",
   "metadata": {},
   "outputs": [
    {
     "data": {
      "text/plain": [
       "array([[ 1.00000000e+00,  1.82378615e-15,  4.03468009e-15],\n",
       "       [ 6.27470430e-15,  1.00000000e+00, -4.47297675e-15],\n",
       "       [-3.77308072e-15,  3.19989249e-16,  1.00000000e+00]])"
      ]
     },
     "execution_count": 214,
     "metadata": {},
     "output_type": "execute_result"
    }
   ],
   "source": [
    "np.random.seed(1)\n",
    "\n",
    "p = np.random.normal(0., 1., (3, 3))\n",
    "\n",
    "p @ np.linalg.pinv(p)"
   ]
  },
  {
   "cell_type": "code",
   "execution_count": 212,
   "id": "f05d4b9e-915d-422e-a4bd-a85855f56673",
   "metadata": {},
   "outputs": [
    {
     "data": {
      "text/plain": [
       "array([[-0.6871727 , -0.84520564, -0.67124613, -0.0126646 ],\n",
       "       [-1.11731035,  0.2344157 ,  1.65980218,  0.74204416]])"
      ]
     },
     "execution_count": 212,
     "metadata": {},
     "output_type": "execute_result"
    }
   ],
   "source": [
    "np.random.normal(0., 1., (2, 4))"
   ]
  },
  {
   "cell_type": "code",
   "execution_count": null,
   "id": "488bd731-06e7-4284-8258-3406fff91fd4",
   "metadata": {},
   "outputs": [],
   "source": []
  },
  {
   "cell_type": "code",
   "execution_count": 157,
   "id": "f0752bf8-48e5-4e0c-aff1-f0614c86a8a7",
   "metadata": {},
   "outputs": [
    {
     "name": "stdout",
     "output_type": "stream",
     "text": [
      "2308.9962222930335\n"
     ]
    }
   ],
   "source": [
    "print(sigma1**2 *sigma2**2 * n * np.linalg.norm(b, ord=\"fro\")**2)"
   ]
  },
  {
   "cell_type": "code",
   "execution_count": 129,
   "id": "5ea58868-c15b-435f-887f-e72c58d3aa42",
   "metadata": {},
   "outputs": [
    {
     "data": {
      "text/plain": [
       "4.5"
      ]
     },
     "execution_count": 129,
     "metadata": {},
     "output_type": "execute_result"
    }
   ],
   "source": [
    "3 * 1.5"
   ]
  },
  {
   "cell_type": "code",
   "execution_count": 131,
   "id": "521454ad-231c-40e0-8d86-23348bfe5534",
   "metadata": {},
   "outputs": [
    {
     "data": {
      "text/plain": [
       "array([[ 0.03444965,  1.18183998,  2.28229517],\n",
       "       [-3.43505503, -0.42002832,  2.54424575]])"
      ]
     },
     "execution_count": 131,
     "metadata": {},
     "output_type": "execute_result"
    }
   ],
   "source": [
    "e1[:, :, 0]"
   ]
  },
  {
   "cell_type": "code",
   "execution_count": null,
   "id": "e82f121f-77b0-450d-912d-21217e48c357",
   "metadata": {},
   "outputs": [],
   "source": []
  },
  {
   "cell_type": "code",
   "execution_count": null,
   "id": "a11f3c40-874c-4cb3-b7a9-726471fc6f2e",
   "metadata": {},
   "outputs": [],
   "source": []
  },
  {
   "cell_type": "code",
   "execution_count": 67,
   "id": "e39ee9fd-84f4-4f3c-9a5e-bf948cde19f6",
   "metadata": {},
   "outputs": [
    {
     "data": {
      "text/plain": [
       "Array([[75.79375  , 64.548256 ],\n",
       "       [ 5.4631524,  7.157553 ],\n",
       "       [66.41329  , 67.92595  ]], dtype=float32)"
      ]
     },
     "execution_count": 67,
     "metadata": {},
     "output_type": "execute_result"
    }
   ],
   "source": [
    "jax.grad(t)(W, a, b)"
   ]
  },
  {
   "cell_type": "code",
   "execution_count": 64,
   "id": "1f86a62f-f304-41f0-ac30-3cec38448ca8",
   "metadata": {
    "scrolled": true
   },
   "outputs": [
    {
     "name": "stdout",
     "output_type": "stream",
     "text": [
      "{ lambda ; a:f32[3,2] b:f32[2,1] c:f32[2,1]. let\n",
      "    d:f32[3,1] = dot_general[\n",
      "      dimension_numbers=(([1], [0]), ([], []))\n",
      "      preferred_element_type=float32\n",
      "    ] a b\n",
      "    e:f32[1,3] = transpose[permutation=(1, 0)] d\n",
      "    f:f32[3,1] = dot_general[\n",
      "      dimension_numbers=(([1], [0]), ([], []))\n",
      "      preferred_element_type=float32\n",
      "    ] a c\n",
      "    g:f32[1,1] = dot_general[\n",
      "      dimension_numbers=(([1], [0]), ([], []))\n",
      "      preferred_element_type=float32\n",
      "    ] e f\n",
      "    h:f32[1,1] = integer_pow[y=2] g\n",
      "    i:f32[1,1] = integer_pow[y=1] g\n",
      "    j:f32[1,1] = mul 2.0 i\n",
      "    _:f32[] = reduce_sum[axes=(0, 1)] h\n",
      "    k:f32[1,1] = broadcast_in_dim[\n",
      "      broadcast_dimensions=()\n",
      "      shape=(1, 1)\n",
      "      sharding=None\n",
      "    ] 1.0\n",
      "    l:f32[1,1] = mul k j\n",
      "    m:f32[1,3] = dot_general[\n",
      "      dimension_numbers=(([0], [0]), ([], []))\n",
      "      preferred_element_type=float32\n",
      "    ] l e\n",
      "    n:f32[3,1] = transpose[permutation=(1, 0)] m\n",
      "    o:f32[1,3] = dot_general[\n",
      "      dimension_numbers=(([1], [1]), ([], []))\n",
      "      preferred_element_type=float32\n",
      "    ] l f\n",
      "    p:f32[3,2] = dot_general[\n",
      "      dimension_numbers=(([1], [1]), ([], []))\n",
      "      preferred_element_type=float32\n",
      "    ] n c\n",
      "    q:f32[3,1] = transpose[permutation=(1, 0)] o\n",
      "    r:f32[3,2] = dot_general[\n",
      "      dimension_numbers=(([1], [1]), ([], []))\n",
      "      preferred_element_type=float32\n",
      "    ] q b\n",
      "    s:f32[3,2] = add_any p r\n",
      "  in (s,) }\n"
     ]
    }
   ],
   "source": [
    "print(jax.make_jaxpr(jax.grad(t))(W, a, b))"
   ]
  },
  {
   "cell_type": "code",
   "execution_count": null,
   "id": "acc3439e-60da-4061-8ba0-c59c010aeea2",
   "metadata": {},
   "outputs": [],
   "source": []
  },
  {
   "cell_type": "code",
   "execution_count": null,
   "id": "269f3f30-fed7-4b73-88cc-e498ceefa6be",
   "metadata": {},
   "outputs": [],
   "source": []
  },
  {
   "cell_type": "code",
   "execution_count": 63,
   "id": "e362be41-6601-46d1-b989-a5cdffda6818",
   "metadata": {},
   "outputs": [
    {
     "data": {
      "text/plain": [
       "array([[6.85144039e-05, 4.92051429e-05, 2.50527150e-02],\n",
       "       [1.59510218e-03, 1.14555810e-03, 5.83258962e-01],\n",
       "       [7.59874925e-03, 5.45721077e-03, 2.77852960e+00]])"
      ]
     },
     "execution_count": 63,
     "metadata": {},
     "output_type": "execute_result"
    }
   ],
   "source": [
    "((W @ a) @ (W @ b).T)**2"
   ]
  },
  {
   "cell_type": "code",
   "execution_count": 52,
   "id": "051c9d9c-b284-4f0b-8912-37494b71f591",
   "metadata": {},
   "outputs": [
    {
     "data": {
      "text/plain": [
       "<function __main__.t(W, a, b)>"
      ]
     },
     "execution_count": 52,
     "metadata": {},
     "output_type": "execute_result"
    }
   ],
   "source": [
    "f"
   ]
  },
  {
   "cell_type": "code",
   "execution_count": 37,
   "id": "d04ee0ce-1622-4eb3-86e6-6e0b5cd73e16",
   "metadata": {},
   "outputs": [
    {
     "ename": "ValueError",
     "evalue": "matmul: Input operand 1 has a mismatch in its core dimension 0, with gufunc signature (n?,k),(k,m?)->(n?,m?) (size 3 is different from 1)",
     "output_type": "error",
     "traceback": [
      "\u001b[0;31m---------------------------------------------------------------------------\u001b[0m",
      "\u001b[0;31mValueError\u001b[0m                                Traceback (most recent call last)",
      "Cell \u001b[0;32mIn[37], line 1\u001b[0m\n\u001b[0;32m----> 1\u001b[0m \u001b[38;5;241;43m2\u001b[39;49m\u001b[43m \u001b[49m\u001b[38;5;241;43m*\u001b[39;49m\u001b[43m \u001b[49m\u001b[43ma\u001b[49m\u001b[38;5;241;43m.\u001b[39;49m\u001b[43mT\u001b[49m\u001b[43m \u001b[49m\u001b[38;5;241;43m@\u001b[39;49m\u001b[43m \u001b[49m\u001b[43mW\u001b[49m\u001b[38;5;241;43m.\u001b[39;49m\u001b[43mT\u001b[49m\u001b[43m \u001b[49m\u001b[38;5;241;43m@\u001b[39;49m\u001b[43m \u001b[49m\u001b[43mW\u001b[49m\u001b[43m \u001b[49m\u001b[38;5;241;43m@\u001b[39;49m\u001b[43m \u001b[49m\u001b[43mb\u001b[49m\u001b[43m \u001b[49m\u001b[38;5;241;43m@\u001b[39;49m\u001b[43m \u001b[49m\u001b[43mW\u001b[49m \u001b[38;5;241m@\u001b[39m b \u001b[38;5;241m@\u001b[39m a\u001b[38;5;241m.\u001b[39mT\n",
      "\u001b[0;31mValueError\u001b[0m: matmul: Input operand 1 has a mismatch in its core dimension 0, with gufunc signature (n?,k),(k,m?)->(n?,m?) (size 3 is different from 1)"
     ]
    }
   ],
   "source": [
    "2 * a.T @ W.T @ W @ b @ W @ b @ a.T"
   ]
  },
  {
   "cell_type": "code",
   "execution_count": null,
   "id": "d4920f34-2074-4f94-ab90-5be4c948e069",
   "metadata": {},
   "outputs": [],
   "source": []
  },
  {
   "cell_type": "code",
   "execution_count": 36,
   "id": "acaf2674-1b1f-42fb-80c5-cea6dc179aa2",
   "metadata": {},
   "outputs": [
    {
     "data": {
      "text/plain": [
       "array([[ -8.02215275,   3.5124232 ],\n",
       "       [-15.15898029,   8.05699358],\n",
       "       [  9.45769162,  -5.496539  ]])"
      ]
     },
     "execution_count": 36,
     "metadata": {},
     "output_type": "execute_result"
    }
   ],
   "source": [
    "2* (W @ (a @ b.T) + W @ b @ a.T)"
   ]
  },
  {
   "cell_type": "code",
   "execution_count": null,
   "id": "18e7ceca-f04e-4252-ab72-7d68fb04ff44",
   "metadata": {},
   "outputs": [],
   "source": []
  },
  {
   "cell_type": "code",
   "execution_count": 29,
   "id": "9c7f22cf-1aa4-4523-b052-b9888f419d40",
   "metadata": {},
   "outputs": [
    {
     "data": {
      "text/plain": [
       "array([[0.36462976]])"
      ]
     },
     "execution_count": 29,
     "metadata": {},
     "output_type": "execute_result"
    }
   ],
   "source": [
    "((W @ a).T @ (W @ b))**2"
   ]
  },
  {
   "cell_type": "code",
   "execution_count": 48,
   "id": "0cc394f2-6ec6-45b4-bfff-a826a072ff58",
   "metadata": {},
   "outputs": [
    {
     "data": {
      "text/plain": [
       "array([-1.08622792, -0.262251  , -0.72812353])"
      ]
     },
     "execution_count": 48,
     "metadata": {},
     "output_type": "execute_result"
    }
   ],
   "source": [
    "(W).dot(b)"
   ]
  },
  {
   "cell_type": "code",
   "execution_count": null,
   "id": "8cae8e3a-84ce-43b7-ae8f-9f77ca327dde",
   "metadata": {},
   "outputs": [],
   "source": []
  },
  {
   "cell_type": "code",
   "execution_count": 47,
   "id": "d1d6f927-a8e1-40a0-bc50-4a5e27492737",
   "metadata": {},
   "outputs": [
    {
     "name": "stdout",
     "output_type": "stream",
     "text": [
      "functionValue =  17.56022897318999\n",
      "gradient =  [[-33.57601237  -4.10375864]\n",
      " [ -8.19453625  -1.00092959]\n",
      " [-22.49168671  -2.74910775]]\n",
      "numerical gradient checking ...\n"
     ]
    },
    {
     "ename": "ValueError",
     "evalue": "operands could not be broadcast together with shapes (3,2) (3,3) ",
     "output_type": "error",
     "traceback": [
      "\u001b[0;31m---------------------------------------------------------------------------\u001b[0m",
      "\u001b[0;31mValueError\u001b[0m                                Traceback (most recent call last)",
      "Cell \u001b[0;32mIn[47], line 53\u001b[0m\n\u001b[1;32m     50\u001b[0m \u001b[38;5;28mprint\u001b[39m(\u001b[38;5;124m'\u001b[39m\u001b[38;5;124mgradient = \u001b[39m\u001b[38;5;124m'\u001b[39m, gradient)\n\u001b[1;32m     52\u001b[0m \u001b[38;5;28mprint\u001b[39m(\u001b[38;5;124m'\u001b[39m\u001b[38;5;124mnumerical gradient checking ...\u001b[39m\u001b[38;5;124m'\u001b[39m)\n\u001b[0;32m---> 53\u001b[0m \u001b[43mcheckGradient\u001b[49m\u001b[43m(\u001b[49m\u001b[43mW\u001b[49m\u001b[43m,\u001b[49m\u001b[43m \u001b[49m\u001b[43ma\u001b[49m\u001b[43m,\u001b[49m\u001b[43m \u001b[49m\u001b[43mb\u001b[49m\u001b[43m)\u001b[49m\n",
      "Cell \u001b[0;32mIn[47], line 35\u001b[0m, in \u001b[0;36mcheckGradient\u001b[0;34m(W, a, b)\u001b[0m\n\u001b[1;32m     33\u001b[0m t \u001b[38;5;241m=\u001b[39m \u001b[38;5;241m1E-6\u001b[39m\n\u001b[1;32m     34\u001b[0m delta \u001b[38;5;241m=\u001b[39m np\u001b[38;5;241m.\u001b[39mrandom\u001b[38;5;241m.\u001b[39mrandn(\u001b[38;5;241m3\u001b[39m, \u001b[38;5;241m3\u001b[39m)\n\u001b[0;32m---> 35\u001b[0m f1, _ \u001b[38;5;241m=\u001b[39m fAndG(\u001b[43mW\u001b[49m\u001b[43m \u001b[49m\u001b[38;5;241;43m+\u001b[39;49m\u001b[43m \u001b[49m\u001b[43mt\u001b[49m\u001b[43m \u001b[49m\u001b[38;5;241;43m*\u001b[39;49m\u001b[43m \u001b[49m\u001b[43mdelta\u001b[49m, a, b)\n\u001b[1;32m     36\u001b[0m f2, _ \u001b[38;5;241m=\u001b[39m fAndG(W \u001b[38;5;241m-\u001b[39m t \u001b[38;5;241m*\u001b[39m delta, a, b)\n\u001b[1;32m     37\u001b[0m f, g \u001b[38;5;241m=\u001b[39m fAndG(W, a, b)\n",
      "\u001b[0;31mValueError\u001b[0m: operands could not be broadcast together with shapes (3,2) (3,3) "
     ]
    }
   ],
   "source": [
    "from __future__ import division, print_function, absolute_import\n",
    "\n",
    "import numpy as np\n",
    "\n",
    "def fAndG(W, a, b):\n",
    "    assert isinstance(W, np.ndarray)\n",
    "    dim = W.shape\n",
    "    assert len(dim) == 2\n",
    "    W_rows = dim[0]\n",
    "    W_cols = dim[1]\n",
    "    assert isinstance(a, np.ndarray)\n",
    "    dim = a.shape\n",
    "    assert len(dim) == 1\n",
    "    a_rows = dim[0]\n",
    "    assert isinstance(b, np.ndarray)\n",
    "    dim = b.shape\n",
    "    assert len(dim) == 1\n",
    "    b_rows = dim[0]\n",
    "    assert W_cols == b_rows == a_rows\n",
    "\n",
    "    t_0 = (W).dot(b)\n",
    "    t_1 = (a).dot((W.T).dot(t_0))\n",
    "    t_2 = (W).dot(a)\n",
    "    functionValue = (t_1 ** 2)\n",
    "    gradient = (((2 * t_1) * np.outer(t_0, a)) + ((2 * (b).dot((W.T).dot(t_2))) * np.outer(t_2, b)))\n",
    "\n",
    "    return functionValue, gradient\n",
    "\n",
    "def checkGradient(W, a, b):\n",
    "    # numerical gradient checking\n",
    "    # f(x + t * delta) - f(x - t * delta) / (2t)\n",
    "    # should be roughly equal to inner product <g, delta>\n",
    "    t = 1E-6\n",
    "    delta = np.random.randn(3, 3)\n",
    "    f1, _ = fAndG(W + t * delta, a, b)\n",
    "    f2, _ = fAndG(W - t * delta, a, b)\n",
    "    f, g = fAndG(W, a, b)\n",
    "    print('approximation error',\n",
    "          np.linalg.norm((f1 - f2) / (2*t) - np.tensordot(g, delta, axes=2)))\n",
    "\n",
    "def generateRandomData():\n",
    "    W = np.random.randn(3, 3)\n",
    "    a = np.random.randn(3)\n",
    "    b = np.random.randn(3)\n",
    "\n",
    "    return W, a, b\n",
    "\n",
    "functionValue, gradient = fAndG(W, a, b)\n",
    "print('functionValue = ', functionValue)\n",
    "print('gradient = ', gradient)\n",
    "\n",
    "print('numerical gradient checking ...')\n",
    "checkGradient(W, a, b)"
   ]
  },
  {
   "cell_type": "code",
   "execution_count": null,
   "id": "4aa93bb9-fa9c-41be-ad05-88e9bb5b4e20",
   "metadata": {},
   "outputs": [],
   "source": []
  },
  {
   "cell_type": "code",
   "execution_count": null,
   "id": "9c2ff12f-0d98-4f21-897d-a85413438ffc",
   "metadata": {},
   "outputs": [],
   "source": []
  }
 ],
 "metadata": {
  "kernelspec": {
   "display_name": "Python 3 (ipykernel)",
   "language": "python",
   "name": "python3"
  },
  "language_info": {
   "codemirror_mode": {
    "name": "ipython",
    "version": 3
   },
   "file_extension": ".py",
   "mimetype": "text/x-python",
   "name": "python",
   "nbconvert_exporter": "python",
   "pygments_lexer": "ipython3",
   "version": "3.13.4"
  }
 },
 "nbformat": 4,
 "nbformat_minor": 5
}
