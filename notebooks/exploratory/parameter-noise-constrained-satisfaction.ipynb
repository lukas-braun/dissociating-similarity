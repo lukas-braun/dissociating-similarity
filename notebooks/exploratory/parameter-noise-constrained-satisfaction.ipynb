{
 "cells": [
  {
   "cell_type": "code",
   "execution_count": 78,
   "id": "268137e9-ebb5-4d24-a94c-c7da419c85e2",
   "metadata": {},
   "outputs": [
    {
     "name": "stdout",
     "output_type": "stream",
     "text": [
      "Optimization terminated successfully    (Exit mode 0)\n",
      "            Current function value: 4.099761052844422\n",
      "            Iterations: 14\n",
      "            Function evaluations: 275\n",
      "            Gradient evaluations: 14\n"
     ]
    }
   ],
   "source": [
    "import numpy as np\n",
    "from scipy.optimize import minimize\n",
    "\n",
    "# Define the objective function\n",
    "def objective(params, s1, No, sigma2, X, Y):\n",
    "    d, n = X.shape\n",
    "\n",
    "    # Extract W1 and W2 from the flattened parameter array\n",
    "    W1 = params[:d * d].reshape((d, d))\n",
    "    W2 = params[d * d:].reshape((d, d))\n",
    "\n",
    "    # Calculate terms of the objective\n",
    "    term1 = s1**2 * np.trace(1. / d * X @ X.T) * np.linalg.norm(W2, 'fro')**2\n",
    "    term2 = No * sigma2**2 * np.trace(W1.T @ W1 @ (1. / d * X @ X.T))\n",
    "\n",
    "    return term1 + term2\n",
    "\n",
    "# Define the constraint function\n",
    "def constraint(params, X, Y):\n",
    "    d, n = X.shape\n",
    "\n",
    "    # Extract W1 and W2 from the flattened parameter array\n",
    "    W1 = params[:d * d].reshape((d, d))\n",
    "    W2 = params[d * d:].reshape((d, d))\n",
    "\n",
    "    # Constraint: W2 W1 X X^T - Y X^T = 0\n",
    "    return (W2 @ W1 @ X @ X.T - Y @ X.T).flatten()\n",
    "\n",
    "# Define the optimization function\n",
    "def optimize_weights(s1, No, sigma2, X, Y):\n",
    "    d, n = X.shape\n",
    "\n",
    "    # Initial guess for W1 and W2 (flattened)\n",
    "    W1_init = np.random.normal(0., 0.1, (d, d))\n",
    "    W2_init = np.random.normal(0., 0.1, (d, d))\n",
    "    initial_params = np.hstack((W1_init.flatten(), W2_init.flatten()))\n",
    "\n",
    "    # Constraints definition\n",
    "    cons = {'type': 'eq', 'fun': constraint, 'args': (X, Y)}\n",
    "\n",
    "    # Optimization\n",
    "    result = minimize(\n",
    "        fun=objective,\n",
    "        x0=initial_params,\n",
    "        args=(s1, No, sigma2, X, Y),\n",
    "        constraints=cons,\n",
    "        method='SLSQP',\n",
    "        options={'disp': True}\n",
    "    )\n",
    "\n",
    "    # Extract optimized W1 and W2\n",
    "    optimized_params = result.x\n",
    "    W1_opt = optimized_params[:d * d].reshape((d, d))\n",
    "    W2_opt = optimized_params[d * d:].reshape((d, d))\n",
    "\n",
    "    return W1_opt, W2_opt\n",
    "\n",
    "\n",
    "# Problem dimensions\n",
    "d = 3  # Dimensionality of the problem\n",
    "n = 5  # Number of samples\n",
    "\n",
    "# Example input values\n",
    "s1 = 1.0\n",
    "No = 1.0\n",
    "sigma2 = 1.0\n",
    "X = np.random.rand(d, n)\n",
    "Y = np.random.rand(d, n)\n",
    "\n",
    "# Optimize W1 and W2\n",
    "W1_opt, W2_opt = optimize_weights(s1, No, sigma2, X, Y)"
   ]
  },
  {
   "cell_type": "code",
   "execution_count": 2,
   "id": "b09316f4-ebf8-4f1e-8983-4de30a128392",
   "metadata": {},
   "outputs": [
    {
     "data": {
      "text/plain": [
       "array([[-7.99653121e-10, -3.98724942e-11,  3.27387895e-10],\n",
       "       [-9.48923162e-10, -2.48769005e-10,  7.28753946e-10],\n",
       "       [-2.16323404e-10, -5.32382360e-10,  4.57179072e-10]])"
      ]
     },
     "execution_count": 2,
     "metadata": {},
     "output_type": "execute_result"
    }
   ],
   "source": [
    "W2_opt @ W1_opt - Y @ X.T @ np.linalg.pinv(X @ X.T)"
   ]
  },
  {
   "cell_type": "code",
   "execution_count": 3,
   "id": "88f19084-e20a-4d11-b4e0-25ec6f9a137d",
   "metadata": {},
   "outputs": [],
   "source": [
    "import dissociation as ds"
   ]
  },
  {
   "cell_type": "code",
   "execution_count": 42,
   "id": "f222d010-f8a0-47f1-9ce6-bec4af350569",
   "metadata": {},
   "outputs": [],
   "source": [
    "r1, s1, _ = ds.compact_svd(W2_opt.T @ W2_opt)\n",
    "_, s2, r2 = ds.compact_svd(W1_opt @ X @ X.T @ W1_opt.T)"
   ]
  },
  {
   "cell_type": "code",
   "execution_count": 43,
   "id": "b13d0d8f-faa7-4be4-aaf6-8eaa0735ae39",
   "metadata": {},
   "outputs": [
    {
     "data": {
      "text/plain": [
       "Array([[ 1.0000001e+00, -4.8044972e-06,  1.3856572e-06],\n",
       "       [ 4.7998519e-06,  9.9999982e-01,  1.1747094e-05],\n",
       "       [-1.5065840e-06, -1.1764883e-05,  1.0000000e+00]], dtype=float32)"
      ]
     },
     "execution_count": 43,
     "metadata": {},
     "output_type": "execute_result"
    }
   ],
   "source": [
    "r1.T @ r2"
   ]
  },
  {
   "cell_type": "code",
   "execution_count": 44,
   "id": "40394748-0408-4085-871f-d3b79ddece79",
   "metadata": {},
   "outputs": [
    {
     "data": {
      "text/plain": [
       "Array([[0.18298641,        nan,        nan],\n",
       "       [       nan, 0.18298359,        nan],\n",
       "       [       nan,        nan, 0.1829914 ]], dtype=float32)"
      ]
     },
     "execution_count": 44,
     "metadata": {},
     "output_type": "execute_result"
    }
   ],
   "source": [
    "s1 / s2"
   ]
  },
  {
   "cell_type": "code",
   "execution_count": 45,
   "id": "25916331-1ea1-4de1-8325-192b6b584370",
   "metadata": {},
   "outputs": [],
   "source": [
    "u, s1, r1 = ds.compact_svd(W2_opt)\n",
    "r2, s2, v = ds.compact_svd(W1_opt)"
   ]
  },
  {
   "cell_type": "code",
   "execution_count": 46,
   "id": "125a2122-5a6e-4a04-ab80-769299b1f28d",
   "metadata": {},
   "outputs": [
    {
     "data": {
      "text/plain": [
       "Array([[ 0.20600282,  0.583739  ,  0.7853737 ],\n",
       "       [-0.924196  , -0.14770581,  0.35220006],\n",
       "       [-0.32159716,  0.7983935 , -0.5090614 ]], dtype=float32)"
      ]
     },
     "execution_count": 46,
     "metadata": {},
     "output_type": "execute_result"
    }
   ],
   "source": [
    "r1.T @ r2"
   ]
  },
  {
   "cell_type": "code",
   "execution_count": 47,
   "id": "86e9df23-12e5-4cc8-8ab0-bfa59ac040a0",
   "metadata": {},
   "outputs": [
    {
     "data": {
      "text/plain": [
       "Array([[0.9249255 , 0.        , 0.        ],\n",
       "       [0.        , 0.34936684, 0.        ],\n",
       "       [0.        , 0.        , 0.20752959]], dtype=float32)"
      ]
     },
     "execution_count": 47,
     "metadata": {},
     "output_type": "execute_result"
    }
   ],
   "source": [
    "s1"
   ]
  },
  {
   "cell_type": "code",
   "execution_count": 48,
   "id": "0f0ebe47-7177-46ab-ac70-54f6124d5eae",
   "metadata": {},
   "outputs": [
    {
     "data": {
      "text/plain": [
       "Array([[0.30952877,        nan,        nan],\n",
       "       [       nan, 0.3410007 ,        nan],\n",
       "       [       nan,        nan, 0.22947985]], dtype=float32)"
      ]
     },
     "execution_count": 48,
     "metadata": {},
     "output_type": "execute_result"
    }
   ],
   "source": [
    "s1 / s2"
   ]
  },
  {
   "cell_type": "code",
   "execution_count": 49,
   "id": "95dce3b4-22b6-4e5f-afd8-985cce3fbdb2",
   "metadata": {},
   "outputs": [],
   "source": [
    "import matplotlib.pyplot as plt"
   ]
  },
  {
   "cell_type": "code",
   "execution_count": 50,
   "id": "44efbf70-d786-4c41-a6e0-9c0c0f72f016",
   "metadata": {},
   "outputs": [
    {
     "data": {
      "text/plain": [
       "<matplotlib.image.AxesImage at 0x7dc5de98afc0>"
      ]
     },
     "execution_count": 50,
     "metadata": {},
     "output_type": "execute_result"
    },
    {
     "data": {
      "image/png": "[encoded data removed]",
      "text/plain": [
       "<Figure size 640x480 with 1 Axes>"
      ]
     },
     "metadata": {},
     "output_type": "display_data"
    }
   ],
   "source": [
    "fig, ax = plt.subplots()\n",
    "ax.matshow(X.T @ W1_opt.T @ W1_opt @ X)"
   ]
  },
  {
   "cell_type": "code",
   "execution_count": 52,
   "id": "fd90f6f7-7363-48ed-9d1f-c0399cd1aaf0",
   "metadata": {},
   "outputs": [
    {
     "data": {
      "text/plain": [
       "<matplotlib.image.AxesImage at 0x7dc5dad49f10>"
      ]
     },
     "execution_count": 52,
     "metadata": {},
     "output_type": "execute_result"
    },
    {
     "data": {
      "image/png": "[encoded data removed]",
      "text/plain": [
       "<Figure size 640x480 with 1 Axes>"
      ]
     },
     "metadata": {},
     "output_type": "display_data"
    }
   ],
   "source": [
    "fig, ax = plt.subplots()\n",
    "ax.matshow(X.T @ v @ s @ v.T @ X)"
   ]
  },
  {
   "cell_type": "code",
   "execution_count": 53,
   "id": "0d9bf93a-09eb-442a-b900-080fb17e52f6",
   "metadata": {},
   "outputs": [
    {
     "name": "stdout",
     "output_type": "stream",
     "text": [
      "1.0102538448518585 3.2858320195662656\n"
     ]
    }
   ],
   "source": [
    "print(np.linalg.norm(W2_opt), np.linalg.norm(W1_opt))"
   ]
  },
  {
   "cell_type": "code",
   "execution_count": 70,
   "id": "67ab5a90-b306-444f-af0e-b4eeac1fd205",
   "metadata": {},
   "outputs": [],
   "source": [
    "import jax\n",
    "sig_xx = 1. / n * X @ X.T\n",
    "sig_yx = 1. / n * Y @ X.T\n",
    "\n",
    "u, s, v = ds.compact_svd(sig_yx @ np.linalg.pinv(sig_xx))\n",
    "r = jax.random.orthogonal(jax.random.key(1), d)[:, :s.shape[0]]\n",
    "w1 = r @ np.sqrt(s) @ v.T\n",
    "w2 = u @ np.sqrt(s) @ r.T"
   ]
  },
  {
   "cell_type": "code",
   "execution_count": 72,
   "id": "180a4da9-fb25-4f27-9f4f-a3653d9339aa",
   "metadata": {},
   "outputs": [
    {
     "name": "stdout",
     "output_type": "stream",
     "text": [
      "1.4700991 1.4700993\n"
     ]
    }
   ],
   "source": [
    "print(np.linalg.norm(w2), np.linalg.norm(w1))"
   ]
  },
  {
   "cell_type": "code",
   "execution_count": null,
   "id": "90d77fe8-9c86-414a-b6d6-59bae7b7e0a4",
   "metadata": {},
   "outputs": [],
   "source": []
  },
  {
   "cell_type": "code",
   "execution_count": null,
   "id": "94881d38-6291-4d28-8798-e42933a9e074",
   "metadata": {},
   "outputs": [],
   "source": []
  },
  {
   "cell_type": "code",
   "execution_count": 65,
   "id": "634b1042-8733-40ee-a0ca-03df9d44da07",
   "metadata": {},
   "outputs": [],
   "source": [
    "u2, s2, v2 = ds.compact_svd(W2_opt)\n",
    "u1, s1, v1 = ds.compact_svd(W1_opt)"
   ]
  },
  {
   "cell_type": "code",
   "execution_count": 64,
   "id": "2bb477c3-2172-442b-8fdb-d40d7bb81c20",
   "metadata": {},
   "outputs": [],
   "source": [
    "ux, sx, vx = ds.compact_svd(X)\n",
    "ux, sx, vx = ds.compact_svd(Y)"
   ]
  },
  {
   "cell_type": "code",
   "execution_count": 63,
   "id": "15eaf9dd-463b-4472-9bfb-678a6000c70b",
   "metadata": {},
   "outputs": [
    {
     "data": {
      "text/plain": [
       "Array([[-0.41911715,  0.78354156, -0.45869765],\n",
       "       [ 0.5951196 ,  0.6186277 ,  0.5129645 ],\n",
       "       [ 0.68569195, -0.05798788, -0.7255783 ]], dtype=float32)"
      ]
     },
     "execution_count": 63,
     "metadata": {},
     "output_type": "execute_result"
    }
   ],
   "source": [
    "ut @ u"
   ]
  },
  {
   "cell_type": "code",
   "execution_count": null,
   "id": "545db147-fadf-42d3-b8c8-a78b3dc37af0",
   "metadata": {},
   "outputs": [],
   "source": []
  },
  {
   "cell_type": "code",
   "execution_count": 74,
   "id": "8a9f1dae-8660-4133-a959-50acbca1f527",
   "metadata": {},
   "outputs": [],
   "source": [
    "x = np.asarray([[1.5]])\n",
    "y = np.asarray([[2.]])\n",
    "\n",
    "u, s, v = ds.compact_svd(y @ x @ np.linalg.pinv(x @ x.T))"
   ]
  },
  {
   "cell_type": "code",
   "execution_count": 75,
   "id": "d7a47772-27d5-4f6f-84fc-19239a5b5055",
   "metadata": {},
   "outputs": [
    {
     "data": {
      "text/plain": [
       "Array([[1.]], dtype=float32)"
      ]
     },
     "execution_count": 75,
     "metadata": {},
     "output_type": "execute_result"
    }
   ],
   "source": [
    "u"
   ]
  },
  {
   "cell_type": "code",
   "execution_count": 76,
   "id": "ff3cb87b-0bea-480e-97b6-79564d5314e5",
   "metadata": {},
   "outputs": [
    {
     "data": {
      "text/plain": [
       "Array([[1.]], dtype=float32)"
      ]
     },
     "execution_count": 76,
     "metadata": {},
     "output_type": "execute_result"
    }
   ],
   "source": [
    "v"
   ]
  },
  {
   "cell_type": "code",
   "execution_count": 77,
   "id": "4b6d76de-b78e-4b4d-a3eb-face8c645ea0",
   "metadata": {},
   "outputs": [
    {
     "data": {
      "text/plain": [
       "Array([[1.3333334]], dtype=float32)"
      ]
     },
     "execution_count": 77,
     "metadata": {},
     "output_type": "execute_result"
    }
   ],
   "source": [
    "s"
   ]
  },
  {
   "cell_type": "code",
   "execution_count": 80,
   "id": "e52808ae-3b83-4b93-9948-c76b3f132aa5",
   "metadata": {},
   "outputs": [
    {
     "data": {
      "text/plain": [
       "1.3333333333333333"
      ]
     },
     "execution_count": 80,
     "metadata": {},
     "output_type": "execute_result"
    }
   ],
   "source": [
    "2. / 1.5"
   ]
  },
  {
   "cell_type": "code",
   "execution_count": null,
   "id": "a9fdf015-ef78-4e3d-acc2-ee22d861fc6f",
   "metadata": {},
   "outputs": [],
   "source": []
  },
  {
   "cell_type": "code",
   "execution_count": 85,
   "id": "a8d28cb9-fe46-437e-b101-550a85e6901e",
   "metadata": {},
   "outputs": [
    {
     "name": "stdout",
     "output_type": "stream",
     "text": [
      "[[-1.09971405  0.26479683 -1.01255996]\n",
      " [-1.45398448  0.42379349 -1.18921958]\n",
      " [-3.28484898  0.85871588 -2.88700981]\n",
      " [-2.76712042  0.84636033 -2.18242443]]\n",
      "[[-1.0997144   0.26479706 -1.0125602 ]\n",
      " [-1.4539849   0.4237937  -1.1892201 ]\n",
      " [-3.2848496   0.8587163  -2.8870108 ]\n",
      " [-2.767121    0.8463607  -2.182425  ]]\n",
      "[[-0.65931293  0.16900919]\n",
      " [-0.72547447  0.36352381]\n",
      " [-1.83489426  0.63363611]\n",
      " [-1.30164078  0.76753137]]\n",
      "[[-0.659313    0.16900934]\n",
      " [-0.7254746   0.3635239 ]\n",
      " [-1.8348945   0.63363624]\n",
      " [-1.301641    0.7675315 ]]\n"
     ]
    }
   ],
   "source": [
    "in_dim = 3\n",
    "out_dim = 4\n",
    "n = 2\n",
    "\n",
    "x = np.random.normal(0., 1., (in_dim, n))\n",
    "y = np.random.normal(0., 1., (out_dim, n))\n",
    "\n",
    "a, b, c = ds.compact_svd(y)\n",
    "d, e, f = ds.compact_svd(x)\n",
    "\n",
    "print(y @ x.T @ np.linalg.pinv(x @ x.T))\n",
    "print(a @ b @ c.T @ f @ np.linalg.pinv(e) @ d.T)\n",
    "\n",
    "print(y @ x.T @ np.linalg.pinv(x @ x.T) @ x)\n",
    "print(a @ b @ c.T @ f @ f.T)\n",
    "\n",
    "g, h, i = ds.compact_svd(y @ x.T @ np.linalg.pinv(x @ x.T) @ x)"
   ]
  },
  {
   "cell_type": "code",
   "execution_count": 86,
   "id": "52917a36-03a6-464d-a36e-29a539167af4",
   "metadata": {},
   "outputs": [
    {
     "name": "stdout",
     "output_type": "stream",
     "text": [
      "[[-0.25243255  0.38925907]\n",
      " [-0.3038846  -0.1887708 ]\n",
      " [-0.72655004  0.5158555 ]\n",
      " [-0.5621895  -0.739416  ]]\n"
     ]
    }
   ],
   "source": [
    "print(g)"
   ]
  },
  {
   "cell_type": "code",
   "execution_count": 87,
   "id": "edaf9ed2-ff08-4b79-a471-b839d38c36db",
   "metadata": {},
   "outputs": [
    {
     "name": "stdout",
     "output_type": "stream",
     "text": [
      "[[-0.25243255  0.38925907]\n",
      " [-0.3038846  -0.1887708 ]\n",
      " [-0.72655004  0.5158555 ]\n",
      " [-0.5621895  -0.739416  ]]\n"
     ]
    }
   ],
   "source": [
    "print(a)"
   ]
  },
  {
   "cell_type": "code",
   "execution_count": null,
   "id": "16847f4d-723c-45d9-8626-0cbedcbc2a50",
   "metadata": {},
   "outputs": [],
   "source": []
  },
  {
   "cell_type": "code",
   "execution_count": null,
   "id": "3e045a14-258a-40e2-b2d7-b560ec50f5e9",
   "metadata": {},
   "outputs": [],
   "source": []
  },
  {
   "cell_type": "code",
   "execution_count": null,
   "id": "a8364fb8-d1ef-4e2c-b724-aba1f2c7e0e5",
   "metadata": {},
   "outputs": [],
   "source": []
  },
  {
   "cell_type": "code",
   "execution_count": 88,
   "id": "f2f7d758-56db-4dcb-adaa-a4613406a683",
   "metadata": {},
   "outputs": [
    {
     "name": "stdout",
     "output_type": "stream",
     "text": [
      "[[2.665214   0.        ]\n",
      " [0.         0.26468888]]\n"
     ]
    }
   ],
   "source": [
    "print(h)"
   ]
  },
  {
   "cell_type": "code",
   "execution_count": 89,
   "id": "b61b39f9-4355-48a6-b782-2d6502a89de7",
   "metadata": {},
   "outputs": [
    {
     "name": "stdout",
     "output_type": "stream",
     "text": [
      "[[2.665214   0.        ]\n",
      " [0.         0.26468888]]\n"
     ]
    }
   ],
   "source": [
    "print(b)"
   ]
  },
  {
   "cell_type": "code",
   "execution_count": null,
   "id": "22f3524b-5afb-47dc-b29f-bde7c5ebcdbf",
   "metadata": {},
   "outputs": [],
   "source": []
  },
  {
   "cell_type": "code",
   "execution_count": null,
   "id": "76a3e0a6-79a4-4bad-a1c8-c1659c0e9294",
   "metadata": {},
   "outputs": [],
   "source": []
  },
  {
   "cell_type": "code",
   "execution_count": null,
   "id": "c3b23427-d1b9-41f3-85af-0479f99b4011",
   "metadata": {},
   "outputs": [],
   "source": []
  },
  {
   "cell_type": "code",
   "execution_count": null,
   "id": "b5c25ac2-3dd9-4deb-94a4-a65d2a5a9b52",
   "metadata": {},
   "outputs": [],
   "source": []
  },
  {
   "cell_type": "code",
   "execution_count": 99,
   "id": "92389e71-04a5-46df-9020-970afc88aef7",
   "metadata": {},
   "outputs": [
    {
     "name": "stdout",
     "output_type": "stream",
     "text": [
      "0.89641047\n",
      "0.89641047\n"
     ]
    }
   ],
   "source": [
    "n = 5\n",
    "print(np.linalg.trace(w1.T @ w1 @ (1. / n * X @ X.T)))\n",
    "print(1. / n * np.linalg.trace(X.T @ w1.T @ w1 @ X))"
   ]
  },
  {
   "cell_type": "code",
   "execution_count": 98,
   "id": "b4e2942a-497d-46f5-be32-990a0ba502f9",
   "metadata": {},
   "outputs": [
    {
     "data": {
      "text/plain": [
       "np.float32(0.8964104)"
      ]
     },
     "execution_count": 98,
     "metadata": {},
     "output_type": "execute_result"
    }
   ],
   "source": [
    "1. / n * np.linalg.norm(w1 @ X)**2"
   ]
  },
  {
   "cell_type": "code",
   "execution_count": null,
   "id": "c4a086ad-0b1b-43ac-87aa-e072c5c29634",
   "metadata": {},
   "outputs": [],
   "source": []
  },
  {
   "cell_type": "code",
   "execution_count": 4,
   "id": "4420b042-c77b-4bfd-83e9-f2e18b7aa705",
   "metadata": {},
   "outputs": [],
   "source": [
    "a, b, c = ds.compact_svd(W2_opt)\n",
    "d, e, f = ds.compact_svd(Y)"
   ]
  },
  {
   "cell_type": "code",
   "execution_count": 61,
   "id": "8b28d147-d998-46ec-9c06-c7fc4e4d97e8",
   "metadata": {},
   "outputs": [
    {
     "data": {
      "text/plain": [
       "Array([[ 1.3052964 ,  0.33361754, -1.9074214 ],\n",
       "       [ 0.33361754,  1.4284407 , -1.4763883 ],\n",
       "       [-1.9074214 , -1.4763883 ,  4.402954  ]], dtype=float32)"
      ]
     },
     "execution_count": 61,
     "metadata": {},
     "output_type": "execute_result"
    }
   ],
   "source": [
    "(g @ np.linalg.pinv(e) @ d.T).T @ (g @ np.linalg.pinv(e) @ d.T)"
   ]
  },
  {
   "cell_type": "code",
   "execution_count": 62,
   "id": "9ded77ef-d356-49e1-8a2c-4a12248c17fb",
   "metadata": {},
   "outputs": [
    {
     "data": {
      "text/plain": [
       "array([[ 0.8340392 ,  0.53435023, -1.45002551],\n",
       "       [ 1.58144566,  0.71812155, -1.52453665],\n",
       "       [ 0.30937973,  0.89819108, -0.21312691]])"
      ]
     },
     "execution_count": 62,
     "metadata": {},
     "output_type": "execute_result"
    }
   ],
   "source": [
    "W1_opt"
   ]
  },
  {
   "cell_type": "code",
   "execution_count": 63,
   "id": "02ffbac1-7eeb-4121-af45-d431b623d7bf",
   "metadata": {},
   "outputs": [
    {
     "data": {
      "text/plain": [
       "array([[0.00437652, 0.44311841, 0.15494625],\n",
       "       [0.33741507, 0.55434539, 0.12690421],\n",
       "       [0.07186918, 0.33527601, 0.47712845]])"
      ]
     },
     "execution_count": 63,
     "metadata": {},
     "output_type": "execute_result"
    }
   ],
   "source": [
    "W2_opt"
   ]
  },
  {
   "cell_type": "code",
   "execution_count": null,
   "id": "bd80174d-ed8b-4dbc-b6fc-107990ce7b2a",
   "metadata": {},
   "outputs": [],
   "source": [
    "a @ b @ c.T @ g @ g.T @ "
   ]
  },
  {
   "cell_type": "code",
   "execution_count": null,
   "id": "64f2b597-81ce-4bdd-84f3-85fa93925576",
   "metadata": {},
   "outputs": [],
   "source": []
  },
  {
   "cell_type": "code",
   "execution_count": 5,
   "id": "dd6db5e7-74a6-41d3-a32f-66ce3c89a3b0",
   "metadata": {},
   "outputs": [
    {
     "data": {
      "text/plain": [
       "Array([[-0.47985643, -0.0160414 , -0.87720025],\n",
       "       [-0.67113394, -0.6372607 ,  0.37878507],\n",
       "       [-0.56508136,  0.7704813 ,  0.29502794]], dtype=float32)"
      ]
     },
     "execution_count": 5,
     "metadata": {},
     "output_type": "execute_result"
    }
   ],
   "source": [
    "a"
   ]
  },
  {
   "cell_type": "code",
   "execution_count": 6,
   "id": "5f3e1bad-7e4c-4d14-87bd-bfe87cde51f2",
   "metadata": {},
   "outputs": [
    {
     "data": {
      "text/plain": [
       "Array([[-0.4942904 ,  0.5173428 , -0.698594  ],\n",
       "       [-0.6487649 , -0.75443465, -0.09966175],\n",
       "       [-0.5786028 ,  0.40396142,  0.70854366]], dtype=float32)"
      ]
     },
     "execution_count": 6,
     "metadata": {},
     "output_type": "execute_result"
    }
   ],
   "source": [
    "d"
   ]
  },
  {
   "cell_type": "code",
   "execution_count": 8,
   "id": "59eaeb6d-9db8-4e9f-ae09-fd5a0ab901ea",
   "metadata": {},
   "outputs": [
    {
     "data": {
      "text/plain": [
       "array([[ 0.75235511,  0.45972281, -0.71491954],\n",
       "       [ 1.1973461 ,  0.69236942, -1.36142703],\n",
       "       [ 0.73777638,  0.70772475, -0.71704162]])"
      ]
     },
     "execution_count": 8,
     "metadata": {},
     "output_type": "execute_result"
    }
   ],
   "source": [
    "Y @ X.T @ np.linalg.pinv(X @ X.T)"
   ]
  },
  {
   "cell_type": "code",
   "execution_count": 9,
   "id": "a77876f9-a576-45a2-83a0-9bb598cdfa79",
   "metadata": {},
   "outputs": [
    {
     "data": {
      "text/plain": [
       "array([[ 0.75235511,  0.45972281, -0.71491954],\n",
       "       [ 1.1973461 ,  0.69236942, -1.36142703],\n",
       "       [ 0.73777638,  0.70772475, -0.71704162]])"
      ]
     },
     "execution_count": 9,
     "metadata": {},
     "output_type": "execute_result"
    }
   ],
   "source": [
    "Y @ np.linalg.pinv(X)"
   ]
  },
  {
   "cell_type": "code",
   "execution_count": null,
   "id": "0c4b6486-6dc7-49fa-bafd-82ba31fe326b",
   "metadata": {},
   "outputs": [],
   "source": []
  },
  {
   "cell_type": "code",
   "execution_count": 10,
   "id": "51f36213-7ac6-49ab-a097-6d24e0c18ccb",
   "metadata": {},
   "outputs": [
    {
     "data": {
      "text/plain": [
       "array([[0.46071661, 0.19696137, 0.62450519, 0.18681454, 0.4378715 ],\n",
       "       [0.59431701, 0.14028135, 0.97777764, 0.18007759, 0.5982239 ],\n",
       "       [0.56250508, 0.20345631, 0.63988081, 0.42163185, 0.54319216]])"
      ]
     },
     "execution_count": 10,
     "metadata": {},
     "output_type": "execute_result"
    }
   ],
   "source": [
    "Y @ np.linalg.pinv(X) @ X"
   ]
  },
  {
   "cell_type": "code",
   "execution_count": 51,
   "id": "6025f2b0-8664-43ba-aa65-718daedc6ecb",
   "metadata": {},
   "outputs": [],
   "source": [
    "a, b, c = ds.compact_svd(Y)\n",
    "d, e, g = ds.compact_svd(X)"
   ]
  },
  {
   "cell_type": "code",
   "execution_count": 52,
   "id": "ef130043-589d-4f43-8f1d-27e2a5394d5a",
   "metadata": {},
   "outputs": [
    {
     "data": {
      "text/plain": [
       "Array([[0.4607166 , 0.19696136, 0.62450516, 0.18681468, 0.43787152],\n",
       "       [0.5943169 , 0.1402814 , 0.9777775 , 0.18007761, 0.59822375],\n",
       "       [0.5625049 , 0.20345621, 0.63988066, 0.42163193, 0.54319197]],      dtype=float32)"
      ]
     },
     "execution_count": 52,
     "metadata": {},
     "output_type": "execute_result"
    }
   ],
   "source": [
    "k = c.T @ g @ g.T\n",
    "a @ b @ k"
   ]
  },
  {
   "cell_type": "code",
   "execution_count": 55,
   "id": "6b3ca063-2c0e-4c19-b5b1-045ff1584866",
   "metadata": {},
   "outputs": [
    {
     "data": {
      "text/plain": [
       "Array([[-0.47985655,  0.01604646,  0.8771984 ],\n",
       "       [-0.67113465,  0.6372565 , -0.3787892 ],\n",
       "       [-0.5650801 , -0.7704849 , -0.295024  ]], dtype=float32)"
      ]
     },
     "execution_count": 55,
     "metadata": {},
     "output_type": "execute_result"
    }
   ],
   "source": [
    "u, s, v = ds.compact_svd(W2_opt @ W1_opt @ X)\n",
    "a @ b @ k @ v @ np.linalg.pinv(s)"
   ]
  },
  {
   "cell_type": "code",
   "execution_count": 77,
   "id": "f0b623f1-8cd9-4e2e-b564-ff67025b4dbe",
   "metadata": {},
   "outputs": [],
   "source": [
    "a, b, c = ds.compact_svd(W2_opt)"
   ]
  },
  {
   "cell_type": "code",
   "execution_count": 57,
   "id": "06d623ad-637d-4141-a22f-9734ff949a21",
   "metadata": {},
   "outputs": [
    {
     "data": {
      "text/plain": [
       "Array([[-0.47985643, -0.0160414 , -0.87720025],\n",
       "       [-0.67113394, -0.6372607 ,  0.37878507],\n",
       "       [-0.56508136,  0.7704813 ,  0.29502794]], dtype=float32)"
      ]
     },
     "execution_count": 57,
     "metadata": {},
     "output_type": "execute_result"
    }
   ],
   "source": [
    "a"
   ]
  },
  {
   "cell_type": "code",
   "execution_count": null,
   "id": "740ba91a-4643-4807-912f-1c7a356c1afb",
   "metadata": {},
   "outputs": [],
   "source": []
  },
  {
   "cell_type": "code",
   "execution_count": 39,
   "id": "5d997ee4-d3a8-4dd6-b804-e5f9c7be430e",
   "metadata": {},
   "outputs": [
    {
     "data": {
      "text/plain": [
       "array([[0.46071661, 0.19696137, 0.62450519, 0.18681454, 0.4378715 ],\n",
       "       [0.59431701, 0.14028135, 0.97777764, 0.18007759, 0.5982239 ],\n",
       "       [0.56250508, 0.20345631, 0.63988081, 0.42163185, 0.54319216]])"
      ]
     },
     "execution_count": 39,
     "metadata": {},
     "output_type": "execute_result"
    }
   ],
   "source": [
    "W2_opt @ W1_opt @ X"
   ]
  },
  {
   "cell_type": "code",
   "execution_count": null,
   "id": "09813201-7ebb-4701-b7a6-e5bb619fc04c",
   "metadata": {},
   "outputs": [],
   "source": []
  },
  {
   "cell_type": "code",
   "execution_count": null,
   "id": "d5c8f45c-60a6-41ff-b626-30d1017b6460",
   "metadata": {},
   "outputs": [],
   "source": []
  },
  {
   "cell_type": "code",
   "execution_count": 41,
   "id": "7d8fd10a-c2cf-44de-bc21-96f14bd3bc40",
   "metadata": {},
   "outputs": [],
   "source": [
    "\n",
    "d, e, f = ds.compact_svd(W1_opt @ X)"
   ]
  },
  {
   "cell_type": "code",
   "execution_count": 44,
   "id": "6b984c51-2c95-4298-a68b-52d4262ddae8",
   "metadata": {},
   "outputs": [
    {
     "data": {
      "text/plain": [
       "Array([[-0.47985643, -0.0160414 , -0.87720025],\n",
       "       [-0.67113394, -0.6372607 ,  0.37878507],\n",
       "       [-0.56508136,  0.7704813 ,  0.29502794]], dtype=float32)"
      ]
     },
     "execution_count": 44,
     "metadata": {},
     "output_type": "execute_result"
    }
   ],
   "source": [
    "a"
   ]
  },
  {
   "cell_type": "code",
   "execution_count": 46,
   "id": "0a7dfa79-64d5-418f-81a1-e7cf969e877e",
   "metadata": {},
   "outputs": [
    {
     "data": {
      "text/plain": [
       "Array([[-0.4942904 ,  0.5173428 , -0.698594  ],\n",
       "       [-0.6487649 , -0.75443465, -0.09966175],\n",
       "       [-0.5786028 ,  0.40396142,  0.70854366]], dtype=float32)"
      ]
     },
     "execution_count": 46,
     "metadata": {},
     "output_type": "execute_result"
    }
   ],
   "source": [
    "a"
   ]
  },
  {
   "cell_type": "code",
   "execution_count": 29,
   "id": "51e289fc-1245-4329-bb40-29098bbdbff7",
   "metadata": {},
   "outputs": [
    {
     "data": {
      "text/plain": [
       "Array([[-0.4841164 , -0.1789474 , -0.19090322],\n",
       "       [-0.15674071, -0.24301979, -0.87085676],\n",
       "       [-0.6801134 ,  0.5302999 ,  0.16559263],\n",
       "       [-0.23165733, -0.78394586,  0.41967297],\n",
       "       [-0.47417757, -0.11458776,  0.04022928]], dtype=float32)"
      ]
     },
     "execution_count": 29,
     "metadata": {},
     "output_type": "execute_result"
    }
   ],
   "source": [
    "f"
   ]
  },
  {
   "cell_type": "code",
   "execution_count": 31,
   "id": "7d49e8f6-d13f-4936-85e9-0b1945a42149",
   "metadata": {},
   "outputs": [
    {
     "data": {
      "text/plain": [
       "Array([[-0.4942904 ,  0.5173428 , -0.698594  ],\n",
       "       [-0.6487649 , -0.75443465, -0.09966175],\n",
       "       [-0.5786028 ,  0.40396142,  0.70854366]], dtype=float32)"
      ]
     },
     "execution_count": 31,
     "metadata": {},
     "output_type": "execute_result"
    }
   ],
   "source": [
    "a"
   ]
  },
  {
   "cell_type": "code",
   "execution_count": 32,
   "id": "44f6eb3e-9700-45f3-aca0-2175b3206acb",
   "metadata": {},
   "outputs": [
    {
     "data": {
      "text/plain": [
       "Array([[-0.54937035, -0.01964059, -0.02532949],\n",
       "       [-0.5616369 ,  0.34208193,  0.6399696 ],\n",
       "       [-0.3466461 ,  0.32545164, -0.7383161 ],\n",
       "       [-0.28253102, -0.8743741 ,  0.00277654],\n",
       "       [-0.42751464, -0.11020582, -0.21137379]], dtype=float32)"
      ]
     },
     "execution_count": 32,
     "metadata": {},
     "output_type": "execute_result"
    }
   ],
   "source": [
    "g"
   ]
  },
  {
   "cell_type": "code",
   "execution_count": null,
   "id": "1af0dc88-602b-4f32-9366-e90499d2cde1",
   "metadata": {},
   "outputs": [],
   "source": []
  },
  {
   "cell_type": "code",
   "execution_count": null,
   "id": "2ff48672-0923-4951-8ee9-45b96ed932bc",
   "metadata": {},
   "outputs": [],
   "source": []
  },
  {
   "cell_type": "code",
   "execution_count": null,
   "id": "306a3687-b161-48c2-8200-48d3b525e4d0",
   "metadata": {},
   "outputs": [],
   "source": []
  },
  {
   "cell_type": "code",
   "execution_count": 94,
   "id": "07c43922-c5f7-4bb8-b49c-1528f817fccf",
   "metadata": {},
   "outputs": [],
   "source": [
    "a, b, c = ds.compact_svd(Y)\n",
    "d, e, g = ds.compact_svd(X)\n",
    "u_, _, r = ds.compact_svd(W2_opt)\n",
    "u, s, v = ds.compact_svd(a @ b @ c.T @ g @ g.T)"
   ]
  },
  {
   "cell_type": "code",
   "execution_count": 95,
   "id": "71026862-d30a-406d-90a3-ac4bc3b676a1",
   "metadata": {},
   "outputs": [
    {
     "data": {
      "text/plain": [
       "Array([[ 0.5945222 , -0.6824779 ,  0.42516735],\n",
       "       [ 0.5886828 ,  0.00925694, -0.8083112 ],\n",
       "       [ 0.54771864,  0.73084754,  0.40726653]], dtype=float32)"
      ]
     },
     "execution_count": 95,
     "metadata": {},
     "output_type": "execute_result"
    }
   ],
   "source": [
    "u_"
   ]
  },
  {
   "cell_type": "code",
   "execution_count": 96,
   "id": "7b2af7fe-e3cb-4295-9e44-399668a58006",
   "metadata": {},
   "outputs": [
    {
     "data": {
      "text/plain": [
       "Array([[-0.5945266 ,  0.68247056,  0.42517257],\n",
       "       [-0.5886829 , -0.00925449, -0.80831105],\n",
       "       [-0.5477139 , -0.7308544 ,  0.40726084]], dtype=float32)"
      ]
     },
     "execution_count": 96,
     "metadata": {},
     "output_type": "execute_result"
    }
   ],
   "source": [
    "u"
   ]
  },
  {
   "cell_type": "code",
   "execution_count": 85,
   "id": "346e5381-364b-4a9b-91b6-779e9291acd5",
   "metadata": {},
   "outputs": [
    {
     "data": {
      "text/plain": [
       "array([[0.84838151, 0.78194975, 0.33606017, 0.13991972, 0.71509669],\n",
       "       [0.5553114 , 0.83930523, 0.63822787, 0.21013524, 0.5236236 ],\n",
       "       [0.30037231, 0.92958919, 0.81623333, 0.30426915, 0.15631   ]])"
      ]
     },
     "execution_count": 85,
     "metadata": {},
     "output_type": "execute_result"
    }
   ],
   "source": [
    "W2_opt @ W1_opt @ X"
   ]
  },
  {
   "cell_type": "code",
   "execution_count": 86,
   "id": "83d48a63-eb10-4e40-a28b-863affade8b2",
   "metadata": {},
   "outputs": [
    {
     "data": {
      "text/plain": [
       "Array([[0.8483817 , 0.78194994, 0.33606   , 0.1399198 , 0.7150967 ],\n",
       "       [0.55531156, 0.8393056 , 0.63822794, 0.21013537, 0.52362365],\n",
       "       [0.30037242, 0.9295897 , 0.8162334 , 0.30426934, 0.15630981]],      dtype=float32)"
      ]
     },
     "execution_count": 86,
     "metadata": {},
     "output_type": "execute_result"
    }
   ],
   "source": [
    "a @ b @ c.T @ g @ g.T"
   ]
  },
  {
   "cell_type": "code",
   "execution_count": 87,
   "id": "cfdb28be-276f-46c2-bce5-d229b617114d",
   "metadata": {},
   "outputs": [
    {
     "data": {
      "text/plain": [
       "Array([[-0.5945266 ,  0.68247056,  0.42517257],\n",
       "       [-0.5886829 , -0.00925449, -0.80831105],\n",
       "       [-0.5477139 , -0.7308544 ,  0.40726084]], dtype=float32)"
      ]
     },
     "execution_count": 87,
     "metadata": {},
     "output_type": "execute_result"
    }
   ],
   "source": [
    "u"
   ]
  },
  {
   "cell_type": "code",
   "execution_count": 91,
   "id": "bc9e99ed-168d-457c-9735-8f883b0ded8e",
   "metadata": {},
   "outputs": [
    {
     "data": {
      "text/plain": [
       "Array([[-0.59452677,  0.68247056,  0.42517203],\n",
       "       [-0.588683  , -0.00925449, -0.8083117 ],\n",
       "       [-0.54771394, -0.7308539 ,  0.4072613 ]], dtype=float32)"
      ]
     },
     "execution_count": 91,
     "metadata": {},
     "output_type": "execute_result"
    }
   ],
   "source": [
    "a @ b @ c.T @ g @ g.T @ v @ np.linalg.pinv(s)"
   ]
  },
  {
   "cell_type": "code",
   "execution_count": 92,
   "id": "22b8e714-10bc-40fb-82f9-21faa1412be4",
   "metadata": {},
   "outputs": [
    {
     "data": {
      "text/plain": [
       "Array([[-0.51757365, -0.65200216,  0.64977974],\n",
       "       [ 0.14789581, -0.59634537,  0.67300427],\n",
       "       [ 0.39818645, -0.012149  ,  0.93864435]], dtype=float32)"
      ]
     },
     "execution_count": 92,
     "metadata": {},
     "output_type": "execute_result"
    }
   ],
   "source": [
    "a @ b @ c.T @ g @ g.T @ v @ np.linalg.pinv(s) @ np.sqrt(s) @ r.T"
   ]
  },
  {
   "cell_type": "code",
   "execution_count": 93,
   "id": "66293d27-b5e0-475e-8ba2-3f2c6bdb90c8",
   "metadata": {},
   "outputs": [
    {
     "data": {
      "text/plain": [
       "array([[ 0.25549737,  0.57269934, -0.38486611],\n",
       "       [ 0.09681181,  0.1903763 , -0.59793615],\n",
       "       [-0.37813187,  0.12189907, -0.58899921]])"
      ]
     },
     "execution_count": 93,
     "metadata": {},
     "output_type": "execute_result"
    }
   ],
   "source": [
    "W2_opt"
   ]
  },
  {
   "cell_type": "code",
   "execution_count": null,
   "id": "b7f764ea-eec6-4344-b1a7-3a43e55dcdf9",
   "metadata": {},
   "outputs": [],
   "source": []
  },
  {
   "cell_type": "code",
   "execution_count": null,
   "id": "207735d6-6045-4d42-9d73-1b46a28a83f5",
   "metadata": {},
   "outputs": [],
   "source": []
  },
  {
   "cell_type": "code",
   "execution_count": null,
   "id": "5d6bb3b5-e207-4e23-9195-46ed9ae0a236",
   "metadata": {},
   "outputs": [],
   "source": []
  },
  {
   "cell_type": "code",
   "execution_count": 89,
   "id": "6f380e39-7908-4660-8af0-11fc0efcb990",
   "metadata": {},
   "outputs": [
    {
     "data": {
      "text/plain": [
       "Array([[-0.51757365, -0.65200216,  0.64977974],\n",
       "       [ 0.14789581, -0.59634537,  0.67300427],\n",
       "       [ 0.39818645, -0.012149  ,  0.93864435]], dtype=float32)"
      ]
     },
     "execution_count": 89,
     "metadata": {},
     "output_type": "execute_result"
    }
   ],
   "source": [
    "a @ b @ c.T @ g @ g.T @ v @ np.linalg.pinv(s)"
   ]
  },
  {
   "cell_type": "code",
   "execution_count": null,
   "id": "0c1e145c-a363-440b-ad52-7ec7df83fcab",
   "metadata": {},
   "outputs": [],
   "source": []
  },
  {
   "cell_type": "code",
   "execution_count": null,
   "id": "cca51c2d-62d5-4e3d-ad8b-c7099ffd48f3",
   "metadata": {},
   "outputs": [],
   "source": []
  },
  {
   "cell_type": "code",
   "execution_count": null,
   "id": "da3d86eb-2f82-46c1-bf95-69aacd101ef9",
   "metadata": {},
   "outputs": [],
   "source": []
  },
  {
   "cell_type": "code",
   "execution_count": 90,
   "id": "e81c4f48-6683-419f-9026-e24997a03fd4",
   "metadata": {},
   "outputs": [
    {
     "data": {
      "text/plain": [
       "array([[ 0.25549737,  0.57269934, -0.38486611],\n",
       "       [ 0.09681181,  0.1903763 , -0.59793615],\n",
       "       [-0.37813187,  0.12189907, -0.58899921]])"
      ]
     },
     "execution_count": 90,
     "metadata": {},
     "output_type": "execute_result"
    }
   ],
   "source": []
  },
  {
   "cell_type": "code",
   "execution_count": null,
   "id": "682deeb4-f897-4bb0-bd72-bd7ba1ca8214",
   "metadata": {},
   "outputs": [],
   "source": []
  },
  {
   "cell_type": "code",
   "execution_count": null,
   "id": "395a0431-6cac-4284-a332-17acda75c4af",
   "metadata": {},
   "outputs": [],
   "source": []
  },
  {
   "cell_type": "code",
   "execution_count": null,
   "id": "2afa0f0e-2ab5-4938-aacf-90156ea48f1a",
   "metadata": {},
   "outputs": [],
   "source": []
  },
  {
   "cell_type": "code",
   "execution_count": null,
   "id": "a833d0ba-2a3b-47dd-95f5-9f9f9b8f3112",
   "metadata": {},
   "outputs": [],
   "source": []
  },
  {
   "cell_type": "code",
   "execution_count": null,
   "id": "c720dbee-f291-4374-8f51-ca331804ee60",
   "metadata": {},
   "outputs": [],
   "source": []
  },
  {
   "cell_type": "code",
   "execution_count": null,
   "id": "65e821e7-abc7-4d88-98d0-796dc102ec74",
   "metadata": {},
   "outputs": [],
   "source": []
  },
  {
   "cell_type": "code",
   "execution_count": null,
   "id": "9536da47-b71b-4777-a697-5ed02dd8d6b6",
   "metadata": {},
   "outputs": [],
   "source": []
  },
  {
   "cell_type": "code",
   "execution_count": null,
   "id": "68e4655e-ab11-4764-b3ed-d0f0e43b8c54",
   "metadata": {},
   "outputs": [],
   "source": []
  },
  {
   "cell_type": "code",
   "execution_count": null,
   "id": "1777c398-374d-4b99-be52-343cb4411bfc",
   "metadata": {},
   "outputs": [],
   "source": []
  },
  {
   "cell_type": "code",
   "execution_count": null,
   "id": "61ed92bc-1025-4d0e-9ae2-fb0610d2919d",
   "metadata": {},
   "outputs": [],
   "source": []
  },
  {
   "cell_type": "code",
   "execution_count": null,
   "id": "6fdad39c-6ca0-47cf-999d-0811bad0c07d",
   "metadata": {},
   "outputs": [],
   "source": []
  },
  {
   "cell_type": "code",
   "execution_count": null,
   "id": "05cb2f9b-36f3-4b25-a870-5569d404fe6c",
   "metadata": {},
   "outputs": [],
   "source": []
  },
  {
   "cell_type": "code",
   "execution_count": null,
   "id": "59bd17b8-4bde-44a3-9253-7b3781bc3907",
   "metadata": {},
   "outputs": [],
   "source": []
  },
  {
   "cell_type": "code",
   "execution_count": null,
   "id": "91414a95-a958-4aa0-bf9f-a5d76a37b77b",
   "metadata": {},
   "outputs": [],
   "source": []
  },
  {
   "cell_type": "code",
   "execution_count": null,
   "id": "80ed276a-697c-4b4f-8d37-1c54697f6342",
   "metadata": {},
   "outputs": [],
   "source": []
  },
  {
   "cell_type": "code",
   "execution_count": null,
   "id": "564e6344-aab9-4b97-bfc8-551cdff89dd8",
   "metadata": {},
   "outputs": [],
   "source": []
  },
  {
   "cell_type": "code",
   "execution_count": null,
   "id": "e39ee9fd-84f4-4f3c-9a5e-bf948cde19f6",
   "metadata": {},
   "outputs": [],
   "source": []
  },
  {
   "cell_type": "code",
   "execution_count": null,
   "id": "acaf2674-1b1f-42fb-80c5-cea6dc179aa2",
   "metadata": {},
   "outputs": [],
   "source": []
  },
  {
   "cell_type": "code",
   "execution_count": null,
   "id": "18e7ceca-f04e-4252-ab72-7d68fb04ff44",
   "metadata": {},
   "outputs": [],
   "source": []
  },
  {
   "cell_type": "code",
   "execution_count": null,
   "id": "9c7f22cf-1aa4-4523-b052-b9888f419d40",
   "metadata": {},
   "outputs": [],
   "source": []
  },
  {
   "cell_type": "code",
   "execution_count": null,
   "id": "0cc394f2-6ec6-45b4-bfff-a826a072ff58",
   "metadata": {},
   "outputs": [],
   "source": []
  },
  {
   "cell_type": "code",
   "execution_count": null,
   "id": "8cae8e3a-84ce-43b7-ae8f-9f77ca327dde",
   "metadata": {},
   "outputs": [],
   "source": []
  },
  {
   "cell_type": "code",
   "execution_count": null,
   "id": "d1d6f927-a8e1-40a0-bc50-4a5e27492737",
   "metadata": {},
   "outputs": [],
   "source": []
  },
  {
   "cell_type": "code",
   "execution_count": null,
   "id": "4aa93bb9-fa9c-41be-ad05-88e9bb5b4e20",
   "metadata": {},
   "outputs": [],
   "source": []
  },
  {
   "cell_type": "code",
   "execution_count": null,
   "id": "9c2ff12f-0d98-4f21-897d-a85413438ffc",
   "metadata": {},
   "outputs": [],
   "source": []
  }
 ],
 "metadata": {
  "kernelspec": {
   "display_name": "Python 3 (ipykernel)",
   "language": "python",
   "name": "python3"
  },
  "language_info": {
   "codemirror_mode": {
    "name": "ipython",
    "version": 3
   },
   "file_extension": ".py",
   "mimetype": "text/x-python",
   "name": "python",
   "nbconvert_exporter": "python",
   "pygments_lexer": "ipython3",
   "version": "3.13.4"
  }
 },
 "nbformat": 4,
 "nbformat_minor": 5
}
