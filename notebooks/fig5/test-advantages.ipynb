{
 "cells": [
  {
   "cell_type": "markdown",
   "id": "c0dcf3f6-53ec-42c2-882a-51aedab3048a",
   "metadata": {},
   "source": [
    "### Setup"
   ]
  },
  {
   "cell_type": "code",
   "execution_count": 1,
   "id": "0cfd24b4-a56a-41c6-aa5f-4bc7e1f3ad34",
   "metadata": {},
   "outputs": [
    {
     "name": "stdout",
     "output_type": "stream",
     "text": [
      "Requirement already satisfied: jax in /Users/eringrant/mambaforge/envs/asysid/lib/python3.13/site-packages (0.4.38)\n",
      "Requirement already satisfied: equinox in /Users/eringrant/mambaforge/envs/asysid/lib/python3.13/site-packages (0.11.11)\n",
      "Requirement already satisfied: optax in /Users/eringrant/mambaforge/envs/asysid/lib/python3.13/site-packages (0.2.4)\n",
      "Requirement already satisfied: optimistix in /Users/eringrant/mambaforge/envs/asysid/lib/python3.13/site-packages (0.0.10)\n",
      "Requirement already satisfied: treescope in /Users/eringrant/mambaforge/envs/asysid/lib/python3.13/site-packages (0.1.7)\n",
      "Requirement already satisfied: jaxlib<=0.4.38,>=0.4.38 in /Users/eringrant/mambaforge/envs/asysid/lib/python3.13/site-packages (from jax) (0.4.38)\n",
      "Requirement already satisfied: ml_dtypes>=0.4.0 in /Users/eringrant/mambaforge/envs/asysid/lib/python3.13/site-packages (from jax) (0.5.0)\n",
      "Requirement already satisfied: numpy>=1.24 in /Users/eringrant/mambaforge/envs/asysid/lib/python3.13/site-packages (from jax) (2.2.1)\n",
      "Requirement already satisfied: opt_einsum in /Users/eringrant/mambaforge/envs/asysid/lib/python3.13/site-packages (from jax) (3.4.0)\n",
      "Requirement already satisfied: scipy>=1.10 in /Users/eringrant/mambaforge/envs/asysid/lib/python3.13/site-packages (from jax) (1.15.0)\n",
      "Requirement already satisfied: jaxtyping>=0.2.20 in /Users/eringrant/mambaforge/envs/asysid/lib/python3.13/site-packages (from equinox) (0.2.36)\n",
      "Requirement already satisfied: typing-extensions>=4.5.0 in /Users/eringrant/mambaforge/envs/asysid/lib/python3.13/site-packages (from equinox) (4.12.2)\n",
      "Requirement already satisfied: absl-py>=0.7.1 in /Users/eringrant/mambaforge/envs/asysid/lib/python3.13/site-packages (from optax) (2.1.0)\n",
      "Requirement already satisfied: chex>=0.1.87 in /Users/eringrant/mambaforge/envs/asysid/lib/python3.13/site-packages (from optax) (0.1.88)\n",
      "Requirement already satisfied: etils[epy] in /Users/eringrant/mambaforge/envs/asysid/lib/python3.13/site-packages (from optax) (1.11.0)\n",
      "Requirement already satisfied: lineax>=0.0.6 in /Users/eringrant/mambaforge/envs/asysid/lib/python3.13/site-packages (from optimistix) (0.0.7)\n",
      "Requirement already satisfied: setuptools in /Users/eringrant/mambaforge/envs/asysid/lib/python3.13/site-packages (from chex>=0.1.87->optax) (75.6.0)\n",
      "Requirement already satisfied: toolz>=0.9.0 in /Users/eringrant/mambaforge/envs/asysid/lib/python3.13/site-packages (from chex>=0.1.87->optax) (1.0.0)\n",
      "Note: you may need to restart the kernel to use updated packages.\n"
     ]
    }
   ],
   "source": [
    "# %pip install \"jax[cuda12]\" equinox optax optimistix treescope\n",
    "%pip install jax equinox optax optimistix treescope\n",
    "%load_ext autoreload\n",
    "%autoreload 2\n",
    "\n",
    "from functools import partial\n",
    "import jax\n",
    "import jax.numpy as jnp\n",
    "import equinox as eqx\n",
    "import treescope\n",
    "\n",
    "import numpy as np\n",
    "import matplotlib.pyplot as plt\n",
    "from cycler import cycler\n",
    "from tueplots import bundles, figsizes\n",
    "\n",
    "plt.rcParams.update({\"figure.dpi\": 150})\n",
    "plt.rcParams.update(figsizes.icml2024_half())\n",
    "plt.rcParams.update(bundles.icml2024(family=\"serif\"))\n",
    "\n",
    "colors = [\n",
    "    \"#55b2e8\",\n",
    "    \"#cc78a6\",\n",
    "    \"#009e73\",\n",
    "    \"#efe440\",\n",
    "    \"#d65c00\",\n",
    "    \"#0071b2\",\n",
    "    \"#e59c00\",\n",
    "    \"#000000\",\n",
    "]\n",
    "plt.rc(\"axes\", prop_cycle=cycler(\"color\", colors))"
   ]
  },
  {
   "cell_type": "markdown",
   "id": "2cb85080-6332-41be-b2e6-811b2dddc742",
   "metadata": {},
   "source": [
    "### Train model on MNIST"
   ]
  },
  {
   "cell_type": "code",
   "execution_count": 2,
   "id": "e8fafb29-59e0-457a-8da5-3931b15fe490",
   "metadata": {},
   "outputs": [
    {
     "data": {
      "text/html": [
       "<script> (()=>{ if (customElements.get('treescope-container') === undefined) { class TreescopeContainer extends HTMLElement { constructor() { super(); this.attachShadow({mode: \"open\"}); this.defns = {}; this.state = {}; } } customElements.define(\"treescope-container\", TreescopeContainer); } if (customElements.get('treescope-run-here') === undefined) { class RunHere extends HTMLElement { constructor() { super() } connectedCallback() { const run = child => { const fn = new Function(child.textContent); child.textContent = \"\"; fn.call(this); this.remove(); }; const child = this.querySelector(\"script\"); if (child) { run(child); } else { new MutationObserver(()=>{ run(this.querySelector(\"script\")); }).observe(this, {childList: true}); } } } customElements.define(\"treescope-run-here\", RunHere); } })(); </script> <treescope-container class=\"treescope_out_9aa4bd4666b643dc8417797c0f8560b6\" ></treescope-container> <treescope-run-here><script type=\"application/octet-stream\"> const root = ( Array.from(document.getElementsByClassName( \"treescope_out_9aa4bd4666b643dc8417797c0f8560b6\")) .filter((elt) => !elt.dataset.setup) )[0]; root.dataset.setup = 1; const msg = document.createElement(\"span\"); msg.style = \"color: #cccccc; font-family: monospace;\"; msg.textContent = \"(Loading...)\"; root.state.loadingMsg = msg; root.shadowRoot.appendChild(msg); root.state.chain = new Promise((resolve, reject) => { const observer = new IntersectionObserver((entries) => { for (const entry of entries) { if (entry.isIntersecting) { resolve(); observer.disconnect(); return; } } }, {rootMargin: \"1000px\"}); window.setTimeout(() => { observer.observe(root); }, 0); }); root.state.deferring = false; const _insertNode = (node) => { for (let oldScript of node.querySelectorAll(\"script\")) { let newScript = document.createElement(\"script\"); newScript.type = oldScript.type; newScript.textContent = oldScript.textContent; oldScript.parentNode.replaceChild(newScript, oldScript); } if (root.state.loadingMsg) { root.state.loadingMsg.remove(); root.state.loadingMsg = null; } root.shadowRoot.appendChild(node); }; root.defns.insertContent = ((contentNode, compressed) => { if (compressed) { root.state.deferring = true; } if (root.state.deferring) { root.state.chain = (async () => { await root.state.chain; if (compressed) { const encoded = contentNode.textContent; const blob = new Blob([ Uint8Array.from(atob(encoded), (m) => m.codePointAt(0)) ]); const reader = blob.stream().pipeThrough( new DecompressionStream(\"deflate\") ).pipeThrough( new TextDecoderStream(\"utf-8\") ).getReader(); const parts = []; while (true) { const step = await reader.read(); if (step.done) { break; } parts.push(step.value); } const tpl = document.createElement('template'); tpl.innerHTML = parts.join(\"\"); _insertNode(tpl.content); } else { _insertNode(contentNode.content); } })(); } else { _insertNode(contentNode.content); } }); </script></treescope-run-here><div style=\"display:none\"> <script type=\"application/octet-stream\" >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</script> <treescope-run-here><script type=\"application/octet-stream\"> const root = ( Array.from(document.getElementsByClassName( \"treescope_out_9aa4bd4666b643dc8417797c0f8560b6\")) .filter((elt) => !elt.dataset['step0']) )[0]; root.dataset['step0'] = 1; root.defns.insertContent( this.parentNode.querySelector('script[type=\"application/octet-stream\"]'), true ); this.parentNode.remove(); </script></treescope-run-here> </div>"
      ],
      "text/plain": [
       "<Arrayviz rendering>"
      ]
     },
     "execution_count": 2,
     "metadata": {},
     "output_type": "execute_result"
    }
   ],
   "source": [
    "from mnist import mnist_data\n",
    "\n",
    "_, _, mnist_test_images, mnist_test_labels = mnist_data()\n",
    "\n",
    "batch_size = 1024\n",
    "mnist_test_image_batch = mnist_test_images[:batch_size]\n",
    "mnist_test_label_batch = mnist_test_labels[:batch_size]\n",
    "\n",
    "# Sort by label\n",
    "idx = jnp.argsort(mnist_test_label_batch.argmax(-1))\n",
    "mnist_test_image_batch = mnist_test_image_batch[idx]\n",
    "mnist_test_label_batch = mnist_test_label_batch[idx]\n",
    "\n",
    "treescope.render_array(\n",
    "    mnist_test_image_batch.reshape(-1, 28, 28)[:20],\n",
    "    pixels_per_cell=1,\n",
    "    columns=[2, 0],\n",
    "    axis_labels={0: \"input example\", 1: \"input dimension\", 2: \"input dimension\"},\n",
    "    vmax=1,\n",
    "    vmin=-1,\n",
    ")"
   ]
  },
  {
   "cell_type": "code",
   "execution_count": 4,
   "id": "0101d28b-8b92-4a05-be48-d65638cba440",
   "metadata": {},
   "outputs": [
    {
     "name": "stdout",
     "output_type": "stream",
     "text": [
      "Epoch 0\t\ttrain loss: 2.3 ± 0.00395\ttest error: 90.72%\n",
      "Epoch 1\t\ttrain loss: 0.227 ± 0.00112\n"
     ]
    },
    {
     "ename": "KeyboardInterrupt",
     "evalue": "",
     "output_type": "error",
     "traceback": [
      "\u001b[0;31m---------------------------------------------------------------------------\u001b[0m",
      "\u001b[0;31mKeyboardInterrupt\u001b[0m                         Traceback (most recent call last)",
      "File \u001b[0;32m<timed exec>:4\u001b[0m\n",
      "File \u001b[0;32m~/code/dissociation/results/fig4/mnist.py:245\u001b[0m, in \u001b[0;36mtrain_mnist\u001b[0;34m(num_epochs, num_seeds, key)\u001b[0m\n\u001b[1;32m    243\u001b[0m     X, y \u001b[38;5;241m=\u001b[39m \u001b[38;5;28mnext\u001b[39m(batches)\n\u001b[1;32m    244\u001b[0m     params, state, _ \u001b[38;5;241m=\u001b[39m step(params, static, X, y, state)\n\u001b[0;32m--> 245\u001b[0m     done, result \u001b[38;5;241m=\u001b[39m \u001b[43mterminate\u001b[49m\u001b[43m(\u001b[49m\u001b[43mparams\u001b[49m\u001b[43m,\u001b[49m\u001b[43m \u001b[49m\u001b[43mstatic\u001b[49m\u001b[43m,\u001b[49m\u001b[43m \u001b[49m\u001b[43mX\u001b[49m\u001b[43m,\u001b[49m\u001b[43m \u001b[49m\u001b[43my\u001b[49m\u001b[43m,\u001b[49m\u001b[43m \u001b[49m\u001b[43mstate\u001b[49m\u001b[43m)\u001b[49m\n\u001b[1;32m    247\u001b[0m loss, _ \u001b[38;5;241m=\u001b[39m eqx\u001b[38;5;241m.\u001b[39mfilter_vmap(batch_objective, in_axes\u001b[38;5;241m=\u001b[39m(\u001b[38;5;241m0\u001b[39m, \u001b[38;5;28;01mNone\u001b[39;00m))(\n\u001b[1;32m    248\u001b[0m     params, (static, X, y)\n\u001b[1;32m    249\u001b[0m )\n\u001b[1;32m    250\u001b[0m \u001b[38;5;28mprint\u001b[39m(\u001b[38;5;124mf\u001b[39m\u001b[38;5;124m\"\u001b[39m\u001b[38;5;124mEpoch \u001b[39m\u001b[38;5;132;01m{\u001b[39;00mepoch\u001b[38;5;132;01m}\u001b[39;00m\u001b[38;5;130;01m\\t\u001b[39;00m\u001b[38;5;130;01m\\t\u001b[39;00m\u001b[38;5;124mtrain loss: \u001b[39m\u001b[38;5;132;01m{\u001b[39;00mloss\u001b[38;5;241m.\u001b[39mmean()\u001b[38;5;132;01m:\u001b[39;00m\u001b[38;5;124m.3g\u001b[39m\u001b[38;5;132;01m}\u001b[39;00m\u001b[38;5;124m ± \u001b[39m\u001b[38;5;132;01m{\u001b[39;00mloss\u001b[38;5;241m.\u001b[39mstd()\u001b[38;5;132;01m:\u001b[39;00m\u001b[38;5;124m.3g\u001b[39m\u001b[38;5;132;01m}\u001b[39;00m\u001b[38;5;124m\"\u001b[39m)\n",
      "File \u001b[0;32m~/mambaforge/envs/asysid/lib/python3.13/site-packages/equinox/_vmap_pmap.py:128\u001b[0m, in \u001b[0;36m_VmapWrapper.__call__\u001b[0;34m(self, *args, **kwargs)\u001b[0m\n\u001b[1;32m    124\u001b[0m \u001b[38;5;129m@property\u001b[39m\n\u001b[1;32m    125\u001b[0m \u001b[38;5;28;01mdef\u001b[39;00m \u001b[38;5;21m__wrapped__\u001b[39m(\u001b[38;5;28mself\u001b[39m):\n\u001b[1;32m    126\u001b[0m     \u001b[38;5;28;01mreturn\u001b[39;00m \u001b[38;5;28mself\u001b[39m\u001b[38;5;241m.\u001b[39m_fun\n\u001b[0;32m--> 128\u001b[0m \u001b[38;5;28;01mdef\u001b[39;00m \u001b[38;5;21m__call__\u001b[39m(\u001b[38;5;28mself\u001b[39m, \u001b[38;5;241m/\u001b[39m, \u001b[38;5;241m*\u001b[39margs, \u001b[38;5;241m*\u001b[39m\u001b[38;5;241m*\u001b[39mkwargs):\n\u001b[1;32m    129\u001b[0m     \u001b[38;5;28;01mif\u001b[39;00m \u001b[38;5;28mlen\u001b[39m(kwargs) \u001b[38;5;241m!=\u001b[39m \u001b[38;5;241m0\u001b[39m:\n\u001b[1;32m    130\u001b[0m         \u001b[38;5;28;01mraise\u001b[39;00m \u001b[38;5;167;01mRuntimeError\u001b[39;00m(\n\u001b[1;32m    131\u001b[0m             \u001b[38;5;124m\"\u001b[39m\u001b[38;5;124mkeyword arguments cannot be used with functions wrapped with \u001b[39m\u001b[38;5;124m\"\u001b[39m\n\u001b[1;32m    132\u001b[0m             \u001b[38;5;124m\"\u001b[39m\u001b[38;5;124m`filter_vmap`\u001b[39m\u001b[38;5;124m\"\u001b[39m\n\u001b[1;32m    133\u001b[0m         )\n",
      "\u001b[0;31mKeyboardInterrupt\u001b[0m: "
     ]
    }
   ],
   "source": [
    "%%time\n",
    "from mnist import train_mnist\n",
    "\n",
    "num_seeds = 2\n",
    "mnist_model = train_mnist(num_seeds=num_seeds, num_epochs=30)\n",
    "mnist_model"
   ]
  },
  {
   "cell_type": "markdown",
   "id": "016bdc3e-97c1-4f49-b8c3-78cd6467505d",
   "metadata": {},
   "source": [
    "### Manipulations"
   ]
  },
  {
   "cell_type": "code",
   "execution_count": 4,
   "id": "2465d961-2972-4d2e-a8bf-2ce8c3585b6d",
   "metadata": {},
   "outputs": [],
   "source": [
    "from expand import scale_neurons\n",
    "from expand import duplicate_neurons\n",
    "from expand import add_random_zero_neurons\n",
    "\n",
    "from asysid.utils.bmap import bmap\n",
    "\n",
    "\n",
    "@partial(bmap, in_axes=(eqx.if_array(0), None))\n",
    "def scale_manipulation(model, scale_factor):\n",
    "    W2 = model.layers[1].weight\n",
    "    W3 = model.layers[2].weight\n",
    "    new_W2, new_W3 = scale_neurons(w_in=W2, w_out=W3, scale_factor=scale_factor)\n",
    "    new_model = eqx.tree_at(lambda x: x.layers[1].weight, model, new_W2)\n",
    "    new_model = eqx.tree_at(lambda x: x.layers[2].weight, new_model, new_W3)\n",
    "    return new_model\n",
    "\n",
    "\n",
    "@partial(bmap, in_axes=(eqx.if_array(0), None))\n",
    "def duplicate_type_manipulation(model, duplicate_multiplier):\n",
    "    W2 = model.layers[1].weight\n",
    "    W3 = model.layers[2].weight\n",
    "    new_W2, new_W3 = duplicate_neurons(\n",
    "        w_in=W2, w_out=W3, duplicate_multiplier=duplicate_multiplier\n",
    "    )\n",
    "    new_model = eqx.tree_at(lambda x: x.layers[1].weight, model, new_W2)\n",
    "    new_model = eqx.tree_at(lambda x: x.layers[2].weight, new_model, new_W3)\n",
    "    return new_model\n",
    "\n",
    "\n",
    "@partial(bmap, in_axes=(eqx.if_array(0), None, 0))\n",
    "def zero_type_manipulation(model, num_units, key):\n",
    "    W2 = model.layers[1].weight\n",
    "    W3 = model.layers[2].weight\n",
    "    new_W2, new_W3 = add_random_zero_neurons(\n",
    "        w_in=W2, w_out=W3, num_zero_groups=num_units, neurons_per_group=1, key=key\n",
    "    )\n",
    "    new_model = eqx.tree_at(lambda x: x.layers[1].weight, model, new_W2)\n",
    "    new_model = eqx.tree_at(lambda x: x.layers[2].weight, new_model, new_W3)\n",
    "    return new_model\n",
    "\n",
    "\n",
    "@partial(bmap, in_axes=(None, 0, None))\n",
    "@partial(bmap, in_axes=(eqx.if_array(0), None, 0))\n",
    "def parameter_noise_manipulation(model, noise_scale, key):\n",
    "    W1 = model.layers[0].weight\n",
    "    W2 = model.layers[1].weight\n",
    "    W3 = model.layers[2].weight\n",
    "\n",
    "    key = jax.random.split(key, 3)\n",
    "    new_W1 = W1 + noise_scale * jax.random.normal(key[0], W1.shape)\n",
    "    new_W2 = W2 + noise_scale * jax.random.normal(key[1], W2.shape)\n",
    "    new_W3 = W3 + noise_scale * jax.random.normal(key[2], W3.shape)\n",
    "\n",
    "    new_model = eqx.tree_at(lambda x: x.layers[0].weight, model, new_W1)\n",
    "    new_model = eqx.tree_at(lambda x: x.layers[1].weight, new_model, new_W2)\n",
    "    new_model = eqx.tree_at(lambda x: x.layers[2].weight, new_model, new_W3)\n",
    "    return new_model\n",
    "\n",
    "\n",
    "def accuracy(pred_y, y):\n",
    "    target_class = jnp.argmax(y, axis=1)\n",
    "    predicted_class = jnp.argmax(pred_y, axis=1)\n",
    "    return jnp.mean(predicted_class == target_class)\n",
    "\n",
    "\n",
    "@partial(bmap, in_axes=(eqx.if_array(0), None, None))\n",
    "@partial(bmap, in_axes=(None, 0, None))\n",
    "def gen_error_input_noise(model, noise_scale, key):\n",
    "    def _forward(x):\n",
    "        return model(x)\n",
    "\n",
    "    pred_y = jax.lax.map(\n",
    "        _forward,\n",
    "        mnist_test_images\n",
    "        + noise_scale * jax.random.normal(key, mnist_test_images.shape),\n",
    "        batch_size=16,\n",
    "    )\n",
    "\n",
    "    test_error = 1 - accuracy(pred_y, mnist_test_labels)\n",
    "    return test_error"
   ]
  },
  {
   "cell_type": "markdown",
   "id": "e14619d8-7528-4cc9-9f90-f09cc39efb32",
   "metadata": {},
   "source": [
    "### Test input noise robustness"
   ]
  },
  {
   "cell_type": "code",
   "execution_count": 5,
   "id": "56500f9d-592e-479f-8301-30e981b9c317",
   "metadata": {},
   "outputs": [
    {
     "data": {
      "text/plain": [
       "Array([0.90540004, 0.9051    , 0.90485   , 0.9038    , 0.9034    ,\n",
       "       0.90265   , 0.9029    , 0.90275   , 0.90305   , 0.90209997,\n",
       "       0.90135   , 0.9008    , 0.8993    , 0.90065   , 0.89985   ,\n",
       "       0.8998    , 0.90040004, 0.90075   , 0.90035   , 0.9007    ,\n",
       "       0.9009    , 0.9002    , 0.89945   , 0.89995   , 0.9002    ,\n",
       "       0.9007    , 0.9005    , 0.90105   , 0.9009    , 0.9012    ,\n",
       "       0.90165   , 0.90225005, 0.90225   , 0.90215003, 0.90180004,\n",
       "       0.90185   , 0.9015    , 0.90155   , 0.90145004, 0.90174997],      dtype=float32)"
      ]
     },
     "execution_count": 5,
     "metadata": {},
     "output_type": "execute_result"
    }
   ],
   "source": [
    "key = jax.random.PRNGKey(37)\n",
    "data_key, zero_key = jax.random.split(key)\n",
    "noise_scales = jnp.logspace(-1, 1, num=40)\n",
    "\n",
    "task_optimized_model_input_robustness = gen_error_input_noise(\n",
    "    mnist_model, noise_scales, data_key\n",
    ")\n",
    "task_optimized_model_input_robustness.mean(0)\n",
    "\n",
    "duplicated_model_input_robustness = gen_error_input_noise(\n",
    "    scale_manipulation(mnist_model, 20), noise_scales, data_key\n",
    ")\n",
    "duplicated_model_input_robustness.mean(0)\n",
    "\n",
    "scaled_model_input_robustness = gen_error_input_noise(\n",
    "    duplicate_type_manipulation(mnist_model, 1 + 1), noise_scales, data_key\n",
    ")\n",
    "scaled_model_input_robustness.mean(0)\n",
    "\n",
    "zeroed_model_input_robustness = gen_error_input_noise(\n",
    "    zero_type_manipulation(\n",
    "        mnist_model, 1 * 1024, jax.random.split(zero_key, num_seeds)\n",
    "    ),\n",
    "    noise_scales,\n",
    "    data_key,\n",
    ")\n",
    "zeroed_model_input_robustness.mean(0)"
   ]
  },
  {
   "cell_type": "code",
   "execution_count": 6,
   "id": "c41a0e16-8cb1-4581-ad06-d51d90350781",
   "metadata": {},
   "outputs": [
    {
     "name": "stderr",
     "output_type": "stream",
     "text": [
      "/var/folders/s6/ljwd9j450xgc_mjvgjtfd8cw0000gn/T/ipykernel_35060/2297163559.py:44: UserWarning: The figure layout has changed to tight\n",
      "  plt.tight_layout()\n"
     ]
    },
    {
     "data": {
      "image/png": "[encoded data removed]",
      "text/plain": [
       "<Figure size 480x360 with 1 Axes>"
      ]
     },
     "metadata": {},
     "output_type": "display_data"
    }
   ],
   "source": [
    "plt.figure(figsize=(1.6, 1.2))\n",
    "\n",
    "# Task optimized model\n",
    "mean_task = np.mean(task_optimized_model_input_robustness, axis=0)\n",
    "std_task = np.std(task_optimized_model_input_robustness, axis=0)\n",
    "plt.plot(noise_scales, mean_task, linewidth=1, label=\"trained\")\n",
    "plt.fill_between(noise_scales, mean_task - std_task, mean_task + std_task, alpha=0.2)\n",
    "\n",
    "# Duplicated model\n",
    "mean_dup = np.mean(duplicated_model_input_robustness, axis=0)\n",
    "std_dup = np.std(duplicated_model_input_robustness, axis=0)\n",
    "plt.plot(noise_scales, mean_dup, linewidth=1, label=\"duplicate\")\n",
    "plt.fill_between(noise_scales, mean_dup - std_dup, mean_dup + std_dup, alpha=0.2)\n",
    "\n",
    "# Scaled model\n",
    "mean_scaled = np.mean(scaled_model_input_robustness, axis=0)\n",
    "std_scaled = np.std(scaled_model_input_robustness, axis=0)\n",
    "plt.plot(noise_scales, mean_scaled, linewidth=1, label=\"scaled\")\n",
    "plt.fill_between(\n",
    "    noise_scales, mean_scaled - std_scaled, mean_scaled + std_scaled, alpha=0.2\n",
    ")\n",
    "\n",
    "# Zeroed model\n",
    "mean_zeroed = np.mean(zeroed_model_input_robustness, axis=0)\n",
    "std_zeroed = np.std(zeroed_model_input_robustness, axis=0)\n",
    "plt.plot(noise_scales, mean_zeroed, linewidth=1, label=\"nuisance\")\n",
    "plt.fill_between(\n",
    "    noise_scales, mean_zeroed - std_zeroed, mean_zeroed + std_zeroed, alpha=0.2\n",
    ")\n",
    "\n",
    "plt.xscale(\"log\")\n",
    "plt.yscale(\"log\")\n",
    "plt.xlabel(\"noise scale (log)\")\n",
    "plt.ylabel(\"test error (log)\")\n",
    "plt.legend(handlelength=0.5, fontsize=5)\n",
    "\n",
    "\n",
    "plt.gca().spines[\"top\"].set_visible(False)\n",
    "plt.gca().spines[\"right\"].set_visible(False)\n",
    "\n",
    "\n",
    "plt.xlim(left=2e-3)\n",
    "plt.ylim(bottom=1e-2)\n",
    "plt.tight_layout()\n",
    "plt.savefig(\"input-noise.pdf\", format=\"pdf\", bbox_inches=\"tight\", dpi=300)"
   ]
  },
  {
   "cell_type": "markdown",
   "id": "01b85710-0b8d-420d-b23b-0331935ad1bf",
   "metadata": {},
   "source": [
    "### Test parameter noise robustness"
   ]
  },
  {
   "cell_type": "code",
   "execution_count": 7,
   "id": "b8294260-a0d9-4c45-b424-119c1e65c8d1",
   "metadata": {},
   "outputs": [],
   "source": [
    "@partial(bmap, in_axes=(eqx.if_array(0),))\n",
    "def gen_error(model):\n",
    "    \n",
    "    def _forward(x):\n",
    "        return model(x)\n",
    "\n",
    "    pred_y = jax.lax.map(\n",
    "        _forward,\n",
    "        mnist_test_images,\n",
    "        batch_size=16,\n",
    "    )\n",
    "\n",
    "    test_error = 1 - accuracy(pred_y, mnist_test_labels)\n",
    "    return test_error\n",
    "\n",
    "\n",
    "key = jax.random.PRNGKey(37)\n",
    "noise_scales = jnp.logspace(-4, 0, num=40)\n",
    "\n",
    "task_optimized_model_robustness = eqx.filter_vmap(\n",
    "    gen_error, in_axes=(eqx.if_array(0),)\n",
    ")(\n",
    "    parameter_noise_manipulation(\n",
    "        mnist_model, noise_scales, jax.random.split(key, num_seeds)\n",
    "    )\n",
    ")\n",
    "\n",
    "duplicated_model_robustness = eqx.filter_vmap(gen_error, in_axes=(eqx.if_array(0),))(\n",
    "    parameter_noise_manipulation(\n",
    "        duplicate_type_manipulation(mnist_model, 1 + 1),\n",
    "        noise_scales,\n",
    "        jax.random.split(key, num_seeds),\n",
    "    )\n",
    ")\n",
    "\n",
    "scaled_model_robustness = eqx.filter_vmap(gen_error, in_axes=(eqx.if_array(0),))(\n",
    "    parameter_noise_manipulation(\n",
    "        scale_manipulation(mnist_model, 20),\n",
    "        noise_scales,\n",
    "        jax.random.split(key, num_seeds),\n",
    "    )\n",
    ")\n",
    "\n",
    "zeroed_model_robustness = eqx.filter_vmap(gen_error, in_axes=(eqx.if_array(0),))(\n",
    "    parameter_noise_manipulation(\n",
    "        zero_type_manipulation(mnist_model, 1 * 1024, jax.random.split(key, num_seeds)),\n",
    "        noise_scales,\n",
    "        jax.random.split(key, num_seeds),\n",
    "    )\n",
    ")"
   ]
  },
  {
   "cell_type": "code",
   "execution_count": 8,
   "id": "89dec0a1-3818-46ee-a8bd-c786830530ba",
   "metadata": {
    "scrolled": true
   },
   "outputs": [
    {
     "name": "stderr",
     "output_type": "stream",
     "text": [
      "/var/folders/s6/ljwd9j450xgc_mjvgjtfd8cw0000gn/T/ipykernel_35060/3274919662.py:44: UserWarning: The figure layout has changed to tight\n",
      "  plt.tight_layout()\n"
     ]
    },
    {
     "data": {
      "image/png": "[encoded data removed]",
      "text/plain": [
       "<Figure size 480x360 with 1 Axes>"
      ]
     },
     "metadata": {},
     "output_type": "display_data"
    }
   ],
   "source": [
    "plt.figure(figsize=(1.6, 1.2))\n",
    "\n",
    "# Task optimized model\n",
    "mean_task = np.mean(task_optimized_model_robustness, axis=1)\n",
    "std_task = np.std(task_optimized_model_robustness, axis=1)\n",
    "plt.plot(noise_scales, mean_task, linewidth=1, label=\"trained\")\n",
    "plt.fill_between(noise_scales, mean_task - std_task, mean_task + std_task, alpha=0.2)\n",
    "\n",
    "# Duplicated model\n",
    "mean_dup = np.mean(duplicated_model_robustness, axis=1)\n",
    "std_dup = np.std(duplicated_model_robustness, axis=1)\n",
    "plt.plot(noise_scales, mean_dup, linewidth=1, label=\"duplicate\")\n",
    "plt.fill_between(noise_scales, mean_dup - std_dup, mean_dup + std_dup, alpha=0.2)\n",
    "\n",
    "# Scaled model\n",
    "mean_scaled = np.mean(scaled_model_robustness, axis=1)\n",
    "std_scaled = np.std(scaled_model_robustness, axis=1)\n",
    "plt.plot(noise_scales, mean_scaled, linewidth=1, label=\"scaled\")\n",
    "plt.fill_between(\n",
    "    noise_scales, mean_scaled - std_scaled, mean_scaled + std_scaled, alpha=0.2\n",
    ")\n",
    "\n",
    "# Zeroed model\n",
    "mean_zeroed = np.mean(zeroed_model_robustness, axis=1)\n",
    "std_zeroed = np.std(zeroed_model_robustness, axis=1)\n",
    "plt.plot(noise_scales, mean_zeroed, linewidth=1, label=\"nuisance\")\n",
    "plt.fill_between(\n",
    "    noise_scales, mean_zeroed - std_zeroed, mean_zeroed + std_zeroed, alpha=0.2\n",
    ")\n",
    "\n",
    "plt.xscale(\"log\")\n",
    "plt.yscale(\"log\")\n",
    "plt.xlabel(\"noise scale (log)\")\n",
    "plt.ylabel(\"test error (log)\")\n",
    "plt.legend(handlelength=0.5, fontsize=5)\n",
    "\n",
    "\n",
    "plt.gca().spines[\"top\"].set_visible(False)\n",
    "plt.gca().spines[\"right\"].set_visible(False)\n",
    "\n",
    "\n",
    "plt.xlim(left=2e-3)\n",
    "plt.ylim(bottom=1e-2)\n",
    "plt.tight_layout()\n",
    "plt.savefig(\"param-noise.pdf\", format=\"pdf\", bbox_inches=\"tight\", dpi=300)"
   ]
  },
  {
   "cell_type": "markdown",
   "id": "0ae6d8da-3c92-4ace-b8fc-66257af532c7",
   "metadata": {},
   "source": [
    "### Transferability"
   ]
  },
  {
   "cell_type": "code",
   "execution_count": 9,
   "id": "649d67e4-9f79-4d8a-b835-702106b54fe7",
   "metadata": {},
   "outputs": [],
   "source": [
    "def get_first_layer_preacts(model, inputs):\n",
    "    return model.layers[0](inputs)\n",
    "\n",
    "\n",
    "def get_first_layer_postacts(model, inputs):\n",
    "    return model.activation(get_first_layer_preacts(model, inputs))\n",
    "\n",
    "\n",
    "def get_second_layer_preacts(model, inputs):\n",
    "    return model.layers[1](get_first_layer_postacts(model, inputs))\n",
    "\n",
    "\n",
    "@partial(jax.vmap, in_axes=(None, 0))\n",
    "def get_second_layer_postacts(model, inputs):\n",
    "    return model.activation(get_second_layer_preacts(model, inputs))"
   ]
  },
  {
   "cell_type": "code",
   "execution_count": 6,
   "id": "9ae262f6-b26d-4ac5-8200-a976c4989d3c",
   "metadata": {},
   "outputs": [
    {
     "name": "stdout",
     "output_type": "stream",
     "text": [
      "[0 1 1 2 1 2 2 0 2 0]\n"
     ]
    },
    {
     "data": {
      "text/html": [
       "<script> (()=>{ if (customElements.get('treescope-container') === undefined) { class TreescopeContainer extends HTMLElement { constructor() { super(); this.attachShadow({mode: \"open\"}); this.defns = {}; this.state = {}; } } customElements.define(\"treescope-container\", TreescopeContainer); } if (customElements.get('treescope-run-here') === undefined) { class RunHere extends HTMLElement { constructor() { super() } connectedCallback() { const run = child => { const fn = new Function(child.textContent); child.textContent = \"\"; fn.call(this); this.remove(); }; const child = this.querySelector(\"script\"); if (child) { run(child); } else { new MutationObserver(()=>{ run(this.querySelector(\"script\")); }).observe(this, {childList: true}); } } } customElements.define(\"treescope-run-here\", RunHere); } })(); </script> <treescope-container class=\"treescope_out_bc077e34d6c24f3fa4e2fd36525ef8bb\" ></treescope-container> <treescope-run-here><script type=\"application/octet-stream\"> const root = ( Array.from(document.getElementsByClassName( \"treescope_out_bc077e34d6c24f3fa4e2fd36525ef8bb\")) .filter((elt) => !elt.dataset.setup) )[0]; root.dataset.setup = 1; const msg = document.createElement(\"span\"); msg.style = \"color: #cccccc; font-family: monospace;\"; msg.textContent = \"(Loading...)\"; root.state.loadingMsg = msg; root.shadowRoot.appendChild(msg); root.state.chain = new Promise((resolve, reject) => { const observer = new IntersectionObserver((entries) => { for (const entry of entries) { if (entry.isIntersecting) { resolve(); observer.disconnect(); return; } } }, {rootMargin: \"1000px\"}); window.setTimeout(() => { observer.observe(root); }, 0); }); root.state.deferring = false; const _insertNode = (node) => { for (let oldScript of node.querySelectorAll(\"script\")) { let newScript = document.createElement(\"script\"); newScript.type = oldScript.type; newScript.textContent = oldScript.textContent; oldScript.parentNode.replaceChild(newScript, oldScript); } if (root.state.loadingMsg) { root.state.loadingMsg.remove(); root.state.loadingMsg = null; } root.shadowRoot.appendChild(node); }; root.defns.insertContent = ((contentNode, compressed) => { if (compressed) { root.state.deferring = true; } if (root.state.deferring) { root.state.chain = (async () => { await root.state.chain; if (compressed) { const encoded = contentNode.textContent; const blob = new Blob([ Uint8Array.from(atob(encoded), (m) => m.codePointAt(0)) ]); const reader = blob.stream().pipeThrough( new DecompressionStream(\"deflate\") ).pipeThrough( new TextDecoderStream(\"utf-8\") ).getReader(); const parts = []; while (true) { const step = await reader.read(); if (step.done) { break; } parts.push(step.value); } const tpl = document.createElement('template'); tpl.innerHTML = parts.join(\"\"); _insertNode(tpl.content); } else { _insertNode(contentNode.content); } })(); } else { _insertNode(contentNode.content); } }); </script></treescope-run-here><div style=\"display:none\"> <script type=\"application/octet-stream\" >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</script> <treescope-run-here><script type=\"application/octet-stream\"> const root = ( Array.from(document.getElementsByClassName( \"treescope_out_bc077e34d6c24f3fa4e2fd36525ef8bb\")) .filter((elt) => !elt.dataset['step0']) )[0]; root.dataset['step0'] = 1; root.defns.insertContent( this.parentNode.querySelector('script[type=\"application/octet-stream\"]'), true ); this.parentNode.remove(); </script></treescope-run-here> </div>"
      ],
      "text/plain": [
       "<Arrayviz rendering>"
      ]
     },
     "execution_count": 6,
     "metadata": {},
     "output_type": "execute_result"
    }
   ],
   "source": [
    "def create_rotated_dataset(images, key):\n",
    "    n = len(images)\n",
    "    assert n % 4 == 0\n",
    "    split_size = n // 4\n",
    "    partitions = jnp.split(images[: split_size * 4], 4)\n",
    "\n",
    "    rot_0 = partitions[0]  # no rotation\n",
    "    rot_90 = jnp.rot90(partitions[1], k=1, axes=(1, 2))\n",
    "    rot_180 = jnp.rot90(partitions[2], k=2, axes=(1, 2))\n",
    "    rot_270 = jnp.rot90(partitions[3], k=3, axes=(1, 2))\n",
    "\n",
    "    labels_0 = jnp.zeros(split_size, dtype=jnp.int32)\n",
    "    labels_90 = jnp.ones(split_size, dtype=jnp.int32)\n",
    "    labels_180 = jnp.full(split_size, 2, dtype=jnp.int32)\n",
    "    labels_270 = jnp.full(split_size, 3, dtype=jnp.int32)\n",
    "\n",
    "    all_images = jnp.concatenate([rot_0, rot_90, rot_180, rot_270])\n",
    "    all_labels = jnp.concatenate([labels_0, labels_90, labels_180, labels_270])\n",
    "\n",
    "    perm = jax.random.permutation(key, len(all_images))\n",
    "    shuffled_images = all_images[perm]\n",
    "    shuffled_labels = all_labels[perm]\n",
    "\n",
    "    return shuffled_images, shuffled_labels\n",
    "\n",
    "\n",
    "key = jax.random.PRNGKey(432)\n",
    "rotated_images, rotation_labels = create_rotated_dataset(\n",
    "    mnist_test_images.reshape(-1, 28, 28), key\n",
    ")\n",
    "rotated_images = rotated_images.reshape(-1, 28 * 28)\n",
    "print(rotation_labels[:10])\n",
    "rotation_labels = jax.nn.one_hot(rotation_labels, 4)\n",
    "treescope.render_array(\n",
    "    rotated_images.reshape(-1, 28, 28)[:10],\n",
    "    pixels_per_cell=1,\n",
    "    columns=[2, 0],\n",
    "    axis_labels={0: \"input example\", 1: \"input dimension\", 2: \"input dimension\"},\n",
    "    vmax=1,\n",
    "    vmin=-1,\n",
    ")"
   ]
  },
  {
   "cell_type": "code",
   "execution_count": 8,
   "id": "26ddba57-3910-4051-a899-19a3ad11a4f4",
   "metadata": {},
   "outputs": [
    {
     "ename": "SyntaxError",
     "evalue": "'{' was never closed (949043496.py, line 26)",
     "output_type": "error",
     "traceback": [
      "\u001b[0;36m  Cell \u001b[0;32mIn[8], line 26\u001b[0;36m\u001b[0m\n\u001b[0;31m    cats = {\u001b[0m\n\u001b[0m           ^\u001b[0m\n\u001b[0;31mSyntaxError\u001b[0m\u001b[0;31m:\u001b[0m '{' was never closed\n"
     ]
    }
   ],
   "source": [
    "def create_coarse_grained_dataset(images, key):\n",
    "    n = len(images)\n",
    "    assert n % 4 == 0\n",
    "    split_size = n // 4\n",
    "    partitions = jnp.split(images[: split_size * 4], 4)\n",
    "\n",
    "    rot_0 = partitions[0]  # no rotation\n",
    "    rot_90 = jnp.rot90(partitions[1], k=1, axes=(1, 2))\n",
    "    rot_180 = jnp.rot90(partitions[2], k=2, axes=(1, 2))\n",
    "    rot_270 = jnp.rot90(partitions[3], k=3, axes=(1, 2))\n",
    "\n",
    "    labels_0 = jnp.zeros(split_size, dtype=jnp.int32)\n",
    "    labels_90 = jnp.ones(split_size, dtype=jnp.int32)\n",
    "    labels_180 = jnp.full(split_size, 2, dtype=jnp.int32)\n",
    "    labels_270 = jnp.full(split_size, 3, dtype=jnp.int32)\n",
    "\n",
    "    all_images = jnp.concatenate([rot_0, rot_90, rot_180, rot_270])\n",
    "    all_labels = jnp.concatenate([labels_0, labels_90, labels_180, labels_270])\n",
    "\n",
    "    perm = jax.random.permutation(key, len(all_images))\n",
    "    shuffled_images = all_images[perm]\n",
    "    shuffled_labels = all_labels[perm]\n",
    "\n",
    "    return shuffled_images, shuffled_labels\n",
    "\n",
    "# re-classify 0 to 9 by their least prime factor (or 0 or 1)\n",
    "coarse_labels =  {\n",
    "    '0': '0',\n",
    "    '1': '1',\n",
    "    '2': '2',  # prime\n",
    "    '3': '3',  # prime\n",
    "    '4': '2',\n",
    "    '5': '5',  # prime\n",
    "    '6': '2',\n",
    "    '7': '7',  # prime\n",
    "    '8': '2',\n",
    "    '9': '3',\n",
    "}\n",
    "\n",
    "key = jax.random.PRNGKey(432)\n",
    "rotated_images, rotation_labels = create_rotated_dataset(\n",
    "    mnist_test_images.reshape(-1, 28, 28), key\n",
    ")\n",
    "rotated_images = rotated_images.reshape(-1, 28 * 28)\n",
    "print(rotation_labels[:10])\n",
    "rotation_labels = jax.nn.one_hot(rotation_labels, 4)\n",
    "treescope.render_array(\n",
    "    rotated_images.reshape(-1, 28, 28)[:10],\n",
    "    pixels_per_cell=1,\n",
    "    columns=[2, 0],\n",
    "    axis_labels={0: \"input example\", 1: \"input dimension\", 2: \"input dimension\"},\n",
    "    vmax=1,\n",
    "    vmin=-1,\n",
    ")"
   ]
  },
  {
   "cell_type": "code",
   "execution_count": 11,
   "id": "db6c4d6e-cca8-4fb9-8a40-3ba1c7ba4757",
   "metadata": {},
   "outputs": [
    {
     "data": {
      "text/plain": [
       "(500,\n",
       " 1000,\n",
       " 1500,\n",
       " 2000,\n",
       " 2500,\n",
       " 3000,\n",
       " 3500,\n",
       " 4000,\n",
       " 4500,\n",
       " 5000,\n",
       " 5500,\n",
       " 6000,\n",
       " 6500,\n",
       " 7000,\n",
       " 7500,\n",
       " 8000,\n",
       " 8500,\n",
       " 9000,\n",
       " 9500,\n",
       " 10000)"
      ]
     },
     "execution_count": 11,
     "metadata": {},
     "output_type": "execute_result"
    }
   ],
   "source": [
    "from logistic import crossval_softmax_predict\n",
    "\n",
    "\n",
    "def accuracy(pred_y, y):\n",
    "    target_class = jnp.argmax(y, axis=1)\n",
    "    predicted_class = jnp.argmax(pred_y, axis=1)\n",
    "    return 1 - jnp.mean(predicted_class == target_class)\n",
    "\n",
    "\n",
    "@partial(eqx.filter_vmap, in_axes=(eqx.if_array(0), None))\n",
    "def transfer_err(model, sample_proportion):\n",
    "    n = int(sample_proportion * len(rotated_images))\n",
    "    activations = get_second_layer_postacts(model, rotated_images[:n])\n",
    "    preds = crossval_softmax_predict(\n",
    "        activations, rotation_labels[:n], num_splits=10, key=None\n",
    "    )\n",
    "    return accuracy(preds, rotation_labels[:n])\n",
    "\n",
    "\n",
    "sample_proportions = tuple(map(float, np.arange(0.05, 1.05, 0.05)))\n",
    "sample_sizes = tuple(map(lambda x: int(x * 10000), sample_proportions))\n",
    "sample_sizes"
   ]
  },
  {
   "cell_type": "code",
   "execution_count": 12,
   "id": "f23d80e5-4333-4ec3-aec9-e2ef78d297b2",
   "metadata": {},
   "outputs": [
    {
     "ename": "KeyboardInterrupt",
     "evalue": "",
     "output_type": "error",
     "traceback": [
      "\u001b[0;31m---------------------------------------------------------------------------\u001b[0m",
      "\u001b[0;31mKeyboardInterrupt\u001b[0m                         Traceback (most recent call last)",
      "Cell \u001b[0;32mIn[12], line 7\u001b[0m\n\u001b[1;32m      1\u001b[0m task_optimized_model_transferability \u001b[38;5;241m=\u001b[39m jnp\u001b[38;5;241m.\u001b[39mconcatenate(\n\u001b[1;32m      2\u001b[0m     \u001b[38;5;28mtuple\u001b[39m(transfer_err(mnist_model, prop)[\u001b[38;5;28;01mNone\u001b[39;00m, :] \u001b[38;5;28;01mfor\u001b[39;00m prop \u001b[38;5;129;01min\u001b[39;00m sample_proportions),\n\u001b[1;32m      3\u001b[0m     axis\u001b[38;5;241m=\u001b[39m\u001b[38;5;241m0\u001b[39m,\n\u001b[1;32m      4\u001b[0m )\n\u001b[1;32m      6\u001b[0m scaled_model_transferability \u001b[38;5;241m=\u001b[39m jnp\u001b[38;5;241m.\u001b[39mconcatenate(\n\u001b[0;32m----> 7\u001b[0m     \u001b[38;5;28;43mtuple\u001b[39;49m\u001b[43m(\u001b[49m\n\u001b[1;32m      8\u001b[0m \u001b[43m        \u001b[49m\u001b[43mtransfer_err\u001b[49m\u001b[43m(\u001b[49m\u001b[43mscale_manipulation\u001b[49m\u001b[43m(\u001b[49m\u001b[43mmnist_model\u001b[49m\u001b[43m,\u001b[49m\u001b[43m \u001b[49m\u001b[38;5;241;43m20\u001b[39;49m\u001b[43m)\u001b[49m\u001b[43m,\u001b[49m\u001b[43m \u001b[49m\u001b[43mprop\u001b[49m\u001b[43m)\u001b[49m\u001b[43m[\u001b[49m\u001b[38;5;28;43;01mNone\u001b[39;49;00m\u001b[43m,\u001b[49m\u001b[43m \u001b[49m\u001b[43m:\u001b[49m\u001b[43m]\u001b[49m\n\u001b[1;32m      9\u001b[0m \u001b[43m        \u001b[49m\u001b[38;5;28;43;01mfor\u001b[39;49;00m\u001b[43m \u001b[49m\u001b[43mprop\u001b[49m\u001b[43m \u001b[49m\u001b[38;5;129;43;01min\u001b[39;49;00m\u001b[43m \u001b[49m\u001b[43msample_proportions\u001b[49m\n\u001b[1;32m     10\u001b[0m \u001b[43m    \u001b[49m\u001b[43m)\u001b[49m,\n\u001b[1;32m     11\u001b[0m     axis\u001b[38;5;241m=\u001b[39m\u001b[38;5;241m0\u001b[39m,\n\u001b[1;32m     12\u001b[0m )\n\u001b[1;32m     14\u001b[0m duplicated_model_transferability \u001b[38;5;241m=\u001b[39m jnp\u001b[38;5;241m.\u001b[39mconcatenate(\n\u001b[1;32m     15\u001b[0m     \u001b[38;5;28mtuple\u001b[39m(\n\u001b[1;32m     16\u001b[0m         transfer_err(duplicate_type_manipulation(mnist_model, \u001b[38;5;241m1.2\u001b[39m), prop)[\u001b[38;5;28;01mNone\u001b[39;00m, :]\n\u001b[0;32m   (...)\u001b[0m\n\u001b[1;32m     19\u001b[0m     axis\u001b[38;5;241m=\u001b[39m\u001b[38;5;241m0\u001b[39m,\n\u001b[1;32m     20\u001b[0m )\n\u001b[1;32m     22\u001b[0m zeroed_model_transferability \u001b[38;5;241m=\u001b[39m jnp\u001b[38;5;241m.\u001b[39mconcatenate(\n\u001b[1;32m     23\u001b[0m     \u001b[38;5;28mtuple\u001b[39m(\n\u001b[1;32m     24\u001b[0m         transfer_err(\n\u001b[0;32m   (...)\u001b[0m\n\u001b[1;32m     32\u001b[0m     axis\u001b[38;5;241m=\u001b[39m\u001b[38;5;241m0\u001b[39m,\n\u001b[1;32m     33\u001b[0m )\n",
      "Cell \u001b[0;32mIn[12], line 8\u001b[0m, in \u001b[0;36m<genexpr>\u001b[0;34m(.0)\u001b[0m\n\u001b[1;32m      1\u001b[0m task_optimized_model_transferability \u001b[38;5;241m=\u001b[39m jnp\u001b[38;5;241m.\u001b[39mconcatenate(\n\u001b[1;32m      2\u001b[0m     \u001b[38;5;28mtuple\u001b[39m(transfer_err(mnist_model, prop)[\u001b[38;5;28;01mNone\u001b[39;00m, :] \u001b[38;5;28;01mfor\u001b[39;00m prop \u001b[38;5;129;01min\u001b[39;00m sample_proportions),\n\u001b[1;32m      3\u001b[0m     axis\u001b[38;5;241m=\u001b[39m\u001b[38;5;241m0\u001b[39m,\n\u001b[1;32m      4\u001b[0m )\n\u001b[1;32m      6\u001b[0m scaled_model_transferability \u001b[38;5;241m=\u001b[39m jnp\u001b[38;5;241m.\u001b[39mconcatenate(\n\u001b[1;32m      7\u001b[0m     \u001b[38;5;28mtuple\u001b[39m(\n\u001b[0;32m----> 8\u001b[0m         \u001b[43mtransfer_err\u001b[49m\u001b[43m(\u001b[49m\u001b[43mscale_manipulation\u001b[49m\u001b[43m(\u001b[49m\u001b[43mmnist_model\u001b[49m\u001b[43m,\u001b[49m\u001b[43m \u001b[49m\u001b[38;5;241;43m20\u001b[39;49m\u001b[43m)\u001b[49m\u001b[43m,\u001b[49m\u001b[43m \u001b[49m\u001b[43mprop\u001b[49m\u001b[43m)\u001b[49m[\u001b[38;5;28;01mNone\u001b[39;00m, :]\n\u001b[1;32m      9\u001b[0m         \u001b[38;5;28;01mfor\u001b[39;00m prop \u001b[38;5;129;01min\u001b[39;00m sample_proportions\n\u001b[1;32m     10\u001b[0m     ),\n\u001b[1;32m     11\u001b[0m     axis\u001b[38;5;241m=\u001b[39m\u001b[38;5;241m0\u001b[39m,\n\u001b[1;32m     12\u001b[0m )\n\u001b[1;32m     14\u001b[0m duplicated_model_transferability \u001b[38;5;241m=\u001b[39m jnp\u001b[38;5;241m.\u001b[39mconcatenate(\n\u001b[1;32m     15\u001b[0m     \u001b[38;5;28mtuple\u001b[39m(\n\u001b[1;32m     16\u001b[0m         transfer_err(duplicate_type_manipulation(mnist_model, \u001b[38;5;241m1.2\u001b[39m), prop)[\u001b[38;5;28;01mNone\u001b[39;00m, :]\n\u001b[0;32m   (...)\u001b[0m\n\u001b[1;32m     19\u001b[0m     axis\u001b[38;5;241m=\u001b[39m\u001b[38;5;241m0\u001b[39m,\n\u001b[1;32m     20\u001b[0m )\n\u001b[1;32m     22\u001b[0m zeroed_model_transferability \u001b[38;5;241m=\u001b[39m jnp\u001b[38;5;241m.\u001b[39mconcatenate(\n\u001b[1;32m     23\u001b[0m     \u001b[38;5;28mtuple\u001b[39m(\n\u001b[1;32m     24\u001b[0m         transfer_err(\n\u001b[0;32m   (...)\u001b[0m\n\u001b[1;32m     32\u001b[0m     axis\u001b[38;5;241m=\u001b[39m\u001b[38;5;241m0\u001b[39m,\n\u001b[1;32m     33\u001b[0m )\n",
      "File \u001b[0;32m~/mambaforge/envs/asysid/lib/python3.13/site-packages/equinox/_vmap_pmap.py:169\u001b[0m, in \u001b[0;36m_VmapWrapper.__call__\u001b[0;34m(***failed resolving arguments***)\u001b[0m\n\u001b[1;32m    164\u001b[0m         \u001b[38;5;28;01mraise\u001b[39;00m \u001b[38;5;167;01mValueError\u001b[39;00m(\n\u001b[1;32m    165\u001b[0m             \u001b[38;5;124m\"\u001b[39m\u001b[38;5;124mCannot resolve batch dimension. Non-`None` `out_axes` requires \u001b[39m\u001b[38;5;124m\"\u001b[39m\n\u001b[1;32m    166\u001b[0m             \u001b[38;5;124m\"\u001b[39m\u001b[38;5;124meither `in_axes` or `axis_size` to be not `None`.\u001b[39m\u001b[38;5;124m\"\u001b[39m\n\u001b[1;32m    167\u001b[0m         )\n\u001b[1;32m    168\u001b[0m \u001b[38;5;28;01melse\u001b[39;00m:\n\u001b[0;32m--> 169\u001b[0m     vmapd, nonvmapd_arr, static \u001b[38;5;241m=\u001b[39m \u001b[43mjax\u001b[49m\u001b[38;5;241;43m.\u001b[39;49m\u001b[43mvmap\u001b[49m\u001b[43m(\u001b[49m\n\u001b[1;32m    170\u001b[0m \u001b[43m        \u001b[49m\u001b[43m_fun_wrapper\u001b[49m\u001b[43m,\u001b[49m\n\u001b[1;32m    171\u001b[0m \u001b[43m        \u001b[49m\u001b[43min_axes\u001b[49m\u001b[38;5;241;43m=\u001b[39;49m\u001b[43m(\u001b[49m\u001b[43min_axes\u001b[49m\u001b[43m,\u001b[49m\u001b[43m)\u001b[49m\u001b[43m,\u001b[49m\n\u001b[1;32m    172\u001b[0m \u001b[43m        \u001b[49m\u001b[43mout_axes\u001b[49m\u001b[38;5;241;43m=\u001b[39;49m\u001b[43m(\u001b[49m\u001b[38;5;241;43m0\u001b[39;49m\u001b[43m,\u001b[49m\u001b[43m \u001b[49m\u001b[38;5;28;43;01mNone\u001b[39;49;00m\u001b[43m,\u001b[49m\u001b[43m \u001b[49m\u001b[38;5;28;43;01mNone\u001b[39;49;00m\u001b[43m)\u001b[49m\u001b[43m,\u001b[49m\n\u001b[1;32m    173\u001b[0m \u001b[43m        \u001b[49m\u001b[43maxis_name\u001b[49m\u001b[38;5;241;43m=\u001b[39;49m\u001b[38;5;28;43mself\u001b[39;49m\u001b[38;5;241;43m.\u001b[39;49m\u001b[43m_axis_name\u001b[49m\u001b[43m,\u001b[49m\n\u001b[1;32m    174\u001b[0m \u001b[43m        \u001b[49m\u001b[43maxis_size\u001b[49m\u001b[38;5;241;43m=\u001b[39;49m\u001b[38;5;28;43mself\u001b[39;49m\u001b[38;5;241;43m.\u001b[39;49m\u001b[43m_axis_size\u001b[49m\u001b[43m,\u001b[49m\n\u001b[1;32m    175\u001b[0m \u001b[43m        \u001b[49m\u001b[38;5;241;43m*\u001b[39;49m\u001b[38;5;241;43m*\u001b[39;49m\u001b[38;5;28;43mself\u001b[39;49m\u001b[38;5;241;43m.\u001b[39;49m\u001b[43m_vmapkwargs\u001b[49m\u001b[43m,\u001b[49m\n\u001b[1;32m    176\u001b[0m \u001b[43m    \u001b[49m\u001b[43m)\u001b[49m\u001b[43m(\u001b[49m\u001b[43mdynamic_args\u001b[49m\u001b[43m)\u001b[49m\n\u001b[1;32m    178\u001b[0m nonvmapd_static, out_axes \u001b[38;5;241m=\u001b[39m static\u001b[38;5;241m.\u001b[39mvalue\n\u001b[1;32m    179\u001b[0m nonvmapd \u001b[38;5;241m=\u001b[39m combine(nonvmapd_arr, nonvmapd_static)\n",
      "    \u001b[0;31m[... skipping hidden 1 frame]\u001b[0m\n",
      "File \u001b[0;32m~/mambaforge/envs/asysid/lib/python3.13/site-packages/jax/_src/api.py:994\u001b[0m, in \u001b[0;36mvmap.<locals>.vmap_f\u001b[0;34m(*args, **kwargs)\u001b[0m\n\u001b[1;32m    992\u001b[0m \u001b[38;5;28;01mtry\u001b[39;00m:\n\u001b[1;32m    993\u001b[0m   axis_data \u001b[38;5;241m=\u001b[39m batching\u001b[38;5;241m.\u001b[39mAxisData(axis_name, axis_size_, spmd_axis_name)\n\u001b[0;32m--> 994\u001b[0m   out_flat \u001b[38;5;241m=\u001b[39m \u001b[43mbatching\u001b[49m\u001b[38;5;241;43m.\u001b[39;49m\u001b[43mbatch\u001b[49m\u001b[43m(\u001b[49m\n\u001b[1;32m    995\u001b[0m \u001b[43m      \u001b[49m\u001b[43mflat_fun\u001b[49m\u001b[43m,\u001b[49m\u001b[43m \u001b[49m\u001b[43maxis_data\u001b[49m\u001b[43m,\u001b[49m\u001b[43m \u001b[49m\u001b[43min_axes_flat\u001b[49m\u001b[43m,\u001b[49m\n\u001b[1;32m    996\u001b[0m \u001b[43m      \u001b[49m\u001b[38;5;28;43;01mlambda\u001b[39;49;00m\u001b[43m:\u001b[49m\u001b[43m \u001b[49m\u001b[43mflatten_axes\u001b[49m\u001b[43m(\u001b[49m\u001b[38;5;124;43m\"\u001b[39;49m\u001b[38;5;124;43mvmap out_axes\u001b[39;49m\u001b[38;5;124;43m\"\u001b[39;49m\u001b[43m,\u001b[49m\u001b[43m \u001b[49m\u001b[43mout_tree\u001b[49m\u001b[43m(\u001b[49m\u001b[43m)\u001b[49m\u001b[43m,\u001b[49m\u001b[43m \u001b[49m\u001b[43mout_axes\u001b[49m\u001b[43m)\u001b[49m\n\u001b[1;32m    997\u001b[0m \u001b[43m  \u001b[49m\u001b[43m)\u001b[49m\u001b[38;5;241;43m.\u001b[39;49m\u001b[43mcall_wrapped\u001b[49m\u001b[43m(\u001b[49m\u001b[38;5;241;43m*\u001b[39;49m\u001b[43margs_flat\u001b[49m\u001b[43m)\u001b[49m\n\u001b[1;32m    998\u001b[0m \u001b[38;5;28;01mexcept\u001b[39;00m batching\u001b[38;5;241m.\u001b[39mSpecMatchError \u001b[38;5;28;01mas\u001b[39;00m e:\n\u001b[1;32m    999\u001b[0m   out_axes_flat \u001b[38;5;241m=\u001b[39m flatten_axes(\u001b[38;5;124m\"\u001b[39m\u001b[38;5;124mvmap out_axes\u001b[39m\u001b[38;5;124m\"\u001b[39m, out_tree(), out_axes)\n",
      "File \u001b[0;32m~/mambaforge/envs/asysid/lib/python3.13/site-packages/jax/_src/linear_util.py:187\u001b[0m, in \u001b[0;36mWrappedFun.call_wrapped\u001b[0;34m(self, *args, **kwargs)\u001b[0m\n\u001b[1;32m    185\u001b[0m \u001b[38;5;28;01mdef\u001b[39;00m \u001b[38;5;21mcall_wrapped\u001b[39m(\u001b[38;5;28mself\u001b[39m, \u001b[38;5;241m*\u001b[39margs, \u001b[38;5;241m*\u001b[39m\u001b[38;5;241m*\u001b[39mkwargs):\n\u001b[1;32m    186\u001b[0m \u001b[38;5;250m  \u001b[39m\u001b[38;5;124;03m\"\"\"Calls the transformed function\"\"\"\u001b[39;00m\n\u001b[0;32m--> 187\u001b[0m   \u001b[38;5;28;01mreturn\u001b[39;00m \u001b[38;5;28;43mself\u001b[39;49m\u001b[38;5;241;43m.\u001b[39;49m\u001b[43mf_transformed\u001b[49m\u001b[43m(\u001b[49m\u001b[38;5;241;43m*\u001b[39;49m\u001b[43margs\u001b[49m\u001b[43m,\u001b[49m\u001b[43m \u001b[49m\u001b[38;5;241;43m*\u001b[39;49m\u001b[38;5;241;43m*\u001b[39;49m\u001b[43mkwargs\u001b[49m\u001b[43m)\u001b[49m\n",
      "File \u001b[0;32m~/mambaforge/envs/asysid/lib/python3.13/site-packages/jax/_src/interpreters/batching.py:589\u001b[0m, in \u001b[0;36m_batch_outer\u001b[0;34m(f, axis_data, in_dims, *in_vals)\u001b[0m\n\u001b[1;32m    587\u001b[0m tag \u001b[38;5;241m=\u001b[39m TraceTag()\n\u001b[1;32m    588\u001b[0m \u001b[38;5;28;01mwith\u001b[39;00m source_info_util\u001b[38;5;241m.\u001b[39mtransform_name_stack(\u001b[38;5;124m'\u001b[39m\u001b[38;5;124mvmap\u001b[39m\u001b[38;5;124m'\u001b[39m):\n\u001b[0;32m--> 589\u001b[0m   outs, trace \u001b[38;5;241m=\u001b[39m \u001b[43mf\u001b[49m\u001b[43m(\u001b[49m\u001b[43mtag\u001b[49m\u001b[43m,\u001b[49m\u001b[43m \u001b[49m\u001b[43min_dims\u001b[49m\u001b[43m,\u001b[49m\u001b[43m \u001b[49m\u001b[38;5;241;43m*\u001b[39;49m\u001b[43min_vals\u001b[49m\u001b[43m)\u001b[49m\n\u001b[1;32m    590\u001b[0m \u001b[38;5;28;01mwith\u001b[39;00m core\u001b[38;5;241m.\u001b[39mensure_no_leaks(trace): \u001b[38;5;28;01mdel\u001b[39;00m trace\n\u001b[1;32m    591\u001b[0m \u001b[38;5;28;01mreturn\u001b[39;00m outs\n",
      "File \u001b[0;32m~/mambaforge/envs/asysid/lib/python3.13/site-packages/jax/_src/interpreters/batching.py:604\u001b[0m, in \u001b[0;36m_batch_inner\u001b[0;34m(f, axis_data, out_dim_dests, tag, in_dims, *in_vals)\u001b[0m\n\u001b[1;32m    600\u001b[0m   in_tracers \u001b[38;5;241m=\u001b[39m \u001b[38;5;28mmap\u001b[39m(partial(to_elt, trace, idx), in_vals, in_dims)\n\u001b[1;32m    601\u001b[0m   \u001b[38;5;28;01mwith\u001b[39;00m (core\u001b[38;5;241m.\u001b[39mset_current_trace(trace),\n\u001b[1;32m    602\u001b[0m         core\u001b[38;5;241m.\u001b[39mextend_axis_env_nd([(axis_data\u001b[38;5;241m.\u001b[39mname, axis_data\u001b[38;5;241m.\u001b[39msize)]),\n\u001b[1;32m    603\u001b[0m         core\u001b[38;5;241m.\u001b[39madd_spmd_axis_names(axis_data\u001b[38;5;241m.\u001b[39mspmd_name)):\n\u001b[0;32m--> 604\u001b[0m     outs \u001b[38;5;241m=\u001b[39m \u001b[43mf\u001b[49m\u001b[43m(\u001b[49m\u001b[38;5;241;43m*\u001b[39;49m\u001b[43min_tracers\u001b[49m\u001b[43m)\u001b[49m\n\u001b[1;32m    606\u001b[0m out_dim_dests \u001b[38;5;241m=\u001b[39m out_dim_dests() \u001b[38;5;28;01mif\u001b[39;00m \u001b[38;5;28mcallable\u001b[39m(out_dim_dests) \u001b[38;5;28;01melse\u001b[39;00m out_dim_dests\n\u001b[1;32m    607\u001b[0m out_vals \u001b[38;5;241m=\u001b[39m \u001b[38;5;28mmap\u001b[39m(partial(from_elt, trace, axis_data\u001b[38;5;241m.\u001b[39msize), \u001b[38;5;28mrange\u001b[39m(\u001b[38;5;28mlen\u001b[39m(outs)),\n\u001b[1;32m    608\u001b[0m                outs, out_dim_dests)\n",
      "File \u001b[0;32m~/mambaforge/envs/asysid/lib/python3.13/site-packages/jax/_src/interpreters/batching.py:333\u001b[0m, in \u001b[0;36mflatten_fun_for_vmap\u001b[0;34m(f, store, in_tree, *args_flat)\u001b[0m\n\u001b[1;32m    330\u001b[0m \u001b[38;5;129m@lu\u001b[39m\u001b[38;5;241m.\u001b[39mtransformation_with_aux2\n\u001b[1;32m    331\u001b[0m \u001b[38;5;28;01mdef\u001b[39;00m \u001b[38;5;21mflatten_fun_for_vmap\u001b[39m(f, store, in_tree, \u001b[38;5;241m*\u001b[39margs_flat):\n\u001b[1;32m    332\u001b[0m   py_args, py_kwargs \u001b[38;5;241m=\u001b[39m tree_unflatten(in_tree, args_flat)\n\u001b[0;32m--> 333\u001b[0m   ans \u001b[38;5;241m=\u001b[39m \u001b[43mf\u001b[49m\u001b[43m(\u001b[49m\u001b[38;5;241;43m*\u001b[39;49m\u001b[43mpy_args\u001b[49m\u001b[43m,\u001b[49m\u001b[43m \u001b[49m\u001b[38;5;241;43m*\u001b[39;49m\u001b[38;5;241;43m*\u001b[39;49m\u001b[43mpy_kwargs\u001b[49m\u001b[43m)\u001b[49m\n\u001b[1;32m    334\u001b[0m   ans, out_tree \u001b[38;5;241m=\u001b[39m tree_flatten(ans, is_leaf\u001b[38;5;241m=\u001b[39mis_vmappable)\n\u001b[1;32m    335\u001b[0m   store\u001b[38;5;241m.\u001b[39mstore(out_tree)\n",
      "File \u001b[0;32m~/mambaforge/envs/asysid/lib/python3.13/site-packages/equinox/_vmap_pmap.py:154\u001b[0m, in \u001b[0;36m_VmapWrapper.__call__.<locals>._fun_wrapper\u001b[0;34m(_dynamic_args)\u001b[0m\n\u001b[1;32m    152\u001b[0m \u001b[38;5;28;01mdef\u001b[39;00m \u001b[38;5;21m_fun_wrapper\u001b[39m(_dynamic_args):\n\u001b[1;32m    153\u001b[0m     _args \u001b[38;5;241m=\u001b[39m combine(_dynamic_args, static_args)\n\u001b[0;32m--> 154\u001b[0m     _out \u001b[38;5;241m=\u001b[39m \u001b[38;5;28;43mself\u001b[39;49m\u001b[38;5;241;43m.\u001b[39;49m\u001b[43m_fun\u001b[49m\u001b[43m(\u001b[49m\u001b[38;5;241;43m*\u001b[39;49m\u001b[43m_args\u001b[49m\u001b[43m)\u001b[49m\n\u001b[1;32m    155\u001b[0m     _out_axes \u001b[38;5;241m=\u001b[39m _resolve_axes(_out, \u001b[38;5;28mself\u001b[39m\u001b[38;5;241m.\u001b[39m_out_axes)\n\u001b[1;32m    156\u001b[0m     _none_axes \u001b[38;5;241m=\u001b[39m jtu\u001b[38;5;241m.\u001b[39mtree_map(_is_none, _out_axes, is_leaf\u001b[38;5;241m=\u001b[39m_is_none)\n",
      "Cell \u001b[0;32mIn[11], line 14\u001b[0m, in \u001b[0;36mtransfer_err\u001b[0;34m(model, sample_proportion)\u001b[0m\n\u001b[1;32m     12\u001b[0m n \u001b[38;5;241m=\u001b[39m \u001b[38;5;28mint\u001b[39m(sample_proportion \u001b[38;5;241m*\u001b[39m \u001b[38;5;28mlen\u001b[39m(rotated_images))\n\u001b[1;32m     13\u001b[0m activations \u001b[38;5;241m=\u001b[39m get_second_layer_postacts(model, rotated_images[:n])\n\u001b[0;32m---> 14\u001b[0m preds \u001b[38;5;241m=\u001b[39m \u001b[43mcrossval_softmax_predict\u001b[49m\u001b[43m(\u001b[49m\n\u001b[1;32m     15\u001b[0m \u001b[43m    \u001b[49m\u001b[43mactivations\u001b[49m\u001b[43m,\u001b[49m\u001b[43m \u001b[49m\u001b[43mrotation_labels\u001b[49m\u001b[43m[\u001b[49m\u001b[43m:\u001b[49m\u001b[43mn\u001b[49m\u001b[43m]\u001b[49m\u001b[43m,\u001b[49m\u001b[43m \u001b[49m\u001b[43mnum_splits\u001b[49m\u001b[38;5;241;43m=\u001b[39;49m\u001b[38;5;241;43m10\u001b[39;49m\u001b[43m,\u001b[49m\u001b[43m \u001b[49m\u001b[43mkey\u001b[49m\u001b[38;5;241;43m=\u001b[39;49m\u001b[38;5;28;43;01mNone\u001b[39;49;00m\n\u001b[1;32m     16\u001b[0m \u001b[43m\u001b[49m\u001b[43m)\u001b[49m\n\u001b[1;32m     17\u001b[0m \u001b[38;5;28;01mreturn\u001b[39;00m accuracy(preds, rotation_labels[:n])\n",
      "File \u001b[0;32m~/code/dissociation/results/fig4/logistic.py:139\u001b[0m, in \u001b[0;36mcrossval_softmax_predict\u001b[0;34m(***failed resolving arguments***)\u001b[0m\n\u001b[1;32m    137\u001b[0m \u001b[38;5;250m\u001b[39m\u001b[38;5;124;03m\"\"\"Make cross-validated predictions with softmax regression.\"\"\"\u001b[39;00m\n\u001b[1;32m    138\u001b[0m \u001b[38;5;28;01mdel\u001b[39;00m key\n\u001b[0;32m--> 139\u001b[0m \u001b[38;5;28;01mreturn\u001b[39;00m \u001b[43m_kfold_predict\u001b[49m\u001b[43m(\u001b[49m\u001b[43mx\u001b[49m\u001b[38;5;241;43m=\u001b[39;49m\u001b[43mx\u001b[49m\u001b[43m,\u001b[49m\u001b[43m \u001b[49m\u001b[43my\u001b[49m\u001b[38;5;241;43m=\u001b[39;49m\u001b[43my\u001b[49m\u001b[43m,\u001b[49m\u001b[43m \u001b[49m\u001b[43mnum_splits\u001b[49m\u001b[38;5;241;43m=\u001b[39;49m\u001b[43mnum_splits\u001b[49m\u001b[43m,\u001b[49m\u001b[43m \u001b[49m\u001b[43msolver\u001b[49m\u001b[38;5;241;43m=\u001b[39;49m\u001b[43msolve_softmax\u001b[49m\u001b[43m)\u001b[49m\n",
      "File \u001b[0;32m~/code/dissociation/results/fig4/logistic.py:100\u001b[0m, in \u001b[0;36m_kfold_predict\u001b[0;34m(x, y, num_splits, solver)\u001b[0m\n\u001b[1;32m     93\u001b[0m \u001b[38;5;28;01mdef\u001b[39;00m \u001b[38;5;21m_kfold_predict\u001b[39m(\n\u001b[1;32m     94\u001b[0m     x: Array,\n\u001b[1;32m     95\u001b[0m     y: Array,\n\u001b[1;32m     96\u001b[0m     num_splits: \u001b[38;5;28mint\u001b[39m,\n\u001b[1;32m     97\u001b[0m     solver: RegressionSolver,\n\u001b[1;32m     98\u001b[0m ) \u001b[38;5;241m-\u001b[39m\u001b[38;5;241m>\u001b[39m Array:\n\u001b[1;32m     99\u001b[0m \u001b[38;5;250m    \u001b[39m\u001b[38;5;124;03m\"\"\"Make predictions using k-fold cross-validation.\"\"\"\u001b[39;00m\n\u001b[0;32m--> 100\u001b[0m     fold_predictions \u001b[38;5;241m=\u001b[39m \u001b[43mkfold_op\u001b[49m\u001b[43m(\u001b[49m\n\u001b[1;32m    101\u001b[0m \u001b[43m        \u001b[49m\u001b[43mx\u001b[49m\u001b[38;5;241;43m=\u001b[39;49m\u001b[43mx\u001b[49m\u001b[43m,\u001b[49m\n\u001b[1;32m    102\u001b[0m \u001b[43m        \u001b[49m\u001b[43my\u001b[49m\u001b[38;5;241;43m=\u001b[39;49m\u001b[43my\u001b[49m\u001b[43m,\u001b[49m\n\u001b[1;32m    103\u001b[0m \u001b[43m        \u001b[49m\u001b[43mnum_splits\u001b[49m\u001b[38;5;241;43m=\u001b[39;49m\u001b[43mnum_splits\u001b[49m\u001b[43m,\u001b[49m\n\u001b[1;32m    104\u001b[0m \u001b[43m        \u001b[49m\u001b[43mfold_op\u001b[49m\u001b[38;5;241;43m=\u001b[39;49m\u001b[43mpartial\u001b[49m\u001b[43m(\u001b[49m\n\u001b[1;32m    105\u001b[0m \u001b[43m            \u001b[49m\u001b[43m_predict_without_test_labels\u001b[49m\u001b[43m,\u001b[49m\n\u001b[1;32m    106\u001b[0m \u001b[43m            \u001b[49m\u001b[43msolver\u001b[49m\u001b[38;5;241;43m=\u001b[39;49m\u001b[43msolver\u001b[49m\u001b[43m,\u001b[49m\n\u001b[1;32m    107\u001b[0m \u001b[43m        \u001b[49m\u001b[43m)\u001b[49m\u001b[43m,\u001b[49m\n\u001b[1;32m    108\u001b[0m \u001b[43m    \u001b[49m\u001b[43m)\u001b[49m\n\u001b[1;32m    109\u001b[0m     \u001b[38;5;28;01mreturn\u001b[39;00m fold_predictions\u001b[38;5;241m.\u001b[39mreshape((x\u001b[38;5;241m.\u001b[39mshape[\u001b[38;5;241m0\u001b[39m], \u001b[38;5;241m-\u001b[39m\u001b[38;5;241m1\u001b[39m))\n",
      "File \u001b[0;32m~/code/dissociation/results/fig4/crossval.py:72\u001b[0m, in \u001b[0;36mkfold_op\u001b[0;34m(x, y, num_splits, fold_op)\u001b[0m\n\u001b[1;32m     59\u001b[0m starts \u001b[38;5;241m=\u001b[39m jnp\u001b[38;5;241m.\u001b[39marange(num_splits) \u001b[38;5;241m*\u001b[39m size\n\u001b[1;32m     61\u001b[0m vmapped_fold_op \u001b[38;5;241m=\u001b[39m jax\u001b[38;5;241m.\u001b[39mjit(\n\u001b[1;32m     62\u001b[0m     jax\u001b[38;5;241m.\u001b[39mvmap(\n\u001b[1;32m     63\u001b[0m         partial(\n\u001b[0;32m   (...)\u001b[0m\n\u001b[1;32m     69\u001b[0m     static_argnums\u001b[38;5;241m=\u001b[39m(\u001b[38;5;241m3\u001b[39m,),\n\u001b[1;32m     70\u001b[0m )\n\u001b[0;32m---> 72\u001b[0m \u001b[38;5;28;01mreturn\u001b[39;00m \u001b[43mvmapped_fold_op\u001b[49m\u001b[43m(\u001b[49m\u001b[43mx\u001b[49m\u001b[43m,\u001b[49m\u001b[43m \u001b[49m\u001b[43my\u001b[49m\u001b[43m,\u001b[49m\u001b[43m \u001b[49m\u001b[43mstarts\u001b[49m\u001b[43m,\u001b[49m\u001b[43m \u001b[49m\u001b[43msize\u001b[49m\u001b[43m)\u001b[49m\n",
      "    \u001b[0;31m[... skipping hidden 1 frame]\u001b[0m\n",
      "File \u001b[0;32m~/mambaforge/envs/asysid/lib/python3.13/site-packages/jax/_src/pjit.py:337\u001b[0m, in \u001b[0;36m_cpp_pjit.<locals>.cache_miss\u001b[0;34m(*args, **kwargs)\u001b[0m\n\u001b[1;32m    332\u001b[0m \u001b[38;5;28;01mif\u001b[39;00m config\u001b[38;5;241m.\u001b[39mno_tracing\u001b[38;5;241m.\u001b[39mvalue:\n\u001b[1;32m    333\u001b[0m   \u001b[38;5;28;01mraise\u001b[39;00m \u001b[38;5;167;01mRuntimeError\u001b[39;00m(\u001b[38;5;124mf\u001b[39m\u001b[38;5;124m\"\u001b[39m\u001b[38;5;124mre-tracing function \u001b[39m\u001b[38;5;132;01m{\u001b[39;00mjit_info\u001b[38;5;241m.\u001b[39mfun_sourceinfo\u001b[38;5;132;01m}\u001b[39;00m\u001b[38;5;124m for \u001b[39m\u001b[38;5;124m\"\u001b[39m\n\u001b[1;32m    334\u001b[0m                      \u001b[38;5;124m\"\u001b[39m\u001b[38;5;124m`jit`, but \u001b[39m\u001b[38;5;124m'\u001b[39m\u001b[38;5;124mno_tracing\u001b[39m\u001b[38;5;124m'\u001b[39m\u001b[38;5;124m is set\u001b[39m\u001b[38;5;124m\"\u001b[39m)\n\u001b[1;32m    336\u001b[0m (outs, out_flat, out_tree, args_flat, jaxpr, attrs_tracked, executable,\n\u001b[0;32m--> 337\u001b[0m  pgle_profiler) \u001b[38;5;241m=\u001b[39m \u001b[43m_python_pjit_helper\u001b[49m\u001b[43m(\u001b[49m\u001b[43mfun\u001b[49m\u001b[43m,\u001b[49m\u001b[43m \u001b[49m\u001b[43mjit_info\u001b[49m\u001b[43m,\u001b[49m\u001b[43m \u001b[49m\u001b[38;5;241;43m*\u001b[39;49m\u001b[43margs\u001b[49m\u001b[43m,\u001b[49m\u001b[43m \u001b[49m\u001b[38;5;241;43m*\u001b[39;49m\u001b[38;5;241;43m*\u001b[39;49m\u001b[43mkwargs\u001b[49m\u001b[43m)\u001b[49m\n\u001b[1;32m    339\u001b[0m maybe_fastpath_data \u001b[38;5;241m=\u001b[39m _get_fastpath_data(\n\u001b[1;32m    340\u001b[0m     executable, out_tree, args_flat, out_flat, attrs_tracked, jaxpr\u001b[38;5;241m.\u001b[39meffects,\n\u001b[1;32m    341\u001b[0m     jaxpr\u001b[38;5;241m.\u001b[39mconsts, jit_info\u001b[38;5;241m.\u001b[39mabstracted_axes,\n\u001b[1;32m    342\u001b[0m     pgle_profiler)\n\u001b[1;32m    344\u001b[0m \u001b[38;5;28;01mreturn\u001b[39;00m outs, maybe_fastpath_data, _need_to_rebuild_with_fdo(pgle_profiler)\n",
      "File \u001b[0;32m~/mambaforge/envs/asysid/lib/python3.13/site-packages/jax/_src/pjit.py:197\u001b[0m, in \u001b[0;36m_python_pjit_helper\u001b[0;34m(fun, jit_info, *args, **kwargs)\u001b[0m\n\u001b[1;32m    195\u001b[0m   out_flat, compiled, profiler \u001b[38;5;241m=\u001b[39m _pjit_call_impl_python(\u001b[38;5;241m*\u001b[39margs_flat, \u001b[38;5;241m*\u001b[39m\u001b[38;5;241m*\u001b[39mp\u001b[38;5;241m.\u001b[39mparams)\n\u001b[1;32m    196\u001b[0m \u001b[38;5;28;01melse\u001b[39;00m:\n\u001b[0;32m--> 197\u001b[0m   out_flat \u001b[38;5;241m=\u001b[39m \u001b[43mpjit_p\u001b[49m\u001b[38;5;241;43m.\u001b[39;49m\u001b[43mbind\u001b[49m\u001b[43m(\u001b[49m\u001b[38;5;241;43m*\u001b[39;49m\u001b[43margs_flat\u001b[49m\u001b[43m,\u001b[49m\u001b[43m \u001b[49m\u001b[38;5;241;43m*\u001b[39;49m\u001b[38;5;241;43m*\u001b[39;49m\u001b[43mp\u001b[49m\u001b[38;5;241;43m.\u001b[39;49m\u001b[43mparams\u001b[49m\u001b[43m)\u001b[49m\n\u001b[1;32m    198\u001b[0m   compiled \u001b[38;5;241m=\u001b[39m \u001b[38;5;28;01mNone\u001b[39;00m\n\u001b[1;32m    199\u001b[0m   profiler \u001b[38;5;241m=\u001b[39m \u001b[38;5;28;01mNone\u001b[39;00m\n",
      "File \u001b[0;32m~/mambaforge/envs/asysid/lib/python3.13/site-packages/jax/_src/core.py:463\u001b[0m, in \u001b[0;36mPrimitive.bind\u001b[0;34m(self, *args, **params)\u001b[0m\n\u001b[1;32m    461\u001b[0m trace_ctx\u001b[38;5;241m.\u001b[39mset_trace(eval_trace)\n\u001b[1;32m    462\u001b[0m \u001b[38;5;28;01mtry\u001b[39;00m:\n\u001b[0;32m--> 463\u001b[0m   \u001b[38;5;28;01mreturn\u001b[39;00m \u001b[38;5;28;43mself\u001b[39;49m\u001b[38;5;241;43m.\u001b[39;49m\u001b[43mbind_with_trace\u001b[49m\u001b[43m(\u001b[49m\u001b[43mprev_trace\u001b[49m\u001b[43m,\u001b[49m\u001b[43m \u001b[49m\u001b[43margs\u001b[49m\u001b[43m,\u001b[49m\u001b[43m \u001b[49m\u001b[43mparams\u001b[49m\u001b[43m)\u001b[49m\n\u001b[1;32m    464\u001b[0m \u001b[38;5;28;01mfinally\u001b[39;00m:\n\u001b[1;32m    465\u001b[0m   trace_ctx\u001b[38;5;241m.\u001b[39mset_trace(prev_trace)\n",
      "File \u001b[0;32m~/mambaforge/envs/asysid/lib/python3.13/site-packages/jax/_src/core.py:468\u001b[0m, in \u001b[0;36mPrimitive.bind_with_trace\u001b[0;34m(self, trace, args, params)\u001b[0m\n\u001b[1;32m    467\u001b[0m \u001b[38;5;28;01mdef\u001b[39;00m \u001b[38;5;21mbind_with_trace\u001b[39m(\u001b[38;5;28mself\u001b[39m, trace, args, params):\n\u001b[0;32m--> 468\u001b[0m   \u001b[38;5;28;01mreturn\u001b[39;00m \u001b[43mtrace\u001b[49m\u001b[38;5;241;43m.\u001b[39;49m\u001b[43mprocess_primitive\u001b[49m\u001b[43m(\u001b[49m\u001b[38;5;28;43mself\u001b[39;49m\u001b[43m,\u001b[49m\u001b[43m \u001b[49m\u001b[43margs\u001b[49m\u001b[43m,\u001b[49m\u001b[43m \u001b[49m\u001b[43mparams\u001b[49m\u001b[43m)\u001b[49m\n",
      "File \u001b[0;32m~/mambaforge/envs/asysid/lib/python3.13/site-packages/jax/_src/interpreters/batching.py:474\u001b[0m, in \u001b[0;36mBatchTrace.process_primitive\u001b[0;34m(self, p, tracers, params)\u001b[0m\n\u001b[1;32m    472\u001b[0m   \u001b[38;5;28;01melse\u001b[39;00m:\n\u001b[1;32m    473\u001b[0m     \u001b[38;5;28;01mwith\u001b[39;00m core\u001b[38;5;241m.\u001b[39mset_current_trace(\u001b[38;5;28mself\u001b[39m\u001b[38;5;241m.\u001b[39mparent_trace):\n\u001b[0;32m--> 474\u001b[0m       val_out, dim_out \u001b[38;5;241m=\u001b[39m \u001b[43mfancy_primitive_batchers\u001b[49m\u001b[43m[\u001b[49m\u001b[43mp\u001b[49m\u001b[43m]\u001b[49m\u001b[43m(\u001b[49m\u001b[38;5;28;43mself\u001b[39;49m\u001b[38;5;241;43m.\u001b[39;49m\u001b[43maxis_data\u001b[49m\u001b[43m,\u001b[49m\u001b[43m \u001b[49m\u001b[43mvals_in\u001b[49m\u001b[43m,\u001b[49m\u001b[43m \u001b[49m\u001b[43mdims_in\u001b[49m\u001b[43m,\u001b[49m\u001b[43m \u001b[49m\u001b[38;5;241;43m*\u001b[39;49m\u001b[38;5;241;43m*\u001b[39;49m\u001b[43mparams\u001b[49m\u001b[43m)\u001b[49m\n\u001b[1;32m    475\u001b[0m \u001b[38;5;28;01melif\u001b[39;00m args_not_mapped:\n\u001b[1;32m    476\u001b[0m   \u001b[38;5;66;03m# no-op shortcut\u001b[39;00m\n\u001b[1;32m    477\u001b[0m   \u001b[38;5;28;01mreturn\u001b[39;00m p\u001b[38;5;241m.\u001b[39mbind_with_trace(\u001b[38;5;28mself\u001b[39m\u001b[38;5;241m.\u001b[39mparent_trace, vals_in, params)\n",
      "File \u001b[0;32m~/mambaforge/envs/asysid/lib/python3.13/site-packages/jax/_src/pjit.py:1997\u001b[0m, in \u001b[0;36m_pjit_batcher\u001b[0;34m(axis_data, vals_in, dims_in, jaxpr, in_shardings, out_shardings, in_layouts, out_layouts, resource_env, donated_invars, name, keep_unused, inline, compiler_options_kvs)\u001b[0m\n\u001b[1;32m   1992\u001b[0m \u001b[38;5;28;01mif\u001b[39;00m \u001b[38;5;129;01mnot\u001b[39;00m (\u001b[38;5;28mall\u001b[39m(l \u001b[38;5;129;01mis\u001b[39;00m \u001b[38;5;28;01mNone\u001b[39;00m \u001b[38;5;28;01mfor\u001b[39;00m l \u001b[38;5;129;01min\u001b[39;00m in_layouts) \u001b[38;5;129;01mand\u001b[39;00m\n\u001b[1;32m   1993\u001b[0m         \u001b[38;5;28mall\u001b[39m(l \u001b[38;5;129;01mis\u001b[39;00m \u001b[38;5;28;01mNone\u001b[39;00m \u001b[38;5;28;01mfor\u001b[39;00m l \u001b[38;5;129;01min\u001b[39;00m out_layouts)):\n\u001b[1;32m   1994\u001b[0m   \u001b[38;5;28;01mraise\u001b[39;00m \u001b[38;5;167;01mNotImplementedError\u001b[39;00m(\n\u001b[1;32m   1995\u001b[0m       \u001b[38;5;124m'\u001b[39m\u001b[38;5;124mConcrete layouts are not supported for vmap(jit).\u001b[39m\u001b[38;5;124m'\u001b[39m)\n\u001b[0;32m-> 1997\u001b[0m vals_out \u001b[38;5;241m=\u001b[39m \u001b[43mpjit_p\u001b[49m\u001b[38;5;241;43m.\u001b[39;49m\u001b[43mbind\u001b[49m\u001b[43m(\u001b[49m\n\u001b[1;32m   1998\u001b[0m \u001b[43m  \u001b[49m\u001b[38;5;241;43m*\u001b[39;49m\u001b[43mvals_in\u001b[49m\u001b[43m,\u001b[49m\n\u001b[1;32m   1999\u001b[0m \u001b[43m  \u001b[49m\u001b[43mjaxpr\u001b[49m\u001b[38;5;241;43m=\u001b[39;49m\u001b[43mnew_jaxpr\u001b[49m\u001b[43m,\u001b[49m\n\u001b[1;32m   2000\u001b[0m \u001b[43m  \u001b[49m\u001b[43min_shardings\u001b[49m\u001b[38;5;241;43m=\u001b[39;49m\u001b[43min_shardings\u001b[49m\u001b[43m,\u001b[49m\n\u001b[1;32m   2001\u001b[0m \u001b[43m  \u001b[49m\u001b[43mout_shardings\u001b[49m\u001b[38;5;241;43m=\u001b[39;49m\u001b[43mout_shardings\u001b[49m\u001b[43m,\u001b[49m\n\u001b[1;32m   2002\u001b[0m \u001b[43m  \u001b[49m\u001b[43min_layouts\u001b[49m\u001b[38;5;241;43m=\u001b[39;49m\u001b[43min_layouts\u001b[49m\u001b[43m,\u001b[49m\n\u001b[1;32m   2003\u001b[0m \u001b[43m  \u001b[49m\u001b[43mout_layouts\u001b[49m\u001b[38;5;241;43m=\u001b[39;49m\u001b[43mout_layouts\u001b[49m\u001b[43m,\u001b[49m\n\u001b[1;32m   2004\u001b[0m \u001b[43m  \u001b[49m\u001b[43mresource_env\u001b[49m\u001b[38;5;241;43m=\u001b[39;49m\u001b[43mresource_env\u001b[49m\u001b[43m,\u001b[49m\n\u001b[1;32m   2005\u001b[0m \u001b[43m  \u001b[49m\u001b[43mdonated_invars\u001b[49m\u001b[38;5;241;43m=\u001b[39;49m\u001b[43mdonated_invars\u001b[49m\u001b[43m,\u001b[49m\n\u001b[1;32m   2006\u001b[0m \u001b[43m  \u001b[49m\u001b[43mname\u001b[49m\u001b[38;5;241;43m=\u001b[39;49m\u001b[43mname\u001b[49m\u001b[43m,\u001b[49m\n\u001b[1;32m   2007\u001b[0m \u001b[43m  \u001b[49m\u001b[43mkeep_unused\u001b[49m\u001b[38;5;241;43m=\u001b[39;49m\u001b[43mkeep_unused\u001b[49m\u001b[43m,\u001b[49m\n\u001b[1;32m   2008\u001b[0m \u001b[43m  \u001b[49m\u001b[43minline\u001b[49m\u001b[38;5;241;43m=\u001b[39;49m\u001b[43minline\u001b[49m\u001b[43m,\u001b[49m\n\u001b[1;32m   2009\u001b[0m \u001b[43m  \u001b[49m\u001b[43mcompiler_options_kvs\u001b[49m\u001b[38;5;241;43m=\u001b[39;49m\u001b[43mcompiler_options_kvs\u001b[49m\u001b[43m)\u001b[49m\n\u001b[1;32m   2011\u001b[0m resolved_axes_out \u001b[38;5;241m=\u001b[39m batching\u001b[38;5;241m.\u001b[39mresolve_ragged_axes_against_inputs_outputs(\n\u001b[1;32m   2012\u001b[0m     vals_in, vals_out, axes_out)\n\u001b[1;32m   2013\u001b[0m \u001b[38;5;28;01mreturn\u001b[39;00m vals_out, resolved_axes_out\n",
      "File \u001b[0;32m~/mambaforge/envs/asysid/lib/python3.13/site-packages/jax/_src/core.py:463\u001b[0m, in \u001b[0;36mPrimitive.bind\u001b[0;34m(self, *args, **params)\u001b[0m\n\u001b[1;32m    461\u001b[0m trace_ctx\u001b[38;5;241m.\u001b[39mset_trace(eval_trace)\n\u001b[1;32m    462\u001b[0m \u001b[38;5;28;01mtry\u001b[39;00m:\n\u001b[0;32m--> 463\u001b[0m   \u001b[38;5;28;01mreturn\u001b[39;00m \u001b[38;5;28;43mself\u001b[39;49m\u001b[38;5;241;43m.\u001b[39;49m\u001b[43mbind_with_trace\u001b[49m\u001b[43m(\u001b[49m\u001b[43mprev_trace\u001b[49m\u001b[43m,\u001b[49m\u001b[43m \u001b[49m\u001b[43margs\u001b[49m\u001b[43m,\u001b[49m\u001b[43m \u001b[49m\u001b[43mparams\u001b[49m\u001b[43m)\u001b[49m\n\u001b[1;32m    464\u001b[0m \u001b[38;5;28;01mfinally\u001b[39;00m:\n\u001b[1;32m    465\u001b[0m   trace_ctx\u001b[38;5;241m.\u001b[39mset_trace(prev_trace)\n",
      "File \u001b[0;32m~/mambaforge/envs/asysid/lib/python3.13/site-packages/jax/_src/core.py:468\u001b[0m, in \u001b[0;36mPrimitive.bind_with_trace\u001b[0;34m(self, trace, args, params)\u001b[0m\n\u001b[1;32m    467\u001b[0m \u001b[38;5;28;01mdef\u001b[39;00m \u001b[38;5;21mbind_with_trace\u001b[39m(\u001b[38;5;28mself\u001b[39m, trace, args, params):\n\u001b[0;32m--> 468\u001b[0m   \u001b[38;5;28;01mreturn\u001b[39;00m \u001b[43mtrace\u001b[49m\u001b[38;5;241;43m.\u001b[39;49m\u001b[43mprocess_primitive\u001b[49m\u001b[43m(\u001b[49m\u001b[38;5;28;43mself\u001b[39;49m\u001b[43m,\u001b[49m\u001b[43m \u001b[49m\u001b[43margs\u001b[49m\u001b[43m,\u001b[49m\u001b[43m \u001b[49m\u001b[43mparams\u001b[49m\u001b[43m)\u001b[49m\n",
      "File \u001b[0;32m~/mambaforge/envs/asysid/lib/python3.13/site-packages/jax/_src/core.py:941\u001b[0m, in \u001b[0;36mEvalTrace.process_primitive\u001b[0;34m(self, primitive, args, params)\u001b[0m\n\u001b[1;32m    939\u001b[0m       \u001b[38;5;28;01mreturn\u001b[39;00m primitive\u001b[38;5;241m.\u001b[39mbind_with_trace(arg\u001b[38;5;241m.\u001b[39m_trace, args, params)\n\u001b[1;32m    940\u001b[0m check_eval_args(args)\n\u001b[0;32m--> 941\u001b[0m \u001b[38;5;28;01mreturn\u001b[39;00m \u001b[43mprimitive\u001b[49m\u001b[38;5;241;43m.\u001b[39;49m\u001b[43mimpl\u001b[49m\u001b[43m(\u001b[49m\u001b[38;5;241;43m*\u001b[39;49m\u001b[43margs\u001b[49m\u001b[43m,\u001b[49m\u001b[43m \u001b[49m\u001b[38;5;241;43m*\u001b[39;49m\u001b[38;5;241;43m*\u001b[39;49m\u001b[43mparams\u001b[49m\u001b[43m)\u001b[49m\n",
      "File \u001b[0;32m~/mambaforge/envs/asysid/lib/python3.13/site-packages/jax/_src/pjit.py:1765\u001b[0m, in \u001b[0;36m_pjit_call_impl\u001b[0;34m(jaxpr, in_shardings, out_shardings, in_layouts, out_layouts, resource_env, donated_invars, name, keep_unused, inline, compiler_options_kvs, *args)\u001b[0m\n\u001b[1;32m   1756\u001b[0m donated_argnums \u001b[38;5;241m=\u001b[39m \u001b[38;5;28mtuple\u001b[39m(i \u001b[38;5;28;01mfor\u001b[39;00m i, d \u001b[38;5;129;01min\u001b[39;00m \u001b[38;5;28menumerate\u001b[39m(donated_invars) \u001b[38;5;28;01mif\u001b[39;00m d)\n\u001b[1;32m   1757\u001b[0m cache_key \u001b[38;5;241m=\u001b[39m pxla\u001b[38;5;241m.\u001b[39mJitGlobalCppCacheKeys(\n\u001b[1;32m   1758\u001b[0m     donate_argnums\u001b[38;5;241m=\u001b[39mdonated_argnums, donate_argnames\u001b[38;5;241m=\u001b[39m\u001b[38;5;28;01mNone\u001b[39;00m,\n\u001b[1;32m   1759\u001b[0m     device\u001b[38;5;241m=\u001b[39m\u001b[38;5;28;01mNone\u001b[39;00m, backend\u001b[38;5;241m=\u001b[39m\u001b[38;5;28;01mNone\u001b[39;00m,\n\u001b[0;32m   (...)\u001b[0m\n\u001b[1;32m   1763\u001b[0m     out_layouts_treedef\u001b[38;5;241m=\u001b[39m\u001b[38;5;28;01mNone\u001b[39;00m, out_layouts_leaves\u001b[38;5;241m=\u001b[39mout_layouts,\n\u001b[1;32m   1764\u001b[0m     use_resource_env\u001b[38;5;241m=\u001b[39mresource_env \u001b[38;5;129;01mis\u001b[39;00m \u001b[38;5;129;01mnot\u001b[39;00m \u001b[38;5;28;01mNone\u001b[39;00m)\n\u001b[0;32m-> 1765\u001b[0m \u001b[38;5;28;01mreturn\u001b[39;00m \u001b[43mxc\u001b[49m\u001b[38;5;241;43m.\u001b[39;49m\u001b[43m_xla\u001b[49m\u001b[38;5;241;43m.\u001b[39;49m\u001b[43mpjit\u001b[49m\u001b[43m(\u001b[49m\n\u001b[1;32m   1766\u001b[0m \u001b[43m    \u001b[49m\u001b[43mname\u001b[49m\u001b[43m,\u001b[49m\u001b[43m \u001b[49m\u001b[43mf\u001b[49m\u001b[43m,\u001b[49m\u001b[43m \u001b[49m\u001b[43mcall_impl_cache_miss\u001b[49m\u001b[43m,\u001b[49m\u001b[43m \u001b[49m\u001b[43m[\u001b[49m\u001b[43m]\u001b[49m\u001b[43m,\u001b[49m\u001b[43m \u001b[49m\u001b[43m[\u001b[49m\u001b[43m]\u001b[49m\u001b[43m,\u001b[49m\u001b[43m \u001b[49m\u001b[43mcache_key\u001b[49m\u001b[43m,\u001b[49m\n\u001b[1;32m   1767\u001b[0m \u001b[43m    \u001b[49m\u001b[43mtree_util\u001b[49m\u001b[38;5;241;43m.\u001b[39;49m\u001b[43mdispatch_registry\u001b[49m\u001b[43m,\u001b[49m\u001b[43m \u001b[49m\u001b[43mpxla\u001b[49m\u001b[38;5;241;43m.\u001b[39;49m\u001b[43mcc_shard_arg\u001b[49m\u001b[43m,\u001b[49m\n\u001b[1;32m   1768\u001b[0m \u001b[43m    \u001b[49m\u001b[43m_get_cpp_global_cache\u001b[49m\u001b[43m(\u001b[49m\u001b[43mcache_key\u001b[49m\u001b[38;5;241;43m.\u001b[39;49m\u001b[43mcontains_explicit_attributes\u001b[49m\u001b[43m)\u001b[49m\u001b[43m)\u001b[49m\u001b[43m(\u001b[49m\u001b[38;5;241;43m*\u001b[39;49m\u001b[43margs\u001b[49m\u001b[43m)\u001b[49m\n",
      "File \u001b[0;32m~/mambaforge/envs/asysid/lib/python3.13/site-packages/jax/_src/pjit.py:1741\u001b[0m, in \u001b[0;36m_pjit_call_impl.<locals>.call_impl_cache_miss\u001b[0;34m(*args_, **kwargs_)\u001b[0m\n\u001b[1;32m   1740\u001b[0m \u001b[38;5;28;01mdef\u001b[39;00m \u001b[38;5;21mcall_impl_cache_miss\u001b[39m(\u001b[38;5;241m*\u001b[39margs_, \u001b[38;5;241m*\u001b[39m\u001b[38;5;241m*\u001b[39mkwargs_):\n\u001b[0;32m-> 1741\u001b[0m   out_flat, compiled, pgle_profiler \u001b[38;5;241m=\u001b[39m \u001b[43m_pjit_call_impl_python\u001b[49m\u001b[43m(\u001b[49m\n\u001b[1;32m   1742\u001b[0m \u001b[43m      \u001b[49m\u001b[38;5;241;43m*\u001b[39;49m\u001b[43margs\u001b[49m\u001b[43m,\u001b[49m\u001b[43m \u001b[49m\u001b[43mjaxpr\u001b[49m\u001b[38;5;241;43m=\u001b[39;49m\u001b[43mjaxpr\u001b[49m\u001b[43m,\u001b[49m\u001b[43m \u001b[49m\u001b[43min_shardings\u001b[49m\u001b[38;5;241;43m=\u001b[39;49m\u001b[43min_shardings\u001b[49m\u001b[43m,\u001b[49m\n\u001b[1;32m   1743\u001b[0m \u001b[43m      \u001b[49m\u001b[43mout_shardings\u001b[49m\u001b[38;5;241;43m=\u001b[39;49m\u001b[43mout_shardings\u001b[49m\u001b[43m,\u001b[49m\u001b[43m \u001b[49m\u001b[43min_layouts\u001b[49m\u001b[38;5;241;43m=\u001b[39;49m\u001b[43min_layouts\u001b[49m\u001b[43m,\u001b[49m\n\u001b[1;32m   1744\u001b[0m \u001b[43m      \u001b[49m\u001b[43mout_layouts\u001b[49m\u001b[38;5;241;43m=\u001b[39;49m\u001b[43mout_layouts\u001b[49m\u001b[43m,\u001b[49m\u001b[43m \u001b[49m\u001b[43mresource_env\u001b[49m\u001b[38;5;241;43m=\u001b[39;49m\u001b[43mresource_env\u001b[49m\u001b[43m,\u001b[49m\n\u001b[1;32m   1745\u001b[0m \u001b[43m      \u001b[49m\u001b[43mdonated_invars\u001b[49m\u001b[38;5;241;43m=\u001b[39;49m\u001b[43mdonated_invars\u001b[49m\u001b[43m,\u001b[49m\u001b[43m \u001b[49m\u001b[43mname\u001b[49m\u001b[38;5;241;43m=\u001b[39;49m\u001b[43mname\u001b[49m\u001b[43m,\u001b[49m\u001b[43m \u001b[49m\u001b[43mkeep_unused\u001b[49m\u001b[38;5;241;43m=\u001b[39;49m\u001b[43mkeep_unused\u001b[49m\u001b[43m,\u001b[49m\n\u001b[1;32m   1746\u001b[0m \u001b[43m      \u001b[49m\u001b[43minline\u001b[49m\u001b[38;5;241;43m=\u001b[39;49m\u001b[43minline\u001b[49m\u001b[43m,\u001b[49m\u001b[43m \u001b[49m\u001b[43mcompiler_options_kvs\u001b[49m\u001b[38;5;241;43m=\u001b[39;49m\u001b[43mcompiler_options_kvs\u001b[49m\u001b[43m)\u001b[49m\n\u001b[1;32m   1747\u001b[0m   fastpath_data \u001b[38;5;241m=\u001b[39m _get_fastpath_data(\n\u001b[1;32m   1748\u001b[0m       compiled, tree_structure(out_flat), args, out_flat, [], jaxpr\u001b[38;5;241m.\u001b[39meffects,\n\u001b[1;32m   1749\u001b[0m       jaxpr\u001b[38;5;241m.\u001b[39mconsts, \u001b[38;5;28;01mNone\u001b[39;00m, pgle_profiler)\n\u001b[1;32m   1750\u001b[0m   \u001b[38;5;28;01mreturn\u001b[39;00m out_flat, fastpath_data, _need_to_rebuild_with_fdo(pgle_profiler)\n",
      "File \u001b[0;32m~/mambaforge/envs/asysid/lib/python3.13/site-packages/jax/_src/pjit.py:1672\u001b[0m, in \u001b[0;36m_pjit_call_impl_python\u001b[0;34m(jaxpr, in_shardings, out_shardings, in_layouts, out_layouts, resource_env, donated_invars, name, keep_unused, inline, compiler_options_kvs, *args)\u001b[0m\n\u001b[1;32m   1660\u001b[0m compiler_options_kvs \u001b[38;5;241m=\u001b[39m compiler_options_kvs \u001b[38;5;241m+\u001b[39m \u001b[38;5;28mtuple\u001b[39m(pgle_compile_options\u001b[38;5;241m.\u001b[39mitems())\n\u001b[1;32m   1661\u001b[0m \u001b[38;5;66;03m# Passing mutable PGLE profile here since it should be extracted by JAXPR to\u001b[39;00m\n\u001b[1;32m   1662\u001b[0m \u001b[38;5;66;03m# initialize the fdo_profile compile option.\u001b[39;00m\n\u001b[1;32m   1663\u001b[0m compiled \u001b[38;5;241m=\u001b[39m \u001b[43m_resolve_and_lower\u001b[49m\u001b[43m(\u001b[49m\n\u001b[1;32m   1664\u001b[0m \u001b[43m    \u001b[49m\u001b[43margs\u001b[49m\u001b[43m,\u001b[49m\u001b[43m \u001b[49m\u001b[43mjaxpr\u001b[49m\u001b[38;5;241;43m=\u001b[39;49m\u001b[43mjaxpr\u001b[49m\u001b[43m,\u001b[49m\u001b[43m \u001b[49m\u001b[43min_shardings\u001b[49m\u001b[38;5;241;43m=\u001b[39;49m\u001b[43min_shardings\u001b[49m\u001b[43m,\u001b[49m\n\u001b[1;32m   1665\u001b[0m \u001b[43m    \u001b[49m\u001b[43mout_shardings\u001b[49m\u001b[38;5;241;43m=\u001b[39;49m\u001b[43mout_shardings\u001b[49m\u001b[43m,\u001b[49m\u001b[43m \u001b[49m\u001b[43min_layouts\u001b[49m\u001b[38;5;241;43m=\u001b[39;49m\u001b[43min_layouts\u001b[49m\u001b[43m,\u001b[49m\n\u001b[1;32m   1666\u001b[0m \u001b[43m    \u001b[49m\u001b[43mout_layouts\u001b[49m\u001b[38;5;241;43m=\u001b[39;49m\u001b[43mout_layouts\u001b[49m\u001b[43m,\u001b[49m\u001b[43m \u001b[49m\u001b[43mresource_env\u001b[49m\u001b[38;5;241;43m=\u001b[39;49m\u001b[43mresource_env\u001b[49m\u001b[43m,\u001b[49m\n\u001b[1;32m   1667\u001b[0m \u001b[43m    \u001b[49m\u001b[43mdonated_invars\u001b[49m\u001b[38;5;241;43m=\u001b[39;49m\u001b[43mdonated_invars\u001b[49m\u001b[43m,\u001b[49m\u001b[43m \u001b[49m\u001b[43mname\u001b[49m\u001b[38;5;241;43m=\u001b[39;49m\u001b[43mname\u001b[49m\u001b[43m,\u001b[49m\u001b[43m \u001b[49m\u001b[43mkeep_unused\u001b[49m\u001b[38;5;241;43m=\u001b[39;49m\u001b[43mkeep_unused\u001b[49m\u001b[43m,\u001b[49m\n\u001b[1;32m   1668\u001b[0m \u001b[43m    \u001b[49m\u001b[43minline\u001b[49m\u001b[38;5;241;43m=\u001b[39;49m\u001b[43minline\u001b[49m\u001b[43m,\u001b[49m\u001b[43m \u001b[49m\u001b[43mlowering_platforms\u001b[49m\u001b[38;5;241;43m=\u001b[39;49m\u001b[38;5;28;43;01mNone\u001b[39;49;00m\u001b[43m,\u001b[49m\n\u001b[1;32m   1669\u001b[0m \u001b[43m    \u001b[49m\u001b[43mlowering_parameters\u001b[49m\u001b[38;5;241;43m=\u001b[39;49m\u001b[43mmlir\u001b[49m\u001b[38;5;241;43m.\u001b[39;49m\u001b[43mLoweringParameters\u001b[49m\u001b[43m(\u001b[49m\u001b[43m)\u001b[49m\u001b[43m,\u001b[49m\n\u001b[1;32m   1670\u001b[0m \u001b[43m    \u001b[49m\u001b[43mpgle_profiler\u001b[49m\u001b[38;5;241;43m=\u001b[39;49m\u001b[43mpgle_profiler\u001b[49m\u001b[43m,\u001b[49m\n\u001b[1;32m   1671\u001b[0m \u001b[43m    \u001b[49m\u001b[43mcompiler_options_kvs\u001b[49m\u001b[38;5;241;43m=\u001b[39;49m\u001b[43mcompiler_options_kvs\u001b[49m\u001b[43m,\u001b[49m\n\u001b[0;32m-> 1672\u001b[0m \u001b[43m\u001b[49m\u001b[43m)\u001b[49m\u001b[38;5;241;43m.\u001b[39;49m\u001b[43mcompile\u001b[49m\u001b[43m(\u001b[49m\u001b[43m)\u001b[49m\n\u001b[1;32m   1674\u001b[0m \u001b[38;5;66;03m# This check is expensive so only do it if enable_checks is on.\u001b[39;00m\n\u001b[1;32m   1675\u001b[0m \u001b[38;5;28;01mif\u001b[39;00m compiled\u001b[38;5;241m.\u001b[39m_auto_spmd_lowering \u001b[38;5;129;01mand\u001b[39;00m config\u001b[38;5;241m.\u001b[39menable_checks\u001b[38;5;241m.\u001b[39mvalue:\n",
      "File \u001b[0;32m~/mambaforge/envs/asysid/lib/python3.13/site-packages/jax/_src/interpreters/pxla.py:2415\u001b[0m, in \u001b[0;36mMeshComputation.compile\u001b[0;34m(self, compiler_options)\u001b[0m\n\u001b[1;32m   2413\u001b[0m compiler_options_kvs \u001b[38;5;241m=\u001b[39m \u001b[38;5;28mself\u001b[39m\u001b[38;5;241m.\u001b[39m_compiler_options_kvs \u001b[38;5;241m+\u001b[39m t_compiler_options\n\u001b[1;32m   2414\u001b[0m \u001b[38;5;28;01mif\u001b[39;00m \u001b[38;5;28mself\u001b[39m\u001b[38;5;241m.\u001b[39m_executable \u001b[38;5;129;01mis\u001b[39;00m \u001b[38;5;28;01mNone\u001b[39;00m \u001b[38;5;129;01mor\u001b[39;00m compiler_options_kvs:\n\u001b[0;32m-> 2415\u001b[0m   executable \u001b[38;5;241m=\u001b[39m \u001b[43mUnloadedMeshExecutable\u001b[49m\u001b[38;5;241;43m.\u001b[39;49m\u001b[43mfrom_hlo\u001b[49m\u001b[43m(\u001b[49m\n\u001b[1;32m   2416\u001b[0m \u001b[43m      \u001b[49m\u001b[38;5;28;43mself\u001b[39;49m\u001b[38;5;241;43m.\u001b[39;49m\u001b[43m_name\u001b[49m\u001b[43m,\u001b[49m\u001b[43m \u001b[49m\u001b[38;5;28;43mself\u001b[39;49m\u001b[38;5;241;43m.\u001b[39;49m\u001b[43m_hlo\u001b[49m\u001b[43m,\u001b[49m\u001b[43m \u001b[49m\u001b[38;5;241;43m*\u001b[39;49m\u001b[38;5;241;43m*\u001b[39;49m\u001b[38;5;28;43mself\u001b[39;49m\u001b[38;5;241;43m.\u001b[39;49m\u001b[43mcompile_args\u001b[49m\u001b[43m,\u001b[49m\n\u001b[1;32m   2417\u001b[0m \u001b[43m      \u001b[49m\u001b[43mcompiler_options_kvs\u001b[49m\u001b[38;5;241;43m=\u001b[39;49m\u001b[43mcompiler_options_kvs\u001b[49m\u001b[43m)\u001b[49m\n\u001b[1;32m   2418\u001b[0m   \u001b[38;5;28;01mif\u001b[39;00m \u001b[38;5;129;01mnot\u001b[39;00m compiler_options_kvs:\n\u001b[1;32m   2419\u001b[0m     \u001b[38;5;28mself\u001b[39m\u001b[38;5;241m.\u001b[39m_executable \u001b[38;5;241m=\u001b[39m executable\n",
      "File \u001b[0;32m~/mambaforge/envs/asysid/lib/python3.13/site-packages/jax/_src/interpreters/pxla.py:2923\u001b[0m, in \u001b[0;36mUnloadedMeshExecutable.from_hlo\u001b[0;34m(***failed resolving arguments***)\u001b[0m\n\u001b[1;32m   2920\u001b[0m       \u001b[38;5;28;01mbreak\u001b[39;00m\n\u001b[1;32m   2922\u001b[0m util\u001b[38;5;241m.\u001b[39mtest_event(\u001b[38;5;124m\"\u001b[39m\u001b[38;5;124mpxla_cached_compilation\u001b[39m\u001b[38;5;124m\"\u001b[39m)\n\u001b[0;32m-> 2923\u001b[0m xla_executable \u001b[38;5;241m=\u001b[39m \u001b[43m_cached_compilation\u001b[49m\u001b[43m(\u001b[49m\n\u001b[1;32m   2924\u001b[0m \u001b[43m    \u001b[49m\u001b[43mhlo\u001b[49m\u001b[43m,\u001b[49m\u001b[43m \u001b[49m\u001b[43mname\u001b[49m\u001b[43m,\u001b[49m\u001b[43m \u001b[49m\u001b[43mmesh\u001b[49m\u001b[43m,\u001b[49m\u001b[43m \u001b[49m\u001b[43mspmd_lowering\u001b[49m\u001b[43m,\u001b[49m\n\u001b[1;32m   2925\u001b[0m \u001b[43m    \u001b[49m\u001b[43mtuple_args\u001b[49m\u001b[43m,\u001b[49m\u001b[43m \u001b[49m\u001b[43mauto_spmd_lowering\u001b[49m\u001b[43m,\u001b[49m\u001b[43m \u001b[49m\u001b[43mallow_prop_to_inputs\u001b[49m\u001b[43m,\u001b[49m\n\u001b[1;32m   2926\u001b[0m \u001b[43m    \u001b[49m\u001b[43mallow_prop_to_outputs\u001b[49m\u001b[43m,\u001b[49m\u001b[43m \u001b[49m\u001b[38;5;28;43mtuple\u001b[39;49m\u001b[43m(\u001b[49m\u001b[43mhost_callbacks\u001b[49m\u001b[43m)\u001b[49m\u001b[43m,\u001b[49m\u001b[43m \u001b[49m\u001b[43mbackend\u001b[49m\u001b[43m,\u001b[49m\u001b[43m \u001b[49m\u001b[43mda\u001b[49m\u001b[43m,\u001b[49m\u001b[43m \u001b[49m\u001b[43mpmap_nreps\u001b[49m\u001b[43m,\u001b[49m\n\u001b[1;32m   2927\u001b[0m \u001b[43m    \u001b[49m\u001b[43mcompiler_options_kvs\u001b[49m\u001b[43m,\u001b[49m\u001b[43m \u001b[49m\u001b[43mpgle_profiler\u001b[49m\u001b[43m)\u001b[49m\n\u001b[1;32m   2929\u001b[0m \u001b[38;5;28;01mif\u001b[39;00m auto_spmd_lowering:\n\u001b[1;32m   2930\u001b[0m   \u001b[38;5;28;01massert\u001b[39;00m mesh \u001b[38;5;129;01mis\u001b[39;00m \u001b[38;5;129;01mnot\u001b[39;00m \u001b[38;5;28;01mNone\u001b[39;00m\n",
      "File \u001b[0;32m~/mambaforge/envs/asysid/lib/python3.13/site-packages/jax/_src/interpreters/pxla.py:2729\u001b[0m, in \u001b[0;36m_cached_compilation\u001b[0;34m(computation, name, mesh, spmd_lowering, tuple_args, auto_spmd_lowering, allow_prop_to_inputs, allow_prop_to_outputs, host_callbacks, backend, da, pmap_nreps, compiler_options_kvs, pgle_profiler)\u001b[0m\n\u001b[1;32m   2721\u001b[0m compile_options \u001b[38;5;241m=\u001b[39m create_compile_options(\n\u001b[1;32m   2722\u001b[0m     computation, mesh, spmd_lowering, tuple_args, auto_spmd_lowering,\n\u001b[1;32m   2723\u001b[0m     allow_prop_to_inputs, allow_prop_to_outputs, backend,\n\u001b[1;32m   2724\u001b[0m     dev, pmap_nreps, compiler_options)\n\u001b[1;32m   2726\u001b[0m \u001b[38;5;28;01mwith\u001b[39;00m dispatch\u001b[38;5;241m.\u001b[39mlog_elapsed_time(\n\u001b[1;32m   2727\u001b[0m     \u001b[38;5;124m\"\u001b[39m\u001b[38;5;124mFinished XLA compilation of \u001b[39m\u001b[38;5;132;01m{fun_name}\u001b[39;00m\u001b[38;5;124m in \u001b[39m\u001b[38;5;132;01m{elapsed_time:.9f}\u001b[39;00m\u001b[38;5;124m sec\u001b[39m\u001b[38;5;124m\"\u001b[39m,\n\u001b[1;32m   2728\u001b[0m     fun_name\u001b[38;5;241m=\u001b[39mname, event\u001b[38;5;241m=\u001b[39mdispatch\u001b[38;5;241m.\u001b[39mBACKEND_COMPILE_EVENT):\n\u001b[0;32m-> 2729\u001b[0m   xla_executable \u001b[38;5;241m=\u001b[39m \u001b[43mcompiler\u001b[49m\u001b[38;5;241;43m.\u001b[39;49m\u001b[43mcompile_or_get_cached\u001b[49m\u001b[43m(\u001b[49m\n\u001b[1;32m   2730\u001b[0m \u001b[43m      \u001b[49m\u001b[43mbackend\u001b[49m\u001b[43m,\u001b[49m\u001b[43m \u001b[49m\u001b[43mcomputation\u001b[49m\u001b[43m,\u001b[49m\u001b[43m \u001b[49m\u001b[43mdev\u001b[49m\u001b[43m,\u001b[49m\u001b[43m \u001b[49m\u001b[43mcompile_options\u001b[49m\u001b[43m,\u001b[49m\u001b[43m \u001b[49m\u001b[43mhost_callbacks\u001b[49m\u001b[43m,\u001b[49m\n\u001b[1;32m   2731\u001b[0m \u001b[43m      \u001b[49m\u001b[43mpgle_profiler\u001b[49m\u001b[43m)\u001b[49m\n\u001b[1;32m   2732\u001b[0m \u001b[38;5;28;01mreturn\u001b[39;00m xla_executable\n",
      "File \u001b[0;32m~/mambaforge/envs/asysid/lib/python3.13/site-packages/jax/_src/compiler.py:452\u001b[0m, in \u001b[0;36mcompile_or_get_cached\u001b[0;34m(backend, computation, devices, compile_options, host_callbacks, pgle_profiler)\u001b[0m\n\u001b[1;32m    450\u001b[0m \u001b[38;5;28;01melse\u001b[39;00m:\n\u001b[1;32m    451\u001b[0m   log_persistent_cache_miss(module_name, cache_key)\n\u001b[0;32m--> 452\u001b[0m   \u001b[38;5;28;01mreturn\u001b[39;00m \u001b[43m_compile_and_write_cache\u001b[49m\u001b[43m(\u001b[49m\n\u001b[1;32m    453\u001b[0m \u001b[43m      \u001b[49m\u001b[43mbackend\u001b[49m\u001b[43m,\u001b[49m\n\u001b[1;32m    454\u001b[0m \u001b[43m      \u001b[49m\u001b[43mcomputation\u001b[49m\u001b[43m,\u001b[49m\n\u001b[1;32m    455\u001b[0m \u001b[43m      \u001b[49m\u001b[43mcompile_options\u001b[49m\u001b[43m,\u001b[49m\n\u001b[1;32m    456\u001b[0m \u001b[43m      \u001b[49m\u001b[43mhost_callbacks\u001b[49m\u001b[43m,\u001b[49m\n\u001b[1;32m    457\u001b[0m \u001b[43m      \u001b[49m\u001b[43mmodule_name\u001b[49m\u001b[43m,\u001b[49m\n\u001b[1;32m    458\u001b[0m \u001b[43m      \u001b[49m\u001b[43mcache_key\u001b[49m\u001b[43m,\u001b[49m\n\u001b[1;32m    459\u001b[0m \u001b[43m  \u001b[49m\u001b[43m)\u001b[49m\n",
      "File \u001b[0;32m~/mambaforge/envs/asysid/lib/python3.13/site-packages/jax/_src/compiler.py:653\u001b[0m, in \u001b[0;36m_compile_and_write_cache\u001b[0;34m(backend, computation, compile_options, host_callbacks, module_name, cache_key)\u001b[0m\n\u001b[1;32m    644\u001b[0m \u001b[38;5;28;01mdef\u001b[39;00m \u001b[38;5;21m_compile_and_write_cache\u001b[39m(\n\u001b[1;32m    645\u001b[0m     backend: xc\u001b[38;5;241m.\u001b[39mClient,\n\u001b[1;32m    646\u001b[0m     computation: ir\u001b[38;5;241m.\u001b[39mModule,\n\u001b[0;32m   (...)\u001b[0m\n\u001b[1;32m    650\u001b[0m     cache_key: \u001b[38;5;28mstr\u001b[39m,\n\u001b[1;32m    651\u001b[0m ) \u001b[38;5;241m-\u001b[39m\u001b[38;5;241m>\u001b[39m xc\u001b[38;5;241m.\u001b[39mLoadedExecutable:\n\u001b[1;32m    652\u001b[0m   start_time \u001b[38;5;241m=\u001b[39m time\u001b[38;5;241m.\u001b[39mmonotonic()\n\u001b[0;32m--> 653\u001b[0m   executable \u001b[38;5;241m=\u001b[39m \u001b[43mbackend_compile\u001b[49m\u001b[43m(\u001b[49m\n\u001b[1;32m    654\u001b[0m \u001b[43m      \u001b[49m\u001b[43mbackend\u001b[49m\u001b[43m,\u001b[49m\u001b[43m \u001b[49m\u001b[43mcomputation\u001b[49m\u001b[43m,\u001b[49m\u001b[43m \u001b[49m\u001b[43mcompile_options\u001b[49m\u001b[43m,\u001b[49m\u001b[43m \u001b[49m\u001b[43mhost_callbacks\u001b[49m\n\u001b[1;32m    655\u001b[0m \u001b[43m  \u001b[49m\u001b[43m)\u001b[49m\n\u001b[1;32m    656\u001b[0m   compile_time \u001b[38;5;241m=\u001b[39m time\u001b[38;5;241m.\u001b[39mmonotonic() \u001b[38;5;241m-\u001b[39m start_time\n\u001b[1;32m    657\u001b[0m   _cache_write(\n\u001b[1;32m    658\u001b[0m       cache_key, compile_time, module_name, backend, executable, host_callbacks\n\u001b[1;32m    659\u001b[0m   )\n",
      "File \u001b[0;32m~/mambaforge/envs/asysid/lib/python3.13/site-packages/jax/_src/profiler.py:333\u001b[0m, in \u001b[0;36mannotate_function.<locals>.wrapper\u001b[0;34m(*args, **kwargs)\u001b[0m\n\u001b[1;32m    330\u001b[0m \u001b[38;5;129m@wraps\u001b[39m(func)\n\u001b[1;32m    331\u001b[0m \u001b[38;5;28;01mdef\u001b[39;00m \u001b[38;5;21mwrapper\u001b[39m(\u001b[38;5;241m*\u001b[39margs, \u001b[38;5;241m*\u001b[39m\u001b[38;5;241m*\u001b[39mkwargs):\n\u001b[1;32m    332\u001b[0m   \u001b[38;5;28;01mwith\u001b[39;00m TraceAnnotation(name, \u001b[38;5;241m*\u001b[39m\u001b[38;5;241m*\u001b[39mdecorator_kwargs):\n\u001b[0;32m--> 333\u001b[0m     \u001b[38;5;28;01mreturn\u001b[39;00m \u001b[43mfunc\u001b[49m\u001b[43m(\u001b[49m\u001b[38;5;241;43m*\u001b[39;49m\u001b[43margs\u001b[49m\u001b[43m,\u001b[49m\u001b[43m \u001b[49m\u001b[38;5;241;43m*\u001b[39;49m\u001b[38;5;241;43m*\u001b[39;49m\u001b[43mkwargs\u001b[49m\u001b[43m)\u001b[49m\n\u001b[1;32m    334\u001b[0m   \u001b[38;5;28;01mreturn\u001b[39;00m wrapper\n",
      "File \u001b[0;32m~/mambaforge/envs/asysid/lib/python3.13/site-packages/jax/_src/compiler.py:303\u001b[0m, in \u001b[0;36mbackend_compile\u001b[0;34m(backend, module, options, host_callbacks)\u001b[0m\n\u001b[1;32m    297\u001b[0m     \u001b[38;5;28;01mreturn\u001b[39;00m backend\u001b[38;5;241m.\u001b[39mcompile(\n\u001b[1;32m    298\u001b[0m         built_c, compile_options\u001b[38;5;241m=\u001b[39moptions, host_callbacks\u001b[38;5;241m=\u001b[39mhost_callbacks\n\u001b[1;32m    299\u001b[0m     )\n\u001b[1;32m    300\u001b[0m   \u001b[38;5;66;03m# Some backends don't have `host_callbacks` option yet\u001b[39;00m\n\u001b[1;32m    301\u001b[0m   \u001b[38;5;66;03m# TODO(sharadmv): remove this fallback when all backends allow `compile`\u001b[39;00m\n\u001b[1;32m    302\u001b[0m   \u001b[38;5;66;03m# to take in `host_callbacks`\u001b[39;00m\n\u001b[0;32m--> 303\u001b[0m   \u001b[38;5;28;01mreturn\u001b[39;00m \u001b[43mbackend\u001b[49m\u001b[38;5;241;43m.\u001b[39;49m\u001b[43mcompile\u001b[49m\u001b[43m(\u001b[49m\u001b[43mbuilt_c\u001b[49m\u001b[43m,\u001b[49m\u001b[43m \u001b[49m\u001b[43mcompile_options\u001b[49m\u001b[38;5;241;43m=\u001b[39;49m\u001b[43moptions\u001b[49m\u001b[43m)\u001b[49m\n\u001b[1;32m    304\u001b[0m \u001b[38;5;28;01mexcept\u001b[39;00m xc\u001b[38;5;241m.\u001b[39mXlaRuntimeError \u001b[38;5;28;01mas\u001b[39;00m e:\n\u001b[1;32m    305\u001b[0m   \u001b[38;5;28;01mfor\u001b[39;00m error_handler \u001b[38;5;129;01min\u001b[39;00m _XLA_RUNTIME_ERROR_HANDLERS:\n",
      "\u001b[0;31mKeyboardInterrupt\u001b[0m: "
     ]
    }
   ],
   "source": [
    "task_optimized_model_transferability = jnp.concatenate(\n",
    "    tuple(transfer_err(mnist_model, prop)[None, :] for prop in sample_proportions),\n",
    "    axis=0,\n",
    ")\n",
    "\n",
    "scaled_model_transferability = jnp.concatenate(\n",
    "    tuple(\n",
    "        transfer_err(scale_manipulation(mnist_model, 20), prop)[None, :]\n",
    "        for prop in sample_proportions\n",
    "    ),\n",
    "    axis=0,\n",
    ")\n",
    "\n",
    "duplicated_model_transferability = jnp.concatenate(\n",
    "    tuple(\n",
    "        transfer_err(duplicate_type_manipulation(mnist_model, 1.2), prop)[None, :]\n",
    "        for prop in sample_proportions\n",
    "    ),\n",
    "    axis=0,\n",
    ")\n",
    "\n",
    "zeroed_model_transferability = jnp.concatenate(\n",
    "    tuple(\n",
    "        transfer_err(\n",
    "            zero_type_manipulation(\n",
    "                mnist_model, 1 * 128, jax.random.split(key, num_seeds)\n",
    "            ),\n",
    "            prop,\n",
    "        )[None, :]\n",
    "        for prop in sample_proportions\n",
    "    ),\n",
    "    axis=0,\n",
    ")"
   ]
  },
  {
   "cell_type": "code",
   "execution_count": null,
   "id": "0c31d9bc-2a0c-47d2-ae2a-0520b00df91f",
   "metadata": {},
   "outputs": [],
   "source": [
    "plt.figure(figsize=(1.6, 1.2))\n",
    "\n",
    "# Task optimized model\n",
    "mean_task = np.mean(task_optimized_model_transferability, axis=1)\n",
    "std_task = np.std(task_optimized_model_transferability, axis=1)\n",
    "plt.plot(sample_sizes, mean_task, linewidth=1, label=\"trained\")\n",
    "plt.fill_between(sample_sizes, mean_task - std_task, mean_task + std_task, alpha=0.2)\n",
    "\n",
    "# Duplicated model\n",
    "mean_dup = np.mean(duplicated_model_transferability, axis=1)\n",
    "std_dup = np.std(duplicated_model_transferability, axis=1)\n",
    "plt.plot(sample_sizes, mean_dup, linewidth=1, label=\"duplicate\")\n",
    "plt.fill_between(sample_sizes, mean_dup - std_dup, mean_dup + std_dup, alpha=0.2)\n",
    "\n",
    "# Scaled model\n",
    "mean_scaled = np.mean(scaled_model_transferability, axis=1)\n",
    "std_scaled = np.std(scaled_model_transferability, axis=1)\n",
    "plt.plot(sample_sizes, mean_scaled, linewidth=1, label=\"scaled\")\n",
    "plt.fill_between(\n",
    "    sample_sizes, mean_scaled - std_scaled, mean_scaled + std_scaled, alpha=0.2\n",
    ")\n",
    "\n",
    "# Zeroed model\n",
    "mean_zeroed = np.mean(zeroed_model_transferability, axis=1)\n",
    "std_zeroed = np.std(zeroed_model_transferability, axis=1)\n",
    "plt.plot(sample_sizes, mean_zeroed, linewidth=1, label=\"nuisance\")\n",
    "plt.fill_between(\n",
    "    sample_sizes, mean_zeroed - std_zeroed, mean_zeroed + std_zeroed, alpha=0.2\n",
    ")\n",
    "\n",
    "plt.xscale(\"log\")\n",
    "plt.xlabel(\"sample budget (log)\")\n",
    "plt.ylabel(\"transfer error\")\n",
    "plt.legend(handlelength=0.5, fontsize=5, ncol=2)  # , bbox_to_anchor=(0.1, 0.65))\n",
    "\n",
    "plt.gca().spines[\"top\"].set_visible(False)\n",
    "plt.gca().spines[\"right\"].set_visible(False)\n",
    "\n",
    "plt.xlim(left=1000, right=10000)\n",
    "plt.ylim(bottom=0.0, top=1.0)\n",
    "plt.tight_layout()\n",
    "plt.savefig(\"transfer.pdf\", format=\"pdf\", bbox_inches=\"tight\", dpi=300)"
   ]
  }
 ],
 "metadata": {
  "kernelspec": {
   "display_name": "asysid",
   "language": "python",
   "name": "asysid"
  },
  "language_info": {
   "codemirror_mode": {
    "name": "ipython",
    "version": 3
   },
   "file_extension": ".py",
   "mimetype": "text/x-python",
   "name": "python",
   "nbconvert_exporter": "python",
   "pygments_lexer": "ipython3",
   "version": "3.13.1"
  }
 },
 "nbformat": 4,
 "nbformat_minor": 5
}
