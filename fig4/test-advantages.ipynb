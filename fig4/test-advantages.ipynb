{
 "cells": [
  {
   "cell_type": "markdown",
   "id": "c0dcf3f6-53ec-42c2-882a-51aedab3048a",
   "metadata": {},
   "source": [
    "### Setup"
   ]
  },
  {
   "cell_type": "code",
   "execution_count": 1,
   "id": "0cfd24b4-a56a-41c6-aa5f-4bc7e1f3ad34",
   "metadata": {},
   "outputs": [
    {
     "name": "stdout",
     "output_type": "stream",
     "text": [
      "Requirement already satisfied: jax in /Users/eringrant/mambaforge/envs/asysid/lib/python3.13/site-packages (0.4.38)\n",
      "Requirement already satisfied: equinox in /Users/eringrant/mambaforge/envs/asysid/lib/python3.13/site-packages (0.11.11)\n",
      "Requirement already satisfied: optax in /Users/eringrant/mambaforge/envs/asysid/lib/python3.13/site-packages (0.2.4)\n",
      "Requirement already satisfied: optimistix in /Users/eringrant/mambaforge/envs/asysid/lib/python3.13/site-packages (0.0.10)\n",
      "Requirement already satisfied: treescope in /Users/eringrant/mambaforge/envs/asysid/lib/python3.13/site-packages (0.1.7)\n",
      "Requirement already satisfied: jaxlib<=0.4.38,>=0.4.38 in /Users/eringrant/mambaforge/envs/asysid/lib/python3.13/site-packages (from jax) (0.4.38)\n",
      "Requirement already satisfied: ml_dtypes>=0.4.0 in /Users/eringrant/mambaforge/envs/asysid/lib/python3.13/site-packages (from jax) (0.5.0)\n",
      "Requirement already satisfied: numpy>=1.24 in /Users/eringrant/mambaforge/envs/asysid/lib/python3.13/site-packages (from jax) (2.2.1)\n",
      "Requirement already satisfied: opt_einsum in /Users/eringrant/mambaforge/envs/asysid/lib/python3.13/site-packages (from jax) (3.4.0)\n",
      "Requirement already satisfied: scipy>=1.10 in /Users/eringrant/mambaforge/envs/asysid/lib/python3.13/site-packages (from jax) (1.15.0)\n",
      "Requirement already satisfied: jaxtyping>=0.2.20 in /Users/eringrant/mambaforge/envs/asysid/lib/python3.13/site-packages (from equinox) (0.2.36)\n",
      "Requirement already satisfied: typing-extensions>=4.5.0 in /Users/eringrant/mambaforge/envs/asysid/lib/python3.13/site-packages (from equinox) (4.12.2)\n",
      "Requirement already satisfied: absl-py>=0.7.1 in /Users/eringrant/mambaforge/envs/asysid/lib/python3.13/site-packages (from optax) (2.1.0)\n",
      "Requirement already satisfied: chex>=0.1.87 in /Users/eringrant/mambaforge/envs/asysid/lib/python3.13/site-packages (from optax) (0.1.88)\n",
      "Requirement already satisfied: etils[epy] in /Users/eringrant/mambaforge/envs/asysid/lib/python3.13/site-packages (from optax) (1.11.0)\n",
      "Requirement already satisfied: lineax>=0.0.6 in /Users/eringrant/mambaforge/envs/asysid/lib/python3.13/site-packages (from optimistix) (0.0.7)\n",
      "Requirement already satisfied: setuptools in /Users/eringrant/mambaforge/envs/asysid/lib/python3.13/site-packages (from chex>=0.1.87->optax) (75.6.0)\n",
      "Requirement already satisfied: toolz>=0.9.0 in /Users/eringrant/mambaforge/envs/asysid/lib/python3.13/site-packages (from chex>=0.1.87->optax) (1.0.0)\n",
      "Note: you may need to restart the kernel to use updated packages.\n"
     ]
    }
   ],
   "source": [
    "%pip install jax equinox optax optimistix treescope\n",
    "%load_ext autoreload\n",
    "%autoreload 2\n",
    "\n",
    "from functools import partial\n",
    "import jax\n",
    "import jax.numpy as jnp\n",
    "import equinox as eqx\n",
    "import treescope"
   ]
  },
  {
   "cell_type": "markdown",
   "id": "2cb85080-6332-41be-b2e6-811b2dddc742",
   "metadata": {},
   "source": [
    "### Train model on MNIST"
   ]
  },
  {
   "cell_type": "code",
   "execution_count": 2,
   "id": "e8fafb29-59e0-457a-8da5-3931b15fe490",
   "metadata": {},
   "outputs": [
    {
     "data": {
      "text/html": [
       "<script> (()=>{ if (customElements.get('treescope-container') === undefined) { class TreescopeContainer extends HTMLElement { constructor() { super(); this.attachShadow({mode: \"open\"}); this.defns = {}; this.state = {}; } } customElements.define(\"treescope-container\", TreescopeContainer); } if (customElements.get('treescope-run-here') === undefined) { class RunHere extends HTMLElement { constructor() { super() } connectedCallback() { const run = child => { const fn = new Function(child.textContent); child.textContent = \"\"; fn.call(this); this.remove(); }; const child = this.querySelector(\"script\"); if (child) { run(child); } else { new MutationObserver(()=>{ run(this.querySelector(\"script\")); }).observe(this, {childList: true}); } } } customElements.define(\"treescope-run-here\", RunHere); } })(); </script> <treescope-container class=\"treescope_out_b9dd49f1918743d19e261b4b33d27008\" ></treescope-container> <treescope-run-here><script type=\"application/octet-stream\"> const root = ( Array.from(document.getElementsByClassName( \"treescope_out_b9dd49f1918743d19e261b4b33d27008\")) .filter((elt) => !elt.dataset.setup) )[0]; root.dataset.setup = 1; const msg = document.createElement(\"span\"); msg.style = \"color: #cccccc; font-family: monospace;\"; msg.textContent = \"(Loading...)\"; root.state.loadingMsg = msg; root.shadowRoot.appendChild(msg); root.state.chain = new Promise((resolve, reject) => { const observer = new IntersectionObserver((entries) => { for (const entry of entries) { if (entry.isIntersecting) { resolve(); observer.disconnect(); return; } } }, {rootMargin: \"1000px\"}); window.setTimeout(() => { observer.observe(root); }, 0); }); root.state.deferring = false; const _insertNode = (node) => { for (let oldScript of node.querySelectorAll(\"script\")) { let newScript = document.createElement(\"script\"); newScript.type = oldScript.type; newScript.textContent = oldScript.textContent; oldScript.parentNode.replaceChild(newScript, oldScript); } if (root.state.loadingMsg) { root.state.loadingMsg.remove(); root.state.loadingMsg = null; } root.shadowRoot.appendChild(node); }; root.defns.insertContent = ((contentNode, compressed) => { if (compressed) { root.state.deferring = true; } if (root.state.deferring) { root.state.chain = (async () => { await root.state.chain; if (compressed) { const encoded = contentNode.textContent; const blob = new Blob([ Uint8Array.from(atob(encoded), (m) => m.codePointAt(0)) ]); const reader = blob.stream().pipeThrough( new DecompressionStream(\"deflate\") ).pipeThrough( new TextDecoderStream(\"utf-8\") ).getReader(); const parts = []; while (true) { const step = await reader.read(); if (step.done) { break; } parts.push(step.value); } const tpl = document.createElement('template'); tpl.innerHTML = parts.join(\"\"); _insertNode(tpl.content); } else { _insertNode(contentNode.content); } })(); } else { _insertNode(contentNode.content); } }); </script></treescope-run-here><div style=\"display:none\"> <script type=\"application/octet-stream\" >eNrtfWl72siy8Pf8Ck7unIs9ss2OIE5yHgecBK84tuM4efNkBAgsDBKWxJrr//52Vbek1sYqPOfeI80oRlIv1dXV3dW19VvDnPbk9wemLstGUxvIv3RNMxO/EwPNUExFU98kdLknmcpIPky0NdXcb0t9pTd9k+hrqmYMpCZ5P35QTHkfH94kBjp501MMcx+L3jenA/JW1VTyuiE1Hzu6NlRb+02tp+lvaNbDBHtq9EgCUp7SMh/eJNqKSZKppqyah4mB1Gopame/J7fNN4ls8wEqUeX9B1npPJA3mYMCFKOakkJgtrOxH/sjxVAaSk8xCeTS0NTstPuKauqKaijNfUOZyfQrA/f5bYqi562Nnn19qJI6dfLOaOrKwExA+94lpcGgpzQlwFhKa5oytF6XpX7y/c7O7rv3BKGkPsNMtOS2aiTeJcwHxTjoyOYXgu0LrSXv7B48aIZ5gN9J02Qz8Wsgq9DkoyaUCpl+/Az68llSWz2ZfFaHvd4hreGAgHmtaSp5uzPW9MfdBA+DdkdewSfXa1NpwsuBrLc1vS+pTflA1cY7u9i/pIId35fEPs30NpHL7pJylHZixwP1QU9WO+ZD4t27RBqSzAVdl82hrhK8J+SeITuAPQxVgMxbtPGgtE2ADxPAj2fyX0gNO4Sq1JY2PtDlp6FsmEeq0sfu+qhLfXmH4mQXyjj0VTQYGg8UjYcBbbSqeEebMaeVy8MAUNCONLVOp0dH5S8cOYRaB1AWvJF75l5CHhECZz0J0OHzwaM8BaS/1l8DQCzxQbMnGcYZGZys3J3Xdpm/+oQMX1uVP+8SfBLyRxp//zYVNABayiiBBb577Z4+XidMqUFaKk/evU6/JkNXN/1JNJWASJChkk/zBkMwBnYgj9X212Qw0mlM0nVpOlJmv9jolnXSeNf0pAIF96CVQYkPFLWtkSxhMx2bp/5Lwusw0Zf0DplDGpppav03ifRBtiD3gybEedUp6mBo/sB55LUuqR359U8CwkjWyeCSevtST+mQKa2vtAgVkUlY6ZkygaFDSjPId3kns5vQSFVkbttJHxR2V67szYM2QkT5i16tPHXYb8g6KVDVzJ03ba05NID4GprekvV9XWopQ+NNIjeYbFYk/Y1A7+IkQftExOuQVUdWhMEkYWg9peV8mlPrgUFSyrrhpZd5vYcgmGQ4/k60FGPQk6bWQuesnlKDwDA05y1+foDZOsjWPEpXsOINNLJaEVQi2RtWZUHLJUDW7mnjNwlc+XqBq/RsHwcpqTmdTs9vZUObLNlKbbJvPEgtqDqN/0GzsEF77EWWvGBND26QDVd5DlhNst4+tiRTWqXHepoEGP3Vlw1D6sgc9VgjOpI1/xVcdPGyoIApm623rxIJ8n97qOLqQOZ5Q9YVMspn8i3BRmkHBg1JkGDrYQLfHkE5B21d6+9IptYgifYSO30ssH/QJJNmHVB5ZO6kyQJCcj+/Cq/mI0GDmcs6FVFQG1NTBjZjrfqsQtpQNpSiyuMEqwjL2sHiDxrDdpuM20O+gTTPIqhr6ovAjNWsBDEFGRizChBTXxp8+fShSijz0NsassZVCDEq6lAbGph4ZyT1hvIeJUOSE7JZLYQSG5Ih/8LRsJfQ2m1DNikcsNBj1sRbylnh2wSXnjQnfcje0pzOG8ZgOYW8f5fIhBTCQ2Zxc/uJrK/ozIG7cKswiuKmadgl0ir/TOwEF53ZPQyC41wyHw4I3gnO7MJ2fVA49fwzkWHwcD2texr0w6ni54/0TwAqQ0Cgxe0mBFZ8IixTQkhkWEa+d2hlnXmVZdatLBNcWWNeZdl1K8t6K2P0/0PfS3T2Eo2fwYN2qhLWqXmkNw1Fffgik9J3WH2E58M5/ysj+54yOJcIbevS+FxR6V94ZkV8kgYWWdqlG4S57MnXwJ+0WBU7JIcpDR0KBsr+h2J8VFSyMOzgp//5H0pCZKnamewmUpCB7Fwy8n7eyWc3cGJRloea7QRYlkE4MyjsTyzsTzsNXJigp3V2/LUKLPeTbpJOYU8DsqOa0AR7iezurk3bzxwV22PfhUdrd8U1nuLT88GDfqAYiv/QxnrT02KDIPOmtFvt+mDNotjLVqq+NNmx+p0BtHsY0tK3dgobyr/pD9ubSkMYM4l3rzw9L08GOzYJuHFAhqFD3oR27GRW0+yut+sAiQGrKUUHshstKQ/i6OJBEEvmWpI3aMjYQw9GxyFHOlYuD+nYhZERk0m7ScCeXmGoD2SYZYHaybo7b7CmWJlWWWxkWYUEriYb95ZD9BYmnccgUvUWBHhtyarWV1TCY+g2DSvqDkcCQc32TH0MBQgCN9vtLSjFGiiQ3dVtLqA8fecGOLADGfKX6jauOGeJ9a0CpnYNjPQ1iNc6dK138272ImItXa4l5i+909j547f+nPjjdwf+aTzv/hW43AB/r0sGYas669XIpYDtiEp2NVOS4iCbyRbJ+NTJFH0gZgpZ8rsDv9NiFn43nEnKyfY+kcmWHNyzxiRxA5QMJGkrCW5iki6EehpK9ue9umSSDZNKeCDSH+T/6R7ZJuIre6EknbwDZKogw0f+vLWSMCaLvBOEXQ+HpmtjkP7RhD+UnxaB2MV1aXFdUhxJaxfV5Ytii482/tH9yb8llZiTA4D/i9w0d4C76BLYyR9lL5HZ43g+hyKffaTFxJdKRzGRea7rSl/Soat+YNrkf7XxSu6Rn5m2KDby+LPdFttpGX9mm1I628SfrWJWzJbwZzlfFBst/FlqFor5RnKPFSjnRLGZxS+NZqOVpT8zYkNutpMkDaLJC9e1TN603JCJbfgPc0tyU5RLDLJGQ2QwlFrtksTelkvlIv5sFhrpVoH+zJeb5bwNWVtsFFsUnFaj1ShR8MtyS5ILNmSvbOiacq93TXZRBCTxkH7wbFrIzqStdHx7lhaZcS5VuULyWzMc0h7pZNy27CXYFkYxyMymtJy9DC1wz57QLYJgzBmm5qiQEQgOYQJlUnvsNR92CoV/gtBgN3n4KoCQSFVkIIoIDf0B/+8ezi9TTHvK9A0sVi4wwXbZ9OGHTac/0nsJ5/+fe64PGXyb8X+IJMfPXd8+zo30A5BQoEg62bQ3nEnvkG8ytt/FvfiKslK5VhvFuJAu6OZxlx/oPozzE9+q3RdQHCwK2UIB8UH+7nIlr9WJBMUZDsWZn/z6G9otdsdkfF05P1dYXT93PSy4szUnfVgj/UA2MlMXomkPQlcRvAQIFsh+fC/h6zs/SoOW6ai6a+7KvHnPURRnVu+e9T4F1jW/5/bX6rr0f0TXORgN6oSw4TN/PM4fqpkFg87bRWzhasHGl61hbMo7dPM7Vrr3IAXz8D3rjtNVu3vVDl+7y9fu9LkDbNHHDDf+MivlDP/4k+c6ndFrd+fbRHrl7kz/53Vneh7e02t358rFBnQn33UO22J18K67b+09/uq8R2CFviJc3+Byk0AANVmQciTl6rrntenFs8taxEgmkgOJbBZMJh1O+sRvG3GU7lFlff6Bc+1Pnu1kSQg8QwIGWVrlVsx9Rs99ehfCELlJEI5ssc0eym32OMHN6l2wNHHi3ruhhdIlbGLrkm4aH6ZVSGpvzBEv/IYL8Cf+9L8h3ZbdS+SCvxDEFhamKLIUefibIwS0MGWBpcQc+XVy5OBvYbOc5G8R6MXZffIyZkUdwT6eILQtkV7iByvlgv+ZyCT+4ZFHOtyTndvUh/ICKlTlDhoi2irEt46G00rTlzqE3R62XCoIL8/GyWtA62vnOYD5GKfi3QNj0FPMnWTSw+rRTJay8q2PsNiXIKYBkv4CWyio05vvh6vgn/wcD1ge6Ggh8UuXB7JkGr+0tmU0x6/jAYI/V7GHCUFQvGseG+GGSaDZSxhKS2YwMCgpyJxA0IdDkvACzXQYdkjaXXdiG3M4dfsb44XJP60ECNcoyjxgJZZDVch6Pa9eJmxcpVZM6qk2kD/AudDHHTgrCOscZxXx9Rb/O5RD8DBD1njanc+1+FdRH6sUtvhx8/oPT/N+BPN+ziYv8EMAQ/gzpLkBHcy3P3Di4dkiXthFE8ecRpScRqCtyNJoWB69IaoUYCOoKu5IbdXUltKUjR2vJFuh7+GHQeiEmgO7VUrWhP6DTQk4CVu6JJIpQWaCoNwWZZEvP5LAxyR/IidDVh1Zl3pJntiwDmqFzDIgoMlA2ZO/SC/HboFuG82wZv5gWaWJYiR//nQvfFbidwmWynhUBr9wHkp6VD0cuH/98Tsg+fMb92tZbZGXfwXvxlnFb1etl+YLKnVRnsR+UF1gmQT6qvlwL9MftPO8SjOfQsQPHmZcoUXJnb5kPMqthDY0d5Nrgfmrp2mPw4EPWkt/k/jv/078g+VVOqqmwwYRZ8s5vRMOl785lFSNYcMwCY+GY9cmQQrbL9RVJ396tosWpO6sYTtHH4RD9VHVxqoLvBCugcvHVxa2Li2DexiCQagH7i542B5AluAx+37x0LHLXGcE+OlqpW6jVXpAX7bXFvbZ/BES0l/PYRsRvrq3/3qf9GwqtJ58IOu6pu8kbyks/NyfZOtIoGUXswKgFXQ1RbX2Hi4D0yPSydcDuenT0v4izJ80vVVNpfeVGnzvtGSQ/aF58l5CwmQW7rj1y3GMumwYsj5C4x1mByvrhoz5rE87OzJ4S8mGbchs9Rd7/yP980DhMn6B6gkBpv2rDzPFPpf0RzC7f5fg4D14Gsr69Jrws01T0496vZ2k13SbRz1t3A6vlrC2QnIPBoynMjcJgV+MLve1kbyzG0TKfgwdtBSDNEIF3sPbmXuJ38+2rXCQl8+OC3cBhWv0B99/FisTbNndGCq91hGzM/+odIa6p/ObKC2xWr2IVNwA/lq2dDeIPGmuCJ/FPLU1KsQGQQ888dauaFX/QTLkYt5JxL30pa1SUZErKb7jU+K6dU6WJm/Jng98HvBAAKFBC83QWXruJZ92Yg1fLqnzjk85DUg5DUxp9Mga0ApI7vnA53FL0ZwsTY8lCMflKhMyE9ZlHcxAnAyu1x5MDuWPyGOD/qHGMcAurIYlOnzlzFMwjLG/HHMrvkvJatmmbgbcSokJ6JzidXrgqMRvReEpWFEXFku9EkILtXKaD7A3gXn1mK4PQ9UYDgaabhI2qIUr/67fXB3p7hcwS+5KqZ+Ihyp3eaTZmNN6sMllpvDwojnUdTJbu18a8gA3MWl+F+MRJdm2ug7JHljCh6n31a7HxgwqoOsmq9+R/dvwAKiC9Wxb9iP8rpfP3na6W2xqptSraD3D026tdweOUtjOzE/nA20OwapvG+dBgK/dgXZ0BklA8jiJOdEZk2OCRS75ckC4J8JT4U9ksaxkDkQUZQ5rwrfN+f0nKVJAFJO6wNJfdblR2C2npdn5XARnY+6LNvZgjlDuZ/Sy9qFuuizqpqugbroB6qbzUcca5/xegDqn6RzuIONuCCmyJacJcrVrmIEvkbuFSn8/h+PHM1kvgSRPDg5T/sp/IJ5Uwn385HyAXnmhbkpk52bwqrudltYc9sGduKnLkikf92R42knSpEnbjQofD9AREWy/HdIUEllwj7CsD13Jqeu+nR77Izg9h9QK5gU9qTwxXbCyUpkWlXzdSWZbCGLAJMEsrtE35ZQZZrvkxI7MnrCfsLwZjsO83yLcWjm/OAbwvMh5nuoq0D4vMAuD2c29Mjt/UqEvfZ9zB+CM+33W4cy632sZ7tMvU5sY9AA5ahhBNdof3YYJdkZpMicjfvQBHNxRjq+9Rynh6wZm0I4mx4AQMLkH420vcoL194yBRAP4c6vIOe5NzhUE9x7UuuegcM9Byl4ifZAp7B4u2xwXTPBSAAe+lOOXt1AYzvRl4CQUQDqKGtCFq9AZdT7q8446ixqVPigs0SNzengfmoM9DJDSpwVCmFcB3h2Eea95PSg5sS5OwGRP6ZmBXf4WdhHCO36HwE/Ef86fqA+9ELIthLOecOwIUCCdm9Iem4qpk346Pz2bxpylP2HF/QANCTjaJ1xiKOovkDl8Zb8NTe76yW0QSH5knH/Y+PrpJzpL0PjOxQ2zCSDxL9TfJN4k/vEP53NIeQGW7LwEwbO2rGDh/sqnt3PRqIsGg39SZqo1gtgqFW2omjztrctUMY7Ioi3C3whc59oMDrx1+BxMZjFE7rShVO1i2Nzk68wIPBzv33GMGqiLfXpYz6MbN/5muJvpwZ0b9v2FsJOh6YLOWxbgbB8jsAQibXd+/hDFs+exQfitx3DV8bNnuvXQzjsbHYH2CJ7afHXx60bild9qwzUPTMLJdp1NFO5/5pAsTFHCO2dPE0qvodQ6mU+tgM6Jm1Yn82jV9TBZQKeTeVQaSqOTQBqdhNMYIAkoNBhLu/MyB5Ln0uTiYl8nXqKczCPKV6E1hC3W7j8BU/gBRAi7Y5uSzOGchIapa49yiDI/rOSKBIGYksbTUNLlhalPNGS1kn1Q8Ca3usS+mruwscYG2ZxQRbrtKrYPLNlewOy3KI399U+eBjM/E//6F7CpYJswJwc3r4ZlCVtSg9bRTOg6monX0XgdnbOOvo9uHX213OKZCVk8M/Hi+R+9eL6PYPHEf3lhmBNRRTZdcoodVR5bv932StwHWNCDhBy7VhjHV+GCEKpitp5WlJKBycliyRgvufMpab0SQRsT1DShDmotiHcwDXNzwH0yF5EIhQ8ogLEWMojykTkM8LDnc01DcrkRAnbOEL4G8rOf8PY9P5AdGb8TR+knSfnKPd2+dy1RnHSbyxUQDYeXZc7nwizHOWPYMzmZd2SSFUs5TAtx5P9kgC4lTkkw2NwicSzvcEXxjSvTs1uKAtQO31m8KV8sBcUtv3GwD/P8e7pZ2t/3N3yecslOg8AmFk/zTKintYa9oeFOj9Gf7Dz4xOfzts95/KdV3qHP3VXTW54wXnzGFIPbZ6bvxCGDAoQAnY81UOA7Gx8003tHWeSeLgPImp9/t08iZOTxKCSPgSQyXZ9EpkuRyEJ+1UsjfIa5ROJv4XpE4sr4n0MkVpw1r3x0LxEo5txj4DhCy59zFZROSEyQ53NxghwTLBBdqq0K2XC2QtWALWWU3HXHUlRULJXTy3k1KrTi1cvHkl3ZqMbPUvA5RWMAT1sbmeQCoyYPA5Pamsgl0kJo4I8YGRh381Zs4JDUpi6pBhibX+pKhwoATG2QgCjmITnIwlXXtYGsm9OdpNKXOvK+LgP1K2oHQrygzQ1BUiu5u0QB+/tWANL9mab1oYDMkhkh2tg+BkKGwOiYMz+YJC100+5wo/qvptRr7owkfcdTL3DNf/zm1cTPg4nlFciXZPfEckXR5CFlWeFp0ZGABbFPWsRC8y/dSXxyF54wTjIgJwjUpF/57EU6i/F7RuqyW/3Hb9/E/4wBHA8Kch/mWdJeq8Eh5d1oA664yVLF+awYer0zqSH3eOMOplXC93WP6wNbW0D/3ifjAtOgSA1V5z14dOnP8Y1FQRD86hoGEmB/wMnT+FQ0UvIHjLYN6dIHGdICLmZyYC6gYRr6iJuKkogaCNuWQbXsTvqgCJOrvxN3geLoB/eQ2LXcUZ63bzOE7fF4Vc+fNYMwwY8IK2RzIMp6PDmGD0K2a+HGn7e/WE/RgjLp9D8Jvf3xWwH6Q/ILzsfmE661iyDxsq6OhDIAOJCCVugkb20i8EMQKJD2CCKwA864GSERSOiMyu0drW/Jcn+3Rxi1LuI/Pm/dluqFSco1a+qaSYqHaXO/nG7JnWRg2QHzMqMoHab9wGp01/qxNMUFUep+Yn3KX5mC/Yz1XBIOIE43TpagzlduDpqQ6tnaJOFkXzi6uKRLkJAvdcOZ/cMTWVQwLw2Z+y3dUBL6Ozyli3RtotzXkCqBiF1U6SFlfvQ7Ja87RQSUwC3GNM1vTPSGa8ceeFrBKyz7eTfMAhAFLx+0iWyEc/Ab7RGcCrijSAjHQjhdta0BKtkxDDbntIp4iCWjUQ7nmomyXRC1Kr5mQHkI36NJ4EBfptlkU6AmuSjOnrpYGTt//T/1j9/OGHn+8ZfHgAcOwPCBFlYpnpzBjUqamUlRE0l6mEbS89UyxfFjiSWgNmLhn6WJG90ZTwLDlAe8biMYFRSdNMsirCV/JpIePFG6WRNPNLONJzwXJen5GI4mliAMTdbnUDSxBF402a/9OyzgV/Pp5gNEVzHYAuGsEPPwSwv1464JglPypULmGzioBI+rkEemi2H34YIkOCBN7cgmfeWIPjy0FZ7wlVtTHW62zEJMeEtyDW9OLhQi//d2OZl7jiFwA0xEMpkuLdrYC0KKd1ytk9k/6YIUB85Li3DKZSU684/15gAN6ZI2/9GnDnFJn+86hPomUy048kNQm4MC+tRnIAgNryFwt+BywJZxF/x23cuArmER/MTpLtymKDtuOO8vA+yUfyJYchpwMgdOBNxnOtKTmYAvOMiT2YBPbHgnJXXq/2i1KsChii9CNo9MU1caZDHfSWIP7/Fd6xHEtTU4oSs6AR8rMXDl9iSZv6m3Ulmz+XcNDs/a9xbCPjsICP6eFHA/j57JbW3XL8ewj2kKHWB+JmwphFgFU4xckIkK2mm9TR56YfAs5NHBAJORHwaIh+VJtJq4zr/98BS0tLTOXxLjwOxDnCKUQ1tlhrGYdgK3eI4Lsz45x3PdyMLhmelAAASGUyjrh/4i69AHONJLUTuVnkKA+eJyCuZUPirZFn2x0PXHb6sktlXZt4tG2QtB1F+BGiFLBsDx/CGWIDaLa4npuDxuFQ9LcoB7BM8GyoY6ID0vaw3eIgG2eUdtaAXyuQyHnqIWIJOqcOz8FvW9d1BH33iCby0C18Pnu6GngoodFFLsJvATCN939tMHBeC/MgdZue8JErFJCxNuOmHyWx+xOEhg1AKOU80HPs5egC3K2kWn3YITr1WJi87bw57VeKvseZTs7G8X0TEr1M4A5jwL8clB4/aaglNk7ZM7rFTY5D2rMnxyHchhaoOgXOS1k4k8uPLo9Hxa23vWzoUfnHz46MppnSrpz0q/OHnpM5f5OeB8lnlqB44OUPS7n3ChhJ+O5ikcfOIueiAmSuDsCkC1wpVPHl3yrZDyuanTjUF+6tSZNmhRYbYGgS+NCXG44ugbp7xnj1c6O+UV2Bc0GTIcuxZKtcMBWWZk+P5R1/rXjDMNdiN0WQdAtJNWfULDZzB9OL7dYSfItuQR2WFgrZjIFZw/JA2cduUy7vFWk0mk+KrgcVF17vN/BnaCo1Z3aJh9KgP0VBRaaviJO03DqE9ucNuHh5ToBvXn3/Hy0C488Lk8bXcXmPE2B3K7sv/pacRu4p/ckRrvfAFONlPpBofAXKlMOMY6GdJNqLMEOuRbyBuh/RnYk2GDaoHCmYwxrJALXMVzWC4VGoVvLJnNB45uvSOGGaXILcUdaJiRVR+yn8PXnb92dBkFynhK6R+/QwjvuTWAKcgjFumxbb2v/gStm0WN8YgAmg+4adyzs3OrUdB8wK9WnoZzcgvrB63YL3gIq/XZt4kMF1q4GzlncrMDyPVaVM/MFU+jOZHXVtL5bX7l6jmjqWu93gcXT/YbF92gGuA4Q4RgL9GQH6SRAge5JiHEkqSayWdvHfxGGuupqab2VZHHO78DspMye1rzkbxRZYkQkVPgs9vp3Y/PvjY0kDIAp14ZmhX8COxMCeZ4g1MQbdHGfdtLOA/3rjnNyhngAW1vR+mwZIf1ouBXU2UugqRnFxeWMCwYtO0N+WvkCZNoGx/ZLVumUkR0OHhUF+3i0hdsN9FoFh2iQ3RovjpMD/eyuAp0+FhcBXSHWyEWHHnSVXc4gueEzNk9XIIQvKjmhBOENSIpit5vwDHJLUtRZpdMSZO+FuwCgjN/tqQEntzsfVB2eo69PRzISOfheJ9IJ/77v10o4xMLnsR068VB7N4gerDFTB+Srni3njRsd+zZOS6nOnY3y2q6h3YCNm+BYAZCsFTVQljVYY11YeQ5pKfu7Z76bG3O53TVvd1Vdmq+rz4H7OY9sOG4nd9Xlr54w86636Sz/NPLCn11v0JfOcrxZKgLyFLLl0Y5Au/qteQSs9QCsxAQlNMtWkO/WK4Ga66kVn7/cur3ioEE6y+Ov5xVkVZ66I2o+mvkjwA7H4rgyB62ANS98iQr8EFuvQFhuYcaF8RD9jbGF+4k6FpusUq4T8wKdilye1QtwkmII5Yvm/dcgOAIIUvR6vhBlntBtGrNj1LPJPX6BVstuWdK97DFoHl3D+gbByrIzcLLV+W2RAjHKxJ1zqL2Me27cPaC852W7Tn3Zi6nz+PEnxDs2j3gsq0BWTUg3RmBu7fklt2OT8dndBV06HWE9kP0PpFf1Lr9d4m8l/5ctb4NARei2fjC2bjBdT0Kbg/GIFe/0Ha8TewvbIiwqCHvwxqiqCs1ZH9xQwKUmXwRy++B/T/WU734N5W/vZJcHJhNzHvPy/1AhJtIeWj4T8+ct+PBkCu1S45Lhc1cZd+86p4oawvayzr9FRCudiAZhjKS39ADXJ5dOrEgK4p5HRgowPAFrKWCqktVrrJje6ILV+uOLsQHGg0wfqXCC5bIehOQzhYX80npy0N3eCZ/CL3lg+j5wui5g+D5w+b5vlMQTK+1WHhgPH9cJDxQgp7bwBZ/iDVBqARMIt5wBy0RymGrrscz1nYsWsOKNNSFJ9OUBsmwVI73ztxkfZQ40j5Ppg/EgtwPTctxrIoK0Tv23Ttnn14h2NUkODEwx+0eOgMnR5SkQ9PO9zYKwFioH4U3JbTK3pknsweF5FLy3UXi67A2D02oEDtpMPG4bLya5xtmO3m5BsFc+uCThBEHnybEAPmVR+l8A8uCL4w5fDnu+fbiS1J8WKutYnnmiL3ytj3L2y77kgU6vyRAKA9DgGw1bXVmBu28yEpkNdaKNPAs9/8KLX+u8bYvtSVc2S/Mg9nZxWYy89K5zN+bssoH1vFX7aL3TFBC93bJuyA8e+mBrgD/OSRB2/u3UQWT9fztJGEt/G6qCDNZsvvSH8Of+fj+ZocFeHiiN/5XlI8LCKf/JuglpH4+fPW8i1yY+aAgC/BF08wLrSXv7B48aIZJdptt1TiwBFBWREby8/BtinDOysB8/zZl6rJsNMkSsK8P1f0HWZffvwXbQjSwevfayvLLbuzr92/BAN5K4Dm74fX7L9b6Qas7ODggtZEM798GVUXhSAALQiobDHpKExGd0pqmbO4bJI/Uf/3ePpCJdha2mD5Bgw/tDXcbg9DPRcghTXZAYLjWNNU6tIEVYQ7YlhbGsuuoip2kKfcHsBhCObKuy61fhO0AdwaHQaIx90+uLy8OcHu2AwUeMK9jb3m07cldFyWS0iCLfWpFwt2LB0EnLlBwneMagBIXdLHVFqsbXU16Padfuoamvn7/+zVY3L1+k3h9poASzY7akmjrYGiRIbuwROYg8RkYohRKrdBEiEbZRwHW673Eay62PpR1FF/x9e92nX0an1ez33oP96nUKFOul0an191UQah3yn8fUJWvvQ9XQqpuivXUTJRnKSH1LZ3KlBt39c7fAs/g6bRTnhhfPzJ4SkLOoPgqt+8y3fwLw1Nt5S7GwkjMCy54EF9iuX0jPD1dP6ayZV2qj9S8XH0Z+BAfPnic/uOeW7mP49SsOTnfZn+a4n22Pj466lRZ/Qgf4Ic+F4XBU72ckr91vd9L28FPe1IiKGh9u/HhA/HVOzm/qReGUr8rFoTPHaFzf3TEf0+Xz66jxBeWP+yq33l65vpH0R5P6sVPnVo17WSqq3mhmlML/XsG/82sOUt188OaoEmVTn1ToE7ubj9WRS89l0fVcQrLvwrPSundQ2/57Hl1Y/r3zUen09vHVKldHc+Dh8PXyfS4w+FXuOgejYVNUdX7fnVbHzn0vEJ7PhAyEqalwSk/PgbS1SM8b3TVAN/c+F+hvO31X1XKfn3kxltpqfkex6t3fAjt/vduinw42nh9zJq97/z4XpT+8fvRlW9+LeN8kil/vhIimRQu9O93N8v1H86vtH7PfC9kzOpVKrqZqtrI9jRufhZuHgc14bFwel0ffnv8zs/vc+b7qOfzvHCmMHr1zp+L1j9nvh9HDJRvfsb2e+Hx0LMgjG7Sqe79+Lz+5JnvI7yE9kO+rgmX1W4wPjh4v2XMe+Hoha/H75Wr+pMwPOtSePSntFnPC5fdbvHL48mRsNR8H1/xFV/x9Z961b+lW1Xxw/j4qPQkdbT6MGeIVbEyvj1OkYneYM/R8Svz1mf5Q6feuJ6dz8hW+NstqX9i1FP1abObSqXUPPmnQPbPKaHNnsujr5m6MNOlmQD833bgO1G+fZz56r/LfL1NjZsfjuri5fS8K8yMbi1lNq7SPHyl0cdJXeznL6Pcz59mjbOqaBSzBoVHqCv3XeFDp3Yk5OVqp978fHTF8wO1T4Qdm8L+IYX8MfJbwlC/TqeUe6UWzfpYfch/OhIoflbkB2rypw/dlCioGm1PQb7rRSSfwfaOoD+EtvqQX5mfzJmZFu1PQVa/RMSPntcrV4w+ZiXxcmX5wIl895Hlz5hfv26+/+vXKlUR5Qely/KoTjpCWplecf9F+7/c+Pp1Y3lMtZyqj2l5xal+OluvvCdJ0Wj/0/G6addlyt/v6qnqqDEj+8nPR+vNN6d97akqRtd/F+27r91UbZJubtC+CPsP5dO5ZjZjpKbnrc+btC+6/qt+nJxf0faVup+/zDZo3+mlUmPjL21+/LJJ+ybNm2PWvvX77zx3flMVR2SZiWb+PP92PGH0uVb/ITzF/uD6lsJTuqlezXB92gDplY8PtSsB19NV++8c1sOpNpg22Xp5072n8tKI5C84/pA+F8k7h41Ovj7o33+qps6mjxrPT5RTn8cR8i/Vb5nePcM/9AeV7yB/It6lL/hn5J84/kYYPUldoaV+APntUSfK/bNWPFXqhnhxcxPMz/meYf1GeFB+t0X+s/olfXFUTpdPrufB0x88fq8TRjhdfWn9UXzFV3zFV3xtfJH9jlLNIj+h5DWXPu3p6XFQzw9PK12hMDzbvj0F8gv1z+NSVewVPl3R9S6VK7UtfYjzDPxBSi3k5cj1Dz5+Rr3PVkWsz1s/tV9wnp3vpe3BQ+UdT8W7Rx88Rbmrgf5Dq05rD+Om7/v24CmivIfqj7A+Ofc1ndKlsVHXQN4ydvqX4POuKg6KnzoUvnL9+rYbNb4q4lDXBE6fVhS+PRLupdGfJ19Q7js1W79aO0r1C5oUJX0Nivd9np6H+mNhufKr1+mvx8y+KXV5ExG++t+V+3or1/xm0S+UTzZOwyX5OaQ3qr+vzx7z0dBXLXve5cdbCfYrwolSW3L+uVS1YlVE/OYvyu16Sa1NN9YHVgliyH7ZPZ5W4L+rg+JlR3DGh3CmaNrG/PvD/dXxJvph7L+OM98r+afTje1zzkC+y82Hq44frv8wP1l/lI3ln5XCsNrZYH7m++/zuFlNgT3Mxv2H+98N5me6P8P+f8hfRrQfRPkANz8XBPnzKvPNJdqXYH60z4pwvzwkyx6bb0D/kpo2H2oL6fVk2vjE7BdQnxM1v4Dy4mJvULli9gh1JT+PXmt3xw9V0RQ/kfX6sqXWi33tdEv7Z8S/ifaBIJ8lRHL/iW9//3vnvq7LWbMr6gQMNt6eTio3W+Rf6Hg6mZ53yoZ+PGHj6WqWLlH5/1AfSDfc/CGC/DQae7OlrjrAk/ue/dgRzLPzGZuvT5WrR2pPWAb+pbih/C6+4iu+4iuy+RTtFXB/ZaB+QX960qg9M+4Hiw/aKejDP3Re0v4L7T3bDn/qtWfE5wLI/7czlRqNo3G9Df4DIurjKT/w6eq4mguHh7M3FIcZsy6AfWaE63OteFFl9aH+pij3B126nmhPxw8h8Hif19e3evFzj/CAvT5vn3r7ODmn/OjJ5fVjV6T7T+Sfw+HLtL7cbsxfnVzfHM+Cy0f9Wx74La4/TsHek37v5vOX9RLaE3D5wZ6HbPwHq++3kH7voT5mjxHaH979XBX6p5xufbii42/2PXvRKU+N3gmfX/0+bq6Mr1MoT1xEH9hfaA+/kD+G8cCVV/p2/KUqfHw4WsW+qWLqp2NhDjzIXy4FDy1v8FTp+MpTv0+bq+xPOfubQHwNnm57q+A/c3Fx45+/sk11lfmhjvqzQHhQXlb4dPW4irzi4ubm1jdehJZ6spJ8gur3PPDg/pJMnJ3qeKn+Kgy/9uqpdrbV5eRJFJ6OOilR+7CjDfuvfPbldt7+5Lz9adIt3vW+3Ka4/bEX37OSWkt18qeVdeQdAfb5aN+P85/57fZrVfya+XglUH0y2vfjfnXO+MDnfuFJWk/+UnnUpucLy1/1eWx8/AD2T8U15WfIf4wigQfnD4SHTKzjTeR5aI8j3qR7tU3g6Rfubsl+WvoUpT8b7se9/iAL4QH+JoX2j+vS8xL0BfYPwpzx5DyLxXL9JtUrXF69zH6d6kNgfeXWCyFtzM7pejGA+Rm//43+wPEVX/EVX/G1Ep8F8muqn0L+lKxDRz57tEKx9flGqHY6tZTRqIxB39ypGtsDCv0HxFX5BVyfsD3bkf+AfKPc0Y4Jv5YaNrqr8A9gb5Heck8yfwibXxHQ/lS8NPUQ+MD+cIv8QwXkYSVDrE0Zv5Azu/dU3oH2HtnPD537lFBv5Xj4shetb1Rfkd4KPJ18rcLqa+d6+RTZSN375HVnw+Klv38/jM+PylsZfxz/Tn6kg/nLyucH7V4oEzJ3y4NubiPnRy9HT8Wu6MiDFun3z6biJb8/LkB8hgjljajvFpX83TH1v8rLnx4W6qsrE+PsiOdXIT5DhPY5Fdz/Un78qXC5pD4P50+uvzE+QyT6UioPK8hfHll70T5n2f2awc+3EfYf2r9w8mnULy8nn9pe/5307/u8fFocFodL2j94+w/jUUQy/irf+yedMtdenB9X7b/chdmg8qT0VvqvIHzvQ/lHC+VxFZBvMnoaSp+itD/z9h+dD9FeD/3vsT8qX3snV8K02a3VDZi/RIyvgvEFyhC/YlX568L+A3/HknZSavvXW70g36Qw3oJ3vXPJt0xtO+vxmSCMuivzU6Z4ORZWlSeuii+UVy8nvxqJw/wW+Ts3/9mp5i5mx2MBx7sJ/jYC+hdNSo1PzP6T8hP3laPLbdvHxld8xVd8/S+80J9PBv1GFvXv6Vb1qj5s9L6z+R3308XtxRMKvE6HT09dav/s2J/x/gXM/rF+JaB++UXsOaq58uhe4OpHeHB/IHzu3PP2uoVKvTrbuv0grn90v+nY08+as/O6AfohuuihfyK13wP9ZGrbWHoqak9ue+zKEdh3PvH86MXnq9tqDu0dKX8P9pdb9J88fRqc8vaUqW6uNROqHa3m4+fQ34fi8z6TaW4RXxWM78nZ04M9aDB/eXr3OOD9AbbCz1B/13L9YracPXYV/JOEbfv7BPKfc9qP++vR9uLFUf4T7YWW93e6BH3m1vsP9bHUPxrmo0Xj/WX6j/P3WGr+of23ZX8tzv5kKXt46o+H6dHfbTv956wfS8k7uPkjf1npbGn+5PzZHPvBYHgetMoRi6/M0l8ebUffXHfW30X2Y5z9+tS4OU5tcb+M+na6nmH8J+Cnyo48hPqXjs9KKaa/Qfs0lH9skX/B/bGM8RIQXyi/L+J6iPJabv1BeDBe1IvwU5Xjzvh8nn8rxqvYNn68F7a/BuNJRH8R2p+nk3Pw7zPyQqn9IY4fGV/xFV/xNZ+fQX38ovhHLwhPO2fmBYzXjfHsUL+QQn5TB3/vIsR3EIYNJc+eTb2yJX+7c9ifT9EemK533vhCuP4Fxz/CeOrgn4jxLaPhr2i8/svZbXpe/CW0P0V/07z08cON8Onh6jZF+T0nHifaE6C/+gZMMrUvAfph8adgP5Ni+qFuvq5BPA76bNnHBPAX3/sfOoITf1OodK6O19tPYHyQXCeXKTF8QLw/qp8C/QLPT3qfw9uXQ3tV5CcW+cv65AHoT4H6FgoP6K8EtD/YWH7jxNdj9kZLjy+MB8DRC8bXi2a/DfgXHXpcgbRQPkjhQX/jpfpnOf4V4jFw7V1h/1y347ulioL+FKV9CMbTp/2H/kwr9B+Nn9v+ko48Pi3SO6Wncemkstr+2bJ3i4a+6fgBeWQuX86x+H95kOesJv+w7PF6369vN7G3w/0o7g9FtHei8x2uT18eP6xi/8X8H2x6FFIjPb9Kfti/C3geggHzNzf/l6v1m5kA+tSV1xvU97fQ/x7LQ/0+2uNQ+wnU1+L5RkV8Rv/8PMb/xfmdyiOd+ag47A3q+elZZYb42WD9q6J8QivWlLnrbfgz9Rdsz0p1E+zlotaPVDEeJfpDiWDvJojDLvOv4Z6HolYE/75ytZgz9XsBv7/0+VroT5I+iq/4iq/4iq//5ddp1tB5fptb/5Ra83P9pe2pzu7SZlWc43+O6zeux2jPIMD5FEWIZ7zN+MAQH2dl/8mi/KBB/LpZ5PqaCvBD/PlLNP4bxLvA/bj4cXJ8JXj1817/0gjhQf7TCw+eN+b170Z5yCwYPshfkL5+3DgeE7VXzg8/BsSXgPgIc/rjAuI75zCeI4cvPI8E9Yfr+Ssjv4328l54UL6D+rOFjcb6+fMoMf4W+AesR194votX3y6cPdxT/50V+G30l3XT13BN+9lLPG/GS68QX23l8lBf6Do/dN39d+W+N2ny/v2oX1wr3ttJtvmZ93dG++f16B33V975Zr32efsP98vryRfBvtzrb7UefXr7L9eaNNdbj6pf0h+P+P5r9ifGyu0bN6tH9VM8by6S8YfrFx/v48RorNI+qr/E/bN/fo9q/BUgnmBpefzUwB/IN35R/oX2auvRJ67vnL8VrscYD7QTut8voT/ZfSB+6HmOUfj71M8mTVe8DoiXJ+B8j/NDAc7rEfC8br2YH86Lv4T6+mj8j27SZk2g8pT141GgPWHU/N+lY2/K1efl93D9xfgLBZgvhbw5a9L5W4fzK7Zj/4LxqFDexOL3FKV+fdTOlrsi2oOOxKLw95xnHl/xFV/xFV8R7VdRXzw5v6jSeFX0/MSBdP0I8XM+VyPUty8HD8RTpvEq6fpH9SejXqFehvhaLD4Z6DeLoA/etvy9gvF/Z+fmGYPnMZ89p/Vz8bfx/Dr6jPYEGD9wK/YfFTzfAfFB+XeMp4D24gM4n5PGM0B9dhPkLWS9Vu85+4qo+QXuPDnafvRvwPO4g/lRiFdQUgtFua5jvKiheLfJfi2YP7b05Za+EvtjqfKrXzMXLP8K/vNz4MHx46VnjPewgr0I2hOd4HlpaB+C+tMN6Av5fU7egf7BBYgHuep4ovYA6D+8qf6c6oOX8ndYdKE+fwj65E3jY1SovZLNj29AD5dg70Lta8PHx3IX1X+ifBrPy9lg/KK+FfdHuL9Yr/9mzcl5fTQqyt314nW6xkulI6C+G/ePG+D7As434ffvIH9dUz4oiEM6XgTjaWpscr4o+JcLGP+fzt8Yr3kteckQ7dsdedCm82cd4yWvNf4QHl3KXLD5zdRvMzR+/8bnr6D8FfX71L5Df1I0er7koqyninrCznMsEjYGziu8jZJfuBhJWUu+g+dLjk6nEM/5yD/f4PgYwHka9DwiSt+5Zi7y9Rjl/eVuzThj8wOlj3JBtv0zjo5S2fJA4uNFIT1i/N9t+iMCv5ZFfQ2NB+PMF3R+RXgRPyM9XabxsV/6fMkq6NOEx++Vq/oT+oug/AjhjeUd8RVf8fXvcl18u81Uizjf/31A0P0cnt89gHiMVL9RuiyPaLxuYaQ/5YWXg6dS72p5Idt6uJ9nzyikBsVV4mttgB/Qt5Wp/yOcL0jPN6frM+jfRYgPTpiatEn3q8Jl9ypNz3O82h5+OH/MKVn2g/lZjDeUHetTZv9f7n77OovavxX54XL6vFxn8HTz/VpqXDqbG88a978NlB9gf6L8JUL7klFjXKLnc9HyUR62XHw4jO/F0Zvjz7kp/3DpnE+O8c7EbKm+JL+G8aAKd7e9qoj8lSOvof4s688/1L8f+SPcr62Hf4zvzo1P7M/19NsYH4zKb4Df3WD/SPnV1KhrzR8YP2PF8xW87Vsvv/fy+qugP9LK5y2ifpvR99Xm/O2JfNfrcvQl5IxGNYXz31r9t4G9hPei/loOvkqps+kq7aX2Qdh/eN5tJEDVQR7L2RuKEK90BXql9mPo34P+Z9Hoyzl/JjjPY73zSjG+b2l2dr2m/wQHD6436H9H+w/lZ3hewqr0eo7y8Nt05pzGx8R4GyJtL/gj0mc477OMz0OID5Xzfq+OH2t0/8zRkygUhpucN4v+l636dbor4nrs5Vcy5e93/Hoyxz8DzxtB/kGL4vxUtn7A+RI6zKfUHgDlKSgfx/FNnwWURzF7gfs+Pa9DBP5QQP+seP8cX/EVX/H1b39hfOX7y8oR8M+1o9RjrVR/mfMCeP777vEE4hNUO2STqp/WTZAn+OzlUH+s3Cu1ra8v6M87o+uvUz/6XyD/JV7Pzvl484QfuK4uZ8++wf6Z6l9tewBqD+rVD6M9qo7ns9PzErX0BY0vsMX+vLzp3jN84H665MRn5OBHew/kn+h+tKs91bYjLzrB/S/aly5lr3yun1xb+vHiqbKl87V6g9MrGk9eqLa/zQSIxzGHX2b2FkxfktqS/Ar3g5x9ycL9Fcj/qH4U/bGjhgf1i+gvzc6nWyAfcsZrDvlhpL+o7XfpeXLceK9Xxkv2B403APKbqKeGysSoWucTNDKtVeKl1PG81PKoGn38QTxvltqbpEu5Veijiv2H8ey22H9o/7BU+RWMn4ry4+KlonXzW+y/m1lzSXkAlSdvb/5ctf+U/NMpi2c5JmS+3n59hf7D/phz/grGExjWlXumb0Z4tuLPyfcf9sdF98g/nrB+tN/n/Wc+d/JbWo9R/psHfo73tzv9cHRD/TMoP+CcP4n+JSLGgwJ7UHF7TALqj8ozI3Ox0B+jCPzgtuNL8/wC2Atl0d7Hd941yGNE9M9dUb4ZX/EVX/H1n3rheXf0POE8xLNDf4PS3wgP8MdCKXUy5f0z0b52i+vxAvyU6XnzyD+hPoCez+TwU6gveEF5OhffGvXzaL9M9SFw3jmN51gsmmc3L9OV3Xzxsj7C86uwv0R5YvD4oPG3wJ+cfjfE0+k28YX6fdmRd6B+Njw+I/OPBX+WLeLrBM+/xvZPjd4JPY8iHcof1lsYTwH1Y1uB5wLsA0SMH0HPC7m8flwc772tPuSpf8hS57utzH9Sfw8+Xv8S+2U833JkzxeR77d6hfs7tn9A/6Ol4jdSewzGnzbuoj+fHvX5GA9h+Xhr1W8ZE+IX0vNQTqOk9xM4b4aOb5wvV9jPOf1H4+FGOH875xOURqfXq9ifnKB9uBMPPpL+o+dv0vgvOH8jvS+VlZ43h/7nKB9Zwd5omf1o/UzOXrB4oMufF8vmT8BP+ebmNvLzhlj/4fw8a9zNBNjPl+fuX4+PBGoPsA16oteDdvvRdV5AShTqQ+BPOKKvw/nEuVlpVBMcfkEY6tdbOg+GxnNWtOtjLh6VkDVvbil8I5BPi6ifofGewf6Rxr/c1H9t0YX+IUNcjz3n1bBnB16MH/lynFQVzjsq9wtPUt2opOqzlJT9+kj9Sak8Bv2foovXG1/xFV/x9X/1oucBPtTOq/V/o/NuqT8sri8Yr+fvOw+C4oezr2bx38BeTx9IN5Q/QP3qy5x/hPp+9H/0nX/kyF+ofuK6ejR7GXkCje/g4Kebz1/WRSV3MRNQP4/6cM7fdnl/gPUuev4f6P+YvgH2W4H0Tf05KP4gPdXnbAUo6r9O9UOgv8bzUefsB9B+h9o3b298cvsBjAe+3P6E6pOm+umW6Av3y5SeL2bnS8oHuPP5MJ5h1PR1CeOdji/sv+X27874jDreynnufMboY1V/D8d/pRT9fEn6y9kfrHK+hTN/bWc+cOhjqUz0vAdqH75hPI0549uhj+XsJ+rdTn7r8k/Ov2mBPI+uj47/+Rb3g6dZ44ztP3F9GYevj+gPyK2P6P+wxfUG4UH7fQHnU5RfIz+A9gxljC9J4+mw9e9q+/7waI/E0Rfax6XOp2mDzhccfsLXx+1cNL4SzF95tI+1xpeFHxrvZ/n1KPr+LF6y80xAPpXKlUW5/vQS8bLiK77iK77+F16o7xCPRrNSCvVVOJ9T/wfnmcbPQfnstte/c5APe+unzxhPOQ/wYrwhH3wvDQ/GExj78XnE46/E8kfaX3lP+Vb/WPgJW3+9+IyqP6se+lmhP7ztsfLXNtnPV0PoebUL8emlv434rQjwH9j/69GXRb/e8b7u5cXX6vkpPlzwzKXnNfCVZ+NzhfxHHniONt6/VRh9bzB/RTpegulhdfrcbLxta/xFNX698ATO/6v23wbj1z/eNh0vm/Vf2HzS2XC8dFYef97xFfV6XPHwH8H0heNHw/NQw/mrTec37/xphPMri543oudN6cP1bOHrpa459BLh/Bpf8RVf8RVff+OF8eTp+dviMGPSeAX5vxueZjZj8PZ6aD+oS1Oj/jR8euoWMV42xqd4Ef8Hdr6k137Qa6+AzxAvK/VpcntLzwstQHuiPU++A/EnzHtOP+mzb+TsKQLhxfMDojsvu+rEy/LhI8jekvPXEDF+I6ffAXtN9D/fmL/A+Fdtph+29DMY33rZ89s+HLnOEwX76Q34QaTXBsZHd/BB9VngP7pce89Bn5PDeP+OPmwD/v3s09hg/iFc/611viRnX97JZTbhV6s4fhz6ofH2Vj1PBfFN7WewffmLcnuT/uP8n6j+FvyfVo63iPYzDr4Lp1+O17RfwPmQO79jJOaFleGps/NgrPFBz/9Zf/xd1K9vu9z4R/+5FeY/et4sxvdba3z46Ptyaljn3yA87f73bgrtr5fLD/75RXoeKOZH//j14aH03c0PawI3Py4/Xk7B3iqH+m/X/FrffL7MC2cKi9ew/HhB+ini+OTGa3T+BpffHgt8fBU8jzd4vKD9vAzji6NnKx6GUovSv+dbb3DPzpNEfD0V7x7JP09PVN9e/N4/6Qj4rAfN98KJctTZzvlQl3hesXf97Rfubmk8By8/EAk9L6R30nDrvNJwfgDjV+F8GM36v8L6h+d1efkXjIdRan+adP9Gfji+4iu+4muNC+XvJvoDa4Vsk8YHLsJ5SALsZ188Xs2k1PjEnw/GxdOZlVTgH2all4xn0Ds5v2H7dS88GL9c0R5PaLzCl5n/J80vx/x5SHg+Nq6HKdp/uF7DeXboj7rF9RHjSZap/bpjb4z2nqifGXv4URaPD/xLUB8VtX0h6iPKTnwz6/yDRh/sGWu++ioQb4uPvwX+uELE8IiOfz7zF7mfnvv8cXn+Gs6np/sjTB9+Xvt612Ohds3gwf0Tnt+9kH9X80I1h/CU2h/GcH5DNqL+w3gYXLzGcHvnYH4R+w/PjytFN75GcH4DhQfjuxDG+OOS4/upqFnxzdFefOP9FtBDC+JhpBz7/CLZOy2Oh4HnpeB5nVQ/eDxORxSv4/RSqfHzoQj88SJ42HmuJ0aD0R/utzH+yqb7mzr6j3P+YP1apbpcvKCH++tjXj5CJvrN5cW17Hm1KuJ+j4vvC/bVpUXzFyG8JotXg+sLxjvQYD41Np2PzpWxFZ8Oy2fxNkL7C+S/wrh0UmH9hfGEMF5jNPJgwEcZ/R9p+Wh/Pic9yi+484OZPf/NbZTzo3LfqfH04D3/A+0FRmCvL8L4TqXqpsj03eCPT+MHRdJfPD0BPfPxYyFeiNDsT4wUHU8Qv5WPD4nzD8ivhEjGV/h4LuP5QnPiMeJ6kRcuq13ha+/D1Qvt1yEeZQ7jW3vhQX4uwvUrvuIrvuIrvv6eC+NNt+C85lx1bNQEPL+Ym+/Rfzl/Wel0i7hffRGgcL1OOfEO59gD4H6j8OnqeJvrEdWX4flfXnn65PyiSuMX+OwBPk6Or2j8pe2cZ1Aazph+qlhpf+bjL4mgT6P7iWGjk68PyTasKz7ms+e8fCM10qM/L5SeL4n6qTOlozF4wP4geD+B+BkCPBR+tCfYCr7QfoLaW1L6wf3vHPyi/Qvyp3h+KOEHjzuR4wvbO2LwfL6i/qyL2n+J+lVHXhSh/SzKE0w8fxTjD+J5E8vFL8DzVil/nbq86Ubof0SG2A2jb+SXx1vG73L0dDVLlzh99wrtPcXzTp3z4FeQj8yhV/AnZ/Fe0B4D5s8V6LWK8k8cH2XAdzT9h/I6Gp8H42uumt/ZH5Gm3TxGI3+pZc+7zB5n1f0vlbehPBvHx0Ne+hQRPcH5RdReAeVBy61neB7sCOcnbA/aw0U4H2A8mTLKU1HesJifqIzrTfHixqcfj9I+D/uPyu/BPmcO/tFeQRo+nfLytgKcnxp5fFsqT7XjZaa+pC+OynheFo3vgOeF4HmYJsTj4PBTOvtwdYP+WJHzV874o/Uhf0fPC8fzvlC+wNkz4nNB+fZxtkX9xwXym/eZTDPYvpPSG+qrMF5UQZDVF7IPoPaD3PliyF/BfC0gP4D6KpSXx/KP+Iqv+Pr3utAeAf2H8XxlgcbHAf0g9ffdij3cogv9DXzybUcfV8qd31RXOD9tY3jku49drn5e/u7Rj6A+fPwi8ND1z4mnhf4QKN8YOvs9Ci/qV5e3r131ugT9ukjtRRCeM7INpOsft99AfQTuX7jzsZE/jpq+aHx0x16Zw483KdX/N75+5fUpW+m/KpxHytk/pIxi1pgTb7uK+mMn/XbisaH+nKPf/knz27z2o/yKS7+1eYnp39H+FPmpeeeBgv8Id976dvqPm3/qlauF+/eX6T9u/GN8uDn7fZTHonx2i/2H58lz8RDNxtXceJZ4Xs7Io8+Muv9O2H4A7M8BX4Vs8/M8esLzCzl6wv1W5OcZtNVBntOvC+DPIITTt8jJk235VOT7LbVQlPn+U7+Pm77+Owf7Cjxfj1//0F4B94NX2+g/Go+0MPzag/Oum/x+iu4PUX7uxIu0zktsZLdrvwjyYYxPeaZobL2j519Wx4/Wegjfqb8b2luVwB9hm/qHkXTH2o/799JN9WqW8tKP45+07fOmnflHWMQ/PUkdbev48fK/l6pWrIp43gNHP/iM9ozaNuwn4yu+4iu+/q9clY8PtSsB7fkK1zfHM8o/0fPFrru1GbVHw/l226Cg/XsWz3vizo+cc34xwof+g1uBB/3DsxA/2lc/xpNH+XowfL3vV1uKn1wZ6U9533qcbT3c1wU4T66I8aU7+dNKfTBtfJoxfxBMD/4QwlifliLcv9PzEkShMPTDA+tz8PqL8Z4NkAdx+CvpJ9c30cg7+gVN8sFD+M/SQn6AjgdqD+DkN05Lo43jFVB7Zae95fZdZhV9x8lQ6nfFEulm1p94/heMz5Sjf1pF3oL2N1572bXkc3T/4bGvLeea32g81RU2YRX05+XkP9WOVttgfPvOo6X+Ciue94r2F1x+HF+b7k/OR6fTLmevnFc+f1hFH38K8x9//jzYb+UjWQ84/ON57ev3H9nImdrG8zO1X/PMtyuMR1zfvOfNzzm/dQX50un09nE9eRHuN3Nn00eNx9eG/uPoH1Fa3l8g+MJ4HN75s5g19DX1+17/kbXsF3C/57NXx+fB6Xl3lf5Efoauj5w/ANinrdc+PO9pKJoNPz/wLdO7Z/5+d8cP1SKOL8SH5nnW4TxQ3l8I7PsEOL96AyFWBc8v6g1uvzL7tnB+atGzUFfuqX1IhPxWtSDUO2Xkl+bwUz75x5khgr9puSuif8UW+WPAXxnXCw3mZ6H2MG5S+sX5Wqh0ro7p+tsE/9Z/o0PT4iu+4iu+4uvf/sL4RkPgb4q430F7TwPWk+zL+WNY/DupD+X51D8y0H5CvDT1el7+9IHuF7fur9jJ1ypMX4P7i6H4VKyb7buvLD4kwsPZJ6B+QhwWL7upkTiM3v+B7gdx/13tdGqpcbPK5GNV4N/L6P9K9tdKNYf+wZly465ugP6Zkx8t5Q++Av2g/k9AedXy9j8V5C85/SHaz+P5qp1N6RnpB+Mrrq9frJRHZ2OhPPqaqZfF1reb9fwzRo1xibUP6QP5tY3373je4rT07ZjGP1h5P+PEYxvqj4Uo5YXUP2fF/Si1J8P24Hm2ZdDPRqM/Q3q6QHvoFe0XKhfdGos/UoR4ChHq809Q3r2WPCFnZlpsPgL76o3nF7Ixu6rfYzz/bPnbLZ2/MD7DKudlIn3fpHu11Kbn3aN9fwPjyTrzP+6PMd7tKv4mt+nMeWpWKlyuTN8n4O+XA3+J0qAo9esm2ts7+mcKz1rxVTGeC9ojCJ8ftMX6A5SnGCivu05/PU7hM43v+fR0bcWvQH092K+tt15TfwfEN853xdOH2o2A9N8fPH5nz4p2fZxy6M9tP2XZX6F8i6x/w43lgeivUkL7oGG7X+iKamF4L6B+fYVn9C8zo5tP4iu+4utFrnev9xKvJV2XplVzOpBfv0m8bvc0ycxl4cNI6imtc8l4/CAZcjEPX4+ujj/Ed3zHd3zHd3zHd3zHd3zHd3zHd3zHd3zHd3zHd3zHd3zHd3zHd3zHd3zHd3zHd3zHd3zHd3zHd3zHd3zHd3zHd3zHd3zHd3zHd3zHd3zHd3zHd3zHd3zHd3zHd3zHd3zHd3zHd3zHd3zHd3zHd3zHd3zHd3zHd3zHN94Y27ElmdK1qSst2Xj9JvH7tZQlfzIQ9DFDfmRL8CtNfoml/DP5PTmaKMb1QG5C6h+/X6tSH4NCShgPsic15B48KupgaCZaSl9WDUVT4ZthSrpJvqXJb1ltYeGkRK6IdEAR8kTqD3pySAHp55/kYRoGU2YtmKBIo6c05ZarXHjd1Hqa3pcGFU1tKx3ElxUVs6mppqIOtaEBBfcVlbzcBzz2pQnDaGtKIFOa5Kkt9QyZvNGl8bmiHjWgAnXY67FX0sT1qklqrJJuAih+lIt7iUx+L5HLE4B+ZHJ5+pjP4GNRJF+KcONjifwUs+QrfSyT3sykSRJRhOdsGp5zZfJPpoAvMvBCJLBmCvQF9H82nSMvylhENk8+ZqGGbI6mSJPisxn8h1ZShOzlNORL44uMCIWm8S28EAsAMtRUwhw5+JnN2c9QWDlvJ4cai9DoYhZTk9LyUGIm8/MnUORAmcg9oy7rFbnXY5geSb2h/BG6yiSd0qmphqkPmybpdUYiVq/1FFPWpd5rKw+SDUQ7fY2kOS/ZD3cSRW3JEwyWSojGIWfjURn8ssgsm7be2PS7qBbye0E1GX81JU81pQiqyUZRzc/FaP1/aiLxzgMN/fj88/ltymjqysB8/zZlymRekEyZ/GwpI/bv/weCieWO</script> <treescope-run-here><script type=\"application/octet-stream\"> const root = ( Array.from(document.getElementsByClassName( \"treescope_out_b9dd49f1918743d19e261b4b33d27008\")) .filter((elt) => !elt.dataset['step0']) )[0]; root.dataset['step0'] = 1; root.defns.insertContent( this.parentNode.querySelector('script[type=\"application/octet-stream\"]'), true ); this.parentNode.remove(); </script></treescope-run-here> </div>"
      ],
      "text/plain": [
       "<Arrayviz rendering>"
      ]
     },
     "execution_count": 2,
     "metadata": {},
     "output_type": "execute_result"
    }
   ],
   "source": [
    "from mnist import mnist_data\n",
    "\n",
    "_, _, mnist_test_images, mnist_test_labels = mnist_data()\n",
    "\n",
    "batch_size = 1024\n",
    "mnist_test_image_batch = mnist_test_images[:batch_size]\n",
    "mnist_test_label_batch = mnist_test_labels[:batch_size]\n",
    "\n",
    "# Sort by label\n",
    "idx = jnp.argsort(mnist_test_label_batch.argmax(-1))\n",
    "mnist_test_image_batch = mnist_test_image_batch[idx]\n",
    "mnist_test_label_batch = mnist_test_label_batch[idx]\n",
    "\n",
    "treescope.render_array(\n",
    "    mnist_test_image_batch.reshape(-1, 28, 28)[:20],\n",
    "    pixels_per_cell=1,\n",
    "    columns=[2, 0],\n",
    "    axis_labels={0: \"input example\", 1: \"input dimension\", 2: \"input dimension\"},\n",
    "    vmax=1,\n",
    "    vmin=-1,\n",
    ")"
   ]
  },
  {
   "cell_type": "code",
   "execution_count": 3,
   "id": "0101d28b-8b92-4a05-be48-d65638cba440",
   "metadata": {},
   "outputs": [
    {
     "name": "stdout",
     "output_type": "stream",
     "text": [
      "Epoch 0\t\ttrain loss: 2.3 ± 0.00483\ttest error: 90.02%\n",
      "Epoch 1\t\ttrain loss: 0.23 ± 0.0029\n",
      "Epoch 2\t\ttrain loss: 0.0891 ± 0.00332\n",
      "Epoch 3\t\ttrain loss: 0.161 ± 0.00512\n",
      "Epoch 4\t\ttrain loss: 0.044 ± 0.00127\n",
      "Epoch 5\t\ttrain loss: 0.0343 ± 0.00185\n",
      "Epoch 6\t\ttrain loss: 0.0426 ± 0.00188\n",
      "Epoch 7\t\ttrain loss: 0.0302 ± 0.000888\n",
      "Epoch 8\t\ttrain loss: 0.0284 ± 0.00132\n",
      "Epoch 9\t\ttrain loss: 0.0632 ± 0.00332\n",
      "Epoch 10\t\ttrain loss: 0.0147 ± 0.000642\n",
      "Epoch 11\t\ttrain loss: 0.0818 ± 0.00513\n",
      "Epoch 12\t\ttrain loss: 0.0313 ± 0.00139\n",
      "Epoch 13\t\ttrain loss: 0.0156 ± 0.000913\n",
      "Epoch 14\t\ttrain loss: 0.0158 ± 0.000546\n",
      "Epoch 15\t\ttrain loss: 0.0132 ± 0.000743\n",
      "Epoch 16\t\ttrain loss: 0.014 ± 0.000723\n",
      "Epoch 17\t\ttrain loss: 0.0153 ± 0.00099\n",
      "Epoch 18\t\ttrain loss: 0.0252 ± 0.00362\n",
      "Epoch 19\t\ttrain loss: 0.00854 ± 0.000758\n",
      "Epoch 20\t\ttrain loss: 0.0277 ± 0.00357\n",
      "Epoch 21\t\ttrain loss: 0.0171 ± 0.00105\n",
      "Epoch 22\t\ttrain loss: 0.0114 ± 0.000551\n",
      "Epoch 23\t\ttrain loss: 0.00851 ± 0.000915\n",
      "Epoch 24\t\ttrain loss: 0.00686 ± 0.000635\n",
      "Epoch 25\t\ttrain loss: 0.0228 ± 0.00132\n",
      "Epoch 26\t\ttrain loss: 0.0113 ± 0.00128\n",
      "Epoch 27\t\ttrain loss: 0.00935 ± 0.00102\n",
      "Epoch 28\t\ttrain loss: 0.0122 ± 0.000915\n",
      "Epoch 29\t\ttrain loss: 0.00899 ± 0.000854\n",
      "Epoch 30\t\ttrain loss: 0.016 ± 0.00116\n",
      "Epoch 30\t\ttrain loss: 0.016 ± 0.00116\ttest error: 1.914%\n",
      "CPU times: user 2h 13min 10s, sys: 48min 25s, total: 3h 1min 35s\n",
      "Wall time: 46min 3s\n"
     ]
    },
    {
     "data": {
      "text/plain": [
       "MLP(\n",
       "  layers=(\n",
       "    Linear(\n",
       "      weight=f32[10,1024,784],\n",
       "      bias=None,\n",
       "      in_features=784,\n",
       "      out_features=1024,\n",
       "      use_bias=False\n",
       "    ),\n",
       "    Linear(\n",
       "      weight=f32[10,1024,1024],\n",
       "      bias=None,\n",
       "      in_features=1024,\n",
       "      out_features=1024,\n",
       "      use_bias=False\n",
       "    ),\n",
       "    Linear(\n",
       "      weight=f32[10,10,1024],\n",
       "      bias=None,\n",
       "      in_features=1024,\n",
       "      out_features=10,\n",
       "      use_bias=False\n",
       "    )\n",
       "  ),\n",
       "  activation=<wrapped function relu>,\n",
       "  final_activation=<function <lambda>>,\n",
       "  use_bias=False,\n",
       "  use_final_bias=False,\n",
       "  in_size=784,\n",
       "  out_size=10,\n",
       "  width_size=1024,\n",
       "  depth=2\n",
       ")"
      ]
     },
     "execution_count": 3,
     "metadata": {},
     "output_type": "execute_result"
    }
   ],
   "source": [
    "%%time\n",
    "from mnist import train_mnist\n",
    "\n",
    "mnist_model = train_mnist(num_seeds=10)\n",
    "mnist_model"
   ]
  },
  {
   "cell_type": "markdown",
   "id": "016bdc3e-97c1-4f49-b8c3-78cd6467505d",
   "metadata": {},
   "source": [
    "### Manipulate model"
   ]
  },
  {
   "cell_type": "code",
   "execution_count": 53,
   "id": "2465d961-2972-4d2e-a8bf-2ce8c3585b6d",
   "metadata": {},
   "outputs": [],
   "source": [
    "from expand import scale_neurons\n",
    "from expand import duplicate_neurons\n",
    "from expand import add_random_zero_neurons\n",
    "\n",
    "\n",
    "@partial(eqx.filter_vmap, in_axes=(eqx.if_array(0), None))\n",
    "def scale_manipulation(model, scale_factor):\n",
    "    W2 = model.layers[1].weight\n",
    "    W3 = model.layers[2].weight\n",
    "    new_W2, new_W3 = scale_neurons(w_in=W2, w_out=W3, scale_factor=scale_factor)\n",
    "    new_model = eqx.tree_at(lambda x: x.layers[1].weight, model, new_W2)\n",
    "    new_model = eqx.tree_at(lambda x: x.layers[2].weight, new_model, new_W3)\n",
    "    return new_model\n",
    "\n",
    "\n",
    "@partial(eqx.filter_vmap, in_axes=(eqx.if_array(0), None))\n",
    "def duplicate_type_manipulation(model, num_duplicates):\n",
    "    W2 = model.layers[1].weight\n",
    "    W3 = model.layers[2].weight\n",
    "    new_W2, new_W3 = duplicate_neurons(w_in=W2, w_out=W3, num_duplicates=num_duplicates)\n",
    "    new_model = eqx.tree_at(lambda x: x.layers[1].weight, model, new_W2)\n",
    "    new_model = eqx.tree_at(lambda x: x.layers[2].weight, new_model, new_W3)\n",
    "    return new_model\n",
    "\n",
    "\n",
    "@partial(eqx.filter_vmap, in_axes=(eqx.if_array(0), None, 0))\n",
    "def zero_type_manipulation(model, num_units, key):\n",
    "    W2 = model.layers[1].weight\n",
    "    W3 = model.layers[2].weight\n",
    "    new_W2, new_W3 = add_random_zero_neurons(\n",
    "        w_in=W2, w_out=W3, num_zero_groups=num_units, neurons_per_group=1, key=key\n",
    "    )\n",
    "    new_model = eqx.tree_at(lambda x: x.layers[1].weight, model, new_W2)\n",
    "    new_model = eqx.tree_at(lambda x: x.layers[2].weight, new_model, new_W3)\n",
    "    return new_model\n",
    "\n",
    "\n",
    "@partial(eqx.filter_vmap, in_axes=(None, 0, None))\n",
    "@partial(eqx.filter_vmap, in_axes=(eqx.if_array(0), None, 0))\n",
    "def parameter_noise_manipulation(model, noise_scale, key):\n",
    "    W1 = model.layers[0].weight\n",
    "    W2 = model.layers[1].weight\n",
    "    W3 = model.layers[2].weight\n",
    "\n",
    "    key = jax.random.split(key, 3)\n",
    "    new_W1 = W1 + noise_scale * jax.random.normal(key[0], W1.shape)\n",
    "    new_W2 = W2 + noise_scale * jax.random.normal(key[1], W2.shape)\n",
    "    new_W3 = W3 + noise_scale * jax.random.normal(key[2], W3.shape)\n",
    "\n",
    "    new_model = eqx.tree_at(lambda x: x.layers[0].weight, model, new_W1)\n",
    "    new_model = eqx.tree_at(lambda x: x.layers[1].weight, new_model, new_W2)\n",
    "    new_model = eqx.tree_at(lambda x: x.layers[2].weight, new_model, new_W3)\n",
    "    print\n",
    "    return new_model\n",
    "\n",
    "\n",
    "@partial(eqx.filter_vmap, in_axes=(eqx.if_array(0), None, 0))\n",
    "def transfer_manipulation(model, transfer_sample_budget, key):\n",
    "    pass\n",
    "\n",
    "\n",
    "def accuracy(pred_y, y):\n",
    "    target_class = jnp.argmax(y, axis=1)\n",
    "    predicted_class = jnp.argmax(pred_y, axis=1)\n",
    "    return jnp.mean(predicted_class == target_class)\n",
    "\n",
    "\n",
    "@partial(eqx.filter_vmap, in_axes=(eqx.if_array(0),))\n",
    "def gen_error(model):\n",
    "    pred_y = eqx.filter_vmap(model)(mnist_test_images)\n",
    "    test_error = 1 - accuracy(pred_y, mnist_test_labels)\n",
    "    return test_error"
   ]
  },
  {
   "cell_type": "code",
   "execution_count": 23,
   "id": "d72687f9-a9a0-4792-a178-70b01084d584",
   "metadata": {},
   "outputs": [
    {
     "data": {
      "text/plain": [
       "Array([0.01960003, 0.01930004, 0.01920003, 0.01950002, 0.0194    ,\n",
       "       0.01800001, 0.01920003, 0.01900005, 0.01930004, 0.01890004],      dtype=float32)"
      ]
     },
     "execution_count": 23,
     "metadata": {},
     "output_type": "execute_result"
    }
   ],
   "source": [
    "gen_error(mnist_model)"
   ]
  },
  {
   "cell_type": "code",
   "execution_count": 24,
   "id": "75d9de7a-a362-4f7e-954e-5c2377461e5b",
   "metadata": {},
   "outputs": [
    {
     "data": {
      "text/plain": [
       "Array([0.01960003, 0.01930004, 0.01920003, 0.01950002, 0.0194    ,\n",
       "       0.01800001, 0.01920003, 0.01900005, 0.01930004, 0.01890004],      dtype=float32)"
      ]
     },
     "execution_count": 24,
     "metadata": {},
     "output_type": "execute_result"
    }
   ],
   "source": [
    "gen_error(scale_manipulation(mnist_model, 10))"
   ]
  },
  {
   "cell_type": "code",
   "execution_count": 28,
   "id": "0b9468d6-82ec-4062-8772-a85805b26c90",
   "metadata": {},
   "outputs": [
    {
     "data": {
      "text/plain": [
       "Array([0.01960003, 0.01930004, 0.01920003, 0.01950002, 0.0194    ,\n",
       "       0.01800001, 0.01920003, 0.01900005, 0.01930004, 0.01890004],      dtype=float32)"
      ]
     },
     "execution_count": 28,
     "metadata": {},
     "output_type": "execute_result"
    }
   ],
   "source": [
    "gen_error(duplicate_type_manipulation(mnist_model, 10))"
   ]
  },
  {
   "cell_type": "code",
   "execution_count": 27,
   "id": "22392d51-73da-40ae-9110-ede30424ed3c",
   "metadata": {},
   "outputs": [
    {
     "data": {
      "text/plain": [
       "MLP(\n",
       "  layers=(\n",
       "    Linear(\n",
       "      weight=f32[10,1024,784],\n",
       "      bias=None,\n",
       "      in_features=784,\n",
       "      out_features=1024,\n",
       "      use_bias=False\n",
       "    ),\n",
       "    Linear(\n",
       "      weight=f32[10,1034,1024],\n",
       "      bias=None,\n",
       "      in_features=1024,\n",
       "      out_features=1024,\n",
       "      use_bias=False\n",
       "    ),\n",
       "    Linear(\n",
       "      weight=f32[10,10,1044],\n",
       "      bias=None,\n",
       "      in_features=1024,\n",
       "      out_features=10,\n",
       "      use_bias=False\n",
       "    )\n",
       "  ),\n",
       "  activation=<wrapped function relu>,\n",
       "  final_activation=<function <lambda>>,\n",
       "  use_bias=False,\n",
       "  use_final_bias=False,\n",
       "  in_size=784,\n",
       "  out_size=10,\n",
       "  width_size=1024,\n",
       "  depth=2\n",
       ")"
      ]
     },
     "execution_count": 27,
     "metadata": {},
     "output_type": "execute_result"
    }
   ],
   "source": [
    "key = jax.random.PRNGKey(37)\n",
    "zero_type_manipulation(mnist_model, 10, jax.random.split(key, 10))"
   ]
  },
  {
   "cell_type": "code",
   "execution_count": 29,
   "id": "7abf18e4-86ef-4b04-9fa6-9ed31a855459",
   "metadata": {
    "scrolled": true
   },
   "outputs": [
    {
     "ename": "TypeError",
     "evalue": "dot_general requires contracting dimensions to have the same shape, got (1044,) and (1034,).",
     "output_type": "error",
     "traceback": [
      "\u001b[0;31m---------------------------------------------------------------------------\u001b[0m",
      "\u001b[0;31mTypeError\u001b[0m                                 Traceback (most recent call last)",
      "Cell \u001b[0;32mIn[29], line 1\u001b[0m\n\u001b[0;32m----> 1\u001b[0m \u001b[43mgen_error\u001b[49m\u001b[43m(\u001b[49m\u001b[43mzero_type_manipulation\u001b[49m\u001b[43m(\u001b[49m\u001b[43mmnist_model\u001b[49m\u001b[43m,\u001b[49m\u001b[43m \u001b[49m\u001b[38;5;241;43m10\u001b[39;49m\u001b[43m,\u001b[49m\u001b[43m \u001b[49m\u001b[43mjax\u001b[49m\u001b[38;5;241;43m.\u001b[39;49m\u001b[43mrandom\u001b[49m\u001b[38;5;241;43m.\u001b[39;49m\u001b[43msplit\u001b[49m\u001b[43m(\u001b[49m\u001b[43mkey\u001b[49m\u001b[43m,\u001b[49m\u001b[43m \u001b[49m\u001b[38;5;241;43m10\u001b[39;49m\u001b[43m)\u001b[49m\u001b[43m)\u001b[49m\u001b[43m)\u001b[49m\n",
      "File \u001b[0;32m~/mambaforge/envs/asysid/lib/python3.13/site-packages/equinox/_vmap_pmap.py:169\u001b[0m, in \u001b[0;36m_VmapWrapper.__call__\u001b[0;34m(***failed resolving arguments***)\u001b[0m\n\u001b[1;32m    164\u001b[0m         \u001b[38;5;28;01mraise\u001b[39;00m \u001b[38;5;167;01mValueError\u001b[39;00m(\n\u001b[1;32m    165\u001b[0m             \u001b[38;5;124m\"\u001b[39m\u001b[38;5;124mCannot resolve batch dimension. Non-`None` `out_axes` requires \u001b[39m\u001b[38;5;124m\"\u001b[39m\n\u001b[1;32m    166\u001b[0m             \u001b[38;5;124m\"\u001b[39m\u001b[38;5;124meither `in_axes` or `axis_size` to be not `None`.\u001b[39m\u001b[38;5;124m\"\u001b[39m\n\u001b[1;32m    167\u001b[0m         )\n\u001b[1;32m    168\u001b[0m \u001b[38;5;28;01melse\u001b[39;00m:\n\u001b[0;32m--> 169\u001b[0m     vmapd, nonvmapd_arr, static \u001b[38;5;241m=\u001b[39m \u001b[43mjax\u001b[49m\u001b[38;5;241;43m.\u001b[39;49m\u001b[43mvmap\u001b[49m\u001b[43m(\u001b[49m\n\u001b[1;32m    170\u001b[0m \u001b[43m        \u001b[49m\u001b[43m_fun_wrapper\u001b[49m\u001b[43m,\u001b[49m\n\u001b[1;32m    171\u001b[0m \u001b[43m        \u001b[49m\u001b[43min_axes\u001b[49m\u001b[38;5;241;43m=\u001b[39;49m\u001b[43m(\u001b[49m\u001b[43min_axes\u001b[49m\u001b[43m,\u001b[49m\u001b[43m)\u001b[49m\u001b[43m,\u001b[49m\n\u001b[1;32m    172\u001b[0m \u001b[43m        \u001b[49m\u001b[43mout_axes\u001b[49m\u001b[38;5;241;43m=\u001b[39;49m\u001b[43m(\u001b[49m\u001b[38;5;241;43m0\u001b[39;49m\u001b[43m,\u001b[49m\u001b[43m \u001b[49m\u001b[38;5;28;43;01mNone\u001b[39;49;00m\u001b[43m,\u001b[49m\u001b[43m \u001b[49m\u001b[38;5;28;43;01mNone\u001b[39;49;00m\u001b[43m)\u001b[49m\u001b[43m,\u001b[49m\n\u001b[1;32m    173\u001b[0m \u001b[43m        \u001b[49m\u001b[43maxis_name\u001b[49m\u001b[38;5;241;43m=\u001b[39;49m\u001b[38;5;28;43mself\u001b[39;49m\u001b[38;5;241;43m.\u001b[39;49m\u001b[43m_axis_name\u001b[49m\u001b[43m,\u001b[49m\n\u001b[1;32m    174\u001b[0m \u001b[43m        \u001b[49m\u001b[43maxis_size\u001b[49m\u001b[38;5;241;43m=\u001b[39;49m\u001b[38;5;28;43mself\u001b[39;49m\u001b[38;5;241;43m.\u001b[39;49m\u001b[43m_axis_size\u001b[49m\u001b[43m,\u001b[49m\n\u001b[1;32m    175\u001b[0m \u001b[43m        \u001b[49m\u001b[38;5;241;43m*\u001b[39;49m\u001b[38;5;241;43m*\u001b[39;49m\u001b[38;5;28;43mself\u001b[39;49m\u001b[38;5;241;43m.\u001b[39;49m\u001b[43m_vmapkwargs\u001b[49m\u001b[43m,\u001b[49m\n\u001b[1;32m    176\u001b[0m \u001b[43m    \u001b[49m\u001b[43m)\u001b[49m\u001b[43m(\u001b[49m\u001b[43mdynamic_args\u001b[49m\u001b[43m)\u001b[49m\n\u001b[1;32m    178\u001b[0m nonvmapd_static, out_axes \u001b[38;5;241m=\u001b[39m static\u001b[38;5;241m.\u001b[39mvalue\n\u001b[1;32m    179\u001b[0m nonvmapd \u001b[38;5;241m=\u001b[39m combine(nonvmapd_arr, nonvmapd_static)\n",
      "    \u001b[0;31m[... skipping hidden 7 frame]\u001b[0m\n",
      "Cell \u001b[0;32mIn[22], line 47\u001b[0m, in \u001b[0;36mgen_error\u001b[0;34m(model)\u001b[0m\n\u001b[1;32m     45\u001b[0m \u001b[38;5;129m@partial\u001b[39m(eqx\u001b[38;5;241m.\u001b[39mfilter_vmap, in_axes\u001b[38;5;241m=\u001b[39m(eqx\u001b[38;5;241m.\u001b[39mif_array(\u001b[38;5;241m0\u001b[39m),))\n\u001b[1;32m     46\u001b[0m \u001b[38;5;28;01mdef\u001b[39;00m \u001b[38;5;21mgen_error\u001b[39m(model):\n\u001b[0;32m---> 47\u001b[0m     pred_y \u001b[38;5;241m=\u001b[39m \u001b[43meqx\u001b[49m\u001b[38;5;241;43m.\u001b[39;49m\u001b[43mfilter_vmap\u001b[49m\u001b[43m(\u001b[49m\u001b[43mmodel\u001b[49m\u001b[43m)\u001b[49m\u001b[43m(\u001b[49m\u001b[43mmnist_test_images\u001b[49m\u001b[43m)\u001b[49m\n\u001b[1;32m     48\u001b[0m     test_error \u001b[38;5;241m=\u001b[39m \u001b[38;5;241m1\u001b[39m \u001b[38;5;241m-\u001b[39m accuracy(pred_y, mnist_test_labels)\n\u001b[1;32m     49\u001b[0m     \u001b[38;5;28;01mreturn\u001b[39;00m test_error\n",
      "    \u001b[0;31m[... skipping hidden 8 frame]\u001b[0m\n",
      "File \u001b[0;32m~/mambaforge/envs/asysid/lib/python3.13/contextlib.py:85\u001b[0m, in \u001b[0;36mContextDecorator.__call__.<locals>.inner\u001b[0;34m(*args, **kwds)\u001b[0m\n\u001b[1;32m     82\u001b[0m \u001b[38;5;129m@wraps\u001b[39m(func)\n\u001b[1;32m     83\u001b[0m \u001b[38;5;28;01mdef\u001b[39;00m \u001b[38;5;21minner\u001b[39m(\u001b[38;5;241m*\u001b[39margs, \u001b[38;5;241m*\u001b[39m\u001b[38;5;241m*\u001b[39mkwds):\n\u001b[1;32m     84\u001b[0m     \u001b[38;5;28;01mwith\u001b[39;00m \u001b[38;5;28mself\u001b[39m\u001b[38;5;241m.\u001b[39m_recreate_cm():\n\u001b[0;32m---> 85\u001b[0m         \u001b[38;5;28;01mreturn\u001b[39;00m \u001b[43mfunc\u001b[49m\u001b[43m(\u001b[49m\u001b[38;5;241;43m*\u001b[39;49m\u001b[43margs\u001b[49m\u001b[43m,\u001b[49m\u001b[43m \u001b[49m\u001b[38;5;241;43m*\u001b[39;49m\u001b[38;5;241;43m*\u001b[39;49m\u001b[43mkwds\u001b[49m\u001b[43m)\u001b[49m\n",
      "File \u001b[0;32m~/mambaforge/envs/asysid/lib/python3.13/site-packages/equinox/nn/_mlp.py:147\u001b[0m, in \u001b[0;36mMLP.__call__\u001b[0;34m(self, x, key)\u001b[0m\n\u001b[1;32m    143\u001b[0m     layer_activation \u001b[38;5;241m=\u001b[39m jtu\u001b[38;5;241m.\u001b[39mtree_map(\n\u001b[1;32m    144\u001b[0m         \u001b[38;5;28;01mlambda\u001b[39;00m x: x[i] \u001b[38;5;28;01mif\u001b[39;00m is_array(x) \u001b[38;5;28;01melse\u001b[39;00m x, \u001b[38;5;28mself\u001b[39m\u001b[38;5;241m.\u001b[39mactivation\n\u001b[1;32m    145\u001b[0m     )\n\u001b[1;32m    146\u001b[0m     x \u001b[38;5;241m=\u001b[39m filter_vmap(\u001b[38;5;28;01mlambda\u001b[39;00m a, b: a(b))(layer_activation, x)\n\u001b[0;32m--> 147\u001b[0m x \u001b[38;5;241m=\u001b[39m \u001b[38;5;28;43mself\u001b[39;49m\u001b[38;5;241;43m.\u001b[39;49m\u001b[43mlayers\u001b[49m\u001b[43m[\u001b[49m\u001b[38;5;241;43m-\u001b[39;49m\u001b[38;5;241;43m1\u001b[39;49m\u001b[43m]\u001b[49m\u001b[43m(\u001b[49m\u001b[43mx\u001b[49m\u001b[43m)\u001b[49m\n\u001b[1;32m    148\u001b[0m \u001b[38;5;28;01mif\u001b[39;00m \u001b[38;5;28mself\u001b[39m\u001b[38;5;241m.\u001b[39mout_size \u001b[38;5;241m==\u001b[39m \u001b[38;5;124m\"\u001b[39m\u001b[38;5;124mscalar\u001b[39m\u001b[38;5;124m\"\u001b[39m:\n\u001b[1;32m    149\u001b[0m     x \u001b[38;5;241m=\u001b[39m \u001b[38;5;28mself\u001b[39m\u001b[38;5;241m.\u001b[39mfinal_activation(x)\n",
      "File \u001b[0;32m~/mambaforge/envs/asysid/lib/python3.13/contextlib.py:85\u001b[0m, in \u001b[0;36mContextDecorator.__call__.<locals>.inner\u001b[0;34m(*args, **kwds)\u001b[0m\n\u001b[1;32m     82\u001b[0m \u001b[38;5;129m@wraps\u001b[39m(func)\n\u001b[1;32m     83\u001b[0m \u001b[38;5;28;01mdef\u001b[39;00m \u001b[38;5;21minner\u001b[39m(\u001b[38;5;241m*\u001b[39margs, \u001b[38;5;241m*\u001b[39m\u001b[38;5;241m*\u001b[39mkwds):\n\u001b[1;32m     84\u001b[0m     \u001b[38;5;28;01mwith\u001b[39;00m \u001b[38;5;28mself\u001b[39m\u001b[38;5;241m.\u001b[39m_recreate_cm():\n\u001b[0;32m---> 85\u001b[0m         \u001b[38;5;28;01mreturn\u001b[39;00m \u001b[43mfunc\u001b[49m\u001b[43m(\u001b[49m\u001b[38;5;241;43m*\u001b[39;49m\u001b[43margs\u001b[49m\u001b[43m,\u001b[49m\u001b[43m \u001b[49m\u001b[38;5;241;43m*\u001b[39;49m\u001b[38;5;241;43m*\u001b[39;49m\u001b[43mkwds\u001b[49m\u001b[43m)\u001b[49m\n",
      "File \u001b[0;32m~/mambaforge/envs/asysid/lib/python3.13/site-packages/equinox/nn/_linear.py:95\u001b[0m, in \u001b[0;36mLinear.__call__\u001b[0;34m(self, x, key)\u001b[0m\n\u001b[1;32m     93\u001b[0m         \u001b[38;5;28;01mraise\u001b[39;00m \u001b[38;5;167;01mValueError\u001b[39;00m(\u001b[38;5;124m\"\u001b[39m\u001b[38;5;124mx must have scalar shape\u001b[39m\u001b[38;5;124m\"\u001b[39m)\n\u001b[1;32m     94\u001b[0m     x \u001b[38;5;241m=\u001b[39m jnp\u001b[38;5;241m.\u001b[39mbroadcast_to(x, (\u001b[38;5;241m1\u001b[39m,))\n\u001b[0;32m---> 95\u001b[0m x \u001b[38;5;241m=\u001b[39m \u001b[38;5;28;43mself\u001b[39;49m\u001b[38;5;241;43m.\u001b[39;49m\u001b[43mweight\u001b[49m\u001b[43m \u001b[49m\u001b[38;5;241;43m@\u001b[39;49m\u001b[43m \u001b[49m\u001b[43mx\u001b[49m\n\u001b[1;32m     96\u001b[0m \u001b[38;5;28;01mif\u001b[39;00m \u001b[38;5;28mself\u001b[39m\u001b[38;5;241m.\u001b[39mbias \u001b[38;5;129;01mis\u001b[39;00m \u001b[38;5;129;01mnot\u001b[39;00m \u001b[38;5;28;01mNone\u001b[39;00m:\n\u001b[1;32m     97\u001b[0m     x \u001b[38;5;241m=\u001b[39m x \u001b[38;5;241m+\u001b[39m \u001b[38;5;28mself\u001b[39m\u001b[38;5;241m.\u001b[39mbias\n",
      "File \u001b[0;32m~/mambaforge/envs/asysid/lib/python3.13/site-packages/jax/_src/numpy/array_methods.py:1050\u001b[0m, in \u001b[0;36m_forward_operator_to_aval.<locals>.op\u001b[0;34m(self, *args)\u001b[0m\n\u001b[1;32m   1049\u001b[0m \u001b[38;5;28;01mdef\u001b[39;00m \u001b[38;5;21mop\u001b[39m(\u001b[38;5;28mself\u001b[39m, \u001b[38;5;241m*\u001b[39margs):\n\u001b[0;32m-> 1050\u001b[0m   \u001b[38;5;28;01mreturn\u001b[39;00m \u001b[38;5;28;43mgetattr\u001b[39;49m\u001b[43m(\u001b[49m\u001b[38;5;28;43mself\u001b[39;49m\u001b[38;5;241;43m.\u001b[39;49m\u001b[43maval\u001b[49m\u001b[43m,\u001b[49m\u001b[43m \u001b[49m\u001b[38;5;124;43mf\u001b[39;49m\u001b[38;5;124;43m\"\u001b[39;49m\u001b[38;5;124;43m_\u001b[39;49m\u001b[38;5;132;43;01m{\u001b[39;49;00m\u001b[43mname\u001b[49m\u001b[38;5;132;43;01m}\u001b[39;49;00m\u001b[38;5;124;43m\"\u001b[39;49m\u001b[43m)\u001b[49m\u001b[43m(\u001b[49m\u001b[38;5;28;43mself\u001b[39;49m\u001b[43m,\u001b[49m\u001b[43m \u001b[49m\u001b[38;5;241;43m*\u001b[39;49m\u001b[43margs\u001b[49m\u001b[43m)\u001b[49m\n",
      "File \u001b[0;32m~/mambaforge/envs/asysid/lib/python3.13/site-packages/jax/_src/numpy/array_methods.py:573\u001b[0m, in \u001b[0;36m_defer_to_unrecognized_arg.<locals>.deferring_binary_op\u001b[0;34m(self, other)\u001b[0m\n\u001b[1;32m    571\u001b[0m args \u001b[38;5;241m=\u001b[39m (other, \u001b[38;5;28mself\u001b[39m) \u001b[38;5;28;01mif\u001b[39;00m swap \u001b[38;5;28;01melse\u001b[39;00m (\u001b[38;5;28mself\u001b[39m, other)\n\u001b[1;32m    572\u001b[0m \u001b[38;5;28;01mif\u001b[39;00m \u001b[38;5;28misinstance\u001b[39m(other, _accepted_binop_types):\n\u001b[0;32m--> 573\u001b[0m   \u001b[38;5;28;01mreturn\u001b[39;00m \u001b[43mbinary_op\u001b[49m\u001b[43m(\u001b[49m\u001b[38;5;241;43m*\u001b[39;49m\u001b[43margs\u001b[49m\u001b[43m)\u001b[49m\n\u001b[1;32m    574\u001b[0m \u001b[38;5;66;03m# Note: don't use isinstance here, because we don't want to raise for\u001b[39;00m\n\u001b[1;32m    575\u001b[0m \u001b[38;5;66;03m# subclasses, e.g. NamedTuple objects that may override operators.\u001b[39;00m\n\u001b[1;32m    576\u001b[0m \u001b[38;5;28;01mif\u001b[39;00m \u001b[38;5;28mtype\u001b[39m(other) \u001b[38;5;129;01min\u001b[39;00m _rejected_binop_types:\n",
      "    \u001b[0;31m[... skipping hidden 14 frame]\u001b[0m\n",
      "File \u001b[0;32m~/mambaforge/envs/asysid/lib/python3.13/site-packages/jax/_src/numpy/lax_numpy.py:9161\u001b[0m, in \u001b[0;36mmatmul\u001b[0;34m(a, b, precision, preferred_element_type)\u001b[0m\n\u001b[1;32m   9159\u001b[0m a \u001b[38;5;241m=\u001b[39m lax\u001b[38;5;241m.\u001b[39msqueeze(a, \u001b[38;5;28mtuple\u001b[39m(a_squeeze))\n\u001b[1;32m   9160\u001b[0m b \u001b[38;5;241m=\u001b[39m lax\u001b[38;5;241m.\u001b[39msqueeze(b, \u001b[38;5;28mtuple\u001b[39m(b_squeeze))\n\u001b[0;32m-> 9161\u001b[0m out \u001b[38;5;241m=\u001b[39m \u001b[43mlax\u001b[49m\u001b[38;5;241;43m.\u001b[39;49m\u001b[43mdot_general\u001b[49m\u001b[43m(\u001b[49m\n\u001b[1;32m   9162\u001b[0m \u001b[43m  \u001b[49m\u001b[43ma\u001b[49m\u001b[43m,\u001b[49m\u001b[43m \u001b[49m\u001b[43mb\u001b[49m\u001b[43m,\u001b[49m\u001b[43m \u001b[49m\u001b[43m(\u001b[49m\u001b[43m(\u001b[49m\u001b[43m(\u001b[49m\u001b[43mndim\u001b[49m\u001b[43m(\u001b[49m\u001b[43ma\u001b[49m\u001b[43m)\u001b[49m\u001b[43m \u001b[49m\u001b[38;5;241;43m-\u001b[39;49m\u001b[43m \u001b[49m\u001b[38;5;241;43m1\u001b[39;49m\u001b[43m,\u001b[49m\u001b[43m)\u001b[49m\u001b[43m,\u001b[49m\u001b[43m \u001b[49m\u001b[43m(\u001b[49m\u001b[43mndim\u001b[49m\u001b[43m(\u001b[49m\u001b[43mb\u001b[49m\u001b[43m)\u001b[49m\u001b[43m \u001b[49m\u001b[38;5;241;43m-\u001b[39;49m\u001b[43m \u001b[49m\u001b[38;5;241;43m1\u001b[39;49m\u001b[43m \u001b[49m\u001b[38;5;241;43m-\u001b[39;49m\u001b[43m \u001b[49m\u001b[43mb_is_mat\u001b[49m\u001b[43m,\u001b[49m\u001b[43m)\u001b[49m\u001b[43m)\u001b[49m\u001b[43m,\u001b[49m\u001b[43m \u001b[49m\u001b[43m(\u001b[49m\u001b[43ma_batch\u001b[49m\u001b[43m,\u001b[49m\u001b[43m \u001b[49m\u001b[43mb_batch\u001b[49m\u001b[43m)\u001b[49m\u001b[43m)\u001b[49m\u001b[43m,\u001b[49m\n\u001b[1;32m   9163\u001b[0m \u001b[43m  \u001b[49m\u001b[43mprecision\u001b[49m\u001b[38;5;241;43m=\u001b[39;49m\u001b[43mprecision\u001b[49m\u001b[43m,\u001b[49m\u001b[43m \u001b[49m\u001b[43mpreferred_element_type\u001b[49m\u001b[38;5;241;43m=\u001b[39;49m\u001b[43mpreferred_element_type\u001b[49m\u001b[43m)\u001b[49m\n\u001b[1;32m   9164\u001b[0m result \u001b[38;5;241m=\u001b[39m lax\u001b[38;5;241m.\u001b[39mtranspose(out, perm)\n\u001b[1;32m   9165\u001b[0m \u001b[38;5;28;01mreturn\u001b[39;00m lax_internal\u001b[38;5;241m.\u001b[39m_convert_element_type(result, preferred_element_type, output_weak_type)\n",
      "    \u001b[0;31m[... skipping hidden 7 frame]\u001b[0m\n",
      "File \u001b[0;32m~/mambaforge/envs/asysid/lib/python3.13/site-packages/jax/_src/lax/lax.py:3342\u001b[0m, in \u001b[0;36m_dot_general_shape_rule\u001b[0;34m(lhs, rhs, dimension_numbers, precision, preferred_element_type, out_type)\u001b[0m\n\u001b[1;32m   3339\u001b[0m \u001b[38;5;28;01mif\u001b[39;00m \u001b[38;5;129;01mnot\u001b[39;00m core\u001b[38;5;241m.\u001b[39mdefinitely_equal_shape(lhs_contracting_shape, rhs_contracting_shape):\n\u001b[1;32m   3340\u001b[0m   msg \u001b[38;5;241m=\u001b[39m (\u001b[38;5;124m\"\u001b[39m\u001b[38;5;124mdot_general requires contracting dimensions to have the same \u001b[39m\u001b[38;5;124m\"\u001b[39m\n\u001b[1;32m   3341\u001b[0m          \u001b[38;5;124m\"\u001b[39m\u001b[38;5;124mshape, got \u001b[39m\u001b[38;5;132;01m{}\u001b[39;00m\u001b[38;5;124m and \u001b[39m\u001b[38;5;132;01m{}\u001b[39;00m\u001b[38;5;124m.\u001b[39m\u001b[38;5;124m\"\u001b[39m)\n\u001b[0;32m-> 3342\u001b[0m   \u001b[38;5;28;01mraise\u001b[39;00m \u001b[38;5;167;01mTypeError\u001b[39;00m(msg\u001b[38;5;241m.\u001b[39mformat(lhs_contracting_shape, rhs_contracting_shape))\n\u001b[1;32m   3344\u001b[0m \u001b[38;5;28;01mreturn\u001b[39;00m _dot_general_shape_computation(lhs\u001b[38;5;241m.\u001b[39mshape, rhs\u001b[38;5;241m.\u001b[39mshape, dimension_numbers)\n",
      "\u001b[0;31mTypeError\u001b[0m: dot_general requires contracting dimensions to have the same shape, got (1044,) and (1034,)."
     ]
    }
   ],
   "source": [
    "gen_error(zero_type_manipulation(mnist_model, 10, jax.random.split(key, 10)))"
   ]
  },
  {
   "cell_type": "code",
   "execution_count": 57,
   "id": "b8294260-a0d9-4c45-b424-119c1e65c8d1",
   "metadata": {},
   "outputs": [
    {
     "data": {
      "text/plain": [
       "Array([[0.01960003, 0.01930004, 0.01920003, 0.01950002, 0.0194    ,\n",
       "        0.01800001, 0.01920003, 0.01900005, 0.01930004, 0.01890004],\n",
       "       [0.01960003, 0.01930004, 0.01920003, 0.01950002, 0.0194    ,\n",
       "        0.01800001, 0.01920003, 0.01900005, 0.01930004, 0.01890004],\n",
       "       [0.01960003, 0.01930004, 0.01920003, 0.01950002, 0.0194    ,\n",
       "        0.01800001, 0.01920003, 0.01900005, 0.01930004, 0.01890004],\n",
       "       [0.01960003, 0.01930004, 0.01920003, 0.01950002, 0.0194    ,\n",
       "        0.01800001, 0.01920003, 0.01900005, 0.01930004, 0.01890004],\n",
       "       [0.01960003, 0.01930004, 0.01920003, 0.01950002, 0.0194    ,\n",
       "        0.01800001, 0.01920003, 0.01900005, 0.01930004, 0.01890004],\n",
       "       [0.01960003, 0.01930004, 0.01910001, 0.01960003, 0.01930004,\n",
       "        0.01800001, 0.01910001, 0.01890004, 0.01920003, 0.01890004],\n",
       "       [0.01970005, 0.01930004, 0.01920003, 0.01980001, 0.01930004,\n",
       "        0.01800001, 0.01890004, 0.0187    , 0.01860005, 0.01910001],\n",
       "       [0.02000004, 0.02110004, 0.02020001, 0.02020001, 0.01920003,\n",
       "        0.02020001, 0.02090001, 0.02070004, 0.01970005, 0.02020001],\n",
       "       [0.8198    , 0.78970003, 0.7736    , 0.7575    , 0.759     ,\n",
       "        0.6896    , 0.6628    , 0.7719    , 0.7899    , 0.7279    ],\n",
       "       [0.8712    , 0.8833    , 0.9098    , 0.9087    , 0.8208    ,\n",
       "        0.8854    , 0.9058    , 0.9325    , 0.8678    , 0.9086    ]],      dtype=float32)"
      ]
     },
     "execution_count": 57,
     "metadata": {},
     "output_type": "execute_result"
    }
   ],
   "source": [
    "key = jax.random.PRNGKey(37)\n",
    "noise_scales = jnp.array(tuple(10**-i for i in range(9, -1, -1)))\n",
    "data = eqx.filter_vmap(gen_error, in_axes=(eqx.if_array(0),))(\n",
    "    parameter_noise_manipulation(mnist_model, noise_scales, jax.random.split(key, 10))\n",
    ")\n",
    "data"
   ]
  },
  {
   "cell_type": "code",
   "execution_count": 62,
   "id": "89dec0a1-3818-46ee-a8bd-c786830530ba",
   "metadata": {},
   "outputs": [
    {
     "data": {
      "image/png": "[encoded data removed]",
      "text/plain": [
       "<Figure size 1000x600 with 1 Axes>"
      ]
     },
     "metadata": {},
     "output_type": "display_data"
    }
   ],
   "source": [
    "import numpy as np\n",
    "import matplotlib.pyplot as plt\n",
    "\n",
    "means = np.mean(data, axis=1)\n",
    "stds = np.std(data, axis=1)\n",
    "\n",
    "means = np.mean(data, axis=1)\n",
    "stds = np.std(data, axis=1)\n",
    "\n",
    "plt.figure(figsize=(10, 6))\n",
    "plt.errorbar(\n",
    "    noise_scales,\n",
    "    means,\n",
    "    yerr=stds,\n",
    "    fmt=\"o-\",\n",
    "    capsize=5,\n",
    "    capthick=1.5,\n",
    "    linewidth=2,\n",
    "    markersize=8,\n",
    "    label=\"Mean ± Std Dev\",\n",
    ")\n",
    "\n",
    "plt.xscale(\"log\")\n",
    "plt.yscale(\"log\")\n",
    "\n",
    "plt.xlabel(\"noise scale (log)\", fontsize=12)\n",
    "plt.ylabel(\"gen. error (log)\", fontsize=12)\n",
    "plt.grid(True, linestyle=\"--\", alpha=0.7)\n",
    "plt.legend()\n",
    "\n",
    "plt.tight_layout()\n",
    "plt.show()"
   ]
  },
  {
   "cell_type": "code",
   "execution_count": null,
   "id": "9f05fec2-2668-4998-8258-36bced204680",
   "metadata": {},
   "outputs": [],
   "source": []
  }
 ],
 "metadata": {
  "kernelspec": {
   "display_name": "asysid",
   "language": "python",
   "name": "asysid"
  },
  "language_info": {
   "codemirror_mode": {
    "name": "ipython",
    "version": 3
   },
   "file_extension": ".py",
   "mimetype": "text/x-python",
   "name": "python",
   "nbconvert_exporter": "python",
   "pygments_lexer": "ipython3",
   "version": "3.13.1"
  }
 },
 "nbformat": 4,
 "nbformat_minor": 5
}
