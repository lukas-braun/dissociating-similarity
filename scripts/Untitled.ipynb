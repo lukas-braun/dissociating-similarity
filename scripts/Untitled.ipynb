{
 "cells": [
  {
   "cell_type": "code",
   "execution_count": 3,
   "id": "73e81d71",
   "metadata": {},
   "outputs": [],
   "source": [
    "%load_ext autoreload\n",
    "%autoreload 2\n",
    "\n",
    "import dissociation as ds\n",
    "import jax.numpy as np\n",
    "import jax\n",
    "import matplotlib.pyplot as plt"
   ]
  },
  {
   "cell_type": "code",
   "execution_count": 4,
   "id": "cae0636b-d89c-4307-beff-13f5c19b720a",
   "metadata": {},
   "outputs": [
    {
     "name": "stdout",
     "output_type": "stream",
     "text": [
      "0.4417198\n",
      "0.4416325\n"
     ]
    }
   ],
   "source": [
    "in_dim = 5\n",
    "hidden_dim = 7\n",
    "out_dim = 3\n",
    "p = 6\n",
    "\n",
    "w1, w2 = ds.sample_weights(in_dim, hidden_dim, out_dim, 0.2, 0.7)\n",
    "xs, ys = ds.random_regression_task(in_dim, out_dim, p)\n",
    "\n",
    "sig_xx = 1. / p * xs @ xs.T\n",
    "sig_yx = 1. / p * ys @ xs.T\n",
    "sig_yy = 1. / p * ys @ ys.T\n",
    "\n",
    "u, s, v = ds.compact_svd(sig_yx @ np.linalg.pinv(sig_xx))\n",
    "r = jax.random.orthogonal(jax.random.key(1), hidden_dim)[:, :s.shape[0]]\n",
    "w1 = r @ np.sqrt(s) @ v.T\n",
    "w2 = u @ np.sqrt(s) @ r.T\n",
    "\n",
    "sigma = .2\n",
    "\n",
    "print(ds.input_noise_sensitivity(w1, w2, xs, ys, sigma))\n",
    "print(ds.input_noise_sensitivity_theory(w1, w2, xs, ys, sigma))"
   ]
  },
  {
   "cell_type": "code",
   "execution_count": null,
   "id": "653c0716-b32a-4748-85bd-7e94344f9984",
   "metadata": {},
   "outputs": [],
   "source": []
  },
  {
   "cell_type": "code",
   "execution_count": 23,
   "id": "45337eaf-b181-4c72-8639-081d1f2106b6",
   "metadata": {},
   "outputs": [],
   "source": [
    "in_dim = 2\n",
    "hidden_dim = 7\n",
    "out_dim = 3\n",
    "p = 1\n",
    "\n",
    "xs, ys = ds.random_regression_task(in_dim, out_dim, p)\n",
    "\n",
    "sig_xx = 1. / p * xs @ xs.T\n",
    "sig_yx = 1. / p * ys @ xs.T\n",
    "sig_yy = 1. / p * ys @ ys.T\n",
    "\n",
    "u, s, v = ds.compact_svd(sig_yx @ np.linalg.pinv(sig_xx))\n",
    "r = jax.random.orthogonal(jax.random.key(1), hidden_dim)[:, :s.shape[0]]\n",
    "w1 = r @ np.sqrt(s) @ v.T\n",
    "\n",
    "u, s, v = ds.compact_svd(w1)"
   ]
  },
  {
   "cell_type": "code",
   "execution_count": 24,
   "id": "8069f710-5784-4b5c-9dab-4d62e4ac5633",
   "metadata": {},
   "outputs": [
    {
     "data": {
      "text/plain": [
       "Array([[ 0.818     , -0.386     ],\n",
       "       [-0.386     ,  0.18200001]], dtype=float32)"
      ]
     },
     "execution_count": 24,
     "metadata": {},
     "output_type": "execute_result"
    }
   ],
   "source": [
    "np.round(v @ v.T, 3)"
   ]
  },
  {
   "cell_type": "code",
   "execution_count": null,
   "id": "91c9209b-9ffa-41f5-8f55-e20a5dc5a535",
   "metadata": {},
   "outputs": [],
   "source": []
  },
  {
   "cell_type": "code",
   "execution_count": 3,
   "id": "d8a60c22-43b1-4ebf-b3dc-9e11eea9bd6c",
   "metadata": {},
   "outputs": [
    {
     "name": "stdout",
     "output_type": "stream",
     "text": [
      "6.161451\n",
      "6.1554775\n"
     ]
    }
   ],
   "source": [
    "in_dim = 5\n",
    "hidden_dim = 7\n",
    "out_dim = 3\n",
    "p = 6\n",
    "\n",
    "w1, w2 = ds.sample_weights(in_dim, hidden_dim, out_dim, 0.2, 0.7)\n",
    "xs, ys = ds.random_regression_task(in_dim, out_dim, p)\n",
    "\n",
    "sig_xx = 1. / p * xs @ xs.T\n",
    "sig_yx = 1. / p * ys @ xs.T\n",
    "sig_yy = 1. / p * ys @ ys.T\n",
    "\n",
    "u, s, v = ds.compact_svd(sig_yx @ np.linalg.pinv(sig_xx))\n",
    "r = jax.random.orthogonal(jax.random.key(1), hidden_dim)[:, :s.shape[0]]\n",
    "w1 = r @ np.sqrt(s) @ v.T\n",
    "w2 = u @ np.sqrt(s) @ r.T\n",
    "\n",
    "sigma_1 = .7\n",
    "sigma_2 = .2\n",
    "\n",
    "print(ds.parameter_noise_sensitivity(w1, w2, xs, ys, sigma_1, sigma_2))\n",
    "print(ds.parameter_noise_sensitivity_theory(w1, w2, xs, ys, sigma_1, sigma_2))"
   ]
  },
  {
   "cell_type": "code",
   "execution_count": 57,
   "id": "516d54b5-2be1-41c1-882d-6ecf66140986",
   "metadata": {},
   "outputs": [
    {
     "name": "stdout",
     "output_type": "stream",
     "text": [
      "1.8989406\n",
      "1.8986694\n"
     ]
    }
   ],
   "source": [
    "in_dim = 8\n",
    "hidden_dim = 22\n",
    "out_dim = 5\n",
    "p = 15\n",
    "\n",
    "w1, w2 = ds.sample_weights(in_dim, hidden_dim, out_dim, 0.2, 0.2)\n",
    "xs, ys = ds.random_regression_task(in_dim, out_dim, p)\n",
    "\n",
    "sig_xx = 1. / p * xs @ xs.T\n",
    "sig_yx = 1. / p * ys @ xs.T\n",
    "sig_yy = 1. / p * ys @ ys.T\n",
    "\n",
    "u, s, v = ds.compact_svd(sig_yx @ np.linalg.pinv(sig_xx))\n",
    "r = jax.random.orthogonal(jax.random.key(1), hidden_dim)[:, :s.shape[0]]\n",
    "w1 = r @ np.sqrt(s) @ v.T\n",
    "w2 = u @ np.sqrt(s) @ r.T\n",
    "\n",
    "\"\"\"\n",
    "q = jax.random.normal(jax.random.key(1), r.shape)\n",
    "qinv = np.linalg.pinv(q)\n",
    "w1 = q @ np.sqrt(s) @ v.T\n",
    "w2 = u @ np.sqrt(s) @ qinv\n",
    "\"\"\"\n",
    "\n",
    "#sigma_1 = .25\n",
    "#sigma_2 = np.sqrt((in_dim / out_dim) * sigma_1**2)\n",
    "\n",
    "sigma = 0.3\n",
    "sigma_1 = sigma * 1 / np.sqrt(np.trace(sig_xx))\n",
    "sigma_2 = sigma * 1 / np.sqrt(out_dim)\n",
    "\n",
    "print(ds.parameter_noise_sensitivity(w1, w2, xs, ys, sigma_1, sigma_2))\n",
    "print(ds.parameter_noise_sensitivity_theory(w1, w2, xs, ys, sigma_1, sigma_2))"
   ]
  },
  {
   "cell_type": "code",
   "execution_count": null,
   "id": "f91adfd4-98e3-47a4-8f07-7c9cb22e7c78",
   "metadata": {},
   "outputs": [],
   "source": []
  },
  {
   "cell_type": "code",
   "execution_count": null,
   "id": "8fac26ba-1b2f-49a6-8459-53b41b436246",
   "metadata": {},
   "outputs": [],
   "source": []
  },
  {
   "cell_type": "code",
   "execution_count": 35,
   "id": "5a5692b6-cf65-4138-8a4f-34bcf229b668",
   "metadata": {},
   "outputs": [
    {
     "data": {
      "text/plain": [
       "Array(3.703013, dtype=float32)"
      ]
     },
     "execution_count": 35,
     "metadata": {},
     "output_type": "execute_result"
    }
   ],
   "source": [
    "np.trace(w1.T@w1@sig_xx)"
   ]
  },
  {
   "cell_type": "code",
   "execution_count": 36,
   "id": "f5ca417c-9c65-46f7-aae1-e1e13eb49f05",
   "metadata": {},
   "outputs": [
    {
     "data": {
      "text/plain": [
       "Array(3.7030122, dtype=float32)"
      ]
     },
     "execution_count": 36,
     "metadata": {},
     "output_type": "execute_result"
    }
   ],
   "source": [
    "1/p * np.linalg.norm(w1@xs, ord=\"fro\")**2"
   ]
  },
  {
   "cell_type": "code",
   "execution_count": 34,
   "id": "3acf0fa0-ece8-4ac1-8153-f9a6e57aa627",
   "metadata": {},
   "outputs": [
    {
     "data": {
      "text/plain": [
       "Array(8.300738, dtype=float32)"
      ]
     },
     "execution_count": 34,
     "metadata": {},
     "output_type": "execute_result"
    }
   ],
   "source": [
    "1/p * np.linalg.norm(xs, ord=\"fro\")**2"
   ]
  },
  {
   "cell_type": "code",
   "execution_count": 30,
   "id": "296a962c-ead4-48c7-b098-15ff3fafd9cd",
   "metadata": {},
   "outputs": [],
   "source": [
    "sens = []\n",
    "vals = np.linspace(0.1, 2.1, 1000)\n",
    "for scale in vals:\n",
    "    w1_ = w1 * scale\n",
    "    w2_ = w2 * 1. / scale\n",
    "    sens.append(ds.parameter_noise_sensitivity_theory(w1_, w2_, xs, ys, sigma_1, sigma_2))\n",
    "sens = np.asarray(sens)"
   ]
  },
  {
   "cell_type": "code",
   "execution_count": 31,
   "id": "9739e697-6877-4876-8615-304845788e35",
   "metadata": {},
   "outputs": [
    {
     "name": "stdout",
     "output_type": "stream",
     "text": [
      "1.7196195\n",
      "0.3125\n"
     ]
    },
    {
     "data": {
      "image/png": "[encoded data removed]",
      "text/plain": [
       "<Figure size 640x480 with 1 Axes>"
      ]
     },
     "metadata": {},
     "output_type": "display_data"
    }
   ],
   "source": [
    "fig, ax = plt.subplots()\n",
    "ax.plot(vals, sens)\n",
    "ax.scatter(vals[np.argmin(sens)], np.min(sens))\n",
    "ax.set_ylim(0., np.min(sens) * 2.)\n",
    "print(vals[np.argmin(sens)])\n",
    "print(0.5 * out_dim / in_dim)"
   ]
  },
  {
   "cell_type": "code",
   "execution_count": 81,
   "id": "88d9c842-bc76-4363-a77b-3df3ae3f69ae",
   "metadata": {},
   "outputs": [
    {
     "data": {
      "text/plain": [
       "1.189207115002721"
      ]
     },
     "execution_count": 81,
     "metadata": {},
     "output_type": "execute_result"
    }
   ],
   "source": [
    "((in_dim * sigma_1**2) / (out_dim * sigma_2**2))**(1 / 4)"
   ]
  },
  {
   "cell_type": "code",
   "execution_count": null,
   "id": "bd2315db-c7aa-46c7-af3b-502923710b36",
   "metadata": {},
   "outputs": [],
   "source": []
  },
  {
   "cell_type": "code",
   "execution_count": 51,
   "id": "5ea8831b-d1a2-4a45-8125-13eef49091fc",
   "metadata": {},
   "outputs": [
    {
     "data": {
      "text/plain": [
       "Array([[ 4.7790003 ,  0.23      ,  0.739     ,  0.22000001,  0.637     ],\n",
       "       [ 0.23      ,  4.761     , -0.77000004, -0.22900002, -0.66400003],\n",
       "       [ 0.739     , -0.77000004,  2.522     , -0.73700005, -2.137     ],\n",
       "       [ 0.22000001, -0.22900002, -0.73700005,  4.781     , -0.63600004],\n",
       "       [ 0.637     , -0.66400003, -2.137     , -0.63600004,  3.1580002 ]],      dtype=float32)"
      ]
     },
     "execution_count": 51,
     "metadata": {},
     "output_type": "execute_result"
    }
   ],
   "source": [
    "p = 5\n",
    "xs = jax.random.normal(jax.random.key(1), (4, p))\n",
    "xx = 1. / p * xs @ xs.T\n",
    "xx_ = np.linalg.pinv(xx)\n",
    "\n",
    "np.round(xs.T @ xx_ @ xx @ xx_.T @ xs, 3)"
   ]
  },
  {
   "cell_type": "markdown",
   "id": "6698c5f0-f533-45f8-87f8-9a3ffb3580bc",
   "metadata": {},
   "source": [
    "Necessary condition for minimising sensitivity to paramter noise (from Lagrangian multipliers)\n",
    "$$aW_2^TW_2 = bHH^T$$, i.e., Hidden layre representation has to have same left SV as right of W2\n",
    "Test numerically for general, least squares, and minimum-norm solution"
   ]
  },
  {
   "cell_type": "code",
   "execution_count": 79,
   "id": "1798d912-bb8b-4eaa-9993-8cce654f8e94",
   "metadata": {},
   "outputs": [],
   "source": [
    "in_dim = 5\n",
    "hidden_dim = 7\n",
    "out_dim = 3\n",
    "p = 4\n",
    "\n",
    "xs, ys = ds.random_regression_task(in_dim, out_dim, p)\n",
    "# xs = np.identity(5)\n",
    "\n",
    "sig_xx = 1. / p * xs @ xs.T\n",
    "sig_yx = 1. / p * ys @ xs.T\n",
    "\n",
    "u, s, v = ds.compact_svd(sig_yx @ np.linalg.pinv(sig_xx))\n",
    "r = jax.random.orthogonal(jax.random.key(1), hidden_dim)[:, :s.shape[0]]\n",
    "w1 = r @ np.sqrt(s) @ v.T\n",
    "w2 = u @ np.sqrt(s) @ r.T\n",
    "\n",
    "r1, s1, _ = ds.compact_svd(w2.T @ w2)\n",
    "_, s2, r2 = ds.compact_svd(w1 @ xs @ xs.T @ w1.T)"
   ]
  },
  {
   "cell_type": "code",
   "execution_count": 80,
   "id": "5c7b98bb-ac6d-4818-8c0e-d6a7820231e6",
   "metadata": {},
   "outputs": [
    {
     "data": {
      "text/plain": [
       "Array([[ 0.943     ,  0.29200003,  0.15900001],\n",
       "       [-0.323     ,  0.919     ,  0.22700001],\n",
       "       [-0.08000001, -0.26500002,  0.961     ]], dtype=float32)"
      ]
     },
     "execution_count": 80,
     "metadata": {},
     "output_type": "execute_result"
    }
   ],
   "source": [
    "np.round(r1.T @ r2, 3)"
   ]
  },
  {
   "cell_type": "code",
   "execution_count": 81,
   "id": "1e3b9cc7-a2b7-4acc-a1bf-c3655801ecc4",
   "metadata": {},
   "outputs": [
    {
     "data": {
      "text/plain": [
       "Array([[ 0.943     , -0.323     , -0.08000001],\n",
       "       [ 0.29200003,  0.919     , -0.26500002],\n",
       "       [ 0.15900001,  0.22700001,  0.961     ]], dtype=float32)"
      ]
     },
     "execution_count": 81,
     "metadata": {},
     "output_type": "execute_result"
    }
   ],
   "source": [
    "np.round(r2.T @ r1, 3)"
   ]
  },
  {
   "cell_type": "code",
   "execution_count": 82,
   "id": "aa6d2839-1142-469f-a0c0-6a1e979d499f",
   "metadata": {},
   "outputs": [
    {
     "data": {
      "text/plain": [
       "Array([[2.5562305 , 0.        , 0.        ],\n",
       "       [0.        , 0.4164447 , 0.        ],\n",
       "       [0.        , 0.        , 0.05011942]], dtype=float32)"
      ]
     },
     "execution_count": 82,
     "metadata": {},
     "output_type": "execute_result"
    }
   ],
   "source": [
    "s1"
   ]
  },
  {
   "cell_type": "code",
   "execution_count": 83,
   "id": "3e0c74ad-679c-4503-b194-f90634f7f6b3",
   "metadata": {},
   "outputs": [
    {
     "data": {
      "text/plain": [
       "Array([[3.3773756 , 0.        , 0.        ],\n",
       "       [0.        , 1.1807268 , 0.        ],\n",
       "       [0.        , 0.        , 0.14841264]], dtype=float32)"
      ]
     },
     "execution_count": 83,
     "metadata": {},
     "output_type": "execute_result"
    }
   ],
   "source": [
    "s2"
   ]
  },
  {
   "cell_type": "code",
   "execution_count": null,
   "id": "2486bc8d-9089-4542-967e-9965712cfba0",
   "metadata": {},
   "outputs": [],
   "source": []
  },
  {
   "cell_type": "code",
   "execution_count": null,
   "id": "faaedeae-16f7-4484-934e-252568a3726f",
   "metadata": {},
   "outputs": [],
   "source": []
  },
  {
   "cell_type": "code",
   "execution_count": null,
   "id": "226f4a5d-ebe2-4bc5-9e40-ea45c7bb0f4c",
   "metadata": {},
   "outputs": [],
   "source": []
  },
  {
   "cell_type": "code",
   "execution_count": null,
   "id": "2fa49882-8fe7-473b-88e7-849fb6ffc0e1",
   "metadata": {},
   "outputs": [],
   "source": []
  },
  {
   "cell_type": "code",
   "execution_count": null,
   "id": "661ae941-b015-4b43-bd4f-3bb2f3a38eae",
   "metadata": {},
   "outputs": [],
   "source": []
  },
  {
   "cell_type": "code",
   "execution_count": 37,
   "id": "e4375f31-4bb1-4072-aa8c-b1031f6f93f6",
   "metadata": {},
   "outputs": [],
   "source": [
    "in_dim = 5\n",
    "hidden_dim = 7\n",
    "out_dim = 3\n",
    "p = 4\n",
    "\n",
    "xs, ys = ds.random_regression_task(in_dim, out_dim, p)\n",
    "w1, w2 = ds.sample_weights(in_dim, hidden_dim, out_dim, 0.2, 0.2)\n",
    "\n",
    "sig_xx = 1. / p * xs @ xs.T\n",
    "sig_yx = 1. / p * ys @ xs.T\n",
    "\n",
    "eta = 0.01\n",
    "loss = []\n",
    "for i in range(15000):\n",
    "    dw1 = out_dim * sigma_2**2 * w1 @ sig_xx\n",
    "    dw2 = sigma_1**2 * np.linalg.trace(sig_xx) * w2\n",
    "    \n",
    "    w1 -= eta/5 * dw1\n",
    "    w2 -= eta/5 * dw2\n",
    "\n",
    "    dw1 = w2.T @ (w2 @ w1 @ xs - ys) @ xs.T\n",
    "    dw2 = (w2 @ w1 @ xs - ys) @ xs.T @ w1.T\n",
    "    w1 -= eta * dw1\n",
    "    w2 -= eta * dw2\n",
    "\n",
    "    loss.append(0.5 / p * np.linalg.norm(w2 @ w1 @ xs - ys)**2)\n",
    "\n",
    "    "
   ]
  },
  {
   "cell_type": "code",
   "execution_count": 38,
   "id": "64f4a96d-9df0-4432-bae7-9c19068f2ac7",
   "metadata": {},
   "outputs": [
    {
     "data": {
      "text/plain": [
       "Array([[-0.002,  0.002,  0.007,  0.003, -0.006],\n",
       "       [-0.006,  0.005, -0.004, -0.006,  0.001],\n",
       "       [-0.001, -0.002,  0.002,  0.006, -0.001]], dtype=float32)"
      ]
     },
     "execution_count": 38,
     "metadata": {},
     "output_type": "execute_result"
    }
   ],
   "source": [
    "np.round(w2 @ w1 @ xs  @ xs.T - ys  @ xs.T, 3)"
   ]
  },
  {
   "cell_type": "code",
   "execution_count": 39,
   "id": "d610279a-a834-4090-9b26-6dea142809c8",
   "metadata": {},
   "outputs": [
    {
     "data": {
      "text/plain": [
       "[<matplotlib.lines.Line2D at 0x77642cde4b90>]"
      ]
     },
     "execution_count": 39,
     "metadata": {},
     "output_type": "execute_result"
    },
    {
     "data": {
      "image/png": "[encoded data removed]",
      "text/plain": [
       "<Figure size 640x480 with 1 Axes>"
      ]
     },
     "metadata": {},
     "output_type": "display_data"
    }
   ],
   "source": [
    "fig, ax = plt.subplots()\n",
    "ax.plot(loss)"
   ]
  },
  {
   "cell_type": "code",
   "execution_count": 40,
   "id": "9449a54b-258e-4877-8871-a0b72c3a9f1b",
   "metadata": {},
   "outputs": [],
   "source": [
    "r1, s1, _ = ds.compact_svd(w2.T @ w2)\n",
    "_, s2, r2 = ds.compact_svd(w1 @ xs @ xs.T @ w1.T)"
   ]
  },
  {
   "cell_type": "code",
   "execution_count": 46,
   "id": "2bb32fa1-7123-4e1c-a59a-e57636905c97",
   "metadata": {},
   "outputs": [
    {
     "data": {
      "text/plain": [
       "Array([[2.4199998, 0.       , 0.       ],\n",
       "       [0.       , 1.0699999, 0.       ],\n",
       "       [0.       , 0.       , 0.76     ]], dtype=float32)"
      ]
     },
     "execution_count": 46,
     "metadata": {},
     "output_type": "execute_result"
    }
   ],
   "source": [
    "np.round(s1, 2)"
   ]
  },
  {
   "cell_type": "code",
   "execution_count": 48,
   "id": "1c7a8c3d-7295-4ec7-ad9e-6cd217ad5e35",
   "metadata": {},
   "outputs": [
    {
     "data": {
      "text/plain": [
       "Array([[4.97     , 0.       , 0.       , 0.       ],\n",
       "       [0.       , 2.4199998, 0.       , 0.       ],\n",
       "       [0.       , 0.       , 1.04     , 0.       ],\n",
       "       [0.       , 0.       , 0.       , 0.       ]], dtype=float32)"
      ]
     },
     "execution_count": 48,
     "metadata": {},
     "output_type": "execute_result"
    }
   ],
   "source": [
    "np.round(s2, 2)"
   ]
  },
  {
   "cell_type": "code",
   "execution_count": 50,
   "id": "1470f590-b247-4f7e-987d-7c1b9ba5c7c7",
   "metadata": {},
   "outputs": [
    {
     "data": {
      "text/plain": [
       "0.5"
      ]
     },
     "execution_count": 50,
     "metadata": {},
     "output_type": "execute_result"
    }
   ],
   "source": [
    "((0.2**2 *4*20) / (0.2**2 *8*20))"
   ]
  },
  {
   "cell_type": "code",
   "execution_count": 60,
   "id": "cd73b9ab-b4af-4cda-a1d5-6005e5524e0f",
   "metadata": {},
   "outputs": [
    {
     "data": {
      "text/plain": [
       "0.706164818868724"
      ]
     },
     "execution_count": 60,
     "metadata": {},
     "output_type": "execute_result"
    }
   ],
   "source": [
    "(1 * (1 / 1.19)) / (1 * 1.19)"
   ]
  },
  {
   "cell_type": "code",
   "execution_count": 61,
   "id": "ca076da9-53bf-42ff-9dcc-487d169f335b",
   "metadata": {},
   "outputs": [
    {
     "data": {
      "text/plain": [
       "Array(0.70710677, dtype=float32, weak_type=True)"
      ]
     },
     "execution_count": 61,
     "metadata": {},
     "output_type": "execute_result"
    }
   ],
   "source": [
    "np.sqrt(0.5)"
   ]
  },
  {
   "cell_type": "code",
   "execution_count": 62,
   "id": "9a71e714-72a4-4fa3-8ff6-ce46aa8dc23b",
   "metadata": {},
   "outputs": [
    {
     "data": {
      "text/plain": [
       "Array(50.619896, dtype=float32)"
      ]
     },
     "execution_count": 62,
     "metadata": {},
     "output_type": "execute_result"
    }
   ],
   "source": [
    "a = jax.random.normal(jax.random.key(1), (12, 4))\n",
    "np.linalg.norm(a, ord=\"fro\")**2"
   ]
  },
  {
   "cell_type": "code",
   "execution_count": 63,
   "id": "782e4cfb-7275-4c24-ac99-a0263aa3a6f8",
   "metadata": {},
   "outputs": [
    {
     "data": {
      "text/plain": [
       "Array(72.89268, dtype=float32)"
      ]
     },
     "execution_count": 63,
     "metadata": {},
     "output_type": "execute_result"
    }
   ],
   "source": [
    "np.linalg.norm(1.2*a, ord=\"fro\")**2"
   ]
  },
  {
   "cell_type": "code",
   "execution_count": 64,
   "id": "58d2ce2b-807e-4ccd-93ea-007915682f9e",
   "metadata": {},
   "outputs": [
    {
     "data": {
      "text/plain": [
       "Array(72.892654, dtype=float32)"
      ]
     },
     "execution_count": 64,
     "metadata": {},
     "output_type": "execute_result"
    }
   ],
   "source": [
    "1.2**2 * np.linalg.norm(a, ord=\"fro\")**2"
   ]
  },
  {
   "cell_type": "code",
   "execution_count": 54,
   "id": "02549659-1f36-4c59-9ad4-4ed07e2d585e",
   "metadata": {},
   "outputs": [
    {
     "data": {
      "text/plain": [
       "Array(-4.7683716e-07, dtype=float32)"
      ]
     },
     "execution_count": 54,
     "metadata": {},
     "output_type": "execute_result"
    }
   ],
   "source": [
    "sig_xx = 1. / p * xs @ xs.T\n",
    "sig_yx = 1. / p * ys @ xs.T\n",
    "sig_yy = 1. / p * ys @ ys.T\n",
    "\n",
    "c = np.trace(sig_yy) - np.trace(sig_yx @ np.linalg.pinv(sig_xx) @ sig_yx.T)\n",
    "c"
   ]
  },
  {
   "cell_type": "code",
   "execution_count": 12,
   "id": "96452c5d-c332-4521-aec4-97f2c378e815",
   "metadata": {},
   "outputs": [
    {
     "data": {
      "text/plain": [
       "1.5"
      ]
     },
     "execution_count": 12,
     "metadata": {},
     "output_type": "execute_result"
    }
   ],
   "source": [
    "(12*20) / (8*20)"
   ]
  },
  {
   "cell_type": "code",
   "execution_count": 57,
   "id": "d856565e-0fa7-44ad-9a02-f69b942512c8",
   "metadata": {},
   "outputs": [
    {
     "data": {
      "text/plain": [
       "Array(5., dtype=float32)"
      ]
     },
     "execution_count": 57,
     "metadata": {},
     "output_type": "execute_result"
    }
   ],
   "source": [
    "np.trace(np.identity(5))"
   ]
  },
  {
   "cell_type": "code",
   "execution_count": null,
   "id": "d8741970-ca45-44ca-a5dd-8a365a4874e8",
   "metadata": {},
   "outputs": [],
   "source": [
    "sens = []\n",
    "vals = np.linspace(0.01, 2.6, 1000)\n",
    "for scale in vals:\n",
    "    s1 = sigma_1 * scale\n",
    "    s2 = sigma_2 * 1. / scale\n",
    "    sens.append(ds.parameter_noise_sensitivity_theory(w1, w2, xs, ys, s1, s2))\n",
    "sens = np.asarray(sens)"
   ]
  },
  {
   "cell_type": "code",
   "execution_count": null,
   "id": "93f198e4-51db-425b-9647-d48600cedda2",
   "metadata": {},
   "outputs": [],
   "source": []
  },
  {
   "cell_type": "code",
   "execution_count": null,
   "id": "0866db69-ee3d-46a4-8464-638cf3fd7100",
   "metadata": {},
   "outputs": [],
   "source": []
  },
  {
   "cell_type": "code",
   "execution_count": null,
   "id": "c6eb62fc-6872-49d3-9057-319844e2a9a5",
   "metadata": {},
   "outputs": [],
   "source": []
  },
  {
   "cell_type": "code",
   "execution_count": null,
   "id": "b1ef698e-2c2b-4811-8be1-b88e99c830d3",
   "metadata": {},
   "outputs": [],
   "source": []
  },
  {
   "cell_type": "code",
   "execution_count": 36,
   "id": "1e038515-6608-43d4-a3fe-fc0959f5397e",
   "metadata": {},
   "outputs": [
    {
     "data": {
      "text/plain": [
       "Array(2.256615, dtype=float32)"
      ]
     },
     "execution_count": 36,
     "metadata": {},
     "output_type": "execute_result"
    }
   ],
   "source": [
    "np.linalg.trace(sig_xx)"
   ]
  },
  {
   "cell_type": "code",
   "execution_count": 10,
   "id": "40c8f2b7-5a05-4513-bcb6-09d4429084ed",
   "metadata": {},
   "outputs": [
    {
     "data": {
      "text/plain": [
       "1e-06"
      ]
     },
     "execution_count": 10,
     "metadata": {},
     "output_type": "execute_result"
    }
   ],
   "source": [
    "1e-6"
   ]
  },
  {
   "cell_type": "code",
   "execution_count": null,
   "id": "9405ebd3-cbe9-443c-ae46-2262e7893f68",
   "metadata": {},
   "outputs": [],
   "source": []
  },
  {
   "cell_type": "code",
   "execution_count": null,
   "id": "12d5ac11-6b81-4700-81a4-c21ab08f5faf",
   "metadata": {},
   "outputs": [],
   "source": []
  },
  {
   "cell_type": "code",
   "execution_count": 30,
   "id": "9e2c1f80-dc7e-4ddf-b28a-c860b7b5d661",
   "metadata": {},
   "outputs": [
    {
     "data": {
      "text/plain": [
       "Array(0., dtype=float32)"
      ]
     },
     "execution_count": 30,
     "metadata": {},
     "output_type": "execute_result"
    }
   ],
   "source": [
    "c"
   ]
  },
  {
   "cell_type": "code",
   "execution_count": 60,
   "id": "e95ed509-df72-4bd1-9508-c43add5e0718",
   "metadata": {},
   "outputs": [
    {
     "name": "stdout",
     "output_type": "stream",
     "text": [
      "95.7295\n"
     ]
    }
   ],
   "source": [
    "samples_n = 1000\n",
    "xis = jax.random.normal(jax.random.key(1), (in_dim, p, samples_n)) * sigma\n",
    "\n",
    "losses = []\n",
    "for i in range(samples_n):\n",
    "    loss = 0.\n",
    "    for j, (x, y) in enumerate(zip(xs.T, ys.T)):\n",
    "        loss += np.linalg.norm(w2 @ w1 @ (x + xis[:, j, i]) - y, ord=2)**2\n",
    "    losses.append(loss / (2 * p))\n",
    "print(np.mean(np.asarray(losses)))\n"
   ]
  },
  {
   "cell_type": "code",
   "execution_count": 56,
   "id": "63e1d281-0c29-4436-9ef7-90e4baaa285a",
   "metadata": {},
   "outputs": [
    {
     "data": {
      "text/plain": [
       "16.14021333333333"
      ]
     },
     "execution_count": 56,
     "metadata": {},
     "output_type": "execute_result"
    }
   ],
   "source": [
    "96.84128 / p"
   ]
  },
  {
   "cell_type": "code",
   "execution_count": 57,
   "id": "3a6a59fc-35dd-4017-8a73-929cf56d9472",
   "metadata": {},
   "outputs": [
    {
     "data": {
      "text/plain": [
       "[Array(33.079445, dtype=float32),\n",
       " Array(200.45409, dtype=float32),\n",
       " Array(44.081936, dtype=float32),\n",
       " Array(35.711414, dtype=float32),\n",
       " Array(149.54005, dtype=float32),\n",
       " Array(82.14019, dtype=float32),\n",
       " Array(37.751564, dtype=float32),\n",
       " Array(66.179115, dtype=float32),\n",
       " Array(86.63437, dtype=float32),\n",
       " Array(98.28079, dtype=float32),\n",
       " Array(75.338234, dtype=float32),\n",
       " Array(72.506355, dtype=float32),\n",
       " Array(57.71897, dtype=float32),\n",
       " Array(202.37936, dtype=float32),\n",
       " Array(109.39957, dtype=float32),\n",
       " Array(83.75436, dtype=float32),\n",
       " Array(59.43121, dtype=float32),\n",
       " Array(61.420513, dtype=float32),\n",
       " Array(99.470535, dtype=float32),\n",
       " Array(59.299522, dtype=float32),\n",
       " Array(106.20898, dtype=float32),\n",
       " Array(179.85477, dtype=float32),\n",
       " Array(90.898, dtype=float32),\n",
       " Array(104.315094, dtype=float32),\n",
       " Array(60.612236, dtype=float32),\n",
       " Array(77.852394, dtype=float32),\n",
       " Array(48.237854, dtype=float32),\n",
       " Array(143.16397, dtype=float32),\n",
       " Array(134.27657, dtype=float32),\n",
       " Array(89.97247, dtype=float32),\n",
       " Array(103.58226, dtype=float32),\n",
       " Array(64.21959, dtype=float32),\n",
       " Array(75.875435, dtype=float32),\n",
       " Array(44.269615, dtype=float32),\n",
       " Array(101.989006, dtype=float32),\n",
       " Array(68.95685, dtype=float32),\n",
       " Array(235.1019, dtype=float32),\n",
       " Array(219.28726, dtype=float32),\n",
       " Array(199.83017, dtype=float32),\n",
       " Array(71.53554, dtype=float32),\n",
       " Array(67.62109, dtype=float32),\n",
       " Array(82.61866, dtype=float32),\n",
       " Array(93.46551, dtype=float32),\n",
       " Array(44.446655, dtype=float32),\n",
       " Array(53.142273, dtype=float32),\n",
       " Array(69.80127, dtype=float32),\n",
       " Array(29.16576, dtype=float32),\n",
       " Array(51.96235, dtype=float32),\n",
       " Array(69.32165, dtype=float32),\n",
       " Array(108.70125, dtype=float32),\n",
       " Array(188.07726, dtype=float32),\n",
       " Array(183.025, dtype=float32),\n",
       " Array(104.14067, dtype=float32),\n",
       " Array(153.44221, dtype=float32),\n",
       " Array(87.74475, dtype=float32),\n",
       " Array(57.633224, dtype=float32),\n",
       " Array(110.24657, dtype=float32),\n",
       " Array(157.19595, dtype=float32),\n",
       " Array(23.887228, dtype=float32),\n",
       " Array(55.096275, dtype=float32),\n",
       " Array(71.20609, dtype=float32),\n",
       " Array(71.895706, dtype=float32),\n",
       " Array(117.81305, dtype=float32),\n",
       " Array(108.325645, dtype=float32),\n",
       " Array(54.31712, dtype=float32),\n",
       " Array(20.97042, dtype=float32),\n",
       " Array(41.11316, dtype=float32),\n",
       " Array(119.6737, dtype=float32),\n",
       " Array(67.31965, dtype=float32),\n",
       " Array(192.73882, dtype=float32),\n",
       " Array(103.54385, dtype=float32),\n",
       " Array(193.34392, dtype=float32),\n",
       " Array(42.769478, dtype=float32),\n",
       " Array(46.732708, dtype=float32),\n",
       " Array(13.228717, dtype=float32),\n",
       " Array(54.01046, dtype=float32),\n",
       " Array(77.84993, dtype=float32),\n",
       " Array(114.07659, dtype=float32),\n",
       " Array(84.45265, dtype=float32),\n",
       " Array(47.17004, dtype=float32),\n",
       " Array(69.95411, dtype=float32),\n",
       " Array(139.02872, dtype=float32),\n",
       " Array(96.95773, dtype=float32),\n",
       " Array(156.53766, dtype=float32),\n",
       " Array(224.73827, dtype=float32),\n",
       " Array(38.12173, dtype=float32),\n",
       " Array(75.28869, dtype=float32),\n",
       " Array(162.41306, dtype=float32),\n",
       " Array(74.602615, dtype=float32),\n",
       " Array(103.05614, dtype=float32),\n",
       " Array(87.53215, dtype=float32),\n",
       " Array(107.872406, dtype=float32),\n",
       " Array(13.115031, dtype=float32),\n",
       " Array(76.70465, dtype=float32),\n",
       " Array(55.00105, dtype=float32),\n",
       " Array(52.493744, dtype=float32),\n",
       " Array(27.268354, dtype=float32),\n",
       " Array(58.113033, dtype=float32),\n",
       " Array(29.065025, dtype=float32),\n",
       " Array(43.0701, dtype=float32),\n",
       " Array(127.22778, dtype=float32),\n",
       " Array(33.479866, dtype=float32),\n",
       " Array(70.95363, dtype=float32),\n",
       " Array(110.073875, dtype=float32),\n",
       " Array(60.37744, dtype=float32),\n",
       " Array(100.59322, dtype=float32),\n",
       " Array(118.03969, dtype=float32),\n",
       " Array(44.65425, dtype=float32),\n",
       " Array(87.01186, dtype=float32),\n",
       " Array(78.8384, dtype=float32),\n",
       " Array(39.878872, dtype=float32),\n",
       " Array(42.17639, dtype=float32),\n",
       " Array(24.557594, dtype=float32),\n",
       " Array(97.24223, dtype=float32),\n",
       " Array(74.92822, dtype=float32),\n",
       " Array(49.7521, dtype=float32),\n",
       " Array(40.936115, dtype=float32),\n",
       " Array(117.91385, dtype=float32),\n",
       " Array(42.02016, dtype=float32),\n",
       " Array(68.54941, dtype=float32),\n",
       " Array(150.56613, dtype=float32),\n",
       " Array(38.276268, dtype=float32),\n",
       " Array(47.63616, dtype=float32),\n",
       " Array(49.85221, dtype=float32),\n",
       " Array(158.8364, dtype=float32),\n",
       " Array(119.47534, dtype=float32),\n",
       " Array(88.03121, dtype=float32),\n",
       " Array(96.61925, dtype=float32),\n",
       " Array(34.319256, dtype=float32),\n",
       " Array(66.23204, dtype=float32),\n",
       " Array(53.791374, dtype=float32),\n",
       " Array(46.362698, dtype=float32),\n",
       " Array(86.58313, dtype=float32),\n",
       " Array(85.54016, dtype=float32),\n",
       " Array(115.500694, dtype=float32),\n",
       " Array(15.620396, dtype=float32),\n",
       " Array(71.269714, dtype=float32),\n",
       " Array(65.28297, dtype=float32),\n",
       " Array(68.281395, dtype=float32),\n",
       " Array(49.517788, dtype=float32),\n",
       " Array(85.85129, dtype=float32),\n",
       " Array(61.059654, dtype=float32),\n",
       " Array(122.9106, dtype=float32),\n",
       " Array(73.344086, dtype=float32),\n",
       " Array(133.2706, dtype=float32),\n",
       " Array(78.79243, dtype=float32),\n",
       " Array(154.54852, dtype=float32),\n",
       " Array(37.076134, dtype=float32),\n",
       " Array(40.593834, dtype=float32),\n",
       " Array(105.33056, dtype=float32),\n",
       " Array(43.221893, dtype=float32),\n",
       " Array(55.04512, dtype=float32),\n",
       " Array(139.32149, dtype=float32),\n",
       " Array(67.09606, dtype=float32),\n",
       " Array(75.037704, dtype=float32),\n",
       " Array(14.413183, dtype=float32),\n",
       " Array(213.298, dtype=float32),\n",
       " Array(199.0565, dtype=float32),\n",
       " Array(49.310677, dtype=float32),\n",
       " Array(131.83563, dtype=float32),\n",
       " Array(36.309597, dtype=float32),\n",
       " Array(29.604168, dtype=float32),\n",
       " Array(135.6854, dtype=float32),\n",
       " Array(202.6898, dtype=float32),\n",
       " Array(91.50274, dtype=float32),\n",
       " Array(151.4696, dtype=float32),\n",
       " Array(36.58515, dtype=float32),\n",
       " Array(46.091843, dtype=float32),\n",
       " Array(78.88875, dtype=float32),\n",
       " Array(82.26196, dtype=float32),\n",
       " Array(93.625755, dtype=float32),\n",
       " Array(128.6001, dtype=float32),\n",
       " Array(59.14921, dtype=float32),\n",
       " Array(65.802956, dtype=float32),\n",
       " Array(41.764355, dtype=float32),\n",
       " Array(101.918274, dtype=float32),\n",
       " Array(112.10724, dtype=float32),\n",
       " Array(133.81558, dtype=float32),\n",
       " Array(170.02744, dtype=float32),\n",
       " Array(25.304823, dtype=float32),\n",
       " Array(126.47514, dtype=float32),\n",
       " Array(91.26513, dtype=float32),\n",
       " Array(85.194496, dtype=float32),\n",
       " Array(52.85786, dtype=float32),\n",
       " Array(137.70139, dtype=float32),\n",
       " Array(152.98053, dtype=float32),\n",
       " Array(133.21606, dtype=float32),\n",
       " Array(145.86755, dtype=float32),\n",
       " Array(74.34363, dtype=float32),\n",
       " Array(32.612312, dtype=float32),\n",
       " Array(114.293686, dtype=float32),\n",
       " Array(141.15646, dtype=float32),\n",
       " Array(203.09119, dtype=float32),\n",
       " Array(121.159775, dtype=float32),\n",
       " Array(77.39499, dtype=float32),\n",
       " Array(96.06451, dtype=float32),\n",
       " Array(50.65796, dtype=float32),\n",
       " Array(283.98145, dtype=float32),\n",
       " Array(39.617477, dtype=float32),\n",
       " Array(78.92566, dtype=float32),\n",
       " Array(44.5731, dtype=float32),\n",
       " Array(98.831955, dtype=float32),\n",
       " Array(207.52031, dtype=float32),\n",
       " Array(9.98331, dtype=float32),\n",
       " Array(150.3312, dtype=float32),\n",
       " Array(94.13037, dtype=float32),\n",
       " Array(143.60667, dtype=float32),\n",
       " Array(73.38645, dtype=float32),\n",
       " Array(96.64569, dtype=float32),\n",
       " Array(116.08588, dtype=float32),\n",
       " Array(106.054245, dtype=float32),\n",
       " Array(48.58824, dtype=float32),\n",
       " Array(47.704437, dtype=float32),\n",
       " Array(118.40267, dtype=float32),\n",
       " Array(68.51419, dtype=float32),\n",
       " Array(74.064186, dtype=float32),\n",
       " Array(138.60306, dtype=float32),\n",
       " Array(199.79991, dtype=float32),\n",
       " Array(169.54112, dtype=float32),\n",
       " Array(136.09067, dtype=float32),\n",
       " Array(143.12524, dtype=float32),\n",
       " Array(225.77435, dtype=float32),\n",
       " Array(51.672035, dtype=float32),\n",
       " Array(75.80832, dtype=float32),\n",
       " Array(84.35048, dtype=float32),\n",
       " Array(177.00235, dtype=float32),\n",
       " Array(54.283806, dtype=float32),\n",
       " Array(102.838135, dtype=float32),\n",
       " Array(85.822655, dtype=float32),\n",
       " Array(124.17142, dtype=float32),\n",
       " Array(72.53314, dtype=float32),\n",
       " Array(25.95234, dtype=float32),\n",
       " Array(148.25165, dtype=float32),\n",
       " Array(189.86765, dtype=float32),\n",
       " Array(42.29496, dtype=float32),\n",
       " Array(46.850212, dtype=float32),\n",
       " Array(64.47222, dtype=float32),\n",
       " Array(174.50793, dtype=float32),\n",
       " Array(41.805958, dtype=float32),\n",
       " Array(123.17675, dtype=float32),\n",
       " Array(47.095108, dtype=float32),\n",
       " Array(91.85583, dtype=float32),\n",
       " Array(84.92322, dtype=float32),\n",
       " Array(66.379845, dtype=float32),\n",
       " Array(190.44598, dtype=float32),\n",
       " Array(101.62295, dtype=float32),\n",
       " Array(145.94089, dtype=float32),\n",
       " Array(103.058395, dtype=float32),\n",
       " Array(71.457306, dtype=float32),\n",
       " Array(95.77322, dtype=float32),\n",
       " Array(86.599594, dtype=float32),\n",
       " Array(66.11584, dtype=float32),\n",
       " Array(145.387, dtype=float32),\n",
       " Array(63.099907, dtype=float32),\n",
       " Array(76.01622, dtype=float32),\n",
       " Array(217.53424, dtype=float32),\n",
       " Array(68.2852, dtype=float32),\n",
       " Array(142.46216, dtype=float32),\n",
       " Array(84.30156, dtype=float32),\n",
       " Array(54.96299, dtype=float32),\n",
       " Array(56.906002, dtype=float32),\n",
       " Array(99.906555, dtype=float32),\n",
       " Array(71.80675, dtype=float32),\n",
       " Array(137.17773, dtype=float32),\n",
       " Array(35.242195, dtype=float32),\n",
       " Array(149.72086, dtype=float32),\n",
       " Array(30.981337, dtype=float32),\n",
       " Array(168.93008, dtype=float32),\n",
       " Array(50.30113, dtype=float32),\n",
       " Array(75.341965, dtype=float32),\n",
       " Array(173.78699, dtype=float32),\n",
       " Array(37.10306, dtype=float32),\n",
       " Array(68.54875, dtype=float32),\n",
       " Array(44.7703, dtype=float32),\n",
       " Array(83.649315, dtype=float32),\n",
       " Array(123.61007, dtype=float32),\n",
       " Array(28.414673, dtype=float32),\n",
       " Array(136.25732, dtype=float32),\n",
       " Array(104.67836, dtype=float32),\n",
       " Array(110.69982, dtype=float32),\n",
       " Array(152.22018, dtype=float32),\n",
       " Array(80.63829, dtype=float32),\n",
       " Array(58.25314, dtype=float32),\n",
       " Array(44.18486, dtype=float32),\n",
       " Array(180.42932, dtype=float32),\n",
       " Array(103.27877, dtype=float32),\n",
       " Array(99.119354, dtype=float32),\n",
       " Array(111.04761, dtype=float32),\n",
       " Array(151.36438, dtype=float32),\n",
       " Array(56.40844, dtype=float32),\n",
       " Array(123.662766, dtype=float32),\n",
       " Array(160.6407, dtype=float32),\n",
       " Array(65.5291, dtype=float32),\n",
       " Array(79.21343, dtype=float32),\n",
       " Array(83.080246, dtype=float32),\n",
       " Array(52.97622, dtype=float32),\n",
       " Array(41.35871, dtype=float32),\n",
       " Array(131.15048, dtype=float32),\n",
       " Array(54.280304, dtype=float32),\n",
       " Array(53.39843, dtype=float32),\n",
       " Array(296.14618, dtype=float32),\n",
       " Array(182.32683, dtype=float32),\n",
       " Array(138.26108, dtype=float32),\n",
       " Array(44.492565, dtype=float32),\n",
       " Array(178.16148, dtype=float32),\n",
       " Array(24.607578, dtype=float32),\n",
       " Array(112.93612, dtype=float32),\n",
       " Array(80.68573, dtype=float32),\n",
       " Array(162.33246, dtype=float32),\n",
       " Array(137.20312, dtype=float32),\n",
       " Array(70.74982, dtype=float32),\n",
       " Array(49.423378, dtype=float32),\n",
       " Array(118.15729, dtype=float32),\n",
       " Array(142.09634, dtype=float32),\n",
       " Array(170.70404, dtype=float32),\n",
       " Array(140.89595, dtype=float32),\n",
       " Array(81.30327, dtype=float32),\n",
       " Array(29.353321, dtype=float32),\n",
       " Array(121.39355, dtype=float32),\n",
       " Array(92.566574, dtype=float32),\n",
       " Array(74.45776, dtype=float32),\n",
       " Array(66.36471, dtype=float32),\n",
       " Array(55.90493, dtype=float32),\n",
       " Array(24.784248, dtype=float32),\n",
       " Array(130.01544, dtype=float32),\n",
       " Array(51.682873, dtype=float32),\n",
       " Array(65.36393, dtype=float32),\n",
       " Array(73.8808, dtype=float32),\n",
       " Array(50.8999, dtype=float32),\n",
       " Array(83.26398, dtype=float32),\n",
       " Array(57.651413, dtype=float32),\n",
       " Array(112.61105, dtype=float32),\n",
       " Array(143.03076, dtype=float32),\n",
       " Array(114.790306, dtype=float32),\n",
       " Array(65.81768, dtype=float32),\n",
       " Array(116.07356, dtype=float32),\n",
       " Array(24.881912, dtype=float32),\n",
       " Array(165.73819, dtype=float32),\n",
       " Array(85.19589, dtype=float32),\n",
       " Array(93.71676, dtype=float32),\n",
       " Array(62.361534, dtype=float32),\n",
       " Array(154.71439, dtype=float32),\n",
       " Array(104.20669, dtype=float32),\n",
       " Array(86.316734, dtype=float32),\n",
       " Array(51.132263, dtype=float32),\n",
       " Array(44.558083, dtype=float32),\n",
       " Array(68.563095, dtype=float32),\n",
       " Array(77.98985, dtype=float32),\n",
       " Array(138.5839, dtype=float32),\n",
       " Array(54.84822, dtype=float32),\n",
       " Array(68.83868, dtype=float32),\n",
       " Array(87.6335, dtype=float32),\n",
       " Array(130.24652, dtype=float32),\n",
       " Array(97.973175, dtype=float32),\n",
       " Array(100.11626, dtype=float32),\n",
       " Array(85.540085, dtype=float32),\n",
       " Array(87.66858, dtype=float32),\n",
       " Array(415.16977, dtype=float32),\n",
       " Array(71.60218, dtype=float32),\n",
       " Array(82.50173, dtype=float32),\n",
       " Array(152.57904, dtype=float32),\n",
       " Array(46.23108, dtype=float32),\n",
       " Array(105.46395, dtype=float32),\n",
       " Array(216.42392, dtype=float32),\n",
       " Array(56.519207, dtype=float32),\n",
       " Array(57.193188, dtype=float32),\n",
       " Array(176.67767, dtype=float32),\n",
       " Array(96.6986, dtype=float32),\n",
       " Array(89.39937, dtype=float32),\n",
       " Array(202.70872, dtype=float32),\n",
       " Array(111.46562, dtype=float32),\n",
       " Array(235.60742, dtype=float32),\n",
       " Array(104.45453, dtype=float32),\n",
       " Array(58.835476, dtype=float32),\n",
       " Array(32.486057, dtype=float32),\n",
       " Array(46.574883, dtype=float32),\n",
       " Array(55.507153, dtype=float32),\n",
       " Array(120.057236, dtype=float32),\n",
       " Array(304.3217, dtype=float32),\n",
       " Array(209.11884, dtype=float32),\n",
       " Array(104.28246, dtype=float32),\n",
       " Array(183.1666, dtype=float32),\n",
       " Array(98.62265, dtype=float32),\n",
       " Array(118.73091, dtype=float32),\n",
       " Array(179.44365, dtype=float32),\n",
       " Array(37.15831, dtype=float32),\n",
       " Array(114.08104, dtype=float32),\n",
       " Array(81.970184, dtype=float32),\n",
       " Array(161.72717, dtype=float32),\n",
       " Array(175.0579, dtype=float32),\n",
       " Array(67.20123, dtype=float32),\n",
       " Array(72.35915, dtype=float32),\n",
       " Array(128.96567, dtype=float32),\n",
       " Array(177.8256, dtype=float32),\n",
       " Array(119.503876, dtype=float32),\n",
       " Array(68.732666, dtype=float32),\n",
       " Array(41.526768, dtype=float32),\n",
       " Array(156.28891, dtype=float32),\n",
       " Array(28.169834, dtype=float32),\n",
       " Array(87.60155, dtype=float32),\n",
       " Array(36.980217, dtype=float32),\n",
       " Array(51.575317, dtype=float32),\n",
       " Array(45.30471, dtype=float32),\n",
       " Array(37.713776, dtype=float32),\n",
       " Array(83.379456, dtype=float32),\n",
       " Array(110.55551, dtype=float32),\n",
       " Array(100.21111, dtype=float32),\n",
       " Array(104.916405, dtype=float32),\n",
       " Array(160.12173, dtype=float32),\n",
       " Array(130.5102, dtype=float32),\n",
       " Array(165.76837, dtype=float32),\n",
       " Array(67.94644, dtype=float32),\n",
       " Array(110.875916, dtype=float32),\n",
       " Array(55.94343, dtype=float32),\n",
       " Array(27.44749, dtype=float32),\n",
       " Array(77.27217, dtype=float32),\n",
       " Array(148.19603, dtype=float32),\n",
       " Array(19.908514, dtype=float32),\n",
       " Array(41.136124, dtype=float32),\n",
       " Array(80.544426, dtype=float32),\n",
       " Array(31.759604, dtype=float32),\n",
       " Array(50.858303, dtype=float32),\n",
       " Array(76.33247, dtype=float32),\n",
       " Array(109.322815, dtype=float32),\n",
       " Array(60.502804, dtype=float32),\n",
       " Array(102.03694, dtype=float32),\n",
       " Array(111.7091, dtype=float32),\n",
       " Array(112.79452, dtype=float32),\n",
       " Array(78.14031, dtype=float32),\n",
       " Array(92.655334, dtype=float32),\n",
       " Array(69.53174, dtype=float32),\n",
       " Array(90.37445, dtype=float32),\n",
       " Array(83.52825, dtype=float32),\n",
       " Array(43.90355, dtype=float32),\n",
       " Array(59.50697, dtype=float32),\n",
       " Array(206.21387, dtype=float32),\n",
       " Array(55.621807, dtype=float32),\n",
       " Array(72.4494, dtype=float32),\n",
       " Array(43.28462, dtype=float32),\n",
       " Array(55.846603, dtype=float32),\n",
       " Array(155.86252, dtype=float32),\n",
       " Array(28.200714, dtype=float32),\n",
       " Array(142.29713, dtype=float32),\n",
       " Array(104.410034, dtype=float32),\n",
       " Array(134.7398, dtype=float32),\n",
       " Array(104.98608, dtype=float32),\n",
       " Array(131.53595, dtype=float32),\n",
       " Array(100.40038, dtype=float32),\n",
       " Array(27.212658, dtype=float32),\n",
       " Array(63.1786, dtype=float32),\n",
       " Array(116.39316, dtype=float32),\n",
       " Array(90.52458, dtype=float32),\n",
       " Array(32.3426, dtype=float32),\n",
       " Array(15.248168, dtype=float32),\n",
       " Array(67.39667, dtype=float32),\n",
       " Array(145.98752, dtype=float32),\n",
       " Array(134.60791, dtype=float32),\n",
       " Array(124.22092, dtype=float32),\n",
       " Array(44.257153, dtype=float32),\n",
       " Array(70.08941, dtype=float32),\n",
       " Array(41.35591, dtype=float32),\n",
       " Array(75.464325, dtype=float32),\n",
       " Array(73.83577, dtype=float32),\n",
       " Array(192.78482, dtype=float32),\n",
       " Array(153.50793, dtype=float32),\n",
       " Array(69.8618, dtype=float32),\n",
       " Array(121.22744, dtype=float32),\n",
       " Array(163.81723, dtype=float32),\n",
       " Array(98.34015, dtype=float32),\n",
       " Array(95.09545, dtype=float32),\n",
       " Array(142.44167, dtype=float32),\n",
       " Array(60.07733, dtype=float32),\n",
       " Array(143.1694, dtype=float32),\n",
       " Array(63.54353, dtype=float32),\n",
       " Array(103.36678, dtype=float32),\n",
       " Array(38.423103, dtype=float32),\n",
       " Array(42.28586, dtype=float32),\n",
       " Array(19.692574, dtype=float32),\n",
       " Array(82.17357, dtype=float32),\n",
       " Array(65.181404, dtype=float32),\n",
       " Array(90.93636, dtype=float32),\n",
       " Array(126.38796, dtype=float32),\n",
       " Array(125.747795, dtype=float32),\n",
       " Array(83.293205, dtype=float32),\n",
       " Array(97.88763, dtype=float32),\n",
       " Array(275.57886, dtype=float32),\n",
       " Array(217.53386, dtype=float32),\n",
       " Array(169.89621, dtype=float32),\n",
       " Array(167.2852, dtype=float32),\n",
       " Array(41.685146, dtype=float32),\n",
       " Array(61.108894, dtype=float32),\n",
       " Array(93.22899, dtype=float32),\n",
       " Array(166.11703, dtype=float32),\n",
       " Array(120.16635, dtype=float32),\n",
       " Array(148.99907, dtype=float32),\n",
       " Array(106.95468, dtype=float32),\n",
       " Array(104.38495, dtype=float32),\n",
       " Array(136.16168, dtype=float32),\n",
       " Array(51.85781, dtype=float32),\n",
       " Array(76.54289, dtype=float32),\n",
       " Array(98.766624, dtype=float32),\n",
       " Array(92.05203, dtype=float32),\n",
       " Array(122.18681, dtype=float32),\n",
       " Array(88.185425, dtype=float32),\n",
       " Array(110.72386, dtype=float32),\n",
       " Array(179.60277, dtype=float32),\n",
       " Array(238.96446, dtype=float32),\n",
       " Array(128.89928, dtype=float32),\n",
       " Array(39.140137, dtype=float32),\n",
       " Array(71.93726, dtype=float32),\n",
       " Array(155.5049, dtype=float32),\n",
       " Array(196.08774, dtype=float32),\n",
       " Array(77.380875, dtype=float32),\n",
       " Array(199.1514, dtype=float32),\n",
       " Array(30.538483, dtype=float32),\n",
       " Array(245.3417, dtype=float32),\n",
       " Array(120.75506, dtype=float32),\n",
       " Array(70.16217, dtype=float32),\n",
       " Array(55.020763, dtype=float32),\n",
       " Array(209.80164, dtype=float32),\n",
       " Array(38.266155, dtype=float32),\n",
       " Array(111.70505, dtype=float32),\n",
       " Array(74.75334, dtype=float32),\n",
       " Array(188.4849, dtype=float32),\n",
       " Array(73.92211, dtype=float32),\n",
       " Array(145.87283, dtype=float32),\n",
       " Array(94.592766, dtype=float32),\n",
       " Array(54.590645, dtype=float32),\n",
       " Array(50.772125, dtype=float32),\n",
       " Array(39.71257, dtype=float32),\n",
       " Array(87.757965, dtype=float32),\n",
       " Array(66.10188, dtype=float32),\n",
       " Array(118.95333, dtype=float32),\n",
       " Array(32.51437, dtype=float32),\n",
       " Array(87.55733, dtype=float32),\n",
       " Array(21.97337, dtype=float32),\n",
       " Array(32.82188, dtype=float32),\n",
       " Array(181.93341, dtype=float32),\n",
       " Array(165.73177, dtype=float32),\n",
       " Array(56.61725, dtype=float32),\n",
       " Array(110.32546, dtype=float32),\n",
       " Array(75.606476, dtype=float32),\n",
       " Array(134.3057, dtype=float32),\n",
       " Array(82.93041, dtype=float32),\n",
       " Array(97.21637, dtype=float32),\n",
       " Array(83.75595, dtype=float32),\n",
       " Array(129.97751, dtype=float32),\n",
       " Array(34.38202, dtype=float32),\n",
       " Array(138.30072, dtype=float32),\n",
       " Array(34.175, dtype=float32),\n",
       " Array(121.17366, dtype=float32),\n",
       " Array(266.01807, dtype=float32),\n",
       " Array(135.0109, dtype=float32),\n",
       " Array(174.03674, dtype=float32),\n",
       " Array(75.52781, dtype=float32),\n",
       " Array(22.160023, dtype=float32),\n",
       " Array(50.67753, dtype=float32),\n",
       " Array(185.2164, dtype=float32),\n",
       " Array(111.09892, dtype=float32),\n",
       " Array(207.51813, dtype=float32),\n",
       " Array(100.17903, dtype=float32),\n",
       " Array(17.128912, dtype=float32),\n",
       " Array(92.711266, dtype=float32),\n",
       " Array(192.4559, dtype=float32),\n",
       " Array(42.24659, dtype=float32),\n",
       " Array(98.04251, dtype=float32),\n",
       " Array(25.25537, dtype=float32),\n",
       " Array(34.344215, dtype=float32),\n",
       " Array(19.624235, dtype=float32),\n",
       " Array(91.34665, dtype=float32),\n",
       " Array(28.560059, dtype=float32),\n",
       " Array(82.91325, dtype=float32),\n",
       " Array(98.98491, dtype=float32),\n",
       " Array(39.613182, dtype=float32),\n",
       " Array(81.57005, dtype=float32),\n",
       " Array(105.26571, dtype=float32),\n",
       " Array(277.58414, dtype=float32),\n",
       " Array(70.81488, dtype=float32),\n",
       " Array(97.11362, dtype=float32),\n",
       " Array(70.29747, dtype=float32),\n",
       " Array(67.16625, dtype=float32),\n",
       " Array(76.171265, dtype=float32),\n",
       " Array(36.625927, dtype=float32),\n",
       " Array(91.19014, dtype=float32),\n",
       " Array(45.383907, dtype=float32),\n",
       " Array(73.269684, dtype=float32),\n",
       " Array(101.5143, dtype=float32),\n",
       " Array(188.25748, dtype=float32),\n",
       " Array(113.03951, dtype=float32),\n",
       " Array(138.26764, dtype=float32),\n",
       " Array(57.610886, dtype=float32),\n",
       " Array(233.17862, dtype=float32),\n",
       " Array(113.55343, dtype=float32),\n",
       " Array(157.08742, dtype=float32),\n",
       " Array(51.339478, dtype=float32),\n",
       " Array(98.009575, dtype=float32),\n",
       " Array(81.35339, dtype=float32),\n",
       " Array(133.84692, dtype=float32),\n",
       " Array(112.45676, dtype=float32),\n",
       " Array(52.075176, dtype=float32),\n",
       " Array(75.43242, dtype=float32),\n",
       " Array(96.24925, dtype=float32),\n",
       " Array(60.508728, dtype=float32),\n",
       " Array(87.851776, dtype=float32),\n",
       " Array(138.866, dtype=float32),\n",
       " Array(140.41806, dtype=float32),\n",
       " Array(34.25688, dtype=float32),\n",
       " Array(93.03984, dtype=float32),\n",
       " Array(66.31524, dtype=float32),\n",
       " Array(38.270676, dtype=float32),\n",
       " Array(75.617386, dtype=float32),\n",
       " Array(49.120308, dtype=float32),\n",
       " Array(134.6551, dtype=float32),\n",
       " Array(132.0539, dtype=float32),\n",
       " Array(176.36523, dtype=float32),\n",
       " Array(52.327953, dtype=float32),\n",
       " Array(106.33907, dtype=float32),\n",
       " Array(50.009624, dtype=float32),\n",
       " Array(103.67184, dtype=float32),\n",
       " Array(144.32825, dtype=float32),\n",
       " Array(104.38603, dtype=float32),\n",
       " Array(26.50478, dtype=float32),\n",
       " Array(20.62619, dtype=float32),\n",
       " Array(35.868782, dtype=float32),\n",
       " Array(119.5682, dtype=float32),\n",
       " Array(57.653137, dtype=float32),\n",
       " Array(276.7151, dtype=float32),\n",
       " Array(44.837204, dtype=float32),\n",
       " Array(14.238949, dtype=float32),\n",
       " Array(261.36383, dtype=float32),\n",
       " Array(51.190987, dtype=float32),\n",
       " Array(57.941433, dtype=float32),\n",
       " Array(44.34225, dtype=float32),\n",
       " Array(111.493835, dtype=float32),\n",
       " Array(52.081223, dtype=float32),\n",
       " Array(211.23944, dtype=float32),\n",
       " Array(31.858313, dtype=float32),\n",
       " Array(204.30998, dtype=float32),\n",
       " Array(121.23857, dtype=float32),\n",
       " Array(103.24429, dtype=float32),\n",
       " Array(74.00744, dtype=float32),\n",
       " Array(136.0234, dtype=float32),\n",
       " Array(136.05316, dtype=float32),\n",
       " Array(41.821365, dtype=float32),\n",
       " Array(45.17404, dtype=float32),\n",
       " Array(104.92374, dtype=float32),\n",
       " Array(112.07771, dtype=float32),\n",
       " Array(124.64032, dtype=float32),\n",
       " Array(88.25069, dtype=float32),\n",
       " Array(21.63116, dtype=float32),\n",
       " Array(83.887436, dtype=float32),\n",
       " Array(24.228909, dtype=float32),\n",
       " Array(97.04605, dtype=float32),\n",
       " Array(179.29126, dtype=float32),\n",
       " Array(26.01714, dtype=float32),\n",
       " Array(72.72472, dtype=float32),\n",
       " Array(127.54006, dtype=float32),\n",
       " Array(40.00683, dtype=float32),\n",
       " Array(16.698511, dtype=float32),\n",
       " Array(35.71619, dtype=float32),\n",
       " Array(19.27032, dtype=float32),\n",
       " Array(168.76419, dtype=float32),\n",
       " Array(79.66517, dtype=float32),\n",
       " Array(100.29443, dtype=float32),\n",
       " Array(84.750984, dtype=float32),\n",
       " Array(54.207855, dtype=float32),\n",
       " Array(120.103516, dtype=float32),\n",
       " Array(40.922436, dtype=float32),\n",
       " Array(71.297554, dtype=float32),\n",
       " Array(11.005516, dtype=float32),\n",
       " Array(91.524925, dtype=float32),\n",
       " Array(32.05802, dtype=float32),\n",
       " Array(130.77684, dtype=float32),\n",
       " Array(45.831062, dtype=float32),\n",
       " Array(114.44121, dtype=float32),\n",
       " Array(54.70269, dtype=float32),\n",
       " Array(188.66411, dtype=float32),\n",
       " Array(107.1271, dtype=float32),\n",
       " Array(257.47815, dtype=float32),\n",
       " Array(42.333115, dtype=float32),\n",
       " Array(61.971783, dtype=float32),\n",
       " Array(93.84425, dtype=float32),\n",
       " Array(128.51872, dtype=float32),\n",
       " Array(124.28142, dtype=float32),\n",
       " Array(194.30449, dtype=float32),\n",
       " Array(72.706436, dtype=float32),\n",
       " Array(85.89999, dtype=float32),\n",
       " Array(64.25206, dtype=float32),\n",
       " Array(37.332336, dtype=float32),\n",
       " Array(121.61122, dtype=float32),\n",
       " Array(55.788464, dtype=float32),\n",
       " Array(257.86694, dtype=float32),\n",
       " Array(246.55847, dtype=float32),\n",
       " Array(121.17922, dtype=float32),\n",
       " Array(61.363934, dtype=float32),\n",
       " Array(93.95416, dtype=float32),\n",
       " Array(114.48276, dtype=float32),\n",
       " Array(162.78278, dtype=float32),\n",
       " Array(98.80636, dtype=float32),\n",
       " Array(85.04823, dtype=float32),\n",
       " Array(53.478638, dtype=float32),\n",
       " Array(134.52924, dtype=float32),\n",
       " Array(89.66391, dtype=float32),\n",
       " Array(169.79543, dtype=float32),\n",
       " Array(66.388, dtype=float32),\n",
       " Array(57.071026, dtype=float32),\n",
       " Array(56.693493, dtype=float32),\n",
       " Array(136.98834, dtype=float32),\n",
       " Array(119.3464, dtype=float32),\n",
       " Array(35.003494, dtype=float32),\n",
       " Array(4.423412, dtype=float32),\n",
       " Array(122.23062, dtype=float32),\n",
       " Array(16.405008, dtype=float32),\n",
       " Array(39.975487, dtype=float32),\n",
       " Array(58.98434, dtype=float32),\n",
       " Array(64.313896, dtype=float32),\n",
       " Array(206.34583, dtype=float32),\n",
       " Array(67.97338, dtype=float32),\n",
       " Array(275.49948, dtype=float32),\n",
       " Array(88.185165, dtype=float32),\n",
       " Array(164.56259, dtype=float32),\n",
       " Array(176.2185, dtype=float32),\n",
       " Array(28.604958, dtype=float32),\n",
       " Array(105.13994, dtype=float32),\n",
       " Array(228.84538, dtype=float32),\n",
       " Array(156.49547, dtype=float32),\n",
       " Array(58.045372, dtype=float32),\n",
       " Array(23.71811, dtype=float32),\n",
       " Array(144.46481, dtype=float32),\n",
       " Array(99.86836, dtype=float32),\n",
       " Array(74.3395, dtype=float32),\n",
       " Array(71.0823, dtype=float32),\n",
       " Array(96.89732, dtype=float32),\n",
       " Array(86.18196, dtype=float32),\n",
       " Array(53.2631, dtype=float32),\n",
       " Array(74.74238, dtype=float32),\n",
       " Array(62.65542, dtype=float32),\n",
       " Array(49.76072, dtype=float32),\n",
       " Array(51.672333, dtype=float32),\n",
       " Array(126.65866, dtype=float32),\n",
       " Array(141.71442, dtype=float32),\n",
       " Array(111.04001, dtype=float32),\n",
       " Array(111.13131, dtype=float32),\n",
       " Array(114.836784, dtype=float32),\n",
       " Array(78.07739, dtype=float32),\n",
       " Array(115.08905, dtype=float32),\n",
       " Array(90.93155, dtype=float32),\n",
       " Array(98.42657, dtype=float32),\n",
       " Array(94.25325, dtype=float32),\n",
       " Array(144.514, dtype=float32),\n",
       " Array(27.481688, dtype=float32),\n",
       " Array(76.96629, dtype=float32),\n",
       " Array(70.25888, dtype=float32),\n",
       " Array(128.35405, dtype=float32),\n",
       " Array(44.806953, dtype=float32),\n",
       " Array(164.53748, dtype=float32),\n",
       " Array(121.37844, dtype=float32),\n",
       " Array(84.674484, dtype=float32),\n",
       " Array(50.64997, dtype=float32),\n",
       " Array(62.85926, dtype=float32),\n",
       " Array(32.073193, dtype=float32),\n",
       " Array(80.612724, dtype=float32),\n",
       " Array(173.57549, dtype=float32),\n",
       " Array(139.45856, dtype=float32),\n",
       " Array(58.754208, dtype=float32),\n",
       " Array(95.74169, dtype=float32),\n",
       " Array(35.635635, dtype=float32),\n",
       " Array(23.917645, dtype=float32),\n",
       " Array(129.02249, dtype=float32),\n",
       " Array(99.91864, dtype=float32),\n",
       " Array(60.925335, dtype=float32),\n",
       " Array(210.0062, dtype=float32),\n",
       " Array(128.08469, dtype=float32),\n",
       " Array(55.965515, dtype=float32),\n",
       " Array(170.733, dtype=float32),\n",
       " Array(54.621376, dtype=float32),\n",
       " Array(107.17238, dtype=float32),\n",
       " Array(42.15548, dtype=float32),\n",
       " Array(161.77592, dtype=float32),\n",
       " Array(87.62253, dtype=float32),\n",
       " Array(89.59841, dtype=float32),\n",
       " Array(57.61257, dtype=float32),\n",
       " Array(112.99306, dtype=float32),\n",
       " Array(45.53041, dtype=float32),\n",
       " Array(106.53833, dtype=float32),\n",
       " Array(94.90982, dtype=float32),\n",
       " Array(192.30876, dtype=float32),\n",
       " Array(62.6782, dtype=float32),\n",
       " Array(51.166206, dtype=float32),\n",
       " Array(70.423294, dtype=float32),\n",
       " Array(73.49876, dtype=float32),\n",
       " Array(117.2135, dtype=float32),\n",
       " Array(109.17255, dtype=float32),\n",
       " Array(83.13107, dtype=float32),\n",
       " Array(78.32846, dtype=float32),\n",
       " Array(100.47903, dtype=float32),\n",
       " Array(135.59583, dtype=float32),\n",
       " Array(134.87798, dtype=float32),\n",
       " Array(217.77025, dtype=float32),\n",
       " Array(335.26752, dtype=float32),\n",
       " Array(90.222374, dtype=float32),\n",
       " Array(20.646091, dtype=float32),\n",
       " Array(115.14501, dtype=float32),\n",
       " Array(131.41254, dtype=float32),\n",
       " Array(96.27997, dtype=float32),\n",
       " Array(52.639812, dtype=float32),\n",
       " Array(84.41412, dtype=float32),\n",
       " Array(49.345413, dtype=float32),\n",
       " Array(25.088362, dtype=float32),\n",
       " Array(61.21266, dtype=float32),\n",
       " Array(82.98803, dtype=float32),\n",
       " Array(150.69351, dtype=float32),\n",
       " Array(175.56792, dtype=float32),\n",
       " Array(162.84735, dtype=float32),\n",
       " Array(68.759636, dtype=float32),\n",
       " Array(76.66268, dtype=float32),\n",
       " Array(162.75711, dtype=float32),\n",
       " Array(139.55766, dtype=float32),\n",
       " Array(42.081806, dtype=float32),\n",
       " Array(82.239784, dtype=float32),\n",
       " Array(91.285736, dtype=float32),\n",
       " Array(36.39428, dtype=float32),\n",
       " Array(63.208183, dtype=float32),\n",
       " Array(119.00635, dtype=float32),\n",
       " Array(200.21208, dtype=float32),\n",
       " Array(69.62295, dtype=float32),\n",
       " Array(66.03405, dtype=float32),\n",
       " Array(40.492226, dtype=float32),\n",
       " Array(184.03806, dtype=float32),\n",
       " Array(109.50755, dtype=float32),\n",
       " Array(34.81353, dtype=float32),\n",
       " Array(63.378883, dtype=float32),\n",
       " Array(49.005306, dtype=float32),\n",
       " Array(89.35158, dtype=float32),\n",
       " Array(164.13646, dtype=float32),\n",
       " Array(104.150894, dtype=float32),\n",
       " Array(74.9677, dtype=float32),\n",
       " Array(27.539547, dtype=float32),\n",
       " Array(145.49054, dtype=float32),\n",
       " Array(171.68692, dtype=float32),\n",
       " Array(140.5148, dtype=float32),\n",
       " Array(90.309494, dtype=float32),\n",
       " Array(70.88551, dtype=float32),\n",
       " Array(79.0494, dtype=float32),\n",
       " Array(140.70403, dtype=float32),\n",
       " Array(49.122734, dtype=float32),\n",
       " Array(74.77397, dtype=float32),\n",
       " Array(190.19904, dtype=float32),\n",
       " Array(49.9543, dtype=float32),\n",
       " Array(79.68587, dtype=float32),\n",
       " Array(159.96031, dtype=float32),\n",
       " Array(40.483086, dtype=float32),\n",
       " Array(29.693333, dtype=float32),\n",
       " Array(121.057465, dtype=float32),\n",
       " Array(82.159225, dtype=float32),\n",
       " Array(23.382095, dtype=float32),\n",
       " Array(115.709435, dtype=float32),\n",
       " Array(149.47394, dtype=float32),\n",
       " Array(72.20746, dtype=float32),\n",
       " Array(143.7741, dtype=float32),\n",
       " Array(64.26677, dtype=float32),\n",
       " Array(28.484768, dtype=float32),\n",
       " Array(53.065685, dtype=float32),\n",
       " Array(39.287033, dtype=float32),\n",
       " Array(78.436966, dtype=float32),\n",
       " Array(111.75106, dtype=float32),\n",
       " Array(147.69241, dtype=float32),\n",
       " Array(61.846443, dtype=float32),\n",
       " Array(35.024773, dtype=float32),\n",
       " Array(190.95587, dtype=float32),\n",
       " Array(158.91171, dtype=float32),\n",
       " Array(56.525497, dtype=float32),\n",
       " Array(76.838264, dtype=float32),\n",
       " Array(146.97134, dtype=float32),\n",
       " Array(141.0108, dtype=float32),\n",
       " Array(33.163208, dtype=float32),\n",
       " Array(87.270195, dtype=float32),\n",
       " Array(62.30551, dtype=float32),\n",
       " Array(90.200005, dtype=float32),\n",
       " Array(92.98561, dtype=float32),\n",
       " Array(161.49323, dtype=float32),\n",
       " Array(31.049826, dtype=float32),\n",
       " Array(58.476265, dtype=float32),\n",
       " Array(66.45851, dtype=float32),\n",
       " Array(69.34204, dtype=float32),\n",
       " Array(125.75879, dtype=float32),\n",
       " Array(73.54784, dtype=float32),\n",
       " Array(49.53483, dtype=float32),\n",
       " Array(47.69798, dtype=float32),\n",
       " Array(109.969894, dtype=float32),\n",
       " Array(30.703182, dtype=float32),\n",
       " Array(85.54341, dtype=float32),\n",
       " Array(88.859146, dtype=float32),\n",
       " Array(171.5126, dtype=float32),\n",
       " Array(73.84682, dtype=float32),\n",
       " Array(73.392685, dtype=float32),\n",
       " Array(59.705822, dtype=float32),\n",
       " Array(56.69772, dtype=float32),\n",
       " Array(33.87211, dtype=float32),\n",
       " Array(156.33035, dtype=float32),\n",
       " Array(119.07703, dtype=float32),\n",
       " Array(53.277763, dtype=float32),\n",
       " Array(3.2236304, dtype=float32),\n",
       " Array(48.050854, dtype=float32),\n",
       " Array(71.70502, dtype=float32),\n",
       " Array(30.963491, dtype=float32),\n",
       " Array(40.556976, dtype=float32),\n",
       " Array(123.26721, dtype=float32),\n",
       " Array(16.214474, dtype=float32),\n",
       " Array(41.15181, dtype=float32),\n",
       " Array(37.15966, dtype=float32),\n",
       " Array(33.865997, dtype=float32),\n",
       " Array(107.417656, dtype=float32),\n",
       " Array(139.95856, dtype=float32),\n",
       " Array(77.920204, dtype=float32),\n",
       " Array(102.93545, dtype=float32),\n",
       " Array(111.05704, dtype=float32),\n",
       " Array(79.7318, dtype=float32),\n",
       " Array(85.17562, dtype=float32),\n",
       " Array(102.310936, dtype=float32),\n",
       " Array(87.28888, dtype=float32),\n",
       " Array(113.702255, dtype=float32),\n",
       " Array(80.52226, dtype=float32),\n",
       " Array(82.1725, dtype=float32),\n",
       " Array(48.90313, dtype=float32),\n",
       " Array(35.39969, dtype=float32),\n",
       " Array(136.8355, dtype=float32),\n",
       " Array(23.50856, dtype=float32),\n",
       " Array(24.232208, dtype=float32),\n",
       " Array(102.601715, dtype=float32),\n",
       " Array(20.080286, dtype=float32),\n",
       " Array(44.835766, dtype=float32),\n",
       " Array(20.116638, dtype=float32),\n",
       " Array(33.99897, dtype=float32),\n",
       " Array(57.753174, dtype=float32),\n",
       " Array(126.93148, dtype=float32),\n",
       " Array(67.490585, dtype=float32),\n",
       " Array(48.70962, dtype=float32),\n",
       " Array(47.39515, dtype=float32),\n",
       " Array(153.63362, dtype=float32),\n",
       " Array(176.6746, dtype=float32),\n",
       " Array(104.96312, dtype=float32),\n",
       " Array(96.53695, dtype=float32),\n",
       " Array(78.93539, dtype=float32),\n",
       " Array(170.34503, dtype=float32),\n",
       " Array(94.615875, dtype=float32),\n",
       " Array(57.4985, dtype=float32),\n",
       " Array(108.121544, dtype=float32),\n",
       " Array(35.00206, dtype=float32),\n",
       " Array(154.76324, dtype=float32),\n",
       " Array(87.54361, dtype=float32),\n",
       " Array(87.747765, dtype=float32),\n",
       " Array(167.31596, dtype=float32),\n",
       " Array(148.46786, dtype=float32),\n",
       " Array(56.31864, dtype=float32),\n",
       " Array(131.253, dtype=float32),\n",
       " Array(86.91707, dtype=float32),\n",
       " Array(197.34991, dtype=float32),\n",
       " Array(63.027306, dtype=float32),\n",
       " Array(81.84742, dtype=float32),\n",
       " Array(29.017223, dtype=float32),\n",
       " Array(63.14158, dtype=float32),\n",
       " Array(50.644814, dtype=float32),\n",
       " Array(55.480408, dtype=float32),\n",
       " Array(34.176254, dtype=float32),\n",
       " Array(97.60891, dtype=float32),\n",
       " Array(40.842583, dtype=float32),\n",
       " Array(123.819756, dtype=float32),\n",
       " Array(51.838707, dtype=float32),\n",
       " Array(170.5832, dtype=float32),\n",
       " Array(117.339355, dtype=float32),\n",
       " Array(21.319952, dtype=float32),\n",
       " Array(125.32635, dtype=float32),\n",
       " Array(143.88293, dtype=float32),\n",
       " Array(142.09058, dtype=float32),\n",
       " Array(28.586218, dtype=float32),\n",
       " Array(48.99656, dtype=float32),\n",
       " Array(187.51227, dtype=float32),\n",
       " Array(122.79924, dtype=float32),\n",
       " Array(86.96487, dtype=float32),\n",
       " Array(78.572975, dtype=float32),\n",
       " Array(99.31714, dtype=float32),\n",
       " Array(96.71736, dtype=float32),\n",
       " Array(111.79116, dtype=float32),\n",
       " Array(223.86874, dtype=float32),\n",
       " Array(200.69298, dtype=float32),\n",
       " Array(65.319084, dtype=float32),\n",
       " Array(35.16424, dtype=float32),\n",
       " Array(127.6809, dtype=float32),\n",
       " Array(70.56224, dtype=float32),\n",
       " Array(162.52904, dtype=float32),\n",
       " Array(84.85534, dtype=float32),\n",
       " Array(138.59328, dtype=float32),\n",
       " Array(219.33878, dtype=float32),\n",
       " Array(43.16635, dtype=float32),\n",
       " Array(87.12227, dtype=float32),\n",
       " Array(121.164734, dtype=float32),\n",
       " Array(62.51983, dtype=float32),\n",
       " Array(196.33395, dtype=float32),\n",
       " Array(94.35201, dtype=float32)]"
      ]
     },
     "execution_count": 57,
     "metadata": {},
     "output_type": "execute_result"
    }
   ],
   "source": [
    "losses"
   ]
  },
  {
   "cell_type": "code",
   "execution_count": 30,
   "id": "f44058be-2b3e-46c0-a86b-ecc7907fdacf",
   "metadata": {},
   "outputs": [
    {
     "data": {
      "text/plain": [
       "0.07142857142857142"
      ]
     },
     "execution_count": 30,
     "metadata": {},
     "output_type": "execute_result"
    }
   ],
   "source": [
    "0.5 / p"
   ]
  },
  {
   "cell_type": "code",
   "execution_count": 26,
   "id": "6b32ebad-3d49-43a6-867e-359f849dacf2",
   "metadata": {},
   "outputs": [
    {
     "name": "stdout",
     "output_type": "stream",
     "text": [
      "0.4381415\n",
      "0.43814158\n"
     ]
    }
   ],
   "source": [
    "loss = 0.\n",
    "for x, y in zip(xs.T, ys.T):\n",
    "    loss += np.linalg.norm(w2 @ w1 @ x - y, ord=2)**2\n",
    "print(0.5 / p * loss)\n",
    "print(0.5 / p * np.linalg.norm(w2 @ w1 @ xs - ys)**2)\n",
    "\n"
   ]
  },
  {
   "cell_type": "code",
   "execution_count": 5,
   "id": "c25455c1-d271-4ccf-a811-9fb7f61a8901",
   "metadata": {},
   "outputs": [
    {
     "ename": "TypeError",
     "evalue": "vmap() missing 1 required positional argument: 'fun'",
     "output_type": "error",
     "traceback": [
      "\u001b[0;31m---------------------------------------------------------------------------\u001b[0m",
      "\u001b[0;31mTypeError\u001b[0m                                 Traceback (most recent call last)",
      "Cell \u001b[0;32mIn[5], line 10\u001b[0m\n\u001b[1;32m      6\u001b[0m         \u001b[38;5;28;01mreturn\u001b[39;00m w2 \u001b[38;5;241m@\u001b[39m w1 \u001b[38;5;241m@\u001b[39m x \u001b[38;5;241m-\u001b[39m y\n\u001b[1;32m      8\u001b[0m     \u001b[38;5;28;01mreturn\u001b[39;00m tt(xs, ys)\n\u001b[0;32m---> 10\u001b[0m \u001b[43mt\u001b[49m\u001b[43m(\u001b[49m\u001b[43mw1\u001b[49m\u001b[43m,\u001b[49m\u001b[43m \u001b[49m\u001b[43mw2\u001b[49m\u001b[43m,\u001b[49m\u001b[43m \u001b[49m\u001b[43mxs\u001b[49m\u001b[43m,\u001b[49m\u001b[43m \u001b[49m\u001b[43mys\u001b[49m\u001b[43m)\u001b[49m\n",
      "Cell \u001b[0;32mIn[5], line 4\u001b[0m, in \u001b[0;36mt\u001b[0;34m(w1, w2, xs, ys)\u001b[0m\n\u001b[1;32m      3\u001b[0m \u001b[38;5;28;01mdef\u001b[39;00m\u001b[38;5;250m \u001b[39m\u001b[38;5;21mt\u001b[39m(w1, w2, xs, ys):\n\u001b[0;32m----> 4\u001b[0m     \u001b[38;5;129m@jax\u001b[39m\u001b[38;5;241;43m.\u001b[39;49m\u001b[43mvmap\u001b[49m\u001b[43m(\u001b[49m\u001b[43min_axes\u001b[49m\u001b[38;5;241;43m=\u001b[39;49m\u001b[38;5;241;43m-\u001b[39;49m\u001b[38;5;241;43m1\u001b[39;49m\u001b[43m)\u001b[49m\n\u001b[1;32m      5\u001b[0m     \u001b[38;5;28;01mdef\u001b[39;00m\u001b[38;5;250m \u001b[39m\u001b[38;5;21mtt\u001b[39m(x, y):\n\u001b[1;32m      6\u001b[0m         \u001b[38;5;28;01mreturn\u001b[39;00m w2 \u001b[38;5;241m@\u001b[39m w1 \u001b[38;5;241m@\u001b[39m x \u001b[38;5;241m-\u001b[39m y\n\u001b[1;32m      8\u001b[0m     \u001b[38;5;28;01mreturn\u001b[39;00m tt(xs, ys)\n",
      "\u001b[0;31mTypeError\u001b[0m: vmap() missing 1 required positional argument: 'fun'"
     ]
    }
   ],
   "source": [
    "import jax\n",
    "\n",
    "def t(w1, w2, xs, ys):\n",
    "    @jax.vmap(in_axes=-1)\n",
    "    def tt(x, y):\n",
    "        return w2 @ w1 @ x - y\n",
    "\n",
    "    return tt(xs, ys)\n",
    "\n",
    "t(w1, w2, xs, ys)"
   ]
  },
  {
   "cell_type": "code",
   "execution_count": null,
   "id": "fd032d8a-50c9-4d3e-92c8-70205de4d6d5",
   "metadata": {},
   "outputs": [],
   "source": []
  },
  {
   "cell_type": "code",
   "execution_count": null,
   "id": "f9d6c4e2-1051-4bb3-bac5-8a0460ef71d8",
   "metadata": {},
   "outputs": [],
   "source": [
    "np.linalg.svd("
   ]
  },
  {
   "cell_type": "code",
   "execution_count": null,
   "id": "05097507-f974-42de-91c6-392c50380fab",
   "metadata": {},
   "outputs": [],
   "source": []
  },
  {
   "cell_type": "code",
   "execution_count": 9,
   "id": "711b8aef-b720-4a2f-a873-1a054476e1d8",
   "metadata": {},
   "outputs": [
    {
     "data": {
      "text/plain": [
       "100000.0"
      ]
     },
     "execution_count": 9,
     "metadata": {},
     "output_type": "execute_result"
    }
   ],
   "source": [
    "1e5"
   ]
  },
  {
   "cell_type": "code",
   "execution_count": null,
   "id": "419c9392-07bb-4ce7-a96d-960c9a070952",
   "metadata": {},
   "outputs": [],
   "source": []
  },
  {
   "cell_type": "code",
   "execution_count": 44,
   "id": "6fe7c412-4434-463e-a2e1-ac23fba9f5a1",
   "metadata": {},
   "outputs": [
    {
     "data": {
      "text/plain": [
       "Array([[-0.32460028, -0.07468122, -1.1831229 , ...,  2.276634  ,\n",
       "        -0.28729177,  2.2970848 ],\n",
       "       [ 1.2998452 , -0.89364016, -0.88249236, ...,  0.57615185,\n",
       "        -2.199516  , -0.32920605],\n",
       "       [-0.78470266,  1.9550612 , -0.9152322 , ..., -0.03359573,\n",
       "        -0.8008909 ,  1.5190293 ],\n",
       "       ...,\n",
       "       [-0.05522835,  1.1137905 ,  0.63349676, ..., -0.7273915 ,\n",
       "         0.41086233,  0.21893534],\n",
       "       [-2.1597266 ,  1.2556398 ,  0.7051861 , ..., -1.1281607 ,\n",
       "        -2.5232112 , -2.1292143 ],\n",
       "       [-1.4263971 , -1.4444622 , -1.4020752 , ..., -0.0561077 ,\n",
       "        -1.5374829 ,  0.992883  ]], dtype=float32)"
      ]
     },
     "execution_count": 44,
     "metadata": {},
     "output_type": "execute_result"
    }
   ],
   "source": [
    "for i in range(1000):\n",
    "    xi = "
   ]
  },
  {
   "cell_type": "code",
   "execution_count": 31,
   "id": "0f0c9e20-5b10-4d19-8315-9a8cc0807b1a",
   "metadata": {},
   "outputs": [
    {
     "data": {
      "text/plain": [
       "Array((2,), dtype=key<fry>) overlaying:\n",
       "[[2986633504  617412143]\n",
       " [2554108775 1009840025]]"
      ]
     },
     "execution_count": 31,
     "metadata": {},
     "output_type": "execute_result"
    }
   ],
   "source": [
    "ds.RNGKeys(2)"
   ]
  },
  {
   "cell_type": "code",
   "execution_count": 32,
   "id": "ceb136b6-bea2-43a0-9fb0-3b316f8e3440",
   "metadata": {},
   "outputs": [
    {
     "data": {
      "text/plain": [
       "Array((2,), dtype=key<fry>) overlaying:\n",
       "[[2191065975 1129918927]\n",
       " [ 159704087 2258731330]]"
      ]
     },
     "execution_count": 32,
     "metadata": {},
     "output_type": "execute_result"
    }
   ],
   "source": [
    "ds.RNGKeys(2)"
   ]
  },
  {
   "cell_type": "code",
   "execution_count": 45,
   "id": "f0baa444-6b95-4045-bd9d-52186563dcee",
   "metadata": {},
   "outputs": [
    {
     "data": {
      "text/plain": [
       "<function dissociation.main.sample_weights(in_dim, hidden_dim, out_dim, std1=1.0, std2=1.0, seed=1)>"
      ]
     },
     "execution_count": 45,
     "metadata": {},
     "output_type": "execute_result"
    }
   ],
   "source": [
    "ds.sample_weights"
   ]
  },
  {
   "cell_type": "code",
   "execution_count": null,
   "id": "381ded23-7f11-4525-8979-d861eeac70e1",
   "metadata": {},
   "outputs": [],
   "source": []
  }
 ],
 "metadata": {
  "kernelspec": {
   "display_name": "Python 3 (ipykernel)",
   "language": "python",
   "name": "python3"
  },
  "language_info": {
   "codemirror_mode": {
    "name": "ipython",
    "version": 3
   },
   "file_extension": ".py",
   "mimetype": "text/x-python",
   "name": "python",
   "nbconvert_exporter": "python",
   "pygments_lexer": "ipython3",
   "version": "3.12.3"
  }
 },
 "nbformat": 4,
 "nbformat_minor": 5
}
