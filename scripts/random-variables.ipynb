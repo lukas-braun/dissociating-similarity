{
 "cells": [
  {
   "cell_type": "code",
   "execution_count": 1,
   "id": "f050e3b6-2a9d-4080-9217-c6e9f8bab962",
   "metadata": {},
   "outputs": [],
   "source": [
    "import numpy as np"
   ]
  },
  {
   "cell_type": "code",
   "execution_count": 3,
   "id": "3534b0f6-4091-4ca8-9894-78a9592efd71",
   "metadata": {},
   "outputs": [
    {
     "name": "stdout",
     "output_type": "stream",
     "text": [
      "11.907081085978076\n"
     ]
    }
   ],
   "source": [
    "res = []\n",
    "for i in range(1000):\n",
    "    xi = np.random.normal(0.0, 1.0, (12, 1))\n",
    "    res.append(xi.T @ xi)\n",
    "print(np.mean(res))"
   ]
  },
  {
   "cell_type": "code",
   "execution_count": null,
   "id": "002d211b-b3e2-43a8-b672-c771c56214b3",
   "metadata": {},
   "outputs": [],
   "source": []
  }
 ],
 "metadata": {
  "kernelspec": {
   "display_name": "Python 3 (ipykernel)",
   "language": "python",
   "name": "python3"
  },
  "language_info": {
   "codemirror_mode": {
    "name": "ipython",
    "version": 3
   },
   "file_extension": ".py",
   "mimetype": "text/x-python",
   "name": "python",
   "nbconvert_exporter": "python",
   "pygments_lexer": "ipython3",
   "version": "3.12.3"
  }
 },
 "nbformat": 4,
 "nbformat_minor": 5
}
