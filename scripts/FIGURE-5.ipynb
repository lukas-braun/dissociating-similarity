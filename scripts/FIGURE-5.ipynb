{
 "cells": [
  {
   "cell_type": "code",
   "execution_count": 1,
   "id": "042ce0c8-c028-4f23-9094-d57b1c71b925",
   "metadata": {},
   "outputs": [],
   "source": [
    "%load_ext autoreload\n",
    "%autoreload 2\n",
    "\n",
    "import dissociation as ds\n",
    "\n",
    "import jax\n",
    "import jax.numpy as np"
   ]
  },
  {
   "cell_type": "code",
   "execution_count": null,
   "id": "8d9af389-c9d7-42db-a98a-1dd73c3dfecb",
   "metadata": {},
   "outputs": [],
   "source": [
    "in_dim = 6\n",
    "hidden_dim = 16\n",
    "out_dim = 2\n",
    "p = 4\n",
    "\n",
    "steps = 101\n",
    "\n",
    "xs, ys = ds.random_regression_task(in_dim, out_dim, p)\n",
    "xs, ys = ds.random_regression_task(in_dim, out_dim, p)\n",
    "\n",
    "noise_performance = []\n",
    "for f in [ds.walk_gls, ds.walk_lss, ds.walk_mrns, ds.walk_mwns]:\n",
    "    print(f)\n",
    "    w1s, w2s = f(xs, ys, hidden_dim, steps)\n",
    "    w2_star = ys @ xs.T @ w1s[0].T @ np.linalg.pinv(w1s[0] @ xs @ xs.T @ w1s[0].T)\n",
    "\n",
    "    ys_ = np.einsum(\"oh,thi,in->ton\", w2_star, w1s, xs)\n",
    "    decoding_performance.append(0.5 / p * np.linalg.norm(ys_ - ys, axis=(1, 2)) ** 2)"
   ]
  },
  {
   "cell_type": "code",
   "execution_count": 2,
   "id": "d85e3ae6-e6f3-4de0-a45f-8cb4c08e8e78",
   "metadata": {},
   "outputs": [
    {
     "name": "stdout",
     "output_type": "stream",
     "text": [
      "6.097788\n",
      "6.177645\n"
     ]
    }
   ],
   "source": [
    "in_dim = 5\n",
    "hidden_dim = 7\n",
    "out_dim = 3\n",
    "p = 6\n",
    "\n",
    "w1, w2 = ds.sample_weights(in_dim, hidden_dim, out_dim, 0.2, 0.7)\n",
    "xs, ys = ds.random_regression_task(in_dim, out_dim, p)\n",
    "\n",
    "sig_xx = 1.0 / p * xs @ xs.T\n",
    "sig_yx = 1.0 / p * ys @ xs.T\n",
    "sig_yy = 1.0 / p * ys @ ys.T\n",
    "\n",
    "u, s, v = ds.compact_svd(sig_yx @ np.linalg.pinv(sig_xx))\n",
    "r = jax.random.orthogonal(jax.random.key(1), hidden_dim)[:, : s.shape[0]]\n",
    "w1 = r @ np.sqrt(s) @ v.T\n",
    "w2 = u @ np.sqrt(s) @ r.T\n",
    "\n",
    "sigma_x = 0.05\n",
    "sigma_1 = 1.0\n",
    "sigma_2 = 0.5\n",
    "\n",
    "print(ds.noise_sensitivity(w1, w2, xs, ys, sigma_x, sigma_1, sigma_2, 1000000))\n",
    "# print(ds.input_noise_sensitivity_theory(w1, w2, xs, ys, sigma))\n",
    "\n",
    "s1 = np.linalg.norm(w2 @ w1) ** 2\n",
    "s2 = sigma_1**2 * in_dim * np.linalg.norm(w2) ** 2\n",
    "s3 = sigma_2**2 * out_dim * np.linalg.norm(w1) ** 2\n",
    "s4 = sigma_1**2 * in_dim * sigma_2**2 * out_dim * hidden_dim\n",
    "t1 = sigma_x**2 / 2 * (s1 + s2 + s3 + s4)\n",
    "\n",
    "s1 = sigma_1**2 * np.linalg.norm(w2) ** 2 * np.linalg.norm(xs) ** 2\n",
    "s2 = sigma_2**2 * out_dim * np.linalg.norm(w1 @ xs) ** 2\n",
    "s3 = sigma_1**2 * hidden_dim * out_dim * sigma_2**2 * np.linalg.norm(xs) ** 2\n",
    "t2 = 1 / (2 * p) * (s1 + s2 + s3)\n",
    "\n",
    "c = np.trace(sig_yy) - np.trace(sig_yx @ np.linalg.pinv(sig_xx) @ sig_yx.T)\n",
    "\n",
    "print(t1 + t2 + c)"
   ]
  },
  {
   "cell_type": "code",
   "execution_count": null,
   "id": "4c88b8e2-6ea7-4043-a3e7-3b6c3242c8e6",
   "metadata": {},
   "outputs": [],
   "source": []
  },
  {
   "cell_type": "code",
   "execution_count": null,
   "id": "5b102a55-d513-42a2-a93a-2079753665f1",
   "metadata": {},
   "outputs": [],
   "source": []
  },
  {
   "cell_type": "code",
   "execution_count": null,
   "id": "658de844-4529-4d61-bd39-64b75d0fd14d",
   "metadata": {},
   "outputs": [],
   "source": []
  }
 ],
 "metadata": {
  "kernelspec": {
   "display_name": "Python 3 (ipykernel)",
   "language": "python",
   "name": "python3"
  },
  "language_info": {
   "codemirror_mode": {
    "name": "ipython",
    "version": 3
   },
   "file_extension": ".py",
   "mimetype": "text/x-python",
   "name": "python",
   "nbconvert_exporter": "python",
   "pygments_lexer": "ipython3",
   "version": "3.12.3"
  }
 },
 "nbformat": 4,
 "nbformat_minor": 5
}
