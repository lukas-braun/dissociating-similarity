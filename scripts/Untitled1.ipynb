{
 "cells": [
  {
   "cell_type": "code",
   "execution_count": 13,
   "id": "2fe1bee0-eee9-4a62-882c-9b22f59863ec",
   "metadata": {},
   "outputs": [
    {
     "name": "stdout",
     "output_type": "stream",
     "text": [
      "Iteration limit reached    (Exit mode 9)\n",
      "            Current function value: 1348.5364249903894\n",
      "            Iterations: 100\n",
      "            Function evaluations: 5267\n",
      "            Gradient evaluations: 100\n"
     ]
    }
   ],
   "source": [
    "import numpy as np\n",
    "from scipy.optimize import minimize\n",
    "\n",
    "\n",
    "def objective(params, X, Y, sigma_x, sigma_1, sigma_2, N_i, N_o, N_h):\n",
    "    \"\"\"\n",
    "    Objective function to minimize.\n",
    "    \"\"\"\n",
    "    # Extract W_1 and W_2 from the parameter vector\n",
    "    num_hidden, num_input = W_1_shape\n",
    "    num_output, _ = W_2_shape\n",
    "    W_1 = params[: num_hidden * num_input].reshape(num_hidden, num_input)\n",
    "    W_2 = params[num_hidden * num_input :].reshape(num_output, num_hidden)\n",
    "\n",
    "    # Compute terms in the objective\n",
    "    term1 = (\n",
    "        0.5\n",
    "        * sigma_x**2\n",
    "        * (\n",
    "            np.linalg.norm(W_2 @ W_1, \"fro\") ** 2\n",
    "            + sigma_1**2 * N_i * np.linalg.norm(W_2, \"fro\") ** 2\n",
    "            + sigma_2**2 * N_o * np.linalg.norm(W_1, \"fro\") ** 2\n",
    "        )\n",
    "    )\n",
    "    term2 = (1 / (2 * X.shape[-1])) * (\n",
    "        sigma_1**2 * np.linalg.norm(W_2, \"fro\") ** 2 * np.linalg.norm(X, \"fro\") ** 2\n",
    "        + N_o * sigma_2**2 * np.linalg.norm(W_1 @ X, \"fro\") ** 2\n",
    "        + N_h * sigma_1**2 * N_o * sigma_2**2 * np.linalg.norm(X, \"fro\") ** 2\n",
    "    )\n",
    "\n",
    "    return term1 + term2\n",
    "\n",
    "\n",
    "def constraint(params, X, Y):\n",
    "    \"\"\"\n",
    "    Constraint: W_2W_1XX^T = YX^T\n",
    "    \"\"\"\n",
    "    # Extract W_1 and W_2 from the parameter vector\n",
    "    num_hidden, num_input = W_1_shape\n",
    "    num_output, _ = W_2_shape\n",
    "    W_1 = params[: num_hidden * num_input].reshape(num_hidden, num_input)\n",
    "    W_2 = params[num_hidden * num_input :].reshape(num_output, num_hidden)\n",
    "\n",
    "    # Compute the constraint\n",
    "    return np.linalg.norm(W_2 @ W_1 @ X @ X.T - Y @ X.T, \"fro\")\n",
    "\n",
    "\n",
    "# Problem setup\n",
    "np.random.seed(42)\n",
    "num_input = 5\n",
    "num_hidden = 5\n",
    "num_output = 5\n",
    "\n",
    "W_1_shape = (num_hidden, num_input)\n",
    "W_2_shape = (num_output, num_hidden)\n",
    "\n",
    "X = np.random.randn(num_input, 100)  # Input matrix\n",
    "Y = np.random.randn(num_output, 100)  # Target matrix\n",
    "\n",
    "sigma_x = 1.0\n",
    "sigma_1 = 1.0\n",
    "sigma_2 = 1.0\n",
    "N_i = 100\n",
    "N_o = 100\n",
    "N_h = 5\n",
    "\n",
    "# Initial guess for W_1 and W_2\n",
    "W_1_init = np.random.randn(*W_1_shape)\n",
    "W_2_init = np.random.randn(*W_2_shape)\n",
    "initial_params = np.concatenate([W_1_init.ravel(), W_2_init.ravel()])\n",
    "\n",
    "# Constraints and bounds\n",
    "con = {\"type\": \"eq\", \"fun\": constraint, \"args\": (X, Y)}\n",
    "\n",
    "# Optimize\n",
    "result = minimize(\n",
    "    objective,\n",
    "    initial_params,\n",
    "    args=(X, Y, sigma_x, sigma_1, sigma_2, N_i, N_o, N_h),\n",
    "    constraints=[con],\n",
    "    method=\"SLSQP\",\n",
    "    options={\"disp\": True},\n",
    ")\n",
    "\n",
    "# Extract the optimized W_1 and W_2\n",
    "optimized_params = result.x\n",
    "W_1_optimized = optimized_params[: num_hidden * num_input].reshape(\n",
    "    num_hidden, num_input\n",
    ")\n",
    "W_2_optimized = optimized_params[num_hidden * num_input :].reshape(\n",
    "    num_output, num_hidden\n",
    ")"
   ]
  },
  {
   "cell_type": "code",
   "execution_count": 14,
   "id": "8aea4479-f01a-450e-9a32-3ffd79b1b7a7",
   "metadata": {},
   "outputs": [
    {
     "data": {
      "text/plain": [
       "np.float64(0.8746193108956525)"
      ]
     },
     "execution_count": 14,
     "metadata": {},
     "output_type": "execute_result"
    }
   ],
   "source": [
    "np.linalg.norm(W_1_optimized)"
   ]
  },
  {
   "cell_type": "code",
   "execution_count": 15,
   "id": "45551c90-5571-4586-9295-910bb5fab229",
   "metadata": {},
   "outputs": [
    {
     "data": {
      "text/plain": [
       "np.float64(1.1810860124897589)"
      ]
     },
     "execution_count": 15,
     "metadata": {},
     "output_type": "execute_result"
    }
   ],
   "source": [
    "np.linalg.norm(W_2_optimized)"
   ]
  },
  {
   "cell_type": "code",
   "execution_count": 17,
   "id": "0c95072f-7ca7-4da9-a529-6678b7abbd6d",
   "metadata": {},
   "outputs": [
    {
     "data": {
      "text/plain": [
       "np.float64(480.4894888786302)"
      ]
     },
     "execution_count": 17,
     "metadata": {},
     "output_type": "execute_result"
    }
   ],
   "source": [
    "np.linalg.trace(X @ X.T)"
   ]
  },
  {
   "cell_type": "code",
   "execution_count": null,
   "id": "b6c2ec27-0dd3-4567-8a4b-493c105a837b",
   "metadata": {},
   "outputs": [],
   "source": []
  }
 ],
 "metadata": {
  "kernelspec": {
   "display_name": "Python 3 (ipykernel)",
   "language": "python",
   "name": "python3"
  },
  "language_info": {
   "codemirror_mode": {
    "name": "ipython",
    "version": 3
   },
   "file_extension": ".py",
   "mimetype": "text/x-python",
   "name": "python",
   "nbconvert_exporter": "python",
   "pygments_lexer": "ipython3",
   "version": "3.12.3"
  }
 },
 "nbformat": 4,
 "nbformat_minor": 5
}
